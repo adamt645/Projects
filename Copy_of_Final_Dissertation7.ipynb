{
  "nbformat": 4,
  "nbformat_minor": 0,
  "metadata": {
    "colab": {
      "name": "Copy of Final Dissertation.ipynb",
      "provenance": [],
      "collapsed_sections": [],
      "authorship_tag": "ABX9TyMkUfpKHQvW0Xjw8AwEZdTV",
      "include_colab_link": true
    },
    "kernelspec": {
      "name": "python3",
      "display_name": "Python 3"
    },
    "language_info": {
      "name": "python"
    },
    "gpuClass": "standard"
  },
  "cells": [
    {
      "cell_type": "markdown",
      "metadata": {
        "id": "view-in-github",
        "colab_type": "text"
      },
      "source": [
        "<a href=\"https://colab.research.google.com/github/adamt645/Projects/blob/main/Copy_of_Final_Dissertation7.ipynb\" target=\"_parent\"><img src=\"https://colab.research.google.com/assets/colab-badge.svg\" alt=\"Open In Colab\"/></a>"
      ]
    },
    {
      "cell_type": "markdown",
      "source": [
        "### **Content**\n",
        "\n",
        " 1. **Section 1: Exploratory Data Analysis**\n",
        "      1. Importing Relevant Libraries\n",
        "      1. Dataset Description\n",
        "      1. Dataset Exploration with Descriptive Statistics\n",
        "      1. Feature Scaling\n",
        "      1. Feature Correlation Matrices\n",
        "      \n",
        " 2. **Section 2: Exploratory Analysis**\n",
        "      1. _Relationship between five predictor variables and target variable_\n",
        "          * Predictor continuous variables and continuous target variable\n",
        "          * Predictor categorical variables and continuous target variable\n",
        "      1. _Relationship between predictor variables_\n",
        "          * Continuous predictor variables\n",
        "          * Categorical predictor variables and continuous predictor variables\n",
        "          * Categorical predictor variables and categorical predictor variables\n",
        "      1. _Summary of the findings and preliminary conclusions_\n",
        "      \n",
        " 3. **Section 3: Regression Modelling**\n",
        "      1. Transforming categorical variables into dummy variables\n",
        "      1. Checking for collinearity between variables used in regression analysis\n",
        "      1. Dropping missing values from relevant columns of dataset\n",
        "      1. Fitting the regression line - R2 coefficient, variables' coefficient results (comparing the coefficients), interpreting categorical coefficient outputs\n",
        "      1. Prediction and the error distribution\n",
        "      1. Plotting the regression line\n",
        "      \n",
        " \n",
        "     \n",
        " 4. **Section 4: Final Conclusions and Suggestions**"
      ],
      "metadata": {
        "id": "3bhLyvGBftk9"
      }
    },
    {
      "cell_type": "markdown",
      "source": [
        "## **Section 1.1**\n",
        "### **Importing Relevant Libraries**"
      ],
      "metadata": {
        "id": "_bkpc5DUgsHy"
      }
    },
    {
      "cell_type": "code",
      "execution_count": 2,
      "metadata": {
        "id": "49fP-qDJfirn"
      },
      "outputs": [],
      "source": [
        "# Undersampling Techniques\n",
        "from imblearn.under_sampling import RandomUnderSampler # RUS\n",
        "from imblearn.under_sampling import RepeatedEditedNearestNeighbours # RENN\n",
        "from imblearn.under_sampling import InstanceHardnessThreshold # IHT\n",
        "from imblearn.under_sampling import NearMiss # NM\n",
        "from imblearn.under_sampling import TomekLinks #TomekLinks\n",
        "from imblearn.under_sampling import CondensedNearestNeighbour # CNN\n",
        "from imblearn.under_sampling import NeighbourhoodCleaningRule \n",
        "from imblearn.under_sampling import ClusterCentroids\n",
        "\n",
        "# Oversampling Techniques\n",
        "from imblearn.over_sampling import RandomOverSampler # ROS\n",
        "from imblearn.over_sampling import SMOTE # SMOTE\n",
        "from imblearn.over_sampling import ADASYN # ADASYN"
      ]
    },
    {
      "cell_type": "code",
      "source": [
        "# Filter Feature Selection\n",
        "from sklearn.feature_selection import r_regression # Pearson's Correlation [could just use a heatmap and then filter out the best ones]\n",
        "from sklearn.feature_selection import SelectKBest\n",
        "from sklearn.feature_selection import f_classif\n",
        "from matplotlib import pyplot\n",
        "\n",
        "# Wrapper Feature Selection\n",
        "# from genetic_selection import GeneticSelectionCV\n",
        "from sklearn.feature_selection import RFE\n",
        "\n",
        "# Classifier Algorithms\n",
        "from sklearn.linear_model import LogisticRegression # LR\n",
        "from sklearn.neighbors import KNeighborsClassifier # KNN\n",
        "from sklearn.tree import DecisionTreeClassifier # DT\n",
        "from sklearn.ensemble import RandomForestClassifier # RF\n",
        "from sklearn.naive_bayes import GaussianNB # Gaussian NB\n",
        "from sklearn.naive_bayes import ComplementNB # Complement NB\n",
        "\n",
        "# k-Fold Cross-Validation\n",
        "from sklearn.model_selection import KFold, StratifiedKFold # k-Fold CV, Stratified CV\n",
        "from sklearn.model_selection import cross_val_score # metrics for cross-validations\n",
        "from sklearn.model_selection import cross_validate\n",
        "from sklearn.model_selection import train_test_split\n",
        "from imblearn.pipeline import Pipeline\n",
        "\n",
        "# Voting Classifier for Ensemble Model\n",
        "from sklearn.ensemble import VotingClassifier # Majority Rule Classifier\n",
        "\n",
        "# Data Handling and Visualisation\n",
        "import pandas as pd\n",
        "import numpy as np\n",
        "import matplotlib.pyplot as plt\n",
        "%matplotlib inline\n",
        "import matplotlib.gridspec as gridspec\n",
        "import plotly.graph_objs as go\n",
        "import plotly\n",
        "import plotly.express as px\n",
        "import plotly.figure_factory as ff\n",
        "import seaborn as sns\n",
        "\n",
        "import plotly.offline as py\n",
        "py.init_notebook_mode(connected=True)\n",
        "from plotly.subplots import make_subplots\n",
        "\n",
        "# Feature Scaling\n",
        "from sklearn.preprocessing import MinMaxScaler, RobustScaler\n",
        "# GridSearch\n",
        "from sklearn.model_selection import GridSearchCV\n",
        "\n",
        "# Evaluation Metrics\n",
        "from sklearn.metrics import precision_score, recall_score, f1_score, roc_auc_score, roc_curve\n",
        "from sklearn.metrics import classification_report\n",
        "from sklearn.metrics import accuracy_score\n",
        "from sklearn.metrics import matthews_corrcoef\n",
        "from sklearn.metrics import make_scorer\n"
      ],
      "metadata": {
        "colab": {
          "base_uri": "https://localhost:8080/",
          "height": 16
        },
        "id": "mAxPpeEphJ11",
        "outputId": "fb60ac96-aac3-4d26-cdb5-7fb94066e7d9"
      },
      "execution_count": 3,
      "outputs": [
        {
          "output_type": "display_data",
          "data": {
            "text/html": [
              "        <script type=\"text/javascript\">\n",
              "        window.PlotlyConfig = {MathJaxConfig: 'local'};\n",
              "        if (window.MathJax) {MathJax.Hub.Config({SVG: {font: \"STIX-Web\"}});}\n",
              "        if (typeof require !== 'undefined') {\n",
              "        require.undef(\"plotly\");\n",
              "        requirejs.config({\n",
              "            paths: {\n",
              "                'plotly': ['https://cdn.plot.ly/plotly-2.8.3.min']\n",
              "            }\n",
              "        });\n",
              "        require(['plotly'], function(Plotly) {\n",
              "            window._Plotly = Plotly;\n",
              "        });\n",
              "        }\n",
              "        </script>\n",
              "        "
            ]
          },
          "metadata": {}
        }
      ]
    },
    {
      "cell_type": "markdown",
      "source": [
        "## **Section 1.2**\n",
        "### **Dataset Description**\n",
        "\n",
        "The dataset contains transactions made by credit cards in September 2013 by European cardholders. This dataset presents transactions that occurred in two days, where we have 492 frauds out of 284,807 transactions. The dataset is highly unbalanced, the positive class (frauds) account for 0.172% of all transactions.\n",
        "It contains only numerical input variables which are the result of a PCA transformation. Unfortunately, due to confidentiality issues, we cannot provide the original features and more background information about the data. Features V1, V2,..., V28 are the principal components obtained with PCA, the only features which have not been transformed with PCA are 'Time' and 'Amount'. Feature 'Time' contains the seconds elapsed between each transaction and the first transaction in the dataset. The feature 'Amount' is the transaction amount - this feature can be used for example - dependant cost-sensitive learning. Feature 'Class' is the response variable and it takes value 1 in case of fraud and 0 otherwise. [1]"
      ],
      "metadata": {
        "id": "Obfgn5O7jhmA"
      }
    },
    {
      "cell_type": "markdown",
      "source": [
        "## **Section 1.3**\n",
        "### **Dataset Exploration with Descriptive Statistics**"
      ],
      "metadata": {
        "id": "_iWXpP7ejvYT"
      }
    },
    {
      "cell_type": "code",
      "source": [
        "# Import dataset\n",
        "data = pd.read_csv('CREDITCARD.csv')\n",
        "# data.head()"
      ],
      "metadata": {
        "id": "xgyifyaaheZu"
      },
      "execution_count": 4,
      "outputs": []
    },
    {
      "cell_type": "code",
      "source": [
        "# Column names\n",
        "data.columns"
      ],
      "metadata": {
        "colab": {
          "base_uri": "https://localhost:8080/"
        },
        "id": "IQ6dc5yXj4tX",
        "outputId": "69e8a5df-855e-40fd-b33f-54d195d63a4a"
      },
      "execution_count": 5,
      "outputs": [
        {
          "output_type": "execute_result",
          "data": {
            "text/plain": [
              "Index(['Time', 'V1', 'V2', 'V3', 'V4', 'V5', 'V6', 'V7', 'V8', 'V9', 'V10',\n",
              "       'V11', 'V12', 'V13', 'V14', 'V15', 'V16', 'V17', 'V18', 'V19', 'V20',\n",
              "       'V21', 'V22', 'V23', 'V24', 'V25', 'V26', 'V27', 'V28', 'Amount',\n",
              "       'Class'],\n",
              "      dtype='object')"
            ]
          },
          "metadata": {},
          "execution_count": 5
        }
      ]
    },
    {
      "cell_type": "code",
      "source": [
        "# Checking for null values in all columns [none]\n",
        "data.info()"
      ],
      "metadata": {
        "colab": {
          "base_uri": "https://localhost:8080/"
        },
        "id": "sO83pDBJj-vk",
        "outputId": "5b86e3db-719e-46ef-e5b4-c8371e6f7968"
      },
      "execution_count": 6,
      "outputs": [
        {
          "output_type": "stream",
          "name": "stdout",
          "text": [
            "<class 'pandas.core.frame.DataFrame'>\n",
            "RangeIndex: 284807 entries, 0 to 284806\n",
            "Data columns (total 31 columns):\n",
            " #   Column  Non-Null Count   Dtype  \n",
            "---  ------  --------------   -----  \n",
            " 0   Time    284807 non-null  float64\n",
            " 1   V1      284807 non-null  float64\n",
            " 2   V2      284807 non-null  float64\n",
            " 3   V3      284807 non-null  float64\n",
            " 4   V4      284807 non-null  float64\n",
            " 5   V5      284807 non-null  float64\n",
            " 6   V6      284807 non-null  float64\n",
            " 7   V7      284807 non-null  float64\n",
            " 8   V8      284807 non-null  float64\n",
            " 9   V9      284807 non-null  float64\n",
            " 10  V10     284807 non-null  float64\n",
            " 11  V11     284807 non-null  float64\n",
            " 12  V12     284807 non-null  float64\n",
            " 13  V13     284807 non-null  float64\n",
            " 14  V14     284807 non-null  float64\n",
            " 15  V15     284807 non-null  float64\n",
            " 16  V16     284807 non-null  float64\n",
            " 17  V17     284807 non-null  float64\n",
            " 18  V18     284807 non-null  float64\n",
            " 19  V19     284807 non-null  float64\n",
            " 20  V20     284807 non-null  float64\n",
            " 21  V21     284807 non-null  float64\n",
            " 22  V22     284807 non-null  float64\n",
            " 23  V23     284807 non-null  float64\n",
            " 24  V24     284807 non-null  float64\n",
            " 25  V25     284807 non-null  float64\n",
            " 26  V26     284807 non-null  float64\n",
            " 27  V27     284807 non-null  float64\n",
            " 28  V28     284807 non-null  float64\n",
            " 29  Amount  284807 non-null  float64\n",
            " 30  Class   284807 non-null  int64  \n",
            "dtypes: float64(30), int64(1)\n",
            "memory usage: 67.4 MB\n"
          ]
        }
      ]
    },
    {
      "cell_type": "code",
      "source": [
        "# Descriptive statistics [central tendency, dispersion, shape of dataset's distribution]\n",
        "data.describe()"
      ],
      "metadata": {
        "colab": {
          "base_uri": "https://localhost:8080/",
          "height": 384
        },
        "id": "Y3S_R9J1kEBw",
        "outputId": "e3324bc0-196f-4015-8960-9df17e69d5d2"
      },
      "execution_count": 7,
      "outputs": [
        {
          "output_type": "execute_result",
          "data": {
            "text/plain": [
              "                Time            V1            V2            V3            V4  \\\n",
              "count  284807.000000  2.848070e+05  2.848070e+05  2.848070e+05  2.848070e+05   \n",
              "mean    94813.859575  1.168375e-15  3.416908e-16 -1.379537e-15  2.074095e-15   \n",
              "std     47488.145955  1.958696e+00  1.651309e+00  1.516255e+00  1.415869e+00   \n",
              "min         0.000000 -5.640751e+01 -7.271573e+01 -4.832559e+01 -5.683171e+00   \n",
              "25%     54201.500000 -9.203734e-01 -5.985499e-01 -8.903648e-01 -8.486401e-01   \n",
              "50%     84692.000000  1.810880e-02  6.548556e-02  1.798463e-01 -1.984653e-02   \n",
              "75%    139320.500000  1.315642e+00  8.037239e-01  1.027196e+00  7.433413e-01   \n",
              "max    172792.000000  2.454930e+00  2.205773e+01  9.382558e+00  1.687534e+01   \n",
              "\n",
              "                 V5            V6            V7            V8            V9  \\\n",
              "count  2.848070e+05  2.848070e+05  2.848070e+05  2.848070e+05  2.848070e+05   \n",
              "mean   9.604066e-16  1.487313e-15 -5.556467e-16  1.213481e-16 -2.406331e-15   \n",
              "std    1.380247e+00  1.332271e+00  1.237094e+00  1.194353e+00  1.098632e+00   \n",
              "min   -1.137433e+02 -2.616051e+01 -4.355724e+01 -7.321672e+01 -1.343407e+01   \n",
              "25%   -6.915971e-01 -7.682956e-01 -5.540759e-01 -2.086297e-01 -6.430976e-01   \n",
              "50%   -5.433583e-02 -2.741871e-01  4.010308e-02  2.235804e-02 -5.142873e-02   \n",
              "75%    6.119264e-01  3.985649e-01  5.704361e-01  3.273459e-01  5.971390e-01   \n",
              "max    3.480167e+01  7.330163e+01  1.205895e+02  2.000721e+01  1.559499e+01   \n",
              "\n",
              "       ...           V21           V22           V23           V24  \\\n",
              "count  ...  2.848070e+05  2.848070e+05  2.848070e+05  2.848070e+05   \n",
              "mean   ...  1.654067e-16 -3.568593e-16  2.578648e-16  4.473266e-15   \n",
              "std    ...  7.345240e-01  7.257016e-01  6.244603e-01  6.056471e-01   \n",
              "min    ... -3.483038e+01 -1.093314e+01 -4.480774e+01 -2.836627e+00   \n",
              "25%    ... -2.283949e-01 -5.423504e-01 -1.618463e-01 -3.545861e-01   \n",
              "50%    ... -2.945017e-02  6.781943e-03 -1.119293e-02  4.097606e-02   \n",
              "75%    ...  1.863772e-01  5.285536e-01  1.476421e-01  4.395266e-01   \n",
              "max    ...  2.720284e+01  1.050309e+01  2.252841e+01  4.584549e+00   \n",
              "\n",
              "                V25           V26           V27           V28         Amount  \\\n",
              "count  2.848070e+05  2.848070e+05  2.848070e+05  2.848070e+05  284807.000000   \n",
              "mean   5.340915e-16  1.683437e-15 -3.660091e-16 -1.227390e-16      88.349619   \n",
              "std    5.212781e-01  4.822270e-01  4.036325e-01  3.300833e-01     250.120109   \n",
              "min   -1.029540e+01 -2.604551e+00 -2.256568e+01 -1.543008e+01       0.000000   \n",
              "25%   -3.171451e-01 -3.269839e-01 -7.083953e-02 -5.295979e-02       5.600000   \n",
              "50%    1.659350e-02 -5.213911e-02  1.342146e-03  1.124383e-02      22.000000   \n",
              "75%    3.507156e-01  2.409522e-01  9.104512e-02  7.827995e-02      77.165000   \n",
              "max    7.519589e+00  3.517346e+00  3.161220e+01  3.384781e+01   25691.160000   \n",
              "\n",
              "               Class  \n",
              "count  284807.000000  \n",
              "mean        0.001727  \n",
              "std         0.041527  \n",
              "min         0.000000  \n",
              "25%         0.000000  \n",
              "50%         0.000000  \n",
              "75%         0.000000  \n",
              "max         1.000000  \n",
              "\n",
              "[8 rows x 31 columns]"
            ],
            "text/html": [
              "\n",
              "  <div id=\"df-67859339-07e2-497b-95a1-bc415957cd45\">\n",
              "    <div class=\"colab-df-container\">\n",
              "      <div>\n",
              "<style scoped>\n",
              "    .dataframe tbody tr th:only-of-type {\n",
              "        vertical-align: middle;\n",
              "    }\n",
              "\n",
              "    .dataframe tbody tr th {\n",
              "        vertical-align: top;\n",
              "    }\n",
              "\n",
              "    .dataframe thead th {\n",
              "        text-align: right;\n",
              "    }\n",
              "</style>\n",
              "<table border=\"1\" class=\"dataframe\">\n",
              "  <thead>\n",
              "    <tr style=\"text-align: right;\">\n",
              "      <th></th>\n",
              "      <th>Time</th>\n",
              "      <th>V1</th>\n",
              "      <th>V2</th>\n",
              "      <th>V3</th>\n",
              "      <th>V4</th>\n",
              "      <th>V5</th>\n",
              "      <th>V6</th>\n",
              "      <th>V7</th>\n",
              "      <th>V8</th>\n",
              "      <th>V9</th>\n",
              "      <th>...</th>\n",
              "      <th>V21</th>\n",
              "      <th>V22</th>\n",
              "      <th>V23</th>\n",
              "      <th>V24</th>\n",
              "      <th>V25</th>\n",
              "      <th>V26</th>\n",
              "      <th>V27</th>\n",
              "      <th>V28</th>\n",
              "      <th>Amount</th>\n",
              "      <th>Class</th>\n",
              "    </tr>\n",
              "  </thead>\n",
              "  <tbody>\n",
              "    <tr>\n",
              "      <th>count</th>\n",
              "      <td>284807.000000</td>\n",
              "      <td>2.848070e+05</td>\n",
              "      <td>2.848070e+05</td>\n",
              "      <td>2.848070e+05</td>\n",
              "      <td>2.848070e+05</td>\n",
              "      <td>2.848070e+05</td>\n",
              "      <td>2.848070e+05</td>\n",
              "      <td>2.848070e+05</td>\n",
              "      <td>2.848070e+05</td>\n",
              "      <td>2.848070e+05</td>\n",
              "      <td>...</td>\n",
              "      <td>2.848070e+05</td>\n",
              "      <td>2.848070e+05</td>\n",
              "      <td>2.848070e+05</td>\n",
              "      <td>2.848070e+05</td>\n",
              "      <td>2.848070e+05</td>\n",
              "      <td>2.848070e+05</td>\n",
              "      <td>2.848070e+05</td>\n",
              "      <td>2.848070e+05</td>\n",
              "      <td>284807.000000</td>\n",
              "      <td>284807.000000</td>\n",
              "    </tr>\n",
              "    <tr>\n",
              "      <th>mean</th>\n",
              "      <td>94813.859575</td>\n",
              "      <td>1.168375e-15</td>\n",
              "      <td>3.416908e-16</td>\n",
              "      <td>-1.379537e-15</td>\n",
              "      <td>2.074095e-15</td>\n",
              "      <td>9.604066e-16</td>\n",
              "      <td>1.487313e-15</td>\n",
              "      <td>-5.556467e-16</td>\n",
              "      <td>1.213481e-16</td>\n",
              "      <td>-2.406331e-15</td>\n",
              "      <td>...</td>\n",
              "      <td>1.654067e-16</td>\n",
              "      <td>-3.568593e-16</td>\n",
              "      <td>2.578648e-16</td>\n",
              "      <td>4.473266e-15</td>\n",
              "      <td>5.340915e-16</td>\n",
              "      <td>1.683437e-15</td>\n",
              "      <td>-3.660091e-16</td>\n",
              "      <td>-1.227390e-16</td>\n",
              "      <td>88.349619</td>\n",
              "      <td>0.001727</td>\n",
              "    </tr>\n",
              "    <tr>\n",
              "      <th>std</th>\n",
              "      <td>47488.145955</td>\n",
              "      <td>1.958696e+00</td>\n",
              "      <td>1.651309e+00</td>\n",
              "      <td>1.516255e+00</td>\n",
              "      <td>1.415869e+00</td>\n",
              "      <td>1.380247e+00</td>\n",
              "      <td>1.332271e+00</td>\n",
              "      <td>1.237094e+00</td>\n",
              "      <td>1.194353e+00</td>\n",
              "      <td>1.098632e+00</td>\n",
              "      <td>...</td>\n",
              "      <td>7.345240e-01</td>\n",
              "      <td>7.257016e-01</td>\n",
              "      <td>6.244603e-01</td>\n",
              "      <td>6.056471e-01</td>\n",
              "      <td>5.212781e-01</td>\n",
              "      <td>4.822270e-01</td>\n",
              "      <td>4.036325e-01</td>\n",
              "      <td>3.300833e-01</td>\n",
              "      <td>250.120109</td>\n",
              "      <td>0.041527</td>\n",
              "    </tr>\n",
              "    <tr>\n",
              "      <th>min</th>\n",
              "      <td>0.000000</td>\n",
              "      <td>-5.640751e+01</td>\n",
              "      <td>-7.271573e+01</td>\n",
              "      <td>-4.832559e+01</td>\n",
              "      <td>-5.683171e+00</td>\n",
              "      <td>-1.137433e+02</td>\n",
              "      <td>-2.616051e+01</td>\n",
              "      <td>-4.355724e+01</td>\n",
              "      <td>-7.321672e+01</td>\n",
              "      <td>-1.343407e+01</td>\n",
              "      <td>...</td>\n",
              "      <td>-3.483038e+01</td>\n",
              "      <td>-1.093314e+01</td>\n",
              "      <td>-4.480774e+01</td>\n",
              "      <td>-2.836627e+00</td>\n",
              "      <td>-1.029540e+01</td>\n",
              "      <td>-2.604551e+00</td>\n",
              "      <td>-2.256568e+01</td>\n",
              "      <td>-1.543008e+01</td>\n",
              "      <td>0.000000</td>\n",
              "      <td>0.000000</td>\n",
              "    </tr>\n",
              "    <tr>\n",
              "      <th>25%</th>\n",
              "      <td>54201.500000</td>\n",
              "      <td>-9.203734e-01</td>\n",
              "      <td>-5.985499e-01</td>\n",
              "      <td>-8.903648e-01</td>\n",
              "      <td>-8.486401e-01</td>\n",
              "      <td>-6.915971e-01</td>\n",
              "      <td>-7.682956e-01</td>\n",
              "      <td>-5.540759e-01</td>\n",
              "      <td>-2.086297e-01</td>\n",
              "      <td>-6.430976e-01</td>\n",
              "      <td>...</td>\n",
              "      <td>-2.283949e-01</td>\n",
              "      <td>-5.423504e-01</td>\n",
              "      <td>-1.618463e-01</td>\n",
              "      <td>-3.545861e-01</td>\n",
              "      <td>-3.171451e-01</td>\n",
              "      <td>-3.269839e-01</td>\n",
              "      <td>-7.083953e-02</td>\n",
              "      <td>-5.295979e-02</td>\n",
              "      <td>5.600000</td>\n",
              "      <td>0.000000</td>\n",
              "    </tr>\n",
              "    <tr>\n",
              "      <th>50%</th>\n",
              "      <td>84692.000000</td>\n",
              "      <td>1.810880e-02</td>\n",
              "      <td>6.548556e-02</td>\n",
              "      <td>1.798463e-01</td>\n",
              "      <td>-1.984653e-02</td>\n",
              "      <td>-5.433583e-02</td>\n",
              "      <td>-2.741871e-01</td>\n",
              "      <td>4.010308e-02</td>\n",
              "      <td>2.235804e-02</td>\n",
              "      <td>-5.142873e-02</td>\n",
              "      <td>...</td>\n",
              "      <td>-2.945017e-02</td>\n",
              "      <td>6.781943e-03</td>\n",
              "      <td>-1.119293e-02</td>\n",
              "      <td>4.097606e-02</td>\n",
              "      <td>1.659350e-02</td>\n",
              "      <td>-5.213911e-02</td>\n",
              "      <td>1.342146e-03</td>\n",
              "      <td>1.124383e-02</td>\n",
              "      <td>22.000000</td>\n",
              "      <td>0.000000</td>\n",
              "    </tr>\n",
              "    <tr>\n",
              "      <th>75%</th>\n",
              "      <td>139320.500000</td>\n",
              "      <td>1.315642e+00</td>\n",
              "      <td>8.037239e-01</td>\n",
              "      <td>1.027196e+00</td>\n",
              "      <td>7.433413e-01</td>\n",
              "      <td>6.119264e-01</td>\n",
              "      <td>3.985649e-01</td>\n",
              "      <td>5.704361e-01</td>\n",
              "      <td>3.273459e-01</td>\n",
              "      <td>5.971390e-01</td>\n",
              "      <td>...</td>\n",
              "      <td>1.863772e-01</td>\n",
              "      <td>5.285536e-01</td>\n",
              "      <td>1.476421e-01</td>\n",
              "      <td>4.395266e-01</td>\n",
              "      <td>3.507156e-01</td>\n",
              "      <td>2.409522e-01</td>\n",
              "      <td>9.104512e-02</td>\n",
              "      <td>7.827995e-02</td>\n",
              "      <td>77.165000</td>\n",
              "      <td>0.000000</td>\n",
              "    </tr>\n",
              "    <tr>\n",
              "      <th>max</th>\n",
              "      <td>172792.000000</td>\n",
              "      <td>2.454930e+00</td>\n",
              "      <td>2.205773e+01</td>\n",
              "      <td>9.382558e+00</td>\n",
              "      <td>1.687534e+01</td>\n",
              "      <td>3.480167e+01</td>\n",
              "      <td>7.330163e+01</td>\n",
              "      <td>1.205895e+02</td>\n",
              "      <td>2.000721e+01</td>\n",
              "      <td>1.559499e+01</td>\n",
              "      <td>...</td>\n",
              "      <td>2.720284e+01</td>\n",
              "      <td>1.050309e+01</td>\n",
              "      <td>2.252841e+01</td>\n",
              "      <td>4.584549e+00</td>\n",
              "      <td>7.519589e+00</td>\n",
              "      <td>3.517346e+00</td>\n",
              "      <td>3.161220e+01</td>\n",
              "      <td>3.384781e+01</td>\n",
              "      <td>25691.160000</td>\n",
              "      <td>1.000000</td>\n",
              "    </tr>\n",
              "  </tbody>\n",
              "</table>\n",
              "<p>8 rows × 31 columns</p>\n",
              "</div>\n",
              "      <button class=\"colab-df-convert\" onclick=\"convertToInteractive('df-67859339-07e2-497b-95a1-bc415957cd45')\"\n",
              "              title=\"Convert this dataframe to an interactive table.\"\n",
              "              style=\"display:none;\">\n",
              "        \n",
              "  <svg xmlns=\"http://www.w3.org/2000/svg\" height=\"24px\"viewBox=\"0 0 24 24\"\n",
              "       width=\"24px\">\n",
              "    <path d=\"M0 0h24v24H0V0z\" fill=\"none\"/>\n",
              "    <path d=\"M18.56 5.44l.94 2.06.94-2.06 2.06-.94-2.06-.94-.94-2.06-.94 2.06-2.06.94zm-11 1L8.5 8.5l.94-2.06 2.06-.94-2.06-.94L8.5 2.5l-.94 2.06-2.06.94zm10 10l.94 2.06.94-2.06 2.06-.94-2.06-.94-.94-2.06-.94 2.06-2.06.94z\"/><path d=\"M17.41 7.96l-1.37-1.37c-.4-.4-.92-.59-1.43-.59-.52 0-1.04.2-1.43.59L10.3 9.45l-7.72 7.72c-.78.78-.78 2.05 0 2.83L4 21.41c.39.39.9.59 1.41.59.51 0 1.02-.2 1.41-.59l7.78-7.78 2.81-2.81c.8-.78.8-2.07 0-2.86zM5.41 20L4 18.59l7.72-7.72 1.47 1.35L5.41 20z\"/>\n",
              "  </svg>\n",
              "      </button>\n",
              "      \n",
              "  <style>\n",
              "    .colab-df-container {\n",
              "      display:flex;\n",
              "      flex-wrap:wrap;\n",
              "      gap: 12px;\n",
              "    }\n",
              "\n",
              "    .colab-df-convert {\n",
              "      background-color: #E8F0FE;\n",
              "      border: none;\n",
              "      border-radius: 50%;\n",
              "      cursor: pointer;\n",
              "      display: none;\n",
              "      fill: #1967D2;\n",
              "      height: 32px;\n",
              "      padding: 0 0 0 0;\n",
              "      width: 32px;\n",
              "    }\n",
              "\n",
              "    .colab-df-convert:hover {\n",
              "      background-color: #E2EBFA;\n",
              "      box-shadow: 0px 1px 2px rgba(60, 64, 67, 0.3), 0px 1px 3px 1px rgba(60, 64, 67, 0.15);\n",
              "      fill: #174EA6;\n",
              "    }\n",
              "\n",
              "    [theme=dark] .colab-df-convert {\n",
              "      background-color: #3B4455;\n",
              "      fill: #D2E3FC;\n",
              "    }\n",
              "\n",
              "    [theme=dark] .colab-df-convert:hover {\n",
              "      background-color: #434B5C;\n",
              "      box-shadow: 0px 1px 3px 1px rgba(0, 0, 0, 0.15);\n",
              "      filter: drop-shadow(0px 1px 2px rgba(0, 0, 0, 0.3));\n",
              "      fill: #FFFFFF;\n",
              "    }\n",
              "  </style>\n",
              "\n",
              "      <script>\n",
              "        const buttonEl =\n",
              "          document.querySelector('#df-67859339-07e2-497b-95a1-bc415957cd45 button.colab-df-convert');\n",
              "        buttonEl.style.display =\n",
              "          google.colab.kernel.accessAllowed ? 'block' : 'none';\n",
              "\n",
              "        async function convertToInteractive(key) {\n",
              "          const element = document.querySelector('#df-67859339-07e2-497b-95a1-bc415957cd45');\n",
              "          const dataTable =\n",
              "            await google.colab.kernel.invokeFunction('convertToInteractive',\n",
              "                                                     [key], {});\n",
              "          if (!dataTable) return;\n",
              "\n",
              "          const docLinkHtml = 'Like what you see? Visit the ' +\n",
              "            '<a target=\"_blank\" href=https://colab.research.google.com/notebooks/data_table.ipynb>data table notebook</a>'\n",
              "            + ' to learn more about interactive tables.';\n",
              "          element.innerHTML = '';\n",
              "          dataTable['output_type'] = 'display_data';\n",
              "          await google.colab.output.renderOutput(dataTable, element);\n",
              "          const docLink = document.createElement('div');\n",
              "          docLink.innerHTML = docLinkHtml;\n",
              "          element.appendChild(docLink);\n",
              "        }\n",
              "      </script>\n",
              "    </div>\n",
              "  </div>\n",
              "  "
            ]
          },
          "metadata": {},
          "execution_count": 7
        }
      ]
    },
    {
      "cell_type": "code",
      "source": [
        "# Number of Fraud vs Non-Fraud Cases - Visualise\n",
        "group = data.groupby('Class')['Time'].count()\n",
        "fig = go.Figure()\n",
        "fig.add_trace(go.Bar(name='counts', x=group.index, y=group.values, marker_line_color='black',\n",
        "                     marker_line_width=2, text=group.values, textposition='inside'))\n",
        "fig.update_yaxes(title_text='Number of Cases')\n",
        "fig.update_xaxes(title_text='Case', nticks=3)\n",
        "fig.update_layout(template='seaborn', hovermode='closest', title='Number of Fraud vs. Non-Fraud Cases', \n",
        "                  width=700, height=400, xaxis=dict(mirror=True, linecolor='black', linewidth=2),\n",
        "                  yaxis=dict(mirror=True, linecolor='black', linewidth=2),\n",
        "                  margin=dict(t=50, b=0, l=70, r=0))\n",
        "fig.show(renderer='colab')"
      ],
      "metadata": {
        "colab": {
          "base_uri": "https://localhost:8080/",
          "height": 416
        },
        "id": "QmE7x1wAksL9",
        "outputId": "655d3293-aa9a-4391-a883-3e71322b943b"
      },
      "execution_count": 8,
      "outputs": [
        {
          "output_type": "display_data",
          "data": {
            "text/html": [
              "<html>\n",
              "<head><meta charset=\"utf-8\" /></head>\n",
              "<body>\n",
              "    <div>            <script src=\"https://cdnjs.cloudflare.com/ajax/libs/mathjax/2.7.5/MathJax.js?config=TeX-AMS-MML_SVG\"></script><script type=\"text/javascript\">if (window.MathJax) {MathJax.Hub.Config({SVG: {font: \"STIX-Web\"}});}</script>                <script type=\"text/javascript\">window.PlotlyConfig = {MathJaxConfig: 'local'};</script>\n",
              "        <script src=\"https://cdn.plot.ly/plotly-2.8.3.min.js\"></script>                <div id=\"f6725215-1f41-49fe-a3b4-843b8abcb83b\" class=\"plotly-graph-div\" style=\"height:400px; width:700px;\"></div>            <script type=\"text/javascript\">                                    window.PLOTLYENV=window.PLOTLYENV || {};                                    if (document.getElementById(\"f6725215-1f41-49fe-a3b4-843b8abcb83b\")) {                    Plotly.newPlot(                        \"f6725215-1f41-49fe-a3b4-843b8abcb83b\",                        [{\"marker\":{\"line\":{\"color\":\"black\",\"width\":2}},\"name\":\"counts\",\"text\":[284315.0,492.0],\"textposition\":\"inside\",\"x\":[0,1],\"y\":[284315,492],\"type\":\"bar\"}],                        {\"template\":{\"data\":{\"barpolar\":[{\"marker\":{\"line\":{\"color\":\"rgb(234,234,242)\",\"width\":0.5},\"pattern\":{\"fillmode\":\"overlay\",\"size\":10,\"solidity\":0.2}},\"type\":\"barpolar\"}],\"bar\":[{\"error_x\":{\"color\":\"rgb(36,36,36)\"},\"error_y\":{\"color\":\"rgb(36,36,36)\"},\"marker\":{\"line\":{\"color\":\"rgb(234,234,242)\",\"width\":0.5},\"pattern\":{\"fillmode\":\"overlay\",\"size\":10,\"solidity\":0.2}},\"type\":\"bar\"}],\"carpet\":[{\"aaxis\":{\"endlinecolor\":\"rgb(36,36,36)\",\"gridcolor\":\"white\",\"linecolor\":\"white\",\"minorgridcolor\":\"white\",\"startlinecolor\":\"rgb(36,36,36)\"},\"baxis\":{\"endlinecolor\":\"rgb(36,36,36)\",\"gridcolor\":\"white\",\"linecolor\":\"white\",\"minorgridcolor\":\"white\",\"startlinecolor\":\"rgb(36,36,36)\"},\"type\":\"carpet\"}],\"choropleth\":[{\"colorbar\":{\"outlinewidth\":0,\"tickcolor\":\"rgb(36,36,36)\",\"ticklen\":8,\"ticks\":\"outside\",\"tickwidth\":2},\"type\":\"choropleth\"}],\"contourcarpet\":[{\"colorbar\":{\"outlinewidth\":0,\"tickcolor\":\"rgb(36,36,36)\",\"ticklen\":8,\"ticks\":\"outside\",\"tickwidth\":2},\"type\":\"contourcarpet\"}],\"contour\":[{\"colorbar\":{\"outlinewidth\":0,\"tickcolor\":\"rgb(36,36,36)\",\"ticklen\":8,\"ticks\":\"outside\",\"tickwidth\":2},\"colorscale\":[[0.0,\"rgb(2,4,25)\"],[0.06274509803921569,\"rgb(24,15,41)\"],[0.12549019607843137,\"rgb(47,23,57)\"],[0.18823529411764706,\"rgb(71,28,72)\"],[0.25098039215686274,\"rgb(97,30,82)\"],[0.3137254901960784,\"rgb(123,30,89)\"],[0.3764705882352941,\"rgb(150,27,91)\"],[0.4392156862745098,\"rgb(177,22,88)\"],[0.5019607843137255,\"rgb(203,26,79)\"],[0.5647058823529412,\"rgb(223,47,67)\"],[0.6274509803921569,\"rgb(236,76,61)\"],[0.6901960784313725,\"rgb(242,107,73)\"],[0.7529411764705882,\"rgb(244,135,95)\"],[0.8156862745098039,\"rgb(245,162,122)\"],[0.8784313725490196,\"rgb(246,188,153)\"],[0.9411764705882353,\"rgb(247,212,187)\"],[1.0,\"rgb(250,234,220)\"]],\"type\":\"contour\"}],\"heatmapgl\":[{\"colorbar\":{\"outlinewidth\":0,\"tickcolor\":\"rgb(36,36,36)\",\"ticklen\":8,\"ticks\":\"outside\",\"tickwidth\":2},\"colorscale\":[[0.0,\"rgb(2,4,25)\"],[0.06274509803921569,\"rgb(24,15,41)\"],[0.12549019607843137,\"rgb(47,23,57)\"],[0.18823529411764706,\"rgb(71,28,72)\"],[0.25098039215686274,\"rgb(97,30,82)\"],[0.3137254901960784,\"rgb(123,30,89)\"],[0.3764705882352941,\"rgb(150,27,91)\"],[0.4392156862745098,\"rgb(177,22,88)\"],[0.5019607843137255,\"rgb(203,26,79)\"],[0.5647058823529412,\"rgb(223,47,67)\"],[0.6274509803921569,\"rgb(236,76,61)\"],[0.6901960784313725,\"rgb(242,107,73)\"],[0.7529411764705882,\"rgb(244,135,95)\"],[0.8156862745098039,\"rgb(245,162,122)\"],[0.8784313725490196,\"rgb(246,188,153)\"],[0.9411764705882353,\"rgb(247,212,187)\"],[1.0,\"rgb(250,234,220)\"]],\"type\":\"heatmapgl\"}],\"heatmap\":[{\"colorbar\":{\"outlinewidth\":0,\"tickcolor\":\"rgb(36,36,36)\",\"ticklen\":8,\"ticks\":\"outside\",\"tickwidth\":2},\"colorscale\":[[0.0,\"rgb(2,4,25)\"],[0.06274509803921569,\"rgb(24,15,41)\"],[0.12549019607843137,\"rgb(47,23,57)\"],[0.18823529411764706,\"rgb(71,28,72)\"],[0.25098039215686274,\"rgb(97,30,82)\"],[0.3137254901960784,\"rgb(123,30,89)\"],[0.3764705882352941,\"rgb(150,27,91)\"],[0.4392156862745098,\"rgb(177,22,88)\"],[0.5019607843137255,\"rgb(203,26,79)\"],[0.5647058823529412,\"rgb(223,47,67)\"],[0.6274509803921569,\"rgb(236,76,61)\"],[0.6901960784313725,\"rgb(242,107,73)\"],[0.7529411764705882,\"rgb(244,135,95)\"],[0.8156862745098039,\"rgb(245,162,122)\"],[0.8784313725490196,\"rgb(246,188,153)\"],[0.9411764705882353,\"rgb(247,212,187)\"],[1.0,\"rgb(250,234,220)\"]],\"type\":\"heatmap\"}],\"histogram2dcontour\":[{\"colorbar\":{\"outlinewidth\":0,\"tickcolor\":\"rgb(36,36,36)\",\"ticklen\":8,\"ticks\":\"outside\",\"tickwidth\":2},\"colorscale\":[[0.0,\"rgb(2,4,25)\"],[0.06274509803921569,\"rgb(24,15,41)\"],[0.12549019607843137,\"rgb(47,23,57)\"],[0.18823529411764706,\"rgb(71,28,72)\"],[0.25098039215686274,\"rgb(97,30,82)\"],[0.3137254901960784,\"rgb(123,30,89)\"],[0.3764705882352941,\"rgb(150,27,91)\"],[0.4392156862745098,\"rgb(177,22,88)\"],[0.5019607843137255,\"rgb(203,26,79)\"],[0.5647058823529412,\"rgb(223,47,67)\"],[0.6274509803921569,\"rgb(236,76,61)\"],[0.6901960784313725,\"rgb(242,107,73)\"],[0.7529411764705882,\"rgb(244,135,95)\"],[0.8156862745098039,\"rgb(245,162,122)\"],[0.8784313725490196,\"rgb(246,188,153)\"],[0.9411764705882353,\"rgb(247,212,187)\"],[1.0,\"rgb(250,234,220)\"]],\"type\":\"histogram2dcontour\"}],\"histogram2d\":[{\"colorbar\":{\"outlinewidth\":0,\"tickcolor\":\"rgb(36,36,36)\",\"ticklen\":8,\"ticks\":\"outside\",\"tickwidth\":2},\"colorscale\":[[0.0,\"rgb(2,4,25)\"],[0.06274509803921569,\"rgb(24,15,41)\"],[0.12549019607843137,\"rgb(47,23,57)\"],[0.18823529411764706,\"rgb(71,28,72)\"],[0.25098039215686274,\"rgb(97,30,82)\"],[0.3137254901960784,\"rgb(123,30,89)\"],[0.3764705882352941,\"rgb(150,27,91)\"],[0.4392156862745098,\"rgb(177,22,88)\"],[0.5019607843137255,\"rgb(203,26,79)\"],[0.5647058823529412,\"rgb(223,47,67)\"],[0.6274509803921569,\"rgb(236,76,61)\"],[0.6901960784313725,\"rgb(242,107,73)\"],[0.7529411764705882,\"rgb(244,135,95)\"],[0.8156862745098039,\"rgb(245,162,122)\"],[0.8784313725490196,\"rgb(246,188,153)\"],[0.9411764705882353,\"rgb(247,212,187)\"],[1.0,\"rgb(250,234,220)\"]],\"type\":\"histogram2d\"}],\"histogram\":[{\"marker\":{\"pattern\":{\"fillmode\":\"overlay\",\"size\":10,\"solidity\":0.2}},\"type\":\"histogram\"}],\"mesh3d\":[{\"colorbar\":{\"outlinewidth\":0,\"tickcolor\":\"rgb(36,36,36)\",\"ticklen\":8,\"ticks\":\"outside\",\"tickwidth\":2},\"type\":\"mesh3d\"}],\"parcoords\":[{\"line\":{\"colorbar\":{\"outlinewidth\":0,\"tickcolor\":\"rgb(36,36,36)\",\"ticklen\":8,\"ticks\":\"outside\",\"tickwidth\":2}},\"type\":\"parcoords\"}],\"pie\":[{\"automargin\":true,\"type\":\"pie\"}],\"scatter3d\":[{\"line\":{\"colorbar\":{\"outlinewidth\":0,\"tickcolor\":\"rgb(36,36,36)\",\"ticklen\":8,\"ticks\":\"outside\",\"tickwidth\":2}},\"marker\":{\"colorbar\":{\"outlinewidth\":0,\"tickcolor\":\"rgb(36,36,36)\",\"ticklen\":8,\"ticks\":\"outside\",\"tickwidth\":2}},\"type\":\"scatter3d\"}],\"scattercarpet\":[{\"marker\":{\"colorbar\":{\"outlinewidth\":0,\"tickcolor\":\"rgb(36,36,36)\",\"ticklen\":8,\"ticks\":\"outside\",\"tickwidth\":2}},\"type\":\"scattercarpet\"}],\"scattergeo\":[{\"marker\":{\"colorbar\":{\"outlinewidth\":0,\"tickcolor\":\"rgb(36,36,36)\",\"ticklen\":8,\"ticks\":\"outside\",\"tickwidth\":2}},\"type\":\"scattergeo\"}],\"scattergl\":[{\"marker\":{\"colorbar\":{\"outlinewidth\":0,\"tickcolor\":\"rgb(36,36,36)\",\"ticklen\":8,\"ticks\":\"outside\",\"tickwidth\":2}},\"type\":\"scattergl\"}],\"scattermapbox\":[{\"marker\":{\"colorbar\":{\"outlinewidth\":0,\"tickcolor\":\"rgb(36,36,36)\",\"ticklen\":8,\"ticks\":\"outside\",\"tickwidth\":2}},\"type\":\"scattermapbox\"}],\"scatterpolargl\":[{\"marker\":{\"colorbar\":{\"outlinewidth\":0,\"tickcolor\":\"rgb(36,36,36)\",\"ticklen\":8,\"ticks\":\"outside\",\"tickwidth\":2}},\"type\":\"scatterpolargl\"}],\"scatterpolar\":[{\"marker\":{\"colorbar\":{\"outlinewidth\":0,\"tickcolor\":\"rgb(36,36,36)\",\"ticklen\":8,\"ticks\":\"outside\",\"tickwidth\":2}},\"type\":\"scatterpolar\"}],\"scatter\":[{\"marker\":{\"colorbar\":{\"outlinewidth\":0,\"tickcolor\":\"rgb(36,36,36)\",\"ticklen\":8,\"ticks\":\"outside\",\"tickwidth\":2}},\"type\":\"scatter\"}],\"scatterternary\":[{\"marker\":{\"colorbar\":{\"outlinewidth\":0,\"tickcolor\":\"rgb(36,36,36)\",\"ticklen\":8,\"ticks\":\"outside\",\"tickwidth\":2}},\"type\":\"scatterternary\"}],\"surface\":[{\"colorbar\":{\"outlinewidth\":0,\"tickcolor\":\"rgb(36,36,36)\",\"ticklen\":8,\"ticks\":\"outside\",\"tickwidth\":2},\"colorscale\":[[0.0,\"rgb(2,4,25)\"],[0.06274509803921569,\"rgb(24,15,41)\"],[0.12549019607843137,\"rgb(47,23,57)\"],[0.18823529411764706,\"rgb(71,28,72)\"],[0.25098039215686274,\"rgb(97,30,82)\"],[0.3137254901960784,\"rgb(123,30,89)\"],[0.3764705882352941,\"rgb(150,27,91)\"],[0.4392156862745098,\"rgb(177,22,88)\"],[0.5019607843137255,\"rgb(203,26,79)\"],[0.5647058823529412,\"rgb(223,47,67)\"],[0.6274509803921569,\"rgb(236,76,61)\"],[0.6901960784313725,\"rgb(242,107,73)\"],[0.7529411764705882,\"rgb(244,135,95)\"],[0.8156862745098039,\"rgb(245,162,122)\"],[0.8784313725490196,\"rgb(246,188,153)\"],[0.9411764705882353,\"rgb(247,212,187)\"],[1.0,\"rgb(250,234,220)\"]],\"type\":\"surface\"}],\"table\":[{\"cells\":{\"fill\":{\"color\":\"rgb(231,231,240)\"},\"line\":{\"color\":\"white\"}},\"header\":{\"fill\":{\"color\":\"rgb(183,183,191)\"},\"line\":{\"color\":\"white\"}},\"type\":\"table\"}]},\"layout\":{\"annotationdefaults\":{\"arrowcolor\":\"rgb(67,103,167)\"},\"autotypenumbers\":\"strict\",\"coloraxis\":{\"colorbar\":{\"outlinewidth\":0,\"tickcolor\":\"rgb(36,36,36)\",\"ticklen\":8,\"ticks\":\"outside\",\"tickwidth\":2}},\"colorscale\":{\"sequential\":[[0.0,\"rgb(2,4,25)\"],[0.06274509803921569,\"rgb(24,15,41)\"],[0.12549019607843137,\"rgb(47,23,57)\"],[0.18823529411764706,\"rgb(71,28,72)\"],[0.25098039215686274,\"rgb(97,30,82)\"],[0.3137254901960784,\"rgb(123,30,89)\"],[0.3764705882352941,\"rgb(150,27,91)\"],[0.4392156862745098,\"rgb(177,22,88)\"],[0.5019607843137255,\"rgb(203,26,79)\"],[0.5647058823529412,\"rgb(223,47,67)\"],[0.6274509803921569,\"rgb(236,76,61)\"],[0.6901960784313725,\"rgb(242,107,73)\"],[0.7529411764705882,\"rgb(244,135,95)\"],[0.8156862745098039,\"rgb(245,162,122)\"],[0.8784313725490196,\"rgb(246,188,153)\"],[0.9411764705882353,\"rgb(247,212,187)\"],[1.0,\"rgb(250,234,220)\"]],\"sequentialminus\":[[0.0,\"rgb(2,4,25)\"],[0.06274509803921569,\"rgb(24,15,41)\"],[0.12549019607843137,\"rgb(47,23,57)\"],[0.18823529411764706,\"rgb(71,28,72)\"],[0.25098039215686274,\"rgb(97,30,82)\"],[0.3137254901960784,\"rgb(123,30,89)\"],[0.3764705882352941,\"rgb(150,27,91)\"],[0.4392156862745098,\"rgb(177,22,88)\"],[0.5019607843137255,\"rgb(203,26,79)\"],[0.5647058823529412,\"rgb(223,47,67)\"],[0.6274509803921569,\"rgb(236,76,61)\"],[0.6901960784313725,\"rgb(242,107,73)\"],[0.7529411764705882,\"rgb(244,135,95)\"],[0.8156862745098039,\"rgb(245,162,122)\"],[0.8784313725490196,\"rgb(246,188,153)\"],[0.9411764705882353,\"rgb(247,212,187)\"],[1.0,\"rgb(250,234,220)\"]]},\"colorway\":[\"rgb(76,114,176)\",\"rgb(221,132,82)\",\"rgb(85,168,104)\",\"rgb(196,78,82)\",\"rgb(129,114,179)\",\"rgb(147,120,96)\",\"rgb(218,139,195)\",\"rgb(140,140,140)\",\"rgb(204,185,116)\",\"rgb(100,181,205)\"],\"font\":{\"color\":\"rgb(36,36,36)\"},\"geo\":{\"bgcolor\":\"white\",\"lakecolor\":\"white\",\"landcolor\":\"rgb(234,234,242)\",\"showlakes\":true,\"showland\":true,\"subunitcolor\":\"white\"},\"hoverlabel\":{\"align\":\"left\"},\"hovermode\":\"closest\",\"paper_bgcolor\":\"white\",\"plot_bgcolor\":\"rgb(234,234,242)\",\"polar\":{\"angularaxis\":{\"gridcolor\":\"white\",\"linecolor\":\"white\",\"showgrid\":true,\"ticks\":\"\"},\"bgcolor\":\"rgb(234,234,242)\",\"radialaxis\":{\"gridcolor\":\"white\",\"linecolor\":\"white\",\"showgrid\":true,\"ticks\":\"\"}},\"scene\":{\"xaxis\":{\"backgroundcolor\":\"rgb(234,234,242)\",\"gridcolor\":\"white\",\"gridwidth\":2,\"linecolor\":\"white\",\"showbackground\":true,\"showgrid\":true,\"ticks\":\"\",\"zerolinecolor\":\"white\"},\"yaxis\":{\"backgroundcolor\":\"rgb(234,234,242)\",\"gridcolor\":\"white\",\"gridwidth\":2,\"linecolor\":\"white\",\"showbackground\":true,\"showgrid\":true,\"ticks\":\"\",\"zerolinecolor\":\"white\"},\"zaxis\":{\"backgroundcolor\":\"rgb(234,234,242)\",\"gridcolor\":\"white\",\"gridwidth\":2,\"linecolor\":\"white\",\"showbackground\":true,\"showgrid\":true,\"ticks\":\"\",\"zerolinecolor\":\"white\"}},\"shapedefaults\":{\"fillcolor\":\"rgb(67,103,167)\",\"line\":{\"width\":0},\"opacity\":0.5},\"ternary\":{\"aaxis\":{\"gridcolor\":\"white\",\"linecolor\":\"white\",\"showgrid\":true,\"ticks\":\"\"},\"baxis\":{\"gridcolor\":\"white\",\"linecolor\":\"white\",\"showgrid\":true,\"ticks\":\"\"},\"bgcolor\":\"rgb(234,234,242)\",\"caxis\":{\"gridcolor\":\"white\",\"linecolor\":\"white\",\"showgrid\":true,\"ticks\":\"\"}},\"xaxis\":{\"automargin\":true,\"gridcolor\":\"white\",\"linecolor\":\"white\",\"showgrid\":true,\"ticks\":\"\",\"title\":{\"standoff\":15},\"zerolinecolor\":\"white\"},\"yaxis\":{\"automargin\":true,\"gridcolor\":\"white\",\"linecolor\":\"white\",\"showgrid\":true,\"ticks\":\"\",\"title\":{\"standoff\":15},\"zerolinecolor\":\"white\"}}},\"yaxis\":{\"title\":{\"text\":\"Number of Cases\"},\"mirror\":true,\"linecolor\":\"black\",\"linewidth\":2},\"xaxis\":{\"title\":{\"text\":\"Case\"},\"nticks\":3,\"mirror\":true,\"linecolor\":\"black\",\"linewidth\":2},\"margin\":{\"t\":50,\"b\":0,\"l\":70,\"r\":0},\"hovermode\":\"closest\",\"title\":{\"text\":\"Number of Fraud vs. Non-Fraud Cases\"},\"width\":700,\"height\":400},                        {\"responsive\": true}                    ).then(function(){\n",
              "                            \n",
              "var gd = document.getElementById('f6725215-1f41-49fe-a3b4-843b8abcb83b');\n",
              "var x = new MutationObserver(function (mutations, observer) {{\n",
              "        var display = window.getComputedStyle(gd).display;\n",
              "        if (!display || display === 'none') {{\n",
              "            console.log([gd, 'removed!']);\n",
              "            Plotly.purge(gd);\n",
              "            observer.disconnect();\n",
              "        }}\n",
              "}});\n",
              "\n",
              "// Listen for the removal of the full notebook cells\n",
              "var notebookContainer = gd.closest('#notebook-container');\n",
              "if (notebookContainer) {{\n",
              "    x.observe(notebookContainer, {childList: true});\n",
              "}}\n",
              "\n",
              "// Listen for the clearing of the current output cell\n",
              "var outputEl = gd.closest('.output');\n",
              "if (outputEl) {{\n",
              "    x.observe(outputEl, {childList: true});\n",
              "}}\n",
              "\n",
              "                        })                };                            </script>        </div>\n",
              "</body>\n",
              "</html>"
            ]
          },
          "metadata": {}
        }
      ]
    },
    {
      "cell_type": "code",
      "source": [
        "# Number of Fraud vs. Non-Fraud Cases - Percentages\n",
        "print('Percentage of No Frauds: {}%'.format(round(data.Class.value_counts()[0]/len(data)*100.0, 3)))\n",
        "print('Percentage of Frauds: {}%'.format(round(data.Class.value_counts()[1]/len(data)*100.0, 3)))"
      ],
      "metadata": {
        "colab": {
          "base_uri": "https://localhost:8080/"
        },
        "id": "3oWYFNXNl19U",
        "outputId": "b6cea478-ba2f-4333-feeb-1f4e8e1d3dc7"
      },
      "execution_count": 9,
      "outputs": [
        {
          "output_type": "stream",
          "name": "stdout",
          "text": [
            "Percentage of No Frauds: 99.827%\n",
            "Percentage of Frauds: 0.173%\n"
          ]
        }
      ]
    },
    {
      "cell_type": "code",
      "source": [
        "# Select the X and y\n",
        "X = data.drop('Class', axis=1)\n",
        "y = data['Class']"
      ],
      "metadata": {
        "id": "_W96CPaBOcCB"
      },
      "execution_count": 10,
      "outputs": []
    },
    {
      "cell_type": "code",
      "source": [
        "X"
      ],
      "metadata": {
        "colab": {
          "base_uri": "https://localhost:8080/",
          "height": 476
        },
        "id": "R72VRlFDgDRV",
        "outputId": "936596f7-f490-4f85-e76f-ebd0a38150f3"
      },
      "execution_count": 11,
      "outputs": [
        {
          "output_type": "execute_result",
          "data": {
            "text/plain": [
              "            Time         V1         V2        V3        V4        V5  \\\n",
              "0            0.0  -1.359807  -0.072781  2.536347  1.378155 -0.338321   \n",
              "1            0.0   1.191857   0.266151  0.166480  0.448154  0.060018   \n",
              "2            1.0  -1.358354  -1.340163  1.773209  0.379780 -0.503198   \n",
              "3            1.0  -0.966272  -0.185226  1.792993 -0.863291 -0.010309   \n",
              "4            2.0  -1.158233   0.877737  1.548718  0.403034 -0.407193   \n",
              "...          ...        ...        ...       ...       ...       ...   \n",
              "284802  172786.0 -11.881118  10.071785 -9.834783 -2.066656 -5.364473   \n",
              "284803  172787.0  -0.732789  -0.055080  2.035030 -0.738589  0.868229   \n",
              "284804  172788.0   1.919565  -0.301254 -3.249640 -0.557828  2.630515   \n",
              "284805  172788.0  -0.240440   0.530483  0.702510  0.689799 -0.377961   \n",
              "284806  172792.0  -0.533413  -0.189733  0.703337 -0.506271 -0.012546   \n",
              "\n",
              "              V6        V7        V8        V9  ...       V20       V21  \\\n",
              "0       0.462388  0.239599  0.098698  0.363787  ...  0.251412 -0.018307   \n",
              "1      -0.082361 -0.078803  0.085102 -0.255425  ... -0.069083 -0.225775   \n",
              "2       1.800499  0.791461  0.247676 -1.514654  ...  0.524980  0.247998   \n",
              "3       1.247203  0.237609  0.377436 -1.387024  ... -0.208038 -0.108300   \n",
              "4       0.095921  0.592941 -0.270533  0.817739  ...  0.408542 -0.009431   \n",
              "...          ...       ...       ...       ...  ...       ...       ...   \n",
              "284802 -2.606837 -4.918215  7.305334  1.914428  ...  1.475829  0.213454   \n",
              "284803  1.058415  0.024330  0.294869  0.584800  ...  0.059616  0.214205   \n",
              "284804  3.031260 -0.296827  0.708417  0.432454  ...  0.001396  0.232045   \n",
              "284805  0.623708 -0.686180  0.679145  0.392087  ...  0.127434  0.265245   \n",
              "284806 -0.649617  1.577006 -0.414650  0.486180  ...  0.382948  0.261057   \n",
              "\n",
              "             V22       V23       V24       V25       V26       V27       V28  \\\n",
              "0       0.277838 -0.110474  0.066928  0.128539 -0.189115  0.133558 -0.021053   \n",
              "1      -0.638672  0.101288 -0.339846  0.167170  0.125895 -0.008983  0.014724   \n",
              "2       0.771679  0.909412 -0.689281 -0.327642 -0.139097 -0.055353 -0.059752   \n",
              "3       0.005274 -0.190321 -1.175575  0.647376 -0.221929  0.062723  0.061458   \n",
              "4       0.798278 -0.137458  0.141267 -0.206010  0.502292  0.219422  0.215153   \n",
              "...          ...       ...       ...       ...       ...       ...       ...   \n",
              "284802  0.111864  1.014480 -0.509348  1.436807  0.250034  0.943651  0.823731   \n",
              "284803  0.924384  0.012463 -1.016226 -0.606624 -0.395255  0.068472 -0.053527   \n",
              "284804  0.578229 -0.037501  0.640134  0.265745 -0.087371  0.004455 -0.026561   \n",
              "284805  0.800049 -0.163298  0.123205 -0.569159  0.546668  0.108821  0.104533   \n",
              "284806  0.643078  0.376777  0.008797 -0.473649 -0.818267 -0.002415  0.013649   \n",
              "\n",
              "        Amount  \n",
              "0       149.62  \n",
              "1         2.69  \n",
              "2       378.66  \n",
              "3       123.50  \n",
              "4        69.99  \n",
              "...        ...  \n",
              "284802    0.77  \n",
              "284803   24.79  \n",
              "284804   67.88  \n",
              "284805   10.00  \n",
              "284806  217.00  \n",
              "\n",
              "[284807 rows x 30 columns]"
            ],
            "text/html": [
              "\n",
              "  <div id=\"df-9aeaf478-cc2b-4f47-9531-3d6904ffba68\">\n",
              "    <div class=\"colab-df-container\">\n",
              "      <div>\n",
              "<style scoped>\n",
              "    .dataframe tbody tr th:only-of-type {\n",
              "        vertical-align: middle;\n",
              "    }\n",
              "\n",
              "    .dataframe tbody tr th {\n",
              "        vertical-align: top;\n",
              "    }\n",
              "\n",
              "    .dataframe thead th {\n",
              "        text-align: right;\n",
              "    }\n",
              "</style>\n",
              "<table border=\"1\" class=\"dataframe\">\n",
              "  <thead>\n",
              "    <tr style=\"text-align: right;\">\n",
              "      <th></th>\n",
              "      <th>Time</th>\n",
              "      <th>V1</th>\n",
              "      <th>V2</th>\n",
              "      <th>V3</th>\n",
              "      <th>V4</th>\n",
              "      <th>V5</th>\n",
              "      <th>V6</th>\n",
              "      <th>V7</th>\n",
              "      <th>V8</th>\n",
              "      <th>V9</th>\n",
              "      <th>...</th>\n",
              "      <th>V20</th>\n",
              "      <th>V21</th>\n",
              "      <th>V22</th>\n",
              "      <th>V23</th>\n",
              "      <th>V24</th>\n",
              "      <th>V25</th>\n",
              "      <th>V26</th>\n",
              "      <th>V27</th>\n",
              "      <th>V28</th>\n",
              "      <th>Amount</th>\n",
              "    </tr>\n",
              "  </thead>\n",
              "  <tbody>\n",
              "    <tr>\n",
              "      <th>0</th>\n",
              "      <td>0.0</td>\n",
              "      <td>-1.359807</td>\n",
              "      <td>-0.072781</td>\n",
              "      <td>2.536347</td>\n",
              "      <td>1.378155</td>\n",
              "      <td>-0.338321</td>\n",
              "      <td>0.462388</td>\n",
              "      <td>0.239599</td>\n",
              "      <td>0.098698</td>\n",
              "      <td>0.363787</td>\n",
              "      <td>...</td>\n",
              "      <td>0.251412</td>\n",
              "      <td>-0.018307</td>\n",
              "      <td>0.277838</td>\n",
              "      <td>-0.110474</td>\n",
              "      <td>0.066928</td>\n",
              "      <td>0.128539</td>\n",
              "      <td>-0.189115</td>\n",
              "      <td>0.133558</td>\n",
              "      <td>-0.021053</td>\n",
              "      <td>149.62</td>\n",
              "    </tr>\n",
              "    <tr>\n",
              "      <th>1</th>\n",
              "      <td>0.0</td>\n",
              "      <td>1.191857</td>\n",
              "      <td>0.266151</td>\n",
              "      <td>0.166480</td>\n",
              "      <td>0.448154</td>\n",
              "      <td>0.060018</td>\n",
              "      <td>-0.082361</td>\n",
              "      <td>-0.078803</td>\n",
              "      <td>0.085102</td>\n",
              "      <td>-0.255425</td>\n",
              "      <td>...</td>\n",
              "      <td>-0.069083</td>\n",
              "      <td>-0.225775</td>\n",
              "      <td>-0.638672</td>\n",
              "      <td>0.101288</td>\n",
              "      <td>-0.339846</td>\n",
              "      <td>0.167170</td>\n",
              "      <td>0.125895</td>\n",
              "      <td>-0.008983</td>\n",
              "      <td>0.014724</td>\n",
              "      <td>2.69</td>\n",
              "    </tr>\n",
              "    <tr>\n",
              "      <th>2</th>\n",
              "      <td>1.0</td>\n",
              "      <td>-1.358354</td>\n",
              "      <td>-1.340163</td>\n",
              "      <td>1.773209</td>\n",
              "      <td>0.379780</td>\n",
              "      <td>-0.503198</td>\n",
              "      <td>1.800499</td>\n",
              "      <td>0.791461</td>\n",
              "      <td>0.247676</td>\n",
              "      <td>-1.514654</td>\n",
              "      <td>...</td>\n",
              "      <td>0.524980</td>\n",
              "      <td>0.247998</td>\n",
              "      <td>0.771679</td>\n",
              "      <td>0.909412</td>\n",
              "      <td>-0.689281</td>\n",
              "      <td>-0.327642</td>\n",
              "      <td>-0.139097</td>\n",
              "      <td>-0.055353</td>\n",
              "      <td>-0.059752</td>\n",
              "      <td>378.66</td>\n",
              "    </tr>\n",
              "    <tr>\n",
              "      <th>3</th>\n",
              "      <td>1.0</td>\n",
              "      <td>-0.966272</td>\n",
              "      <td>-0.185226</td>\n",
              "      <td>1.792993</td>\n",
              "      <td>-0.863291</td>\n",
              "      <td>-0.010309</td>\n",
              "      <td>1.247203</td>\n",
              "      <td>0.237609</td>\n",
              "      <td>0.377436</td>\n",
              "      <td>-1.387024</td>\n",
              "      <td>...</td>\n",
              "      <td>-0.208038</td>\n",
              "      <td>-0.108300</td>\n",
              "      <td>0.005274</td>\n",
              "      <td>-0.190321</td>\n",
              "      <td>-1.175575</td>\n",
              "      <td>0.647376</td>\n",
              "      <td>-0.221929</td>\n",
              "      <td>0.062723</td>\n",
              "      <td>0.061458</td>\n",
              "      <td>123.50</td>\n",
              "    </tr>\n",
              "    <tr>\n",
              "      <th>4</th>\n",
              "      <td>2.0</td>\n",
              "      <td>-1.158233</td>\n",
              "      <td>0.877737</td>\n",
              "      <td>1.548718</td>\n",
              "      <td>0.403034</td>\n",
              "      <td>-0.407193</td>\n",
              "      <td>0.095921</td>\n",
              "      <td>0.592941</td>\n",
              "      <td>-0.270533</td>\n",
              "      <td>0.817739</td>\n",
              "      <td>...</td>\n",
              "      <td>0.408542</td>\n",
              "      <td>-0.009431</td>\n",
              "      <td>0.798278</td>\n",
              "      <td>-0.137458</td>\n",
              "      <td>0.141267</td>\n",
              "      <td>-0.206010</td>\n",
              "      <td>0.502292</td>\n",
              "      <td>0.219422</td>\n",
              "      <td>0.215153</td>\n",
              "      <td>69.99</td>\n",
              "    </tr>\n",
              "    <tr>\n",
              "      <th>...</th>\n",
              "      <td>...</td>\n",
              "      <td>...</td>\n",
              "      <td>...</td>\n",
              "      <td>...</td>\n",
              "      <td>...</td>\n",
              "      <td>...</td>\n",
              "      <td>...</td>\n",
              "      <td>...</td>\n",
              "      <td>...</td>\n",
              "      <td>...</td>\n",
              "      <td>...</td>\n",
              "      <td>...</td>\n",
              "      <td>...</td>\n",
              "      <td>...</td>\n",
              "      <td>...</td>\n",
              "      <td>...</td>\n",
              "      <td>...</td>\n",
              "      <td>...</td>\n",
              "      <td>...</td>\n",
              "      <td>...</td>\n",
              "      <td>...</td>\n",
              "    </tr>\n",
              "    <tr>\n",
              "      <th>284802</th>\n",
              "      <td>172786.0</td>\n",
              "      <td>-11.881118</td>\n",
              "      <td>10.071785</td>\n",
              "      <td>-9.834783</td>\n",
              "      <td>-2.066656</td>\n",
              "      <td>-5.364473</td>\n",
              "      <td>-2.606837</td>\n",
              "      <td>-4.918215</td>\n",
              "      <td>7.305334</td>\n",
              "      <td>1.914428</td>\n",
              "      <td>...</td>\n",
              "      <td>1.475829</td>\n",
              "      <td>0.213454</td>\n",
              "      <td>0.111864</td>\n",
              "      <td>1.014480</td>\n",
              "      <td>-0.509348</td>\n",
              "      <td>1.436807</td>\n",
              "      <td>0.250034</td>\n",
              "      <td>0.943651</td>\n",
              "      <td>0.823731</td>\n",
              "      <td>0.77</td>\n",
              "    </tr>\n",
              "    <tr>\n",
              "      <th>284803</th>\n",
              "      <td>172787.0</td>\n",
              "      <td>-0.732789</td>\n",
              "      <td>-0.055080</td>\n",
              "      <td>2.035030</td>\n",
              "      <td>-0.738589</td>\n",
              "      <td>0.868229</td>\n",
              "      <td>1.058415</td>\n",
              "      <td>0.024330</td>\n",
              "      <td>0.294869</td>\n",
              "      <td>0.584800</td>\n",
              "      <td>...</td>\n",
              "      <td>0.059616</td>\n",
              "      <td>0.214205</td>\n",
              "      <td>0.924384</td>\n",
              "      <td>0.012463</td>\n",
              "      <td>-1.016226</td>\n",
              "      <td>-0.606624</td>\n",
              "      <td>-0.395255</td>\n",
              "      <td>0.068472</td>\n",
              "      <td>-0.053527</td>\n",
              "      <td>24.79</td>\n",
              "    </tr>\n",
              "    <tr>\n",
              "      <th>284804</th>\n",
              "      <td>172788.0</td>\n",
              "      <td>1.919565</td>\n",
              "      <td>-0.301254</td>\n",
              "      <td>-3.249640</td>\n",
              "      <td>-0.557828</td>\n",
              "      <td>2.630515</td>\n",
              "      <td>3.031260</td>\n",
              "      <td>-0.296827</td>\n",
              "      <td>0.708417</td>\n",
              "      <td>0.432454</td>\n",
              "      <td>...</td>\n",
              "      <td>0.001396</td>\n",
              "      <td>0.232045</td>\n",
              "      <td>0.578229</td>\n",
              "      <td>-0.037501</td>\n",
              "      <td>0.640134</td>\n",
              "      <td>0.265745</td>\n",
              "      <td>-0.087371</td>\n",
              "      <td>0.004455</td>\n",
              "      <td>-0.026561</td>\n",
              "      <td>67.88</td>\n",
              "    </tr>\n",
              "    <tr>\n",
              "      <th>284805</th>\n",
              "      <td>172788.0</td>\n",
              "      <td>-0.240440</td>\n",
              "      <td>0.530483</td>\n",
              "      <td>0.702510</td>\n",
              "      <td>0.689799</td>\n",
              "      <td>-0.377961</td>\n",
              "      <td>0.623708</td>\n",
              "      <td>-0.686180</td>\n",
              "      <td>0.679145</td>\n",
              "      <td>0.392087</td>\n",
              "      <td>...</td>\n",
              "      <td>0.127434</td>\n",
              "      <td>0.265245</td>\n",
              "      <td>0.800049</td>\n",
              "      <td>-0.163298</td>\n",
              "      <td>0.123205</td>\n",
              "      <td>-0.569159</td>\n",
              "      <td>0.546668</td>\n",
              "      <td>0.108821</td>\n",
              "      <td>0.104533</td>\n",
              "      <td>10.00</td>\n",
              "    </tr>\n",
              "    <tr>\n",
              "      <th>284806</th>\n",
              "      <td>172792.0</td>\n",
              "      <td>-0.533413</td>\n",
              "      <td>-0.189733</td>\n",
              "      <td>0.703337</td>\n",
              "      <td>-0.506271</td>\n",
              "      <td>-0.012546</td>\n",
              "      <td>-0.649617</td>\n",
              "      <td>1.577006</td>\n",
              "      <td>-0.414650</td>\n",
              "      <td>0.486180</td>\n",
              "      <td>...</td>\n",
              "      <td>0.382948</td>\n",
              "      <td>0.261057</td>\n",
              "      <td>0.643078</td>\n",
              "      <td>0.376777</td>\n",
              "      <td>0.008797</td>\n",
              "      <td>-0.473649</td>\n",
              "      <td>-0.818267</td>\n",
              "      <td>-0.002415</td>\n",
              "      <td>0.013649</td>\n",
              "      <td>217.00</td>\n",
              "    </tr>\n",
              "  </tbody>\n",
              "</table>\n",
              "<p>284807 rows × 30 columns</p>\n",
              "</div>\n",
              "      <button class=\"colab-df-convert\" onclick=\"convertToInteractive('df-9aeaf478-cc2b-4f47-9531-3d6904ffba68')\"\n",
              "              title=\"Convert this dataframe to an interactive table.\"\n",
              "              style=\"display:none;\">\n",
              "        \n",
              "  <svg xmlns=\"http://www.w3.org/2000/svg\" height=\"24px\"viewBox=\"0 0 24 24\"\n",
              "       width=\"24px\">\n",
              "    <path d=\"M0 0h24v24H0V0z\" fill=\"none\"/>\n",
              "    <path d=\"M18.56 5.44l.94 2.06.94-2.06 2.06-.94-2.06-.94-.94-2.06-.94 2.06-2.06.94zm-11 1L8.5 8.5l.94-2.06 2.06-.94-2.06-.94L8.5 2.5l-.94 2.06-2.06.94zm10 10l.94 2.06.94-2.06 2.06-.94-2.06-.94-.94-2.06-.94 2.06-2.06.94z\"/><path d=\"M17.41 7.96l-1.37-1.37c-.4-.4-.92-.59-1.43-.59-.52 0-1.04.2-1.43.59L10.3 9.45l-7.72 7.72c-.78.78-.78 2.05 0 2.83L4 21.41c.39.39.9.59 1.41.59.51 0 1.02-.2 1.41-.59l7.78-7.78 2.81-2.81c.8-.78.8-2.07 0-2.86zM5.41 20L4 18.59l7.72-7.72 1.47 1.35L5.41 20z\"/>\n",
              "  </svg>\n",
              "      </button>\n",
              "      \n",
              "  <style>\n",
              "    .colab-df-container {\n",
              "      display:flex;\n",
              "      flex-wrap:wrap;\n",
              "      gap: 12px;\n",
              "    }\n",
              "\n",
              "    .colab-df-convert {\n",
              "      background-color: #E8F0FE;\n",
              "      border: none;\n",
              "      border-radius: 50%;\n",
              "      cursor: pointer;\n",
              "      display: none;\n",
              "      fill: #1967D2;\n",
              "      height: 32px;\n",
              "      padding: 0 0 0 0;\n",
              "      width: 32px;\n",
              "    }\n",
              "\n",
              "    .colab-df-convert:hover {\n",
              "      background-color: #E2EBFA;\n",
              "      box-shadow: 0px 1px 2px rgba(60, 64, 67, 0.3), 0px 1px 3px 1px rgba(60, 64, 67, 0.15);\n",
              "      fill: #174EA6;\n",
              "    }\n",
              "\n",
              "    [theme=dark] .colab-df-convert {\n",
              "      background-color: #3B4455;\n",
              "      fill: #D2E3FC;\n",
              "    }\n",
              "\n",
              "    [theme=dark] .colab-df-convert:hover {\n",
              "      background-color: #434B5C;\n",
              "      box-shadow: 0px 1px 3px 1px rgba(0, 0, 0, 0.15);\n",
              "      filter: drop-shadow(0px 1px 2px rgba(0, 0, 0, 0.3));\n",
              "      fill: #FFFFFF;\n",
              "    }\n",
              "  </style>\n",
              "\n",
              "      <script>\n",
              "        const buttonEl =\n",
              "          document.querySelector('#df-9aeaf478-cc2b-4f47-9531-3d6904ffba68 button.colab-df-convert');\n",
              "        buttonEl.style.display =\n",
              "          google.colab.kernel.accessAllowed ? 'block' : 'none';\n",
              "\n",
              "        async function convertToInteractive(key) {\n",
              "          const element = document.querySelector('#df-9aeaf478-cc2b-4f47-9531-3d6904ffba68');\n",
              "          const dataTable =\n",
              "            await google.colab.kernel.invokeFunction('convertToInteractive',\n",
              "                                                     [key], {});\n",
              "          if (!dataTable) return;\n",
              "\n",
              "          const docLinkHtml = 'Like what you see? Visit the ' +\n",
              "            '<a target=\"_blank\" href=https://colab.research.google.com/notebooks/data_table.ipynb>data table notebook</a>'\n",
              "            + ' to learn more about interactive tables.';\n",
              "          element.innerHTML = '';\n",
              "          dataTable['output_type'] = 'display_data';\n",
              "          await google.colab.output.renderOutput(dataTable, element);\n",
              "          const docLink = document.createElement('div');\n",
              "          docLink.innerHTML = docLinkHtml;\n",
              "          element.appendChild(docLink);\n",
              "        }\n",
              "      </script>\n",
              "    </div>\n",
              "  </div>\n",
              "  "
            ]
          },
          "metadata": {},
          "execution_count": 11
        }
      ]
    },
    {
      "cell_type": "code",
      "source": [
        "y"
      ],
      "metadata": {
        "colab": {
          "base_uri": "https://localhost:8080/"
        },
        "id": "l--vH6MfkLaA",
        "outputId": "220f8219-8a42-414e-ce30-434361763b04"
      },
      "execution_count": null,
      "outputs": [
        {
          "output_type": "execute_result",
          "data": {
            "text/plain": [
              "0         0\n",
              "1         0\n",
              "2         0\n",
              "3         0\n",
              "4         0\n",
              "         ..\n",
              "284802    0\n",
              "284803    0\n",
              "284804    0\n",
              "284805    0\n",
              "284806    0\n",
              "Name: Class, Length: 284807, dtype: int64"
            ]
          },
          "metadata": {},
          "execution_count": 31
        }
      ]
    },
    {
      "cell_type": "markdown",
      "source": [
        "![Inner_Working_KFold.png](data:image/png;base64,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)"
      ],
      "metadata": {
        "id": "PklPqjiBsVMt"
      }
    },
    {
      "cell_type": "markdown",
      "source": [
        "![KFold_Cross_Validation.png](data:image/png;base64,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)"
      ],
      "metadata": {
        "id": "JDqYCyans37b"
      }
    },
    {
      "cell_type": "markdown",
      "source": [
        "We will now complete the first phase of the proposed model architecture, that is, analysing the results of five machine learning algorithms, including:\n",
        "* Logistic Regression\n",
        "* K-Nearest Neighbours\n",
        "* Decision Tree\n",
        "* Random Forest\n",
        "* Naive Bayes"
      ],
      "metadata": {
        "id": "d90fYrbES3lL"
      }
    },
    {
      "cell_type": "markdown",
      "source": [
        "## **Classifiers on Raw Data [Normalised]**"
      ],
      "metadata": {
        "id": "vtFlWToJSJRR"
      }
    },
    {
      "cell_type": "markdown",
      "source": [
        "### **Logistic Regression - Raw Data**"
      ],
      "metadata": {
        "id": "vEpweeG4H9ni"
      }
    },
    {
      "cell_type": "code",
      "source": [
        "pipeline = Pipeline(\n",
        "    steps = [('model', LogisticRegression(solver='lbfgs', max_iter=400))]\n",
        ")\n",
        "\n",
        "scoring = {'accuracy' : make_scorer(accuracy_score),\n",
        "           'precision' : make_scorer(precision_score),\n",
        "           'recall' : make_scorer(recall_score),\n",
        "           'f1_score' : make_scorer(f1_score),\n",
        "           'roc_auc' : make_scorer(roc_auc_score)}\n",
        "\n",
        "# Evaluate\n",
        "scores = cross_validate(pipeline, \n",
        "                        X,\n",
        "                        y, \n",
        "                        scoring=scoring,\n",
        "                        cv=StratifiedKFold(n_splits=5, shuffle=True, random_state=10),\n",
        "                        n_jobs=-1)\n",
        "\n",
        "print(\"Logistic Regression/Raw Data Accuracy: \", (scores['test_accuracy'].mean()))\n",
        "print(\"Logistic Regression/Raw Data Precision: \", (scores['test_precision'].mean()))\n",
        "print(\"Logistic Regression/Raw Data Recall: \", (scores['test_recall'].mean()))\n",
        "print(\"Logistic Regression/Raw Data F1-Score: \", (scores['test_f1_score'].mean()))\n",
        "print(\"Logistic Regression/Raw Data ROC-AUC: \", (scores['test_roc_auc'].mean()))"
      ],
      "metadata": {
        "colab": {
          "base_uri": "https://localhost:8080/"
        },
        "id": "O0oovykWnns_",
        "outputId": "0c30c30a-a782-49a9-851f-20db0ffb87be"
      },
      "execution_count": null,
      "outputs": [
        {
          "output_type": "stream",
          "name": "stdout",
          "text": [
            "Logistic Regression/Raw Data Accuracy:  0.9991467909294691\n",
            "Logistic Regression/Raw Data Precision:  0.8451154401154402\n",
            "Logistic Regression/Raw Data Recall:  0.6200164914450628\n",
            "Logistic Regression/Raw Data F1-Score:  0.7137804601944089\n",
            "Logistic Regression/Raw Data ROC-AUC:  0.8099097634053833\n"
          ]
        }
      ]
    },
    {
      "cell_type": "markdown",
      "source": [
        "### **Decision Tree - Raw Data**"
      ],
      "metadata": {
        "id": "BsJ0D11tIBCs"
      }
    },
    {
      "cell_type": "code",
      "source": [
        "pipeline = Pipeline(\n",
        "    steps = [('model', DecisionTreeClassifier())]\n",
        ")\n",
        "\n",
        "scoring = {'accuracy' : make_scorer(accuracy_score),\n",
        "           'precision' : make_scorer(precision_score),\n",
        "           'recall' : make_scorer(recall_score),\n",
        "           'f1_score' : make_scorer(f1_score),\n",
        "           'roc_auc' : make_scorer(roc_auc_score)}\n",
        "\n",
        "# Evaluate\n",
        "scores = cross_validate(pipeline, \n",
        "                        X,\n",
        "                        y, \n",
        "                        scoring=scoring,\n",
        "                        cv=StratifiedKFold(n_splits=5, shuffle=True, random_state=10))\n",
        "                        \n",
        "\n",
        "print(\"Decision Tree/Raw Data Accuracy: \", (scores['test_accuracy'].mean()))\n",
        "print(\"Decision Tree/Raw Data Precision: \", (scores['test_precision'].mean()))\n",
        "print(\"Decision Tree/Raw Data Recall: \", (scores['test_recall'].mean()))\n",
        "print(\"Decision Tree/Raw Data F1-Score: \", (scores['test_f1_score'].mean()))\n",
        "print(\"Decision Tree/Raw Data ROC-AUC: \", (scores['test_roc_auc'].mean()))"
      ],
      "metadata": {
        "colab": {
          "base_uri": "https://localhost:8080/"
        },
        "id": "XBH6PujHIEPA",
        "outputId": "0ddf0f14-5cc3-4f1d-e5d6-d4a3cc7dea3c"
      },
      "execution_count": null,
      "outputs": [
        {
          "output_type": "stream",
          "name": "stdout",
          "text": [
            "Decision Tree/Raw Data Accuracy:  0.9991538130315311\n",
            "Decision Tree/Raw Data Precision:  0.7534633242974599\n",
            "Decision Tree/Raw Data Recall:  0.7603380746237889\n",
            "Decision Tree/Raw Data F1-Score:  0.7555421523820913\n",
            "Decision Tree/Raw Data ROC-AUC:  0.8799527279367295\n"
          ]
        }
      ]
    },
    {
      "cell_type": "markdown",
      "source": [
        "### **Random Forest - Raw Data**"
      ],
      "metadata": {
        "id": "xWtdilU3IPrG"
      }
    },
    {
      "cell_type": "code",
      "source": [
        "pipeline = Pipeline(\n",
        "    steps = [('model', RandomForestClassifier())]\n",
        ")\n",
        "\n",
        "scoring = {'accuracy' : make_scorer(accuracy_score),\n",
        "           'precision' : make_scorer(precision_score),\n",
        "           'recall' : make_scorer(recall_score),\n",
        "           'f1_score' : make_scorer(f1_score),\n",
        "           'roc_auc' : make_scorer(roc_auc_score)}\n",
        "\n",
        "# Evaluate\n",
        "scores = cross_validate(pipeline, \n",
        "                        X,\n",
        "                        y, \n",
        "                        scoring=scoring,\n",
        "                        cv=StratifiedKFold(n_splits=5, shuffle=True, random_state=10),\n",
        "                        n_jobs=-1)\n",
        "\n",
        "print(\"Random Forest/Raw Data Accuracy: \", (scores['test_accuracy'].mean()))\n",
        "print(\"Random Forest/Raw Data Precision: \", (scores['test_precision'].mean()))\n",
        "print(\"Random Forest/Raw Data Recall: \", (scores['test_recall'].mean()))\n",
        "print(\"Random Forest/Raw Data F1-Score: \", (scores['test_f1_score'].mean()))\n",
        "print(\"Random Forest/Raw Data ROC-AUC: \", (scores['test_roc_auc'].mean()))"
      ],
      "metadata": {
        "colab": {
          "base_uri": "https://localhost:8080/"
        },
        "id": "OaiMAWY7usEQ",
        "outputId": "c13935ef-c12b-4ba7-f98f-3ea57800892a"
      },
      "execution_count": null,
      "outputs": [
        {
          "output_type": "stream",
          "name": "stdout",
          "text": [
            "Random Forest/Raw Data Accuracy:  0.9995365285659406\n",
            "Random Forest/Raw Data Precision:  0.9526577723528943\n",
            "Random Forest/Raw Data Recall:  0.7704596990311275\n",
            "Random Forest/Raw Data F1-Score:  0.8514489877617848\n",
            "Random Forest/Raw Data ROC-AUC:  0.8851964358722457\n"
          ]
        }
      ]
    },
    {
      "cell_type": "markdown",
      "source": [
        "### **Gaussian NB - Raw Data**"
      ],
      "metadata": {
        "id": "cW8dWS1bJlxM"
      }
    },
    {
      "cell_type": "code",
      "source": [
        "pipeline = Pipeline(\n",
        "    steps = [('model', GaussianNB())]\n",
        ")\n",
        "\n",
        "scoring = {'accuracy' : make_scorer(accuracy_score),\n",
        "           'precision' : make_scorer(precision_score),\n",
        "           'recall' : make_scorer(recall_score),\n",
        "           'f1_score' : make_scorer(f1_score),\n",
        "           'roc_auc' : make_scorer(roc_auc_score)}\n",
        "\n",
        "# Evaluate\n",
        "scores = cross_validate(pipeline, \n",
        "                        X,\n",
        "                        y, \n",
        "                        scoring=scoring,\n",
        "                        cv=StratifiedKFold(n_splits=5, shuffle=True, random_state=10),\n",
        "                        n_jobs=-1)\n",
        "\n",
        "print(\"Gaussian NB/Raw Data Accuracy: \", (scores['test_accuracy'].mean()))\n",
        "print(\"Gaussian NB/Raw Data Precision: \", (scores['test_precision'].mean()))\n",
        "print(\"Gaussian NB/Raw Data Recall: \", (scores['test_recall'].mean()))\n",
        "print(\"Gaussian NB/Raw Data F1-Score: \", (scores['test_f1_score'].mean()))\n",
        "print(\"Gaussian NB/Raw Data ROC-AUC: \", (scores['test_roc_auc'].mean()))"
      ],
      "metadata": {
        "colab": {
          "base_uri": "https://localhost:8080/"
        },
        "id": "d9AlyRbLy9Qd",
        "outputId": "6e30f6f0-8814-4e56-d483-e79d5ba5bb1b"
      },
      "execution_count": null,
      "outputs": [
        {
          "output_type": "stream",
          "name": "stdout",
          "text": [
            "Gaussian NB/Raw Data Accuracy:  0.9928934328743668\n",
            "Gaussian NB/Raw Data Precision:  0.14670532583792079\n",
            "Gaussian NB/Raw Data Recall:  0.6462791177076891\n",
            "Gaussian NB/Raw Data F1-Score:  0.23907379433376522\n",
            "Gaussian NB/Raw Data ROC-AUC:  0.8198861251623404\n"
          ]
        }
      ]
    },
    {
      "cell_type": "markdown",
      "source": [
        "### **KNN - Raw Data**"
      ],
      "metadata": {
        "id": "rZkhhIoVJyEI"
      }
    },
    {
      "cell_type": "code",
      "source": [
        "pipeline = Pipeline(\n",
        "    steps = [('model', KNeighborsClassifier(n_neighbors=3))]\n",
        ")\n",
        "\n",
        "scoring = {'accuracy' : make_scorer(accuracy_score),\n",
        "           'precision' : make_scorer(precision_score),\n",
        "           'recall' : make_scorer(recall_score),\n",
        "           'f1_score' : make_scorer(f1_score),\n",
        "           'roc_auc' : make_scorer(roc_auc_score)}\n",
        "\n",
        "# Evaluate\n",
        "scores = cross_validate(pipeline, \n",
        "                        X,\n",
        "                        y, \n",
        "                        scoring=scoring,\n",
        "                        cv=StratifiedKFold(n_splits=5, shuffle=True, random_state=10),\n",
        "                        n_jobs=-1)\n",
        "\n",
        "print(\"KNN/Raw Data Accuracy: \", (scores['test_accuracy'].mean()))\n",
        "print(\"KNN/Raw Data Precision: \", (scores['test_precision'].mean()))\n",
        "print(\"KNN/Raw Data Recall: \", (scores['test_recall'].mean()))\n",
        "print(\"KNN/Raw Data F1-Score: \", (scores['test_f1_score'].mean()))\n",
        "print(\"KNN/Raw Data ROC-AUC: \", (scores['test_roc_auc'].mean()))"
      ],
      "metadata": {
        "colab": {
          "base_uri": "https://localhost:8080/"
        },
        "id": "9-NjM1meJ1LN",
        "outputId": "45f65942-1164-4456-da38-64f736924a91"
      },
      "execution_count": null,
      "outputs": [
        {
          "output_type": "stream",
          "name": "stderr",
          "text": [
            "/usr/local/lib/python3.7/dist-packages/joblib/externals/loky/process_executor.py:705: UserWarning:\n",
            "\n",
            "A worker stopped while some jobs were given to the executor. This can be caused by a too short worker timeout or by a memory leak.\n",
            "\n"
          ]
        },
        {
          "output_type": "stream",
          "name": "stdout",
          "text": [
            "KNN/Raw Data Accuracy:  0.9983883823941969\n",
            "KNN/Raw Data Precision:  0.8413461538461539\n",
            "KNN/Raw Data Recall:  0.08940424654710369\n",
            "KNN/Raw Data F1-Score:  0.1600765427081216\n",
            "KNN/Raw Data ROC-AUC:  0.5446827785326833\n"
          ]
        }
      ]
    },
    {
      "cell_type": "markdown",
      "source": [
        "### **Logistic Regression - RUS**"
      ],
      "metadata": {
        "id": "Omf8ImGBoSyf"
      }
    },
    {
      "cell_type": "code",
      "source": [
        "pipeline = Pipeline(\n",
        "            steps = [('under_sampling', RandomUnderSampler()),\n",
        "             ('model', LogisticRegression(solver='lbfgs', max_iter=400))]    \n",
        ")\n",
        "\n",
        "\n",
        "scoring = {'accuracy' : make_scorer(accuracy_score),\n",
        "           'precision' : make_scorer(precision_score),\n",
        "           'recall' : make_scorer(recall_score),\n",
        "           'f1_score' : make_scorer(f1_score),\n",
        "           'roc_auc' : make_scorer(roc_auc_score)}\n",
        "\n",
        "\n",
        "# Evaluate\n",
        "scores = cross_validate(pipeline, \n",
        "                        X,\n",
        "                        y, \n",
        "                        scoring=scoring,\n",
        "                        cv=StratifiedKFold(n_splits=5, shuffle=True, random_state=10),\n",
        "                        n_jobs=-1)\n",
        "\n",
        "print(\"Logistic Regression/Random Under Sampling Accuracy: \", (scores['test_accuracy'].mean()))\n",
        "print(\"Logistic Regression/Random Under Sampling Precision: \", (scores['test_precision'].mean()))\n",
        "print(\"Logistic Regression/Random Under Sampling Recall: \", (scores['test_recall'].mean()))\n",
        "print(\"Logistic Regression/Random Under Sampling F1-Score: \", (scores['test_f1_score'].mean()))\n",
        "print(\"Logistic Regression/Random Under Sampling ROC-AUC: \", (scores['test_roc_auc'].mean()))"
      ],
      "metadata": {
        "colab": {
          "base_uri": "https://localhost:8080/"
        },
        "id": "4bxWkrCm5s-y",
        "outputId": "2885b0e6-fccf-4592-cafd-ae3938647f84"
      },
      "execution_count": null,
      "outputs": [
        {
          "output_type": "stream",
          "name": "stdout",
          "text": [
            "Logistic Regression/Random Under Sampling Accuracy:  0.9576836229405838\n",
            "Logistic Regression/Random Under Sampling Precision:  0.03589327803077046\n",
            "Logistic Regression/Random Under Sampling Recall:  0.9066996495567924\n",
            "Logistic Regression/Random Under Sampling F1-Score:  0.06904546432869785\n",
            "Logistic Regression/Random Under Sampling ROC-AUC:  0.9322359194269374\n"
          ]
        }
      ]
    },
    {
      "cell_type": "markdown",
      "source": [
        "### **Decision Tree - RUS**"
      ],
      "metadata": {
        "id": "_dbbZVysoWs8"
      }
    },
    {
      "cell_type": "code",
      "source": [
        "pipeline = Pipeline(\n",
        "            steps = [('under_sampling', RandomUnderSampler()),\n",
        "             ('model', DecisionTreeClassifier())]    \n",
        ")\n",
        "\n",
        "\n",
        "scoring = {'accuracy' : make_scorer(accuracy_score),\n",
        "           'precision' : make_scorer(precision_score),\n",
        "           'recall' : make_scorer(recall_score),\n",
        "           'f1_score' : make_scorer(f1_score),\n",
        "           'roc_auc' : make_scorer(roc_auc_score)}\n",
        "\n",
        "\n",
        "# Evaluate\n",
        "scores = cross_validate(pipeline, \n",
        "                        X,\n",
        "                        y, \n",
        "                        scoring=scoring,\n",
        "                        cv=StratifiedKFold(n_splits=5, shuffle=True, random_state=10),\n",
        "                        n_jobs=-1)\n",
        "\n",
        "print(\"Decision Tree/Random Under Sampling Accuracy: \", (scores['test_accuracy'].mean()))\n",
        "print(\"Decision Tree/Random Under Sampling Precision: \", (scores['test_precision'].mean()))\n",
        "print(\"Decision Tree/Random Under Sampling Recall: \", (scores['test_recall'].mean()))\n",
        "print(\"Decision Tree/Random Under Sampling F1-Score: \", (scores['test_f1_score'].mean()))\n",
        "print(\"Decision Tree/Random Under Sampling ROC-AUC: \", (scores['test_roc_auc'].mean()))"
      ],
      "metadata": {
        "colab": {
          "base_uri": "https://localhost:8080/"
        },
        "id": "g1sFqQyUHgIx",
        "outputId": "fbe87f57-8066-4c13-ccef-01c5fe287e22"
      },
      "execution_count": null,
      "outputs": [
        {
          "output_type": "stream",
          "name": "stdout",
          "text": [
            "Decision Tree/Random Under Sampling Accuracy:  0.8896725616430642\n",
            "Decision Tree/Random Under Sampling Precision:  0.014325634983901261\n",
            "Decision Tree/Random Under Sampling Recall:  0.9147186147186147\n",
            "Decision Tree/Random Under Sampling F1-Score:  0.0282033400061451\n",
            "Decision Tree/Random Under Sampling ROC-AUC:  0.9021740375001723\n"
          ]
        }
      ]
    },
    {
      "cell_type": "markdown",
      "source": [
        "### **Random Forest - RUS**"
      ],
      "metadata": {
        "id": "trjgWQupoa9N"
      }
    },
    {
      "cell_type": "code",
      "source": [
        "pipeline = Pipeline(\n",
        "            steps = [('under_sampling', RandomUnderSampler()),\n",
        "             ('model', RandomForestClassifier())]    \n",
        ")\n",
        "\n",
        "\n",
        "scoring = {'accuracy' : make_scorer(accuracy_score),\n",
        "           'precision' : make_scorer(precision_score),\n",
        "           'recall' : make_scorer(recall_score),\n",
        "           'f1_score' : make_scorer(f1_score),\n",
        "           'roc_auc' : make_scorer(roc_auc_score)}\n",
        "\n",
        "\n",
        "# Evaluate\n",
        "scores = cross_validate(pipeline, \n",
        "                        X,\n",
        "                        y, \n",
        "                        scoring=scoring,\n",
        "                        cv=StratifiedKFold(n_splits=5, shuffle=True, random_state=10),\n",
        "                        n_jobs=-1)\n",
        "\n",
        "print(\"Random Forest Classifier/Random Under Sampling Accuracy: \", (scores['test_accuracy'].mean()))\n",
        "print(\"Random Forest Classifier/Random Under Sampling Precision: \", (scores['test_precision'].mean()))\n",
        "print(\"Random Forest Classifier/Random Under Sampling Recall: \", (scores['test_recall'].mean()))\n",
        "print(\"Random Forest Classifier/Random Under Sampling F1-Score: \", (scores['test_f1_score'].mean()))\n",
        "print(\"Random Forest Classifier/Random Under Sampling ROC-AUC: \", (scores['test_roc_auc'].mean()))"
      ],
      "metadata": {
        "colab": {
          "base_uri": "https://localhost:8080/"
        },
        "id": "xkppaaG8H9LB",
        "outputId": "f58e5752-8af3-43c7-aa7d-38456e10e013"
      },
      "execution_count": null,
      "outputs": [
        {
          "output_type": "stream",
          "name": "stdout",
          "text": [
            "Random Forest Classifier/Random Under Sampling Accuracy:  0.970569506364859\n",
            "Random Forest Classifier/Random Under Sampling Precision:  0.053226348477488285\n",
            "Random Forest Classifier/Random Under Sampling Recall:  0.9126984126984127\n",
            "Random Forest Classifier/Random Under Sampling F1-Score:  0.10031252289759025\n",
            "Random Forest Classifier/Random Under Sampling ROC-AUC:  0.9416841341581506\n"
          ]
        }
      ]
    },
    {
      "cell_type": "markdown",
      "source": [
        "### **Naive Bayes - RUS**"
      ],
      "metadata": {
        "id": "bGvK7wPNoeh7"
      }
    },
    {
      "cell_type": "code",
      "source": [
        "pipeline = Pipeline(\n",
        "            steps = [('under_sampling', RandomUnderSampler()),\n",
        "             ('model', GaussianNB())]    \n",
        ")\n",
        "\n",
        "\n",
        "scoring = {'accuracy' : make_scorer(accuracy_score),\n",
        "           'precision' : make_scorer(precision_score),\n",
        "           'recall' : make_scorer(recall_score),\n",
        "           'f1_score' : make_scorer(f1_score),\n",
        "           'roc_auc' : make_scorer(roc_auc_score)}\n",
        "\n",
        "\n",
        "# Evaluate\n",
        "scores = cross_validate(pipeline, \n",
        "                        X,\n",
        "                        y, \n",
        "                        scoring=scoring,\n",
        "                        cv=StratifiedKFold(n_splits=5, shuffle=True, random_state=10),\n",
        "                        n_jobs=-1)\n",
        "\n",
        "print(\"Gaussian Naive Bayes/Random Under Sampling Accuracy: \", (scores['test_accuracy'].mean()))\n",
        "print(\"Gaussian Naive Bayes/Random Under Sampling Precision: \", (scores['test_precision'].mean()))\n",
        "print(\"Gaussian Naive Bayes/Random Under Sampling Recall: \", (scores['test_recall'].mean()))\n",
        "print(\"Gaussian Naive Bayes/Random Under Sampling F1-Score: \", (scores['test_f1_score'].mean()))\n",
        "print(\"Gaussian Naive Bayes/Random Under Sampling ROC-AUC: \", (scores['test_roc_auc'].mean()))"
      ],
      "metadata": {
        "colab": {
          "base_uri": "https://localhost:8080/"
        },
        "id": "pgMRGMyYLPj4",
        "outputId": "b10df822-d073-432e-8a2a-c9226ae7abfe"
      },
      "execution_count": null,
      "outputs": [
        {
          "output_type": "stream",
          "name": "stdout",
          "text": [
            "Gaussian Naive Bayes/Random Under Sampling Accuracy:  0.9860536955180216\n",
            "Gaussian Naive Bayes/Random Under Sampling Precision:  0.08938871454040605\n",
            "Gaussian Naive Bayes/Random Under Sampling Recall:  0.731684188827046\n",
            "Gaussian Naive Bayes/Random Under Sampling F1-Score:  0.15871574003654373\n",
            "Gaussian Naive Bayes/Random Under Sampling ROC-AUC:  0.8590890212376442\n"
          ]
        }
      ]
    },
    {
      "cell_type": "markdown",
      "source": [
        "### **KNN - RUS**"
      ],
      "metadata": {
        "id": "IKMnnwECoh_D"
      }
    },
    {
      "cell_type": "code",
      "source": [
        "pipeline = Pipeline(\n",
        "            steps = [('under_sampling', RandomUnderSampler()),\n",
        "             ('model', KNeighborsClassifier(n_neighbors=3))]    \n",
        ")\n",
        "\n",
        "\n",
        "scoring = {'accuracy' : make_scorer(accuracy_score),\n",
        "           'precision' : make_scorer(precision_score),\n",
        "           'recall' : make_scorer(recall_score),\n",
        "           'f1_score' : make_scorer(f1_score),\n",
        "           'roc_auc' : make_scorer(roc_auc_score)}\n",
        "\n",
        "\n",
        "# Evaluate\n",
        "scores = cross_validate(pipeline, \n",
        "                        X,\n",
        "                        y, \n",
        "                        scoring=scoring,\n",
        "                        cv=StratifiedKFold(n_splits=5, shuffle=True, random_state=10),\n",
        "                        n_jobs=-1)\n",
        "\n",
        "print(\"K-Neighbors Classifier/Random Under Sampling Accuracy: \", (scores['test_accuracy'].mean()))\n",
        "print(\"K-Neighbors Classifier/Random Under Sampling Precision: \", (scores['test_precision'].mean()))\n",
        "print(\"K-Neighbors Classifier/Random Under Sampling Recall: \", (scores['test_recall'].mean()))\n",
        "print(\"K-Neighbors Classifier/Random Under Sampling F1-Score: \", (scores['test_f1_score'].mean()))\n",
        "print(\"K-Neighbors Classifier/Random Under Sampling ROC-AUC: \", (scores['test_roc_auc'].mean()))"
      ],
      "metadata": {
        "colab": {
          "base_uri": "https://localhost:8080/"
        },
        "id": "klbqS9uXLnVH",
        "outputId": "673924cc-46dc-40eb-c878-70c70da99fbb"
      },
      "execution_count": null,
      "outputs": [
        {
          "output_type": "stream",
          "name": "stderr",
          "text": [
            "/usr/local/lib/python3.7/dist-packages/joblib/externals/loky/process_executor.py:705: UserWarning:\n",
            "\n",
            "A worker stopped while some jobs were given to the executor. This can be caused by a too short worker timeout or by a memory leak.\n",
            "\n"
          ]
        },
        {
          "output_type": "stream",
          "name": "stdout",
          "text": [
            "K-Neighbors Classifier/Random Under Sampling Accuracy:  0.6601979951946694\n",
            "K-Neighbors Classifier/Random Under Sampling Precision:  0.0033192391861294134\n",
            "K-Neighbors Classifier/Random Under Sampling Recall:  0.6525252525252525\n",
            "K-Neighbors Classifier/Random Under Sampling F1-Score:  0.006604828583531194\n",
            "K-Neighbors Classifier/Random Under Sampling ROC-AUC:  0.65636831889228\n"
          ]
        }
      ]
    },
    {
      "cell_type": "markdown",
      "source": [
        "# **NearMiss**"
      ],
      "metadata": {
        "id": "eP-ssZUmDVyk"
      }
    },
    {
      "cell_type": "markdown",
      "source": [
        "### **Logistic Regression - NearMiss**"
      ],
      "metadata": {
        "id": "blGO7ZGEoomg"
      }
    },
    {
      "cell_type": "code",
      "source": [
        "pipeline = Pipeline(\n",
        "            steps = [('under_sampling', NearMiss()),\n",
        "             ('model', LogisticRegression(solver='lbfgs', max_iter=400))]    \n",
        ")\n",
        "\n",
        "\n",
        "scoring = {'accuracy' : make_scorer(accuracy_score),\n",
        "           'precision' : make_scorer(precision_score),\n",
        "           'recall' : make_scorer(recall_score),\n",
        "           'f1_score' : make_scorer(f1_score),\n",
        "           'roc_auc' : make_scorer(roc_auc_score)}\n",
        "\n",
        "\n",
        "# Evaluate\n",
        "scores = cross_validate(pipeline, \n",
        "                        X,\n",
        "                        y, \n",
        "                        scoring=scoring,\n",
        "                        cv=StratifiedKFold(n_splits=5, shuffle=True, random_state=10),\n",
        "                        n_jobs=-1)\n",
        "\n",
        "print(\"Logistic Regression/NearMiss Accuracy: \", (scores['test_accuracy'].mean()))\n",
        "print(\"Logistic Regression/NearMiss Precision: \", (scores['test_precision'].mean()))\n",
        "print(\"Logistic Regression/NearMiss Recall: \", (scores['test_recall'].mean()))\n",
        "print(\"Logistic Regression/NearMiss F1-Score: \", (scores['test_f1_score'].mean()))\n",
        "print(\"Logistic Regression/NearMiss ROC-AUC: \", (scores['test_roc_auc'].mean()))"
      ],
      "metadata": {
        "colab": {
          "base_uri": "https://localhost:8080/"
        },
        "id": "NnYGvHcKN0aJ",
        "outputId": "892967d2-f8de-488d-e735-0007a583ffc8"
      },
      "execution_count": null,
      "outputs": [
        {
          "output_type": "stream",
          "name": "stderr",
          "text": [
            "/usr/local/lib/python3.7/dist-packages/joblib/externals/loky/process_executor.py:705: UserWarning:\n",
            "\n",
            "A worker stopped while some jobs were given to the executor. This can be caused by a too short worker timeout or by a memory leak.\n",
            "\n"
          ]
        },
        {
          "output_type": "stream",
          "name": "stdout",
          "text": [
            "Logistic Regression/NearMiss Accuracy:  0.8015253139866333\n",
            "Logistic Regression/NearMiss Precision:  0.008490901291204878\n",
            "Logistic Regression/NearMiss Recall:  0.9330653473510615\n",
            "Logistic Regression/NearMiss F1-Score:  0.01682189906294252\n",
            "Logistic Regression/NearMiss ROC-AUC:  0.8671816018010254\n"
          ]
        }
      ]
    },
    {
      "cell_type": "markdown",
      "source": [
        "### **Decision Tree - NearMiss**"
      ],
      "metadata": {
        "id": "5S02HpOnortq"
      }
    },
    {
      "cell_type": "code",
      "source": [
        "pipeline = Pipeline(\n",
        "            steps = [('under_sampling', NearMiss()),\n",
        "             ('model', DecisionTreeClassifier())]    \n",
        ")\n",
        "\n",
        "\n",
        "scoring = {'accuracy' : make_scorer(accuracy_score),\n",
        "           'precision' : make_scorer(precision_score),\n",
        "           'recall' : make_scorer(recall_score),\n",
        "           'f1_score' : make_scorer(f1_score),\n",
        "           'roc_auc' : make_scorer(roc_auc_score)}\n",
        "\n",
        "\n",
        "# Evaluate\n",
        "scores = cross_validate(pipeline, \n",
        "                        X,\n",
        "                        y, \n",
        "                        scoring=scoring,\n",
        "                        cv=StratifiedKFold(n_splits=5, shuffle=True, random_state=10),\n",
        "                        n_jobs=-1)\n",
        "\n",
        "print(\"Decision Tree/NearMiss Accuracy: \", (scores['test_accuracy'].mean()))\n",
        "print(\"Decision Tree/NearMiss Precision: \", (scores['test_precision'].mean()))\n",
        "print(\"Decision Tree/NearMiss Recall: \", (scores['test_recall'].mean()))\n",
        "print(\"Decision Tree/NearMiss F1-Score: \", (scores['test_f1_score'].mean()))\n",
        "print(\"Decision Tree/NearMiss ROC-AUC: \", (scores['test_roc_auc'].mean()))"
      ],
      "metadata": {
        "colab": {
          "base_uri": "https://localhost:8080/"
        },
        "id": "KSxTzTgiOX4c",
        "outputId": "40bf6a1f-3fbf-4e31-be1d-5cc1ec7b0c3d"
      },
      "execution_count": null,
      "outputs": [
        {
          "output_type": "stream",
          "name": "stdout",
          "text": [
            "Decision Tree/NearMiss Accuracy:  0.5282316527191366\n",
            "Decision Tree/NearMiss Precision:  0.00384099129178687\n",
            "Decision Tree/NearMiss Recall:  0.9452277880849309\n",
            "Decision Tree/NearMiss F1-Score:  0.0076475958053241755\n",
            "Decision Tree/NearMiss ROC-AUC:  0.7363688841063031\n"
          ]
        }
      ]
    },
    {
      "cell_type": "markdown",
      "source": [
        "### **Random Forest - NearMiss**"
      ],
      "metadata": {
        "id": "kr0OQKMuovz8"
      }
    },
    {
      "cell_type": "code",
      "source": [
        "pipeline = Pipeline(\n",
        "            steps = [('under_sampling', NearMiss()),\n",
        "             ('model', RandomForestClassifier())]    \n",
        ")\n",
        "\n",
        "\n",
        "scoring = {'accuracy' : make_scorer(accuracy_score),\n",
        "           'precision' : make_scorer(precision_score),\n",
        "           'recall' : make_scorer(recall_score),\n",
        "           'f1_score' : make_scorer(f1_score),\n",
        "           'roc_auc' : make_scorer(roc_auc_score)}\n",
        "\n",
        "\n",
        "# Evaluate\n",
        "scores = cross_validate(pipeline, \n",
        "                        X,\n",
        "                        y, \n",
        "                        scoring=scoring,\n",
        "                        cv=StratifiedKFold(n_splits=5, shuffle=True, random_state=10),\n",
        "                        n_jobs=-1)\n",
        "\n",
        "print(\"Random Forest Classifier/Near Miss Accuracy: \", (scores['test_accuracy'].mean()))\n",
        "print(\"Random Forest Classifier/Near Miss Precision: \", (scores['test_precision'].mean()))\n",
        "print(\"Random Forest Classifier/Near Miss Recall: \", (scores['test_recall'].mean()))\n",
        "print(\"Random Forest Classifier/Near Miss F1-Score: \", (scores['test_f1_score'].mean()))\n",
        "print(\"Random Forest Classifier/Near Miss ROC-AUC: \", (scores['test_roc_auc'].mean()))"
      ],
      "metadata": {
        "colab": {
          "base_uri": "https://localhost:8080/"
        },
        "id": "VDh_r2MnPMHH",
        "outputId": "af56d884-a0a9-4142-d53c-d63af10e3521"
      },
      "execution_count": null,
      "outputs": [
        {
          "output_type": "stream",
          "name": "stdout",
          "text": [
            "Random Forest Classifier/Near Miss Accuracy:  0.7993690435417612\n",
            "Random Forest Classifier/Near Miss Precision:  0.009001262480324724\n",
            "Random Forest Classifier/Near Miss Recall:  0.9290043290043289\n",
            "Random Forest Classifier/Near Miss F1-Score:  0.017815290214947127\n",
            "Random Forest Classifier/Near Miss ROC-AUC:  0.8640748215902534\n"
          ]
        }
      ]
    },
    {
      "cell_type": "markdown",
      "source": [
        "### **Naive Bayes - NearMiss**"
      ],
      "metadata": {
        "id": "bETcsILfoyk0"
      }
    },
    {
      "cell_type": "code",
      "source": [
        "pipeline = Pipeline(\n",
        "            steps = [('under_sampling', NearMiss()),\n",
        "             ('model', GaussianNB())]    \n",
        ")\n",
        "\n",
        "\n",
        "scoring = {'accuracy' : make_scorer(accuracy_score),\n",
        "           'precision' : make_scorer(precision_score),\n",
        "           'recall' : make_scorer(recall_score),\n",
        "           'f1_score' : make_scorer(f1_score),\n",
        "           'roc_auc' : make_scorer(roc_auc_score)}\n",
        "\n",
        "\n",
        "# Evaluate\n",
        "scores = cross_validate(pipeline, \n",
        "                        X,\n",
        "                        y, \n",
        "                        scoring=scoring,\n",
        "                        cv=StratifiedKFold(n_splits=5, shuffle=True, random_state=10),\n",
        "                        n_jobs=-1)\n",
        "\n",
        "print(\"Gaussian Naive Bayes/NearMiss Accuracy: \", (scores['test_accuracy'].mean()))\n",
        "print(\"Gaussian Naive Bayes/NearMiss Precision: \", (scores['test_precision'].mean()))\n",
        "print(\"Gaussian Naive Bayes/NearMiss Recall: \", (scores['test_recall'].mean()))\n",
        "print(\"Gaussian Naive Bayes/NearMiss F1-Score: \", (scores['test_f1_score'].mean()))\n",
        "print(\"Gaussian Naive Bayes/NearMiss ROC-AUC: \", (scores['test_roc_auc'].mean()))"
      ],
      "metadata": {
        "colab": {
          "base_uri": "https://localhost:8080/"
        },
        "id": "o3wYY60SPq_K",
        "outputId": "b1c1b984-d0c9-44f4-ba6c-3a710389d4dd"
      },
      "execution_count": null,
      "outputs": [
        {
          "output_type": "stream",
          "name": "stdout",
          "text": [
            "Gaussian Naive Bayes/NearMiss Accuracy:  0.7914343534846822\n",
            "Gaussian Naive Bayes/NearMiss Precision:  0.006756210559652996\n",
            "Gaussian Naive Bayes/NearMiss Recall:  0.7865800865800866\n",
            "Gaussian Naive Bayes/NearMiss F1-Score:  0.01339239580666653\n",
            "Gaussian Naive Bayes/NearMiss ROC-AUC:  0.7890113383325138\n"
          ]
        }
      ]
    },
    {
      "cell_type": "markdown",
      "source": [
        "### **KNN - NearMiss**"
      ],
      "metadata": {
        "id": "uP7ZP2WXo2Hx"
      }
    },
    {
      "cell_type": "code",
      "source": [
        "pipeline = Pipeline(\n",
        "            steps = [('under_sampling', NearMiss()),\n",
        "             ('model', KNeighborsClassifier(n_neighbors=3))]    \n",
        ")\n",
        "\n",
        "\n",
        "scoring = {'accuracy' : make_scorer(accuracy_score),\n",
        "           'precision' : make_scorer(precision_score),\n",
        "           'recall' : make_scorer(recall_score),\n",
        "           'f1_score' : make_scorer(f1_score),\n",
        "           'roc_auc' : make_scorer(roc_auc_score)}\n",
        "\n",
        "\n",
        "# Evaluate\n",
        "scores = cross_validate(pipeline, \n",
        "                        X,\n",
        "                        y, \n",
        "                        scoring=scoring,\n",
        "                        cv=StratifiedKFold(n_splits=5, shuffle=True, random_state=10),\n",
        "                        n_jobs=-1)\n",
        "\n",
        "print(\"KNN/NearMiss Accuracy: \", (scores['test_accuracy'].mean()))\n",
        "print(\"KNN/NearMiss Precision: \", (scores['test_precision'].mean()))\n",
        "print(\"KNN/NearMiss Recall: \", (scores['test_recall'].mean()))\n",
        "print(\"KNN/NearMiss F1-Score: \", (scores['test_f1_score'].mean()))\n",
        "print(\"KNN/NearMiss ROC-AUC: \", (scores['test_roc_auc'].mean()))"
      ],
      "metadata": {
        "colab": {
          "base_uri": "https://localhost:8080/"
        },
        "id": "f_LclYlnP6JM",
        "outputId": "7ddc2d2b-49ab-4acf-94ac-6c10864e762c"
      },
      "execution_count": null,
      "outputs": [
        {
          "output_type": "stream",
          "name": "stdout",
          "text": [
            "KNN/NearMiss Accuracy:  0.049345702110258974\n",
            "KNN/NearMiss Precision:  0.00170710887869134\n",
            "KNN/NearMiss Recall:  0.940981240981241\n",
            "KNN/NearMiss F1-Score:  0.003408034268031962\n",
            "KNN/NearMiss ROC-AUC:  0.49439192713993546\n"
          ]
        }
      ]
    },
    {
      "cell_type": "markdown",
      "source": [
        "# **NearMiss2**"
      ],
      "metadata": {
        "id": "ZMUzNKxtpSdP"
      }
    },
    {
      "cell_type": "markdown",
      "source": [
        "### **Logistic Regression - NearMiss 2**"
      ],
      "metadata": {
        "id": "fW6TNPh-pUz7"
      }
    },
    {
      "cell_type": "code",
      "source": [
        "from sklearn.metrics import SCORERS\n",
        "print(SCORERS.keys())"
      ],
      "metadata": {
        "id": "YU3xgmc4YNnq"
      },
      "execution_count": null,
      "outputs": []
    },
    {
      "cell_type": "code",
      "source": [
        "# Redefining Evaluation Metrics\n",
        "\n",
        "pipeline = Pipeline(\n",
        "    steps = [('under_sampling', NearMiss(version=2)),\n",
        "             ('model', LogisticRegression(solver='lbfgs', max_iter=400))]\n",
        ")\n",
        "\n",
        "scoring = {'accuracy' : make_scorer(accuracy_score),\n",
        "           'precision' : make_scorer(precision_score),\n",
        "           'recall' : make_scorer(recall_score),\n",
        "           'f1_score' : make_scorer(f1_score),\n",
        "           'roc_auc' : make_scorer(roc_auc_score)}\n",
        "\n",
        "\n",
        "# Evaluate\n",
        "scores = cross_validate(pipeline, \n",
        "                        X,\n",
        "                        y, \n",
        "                        scoring=scoring,\n",
        "                        cv=StratifiedKFold(n_splits=5, shuffle=True, random_state=10),\n",
        "                        n_jobs=-1)\n",
        "\n",
        "print(\"Logistic Regression/NM2 Accuracy: \", (scores['test_accuracy'].mean()))\n",
        "print(\"Logistic Regression/NM2 Precision: \", (scores['test_precision'].mean()))\n",
        "print(\"Logistic Regression/NM2 Recall: \", (scores['test_recall'].mean()))\n",
        "print(\"Logistic Regression/NM2 F1-Score: \", (scores['test_f1_score'].mean()))\n",
        "print(\"Logistic Regression/NM2 ROC-AUC: \", (scores['test_roc_auc'].mean()))"
      ],
      "metadata": {
        "colab": {
          "base_uri": "https://localhost:8080/"
        },
        "id": "PFsDmMysX0D5",
        "outputId": "e7bf237e-86ee-4ad2-d93f-87dacd7d530e"
      },
      "execution_count": null,
      "outputs": [
        {
          "output_type": "stream",
          "name": "stderr",
          "text": [
            "/usr/local/lib/python3.7/dist-packages/joblib/externals/loky/process_executor.py:705: UserWarning:\n",
            "\n",
            "A worker stopped while some jobs were given to the executor. This can be caused by a too short worker timeout or by a memory leak.\n",
            "\n"
          ]
        },
        {
          "output_type": "stream",
          "name": "stdout",
          "text": [
            "Logistic Regression/NM2 Accuracy:  0.892407669348293\n",
            "Logistic Regression/NM2 Precision:  0.015993305972724223\n",
            "Logistic Regression/NM2 Recall:  0.9269428983714698\n",
            "Logistic Regression/NM2 F1-Score:  0.031402315613726306\n",
            "Logistic Regression/NM2 ROC-AUC:  0.9096455870258067\n"
          ]
        }
      ]
    },
    {
      "cell_type": "markdown",
      "source": [
        "### **Decision Tree - NearMiss 2**"
      ],
      "metadata": {
        "id": "CWdcw7LVpvBn"
      }
    },
    {
      "cell_type": "code",
      "source": [
        "pipeline = Pipeline(\n",
        "    steps = [('under_sampling', NearMiss(version=2)),\n",
        "             ('model', DecisionTreeClassifier())]\n",
        ")\n",
        "\n",
        "scoring = {'accuracy' : make_scorer(accuracy_score),\n",
        "           'precision' : make_scorer(precision_score),\n",
        "           'recall' : make_scorer(recall_score),\n",
        "           'f1_score' : make_scorer(f1_score),\n",
        "           'roc_auc' : make_scorer(roc_auc_score)}\n",
        "\n",
        "\n",
        "# Evaluate\n",
        "scores = cross_validate(pipeline, \n",
        "                        X,\n",
        "                        y, \n",
        "                        scoring=scoring,\n",
        "                        cv=StratifiedKFold(n_splits=5, shuffle=True, random_state=10),\n",
        "                        n_jobs=-1)\n",
        "\n",
        "print(\"Decision Tree/NM2 Accuracy: \", (scores['test_accuracy'].mean()))\n",
        "print(\"Decision Tree/NM2 Precision: \", (scores['test_precision'].mean()))\n",
        "print(\"Decision Tree/NM2 Recall: \", (scores['test_recall'].mean()))\n",
        "print(\"Decision Tree/NM2 F1-Score: \", (scores['test_f1_score'].mean()))\n",
        "print(\"Decision Tree/NM2 ROC-AUC: \", (scores['test_roc_auc'].mean()))"
      ],
      "metadata": {
        "colab": {
          "base_uri": "https://localhost:8080/"
        },
        "id": "osddQTQneI5Y",
        "outputId": "5ea6a29a-0deb-4dfd-92b6-9c5be8213b12"
      },
      "execution_count": null,
      "outputs": [
        {
          "output_type": "stream",
          "name": "stderr",
          "text": [
            "/usr/local/lib/python3.7/dist-packages/joblib/externals/loky/process_executor.py:705: UserWarning:\n",
            "\n",
            "A worker stopped while some jobs were given to the executor. This can be caused by a too short worker timeout or by a memory leak.\n",
            "\n"
          ]
        },
        {
          "output_type": "stream",
          "name": "stdout",
          "text": [
            "Decision Tree/NM2 Accuracy:  0.032102309899207246\n",
            "Decision Tree/NM2 Precision:  0.0017602350324161836\n",
            "Decision Tree/NM2 Recall:  0.9878581735724593\n",
            "Decision Tree/NM2 F1-Score:  0.0035142054050406996\n",
            "Decision Tree/NM2 ROC-AUC:  0.5091533978496628\n"
          ]
        }
      ]
    },
    {
      "cell_type": "markdown",
      "source": [
        "### **Random Forest - NearMiss 2**"
      ],
      "metadata": {
        "id": "i5gB4EgCqcr_"
      }
    },
    {
      "cell_type": "code",
      "source": [
        "pipeline = Pipeline(\n",
        "    steps = [('under_sampling', NearMiss(version=2)),\n",
        "             ('model', RandomForestClassifier())]\n",
        ")\n",
        "\n",
        "scoring = {'accuracy' : make_scorer(accuracy_score),\n",
        "           'precision' : make_scorer(precision_score),\n",
        "           'recall' : make_scorer(recall_score),\n",
        "           'f1_score' : make_scorer(f1_score),\n",
        "           'roc_auc' : make_scorer(roc_auc_score)}\n",
        "\n",
        "# cv = KFold(n_splits=5, shuffle=True, random_state=10)\n",
        "\n",
        "# Evaluate\n",
        "scores = cross_validate(pipeline, \n",
        "                        X,\n",
        "                        y, \n",
        "                        scoring=scoring,\n",
        "                        cv=StratifiedKFold(n_splits=5, shuffle=True, random_state=10),\n",
        "                        n_jobs=-1)\n",
        "\n",
        "print(\"Random Forest/NM2 Accuracy: \", (scores['test_accuracy'].mean()))\n",
        "print(\"Random Forest/NM2 Precision: \", (scores['test_precision'].mean()))\n",
        "print(\"Random Forest/NM2 Recall: \", (scores['test_recall'].mean()))\n",
        "print(\"Random Forest/NM2 F1-Score: \", (scores['test_f1_score'].mean()))\n",
        "print(\"Random Forest/NM2 ROC-AUC: \", (scores['test_roc_auc'].mean()))"
      ],
      "metadata": {
        "colab": {
          "base_uri": "https://localhost:8080/"
        },
        "id": "FcM1CtgVemOn",
        "outputId": "3323000a-4240-4338-9f3c-897cd83f6541"
      },
      "execution_count": null,
      "outputs": [
        {
          "output_type": "stream",
          "name": "stderr",
          "text": [
            "/usr/local/lib/python3.7/dist-packages/joblib/externals/loky/process_executor.py:705: UserWarning:\n",
            "\n",
            "A worker stopped while some jobs were given to the executor. This can be caused by a too short worker timeout or by a memory leak.\n",
            "\n"
          ]
        },
        {
          "output_type": "stream",
          "name": "stdout",
          "text": [
            "Random Forest/NM2 Accuracy:  0.2736587019022631\n",
            "Random Forest/NM2 Precision:  0.0023875312340637268\n",
            "Random Forest/NM2 Recall:  0.9918985776128633\n",
            "Random Forest/NM2 F1-Score:  0.004763442583401606\n",
            "Random Forest/NM2 ROC-AUC:  0.6321573678736635\n"
          ]
        }
      ]
    },
    {
      "cell_type": "markdown",
      "source": [
        "### **Naive Bayes - NearMiss 2**"
      ],
      "metadata": {
        "id": "lHBlmaATrFpm"
      }
    },
    {
      "cell_type": "code",
      "source": [
        "pipeline = Pipeline(\n",
        "    steps = [('under_sampling', NearMiss(version=2)),\n",
        "             ('model', GaussianNB())]\n",
        ")\n",
        "\n",
        "scoring = {'accuracy' : make_scorer(accuracy_score),\n",
        "           'precision' : make_scorer(precision_score),\n",
        "           'recall' : make_scorer(recall_score),\n",
        "           'f1_score' : make_scorer(f1_score),\n",
        "           'roc_auc' : make_scorer(roc_auc_score)}\n",
        "\n",
        "# Evaluate\n",
        "scores = cross_validate(pipeline, \n",
        "                        X,\n",
        "                        y, \n",
        "                        scoring=scoring,\n",
        "                        cv=StratifiedKFold(n_splits=5, shuffle=True, random_state=10),\n",
        "                        n_jobs=-1)\n",
        "\n",
        "print(\"Gaussian Naive Bayes/NM2 Accuracy: \", (scores['test_accuracy'].mean()))\n",
        "print(\"Gaussian Naive Bayes/NM2 Precision: \", (scores['test_precision'].mean()))\n",
        "print(\"Gaussian Naive Bayes/NM2 Recall: \", (scores['test_recall'].mean()))\n",
        "print(\"Gaussian Naive Bayes/NM2 F1-Score: \", (scores['test_f1_score'].mean()))\n",
        "print(\"Gaussian Naive Bayes/NM2 ROC-AUC: \", (scores['test_roc_auc'].mean()))"
      ],
      "metadata": {
        "colab": {
          "base_uri": "https://localhost:8080/"
        },
        "id": "eD7IbxFGrGDi",
        "outputId": "7353bee1-4859-4240-c535-dcaab4b3d86b"
      },
      "execution_count": null,
      "outputs": [
        {
          "output_type": "stream",
          "name": "stdout",
          "text": [
            "Gaussian Naive Bayes/NM2 Accuracy:  0.010319267334927305\n",
            "Gaussian Naive Bayes/NM2 Precision:  0.0017389306445472087\n",
            "Gaussian Naive Bayes/NM2 Recall:  0.997979797979798\n",
            "Gaussian Naive Bayes/NM2 F1-Score:  0.0034718116596706623\n",
            "Gaussian Naive Bayes/NM2 ROC-AUC:  0.5032949831395217\n"
          ]
        }
      ]
    },
    {
      "cell_type": "markdown",
      "source": [
        "### **KNN - NearMiss 2**"
      ],
      "metadata": {
        "id": "lo0MC0N4ruLL"
      }
    },
    {
      "cell_type": "code",
      "source": [
        "pipeline = Pipeline(\n",
        "    steps = [('under_sampling', NearMiss(version=2)),\n",
        "             ('model', KNeighborsClassifier(n_neighbors=3))]\n",
        ")\n",
        "\n",
        "scoring = {'accuracy' : make_scorer(accuracy_score),\n",
        "           'precision' : make_scorer(precision_score),\n",
        "           'recall' : make_scorer(recall_score),\n",
        "           'f1_score' : make_scorer(f1_score),\n",
        "           'roc_auc' : make_scorer(roc_auc_score)}\n",
        "\n",
        "# cv = KFold(n_splits=5, shuffle=True, random_state=10)\n",
        "\n",
        "# Evaluate\n",
        "scores = cross_validate(pipeline, \n",
        "                        X,\n",
        "                        y, \n",
        "                        scoring=scoring,\n",
        "                        cv=StratifiedKFold(n_splits=5, shuffle=True, random_state=10),\n",
        "                        n_jobs=-1)\n",
        "\n",
        "print(\"KNN/NM2 Accuracy: \", (scores['test_accuracy'].mean()))\n",
        "print(\"KNN/NM2 Precision: \", (scores['test_precision'].mean()))\n",
        "print(\"KNN/NM2 Recall: \", (scores['test_recall'].mean()))\n",
        "print(\"KNN/NM2 F1-Score: \", (scores['test_f1_score'].mean()))\n",
        "print(\"KNN/NM2 ROC-AUC: \", (scores['test_roc_auc'].mean()))"
      ],
      "metadata": {
        "colab": {
          "base_uri": "https://localhost:8080/"
        },
        "id": "AZtQ0oShj9ZL",
        "outputId": "0c386e94-de5b-4b4c-ee0d-480a92b1355e"
      },
      "execution_count": null,
      "outputs": [
        {
          "output_type": "stream",
          "name": "stdout",
          "text": [
            "KNN/NM2 Accuracy:  0.007956273404979152\n",
            "KNN/NM2 Precision:  0.0017207119520247353\n",
            "KNN/NM2 Recall:  0.9898783755926612\n",
            "KNN/NM2 F1-Score:  0.003435451922597607\n",
            "KNN/NM2 ROC-AUC:  0.4980677599785933\n"
          ]
        }
      ]
    },
    {
      "cell_type": "markdown",
      "source": [
        "# **NearMiss 3**"
      ],
      "metadata": {
        "id": "pvLqw1_bsqjG"
      }
    },
    {
      "cell_type": "markdown",
      "source": [
        "### **Logistic Regression - NearMiss 3**"
      ],
      "metadata": {
        "id": "fHeDYVQ0stkP"
      }
    },
    {
      "cell_type": "code",
      "source": [
        "pipeline = Pipeline(\n",
        "    steps = [('under_sampling', NearMiss(version=3)),\n",
        "             ('model', LogisticRegression(solver='lbfgs', max_iter=400))]\n",
        ")\n",
        "\n",
        "scoring = {'accuracy' : make_scorer(accuracy_score),\n",
        "           'precision' : make_scorer(precision_score),\n",
        "           'recall' : make_scorer(recall_score),\n",
        "           'f1_score' : make_scorer(f1_score),\n",
        "           'roc_auc' : make_scorer(roc_auc_score)}\n",
        "\n",
        "\n",
        "# Evaluate\n",
        "scores = cross_validate(pipeline, \n",
        "                        X,\n",
        "                        y, \n",
        "                        scoring=scoring,\n",
        "                        cv=StratifiedKFold(n_splits=5, shuffle=True, random_state=10),\n",
        "                        n_jobs=-1)\n",
        "\n",
        "print(\"Logistic Regression/Near Miss 3 Accuracy: \", (scores['test_accuracy'].mean()))\n",
        "print(\"Logistic Regression/Near Miss 3 Precision: \", (scores['test_precision'].mean()))\n",
        "print(\"Logistic Regression/Near Miss 3 Recall: \", (scores['test_recall'].mean()))\n",
        "print(\"Logistic Regression/Near Miss 3 F1-Score: \", (scores['test_f1_score'].mean()))\n",
        "print(\"Logistic Regression/Near Miss 3 ROC-AUC: \", (scores['test_roc_auc'].mean()))"
      ],
      "metadata": {
        "colab": {
          "base_uri": "https://localhost:8080/"
        },
        "id": "ic_mfCtas1c0",
        "outputId": "8a54d2db-affa-41d1-a004-f7a56eb036cd"
      },
      "execution_count": null,
      "outputs": [
        {
          "output_type": "stream",
          "name": "stdout",
          "text": [
            "Logistic Regression/Near Miss 3 Accuracy:  0.9666791746010425\n",
            "Logistic Regression/Near Miss 3 Precision:  0.045742099064868064\n",
            "Logistic Regression/Near Miss 3 Recall:  0.8883529169243456\n",
            "Logistic Regression/Near Miss 3 F1-Score:  0.08687270045791283\n",
            "Logistic Regression/Near Miss 3 ROC-AUC:  0.9275839466355016\n"
          ]
        }
      ]
    },
    {
      "cell_type": "markdown",
      "source": [
        "### **Decision Tree - NearMiss 3**"
      ],
      "metadata": {
        "id": "ghXlSUCpuZbu"
      }
    },
    {
      "cell_type": "code",
      "source": [
        "pipeline = Pipeline(\n",
        "    steps = [('under_sampling', NearMiss(version=3)),\n",
        "             ('model', DecisionTreeClassifier())]\n",
        ")\n",
        "\n",
        "scoring = {'accuracy' : make_scorer(accuracy_score),\n",
        "           'precision' : make_scorer(precision_score),\n",
        "           'recall' : make_scorer(recall_score),\n",
        "           'f1_score' : make_scorer(f1_score),\n",
        "           'roc_auc' : make_scorer(roc_auc_score)}\n",
        "\n",
        "# cv = KFold(n_splits=5, shuffle=True, random_state=10)\n",
        "\n",
        "# Evaluate\n",
        "scores = cross_validate(pipeline, \n",
        "                        X,\n",
        "                        y, \n",
        "                        scoring=scoring,\n",
        "                        cv=StratifiedKFold(n_splits=5, shuffle=True, random_state=10),\n",
        "                        n_jobs=-1)\n",
        "\n",
        "print(\"Decision Tree/Near Miss 3 Accuracy: \", (scores['test_accuracy'].mean()))\n",
        "print(\"Decision Tree/Near Miss 3 Precision: \", (scores['test_precision'].mean()))\n",
        "print(\"Decision Tree/Near Miss 3 Recall: \", (scores['test_recall'].mean()))\n",
        "print(\"Decision Tree/Near Miss 3 F1-Score: \", (scores['test_f1_score'].mean()))\n",
        "print(\"Decision Tree/Near Miss 3 ROC-AUC: \", (scores['test_roc_auc'].mean()))"
      ],
      "metadata": {
        "colab": {
          "base_uri": "https://localhost:8080/"
        },
        "id": "nXHJ0Iw7ucx-",
        "outputId": "0c82ea0c-be21-4f25-f877-65cd1c5ed28e"
      },
      "execution_count": null,
      "outputs": [
        {
          "output_type": "stream",
          "name": "stdout",
          "text": [
            "Decision Tree/Near Miss 3 Accuracy:  0.8932223913573665\n",
            "Decision Tree/Near Miss 3 Precision:  0.014832499301644986\n",
            "Decision Tree/Near Miss 3 Recall:  0.9229437229437231\n",
            "Decision Tree/Near Miss 3 F1-Score:  0.029191731669116906\n",
            "Decision Tree/Near Miss 3 ROC-AUC:  0.9080575147085884\n"
          ]
        }
      ]
    },
    {
      "cell_type": "markdown",
      "source": [
        "### **Random Forest - NearMiss 3**"
      ],
      "metadata": {
        "id": "6pX5QTYfujTv"
      }
    },
    {
      "cell_type": "code",
      "source": [
        "pipeline = Pipeline(\n",
        "    steps = [('under_sampling', NearMiss(version=3)),\n",
        "             ('model', RandomForestClassifier())]\n",
        ")\n",
        "\n",
        "scoring = {'accuracy' : make_scorer(accuracy_score),\n",
        "           'precision' : make_scorer(precision_score),\n",
        "           'recall' : make_scorer(recall_score),\n",
        "           'f1_score' : make_scorer(f1_score),\n",
        "           'roc_auc' : make_scorer(roc_auc_score)}\n",
        "\n",
        "# cv = KFold(n_splits=5, shuffle=True, random_state=10)\n",
        "\n",
        "# Evaluate\n",
        "scores = cross_validate(pipeline, \n",
        "                        X,\n",
        "                        y, \n",
        "                        scoring=scoring,\n",
        "                        cv=StratifiedKFold(n_splits=5, shuffle=True, random_state=10),\n",
        "                        n_jobs=-1)\n",
        "\n",
        "print(\"Random Forest/Near Miss 3 Accuracy: \", (scores['test_accuracy'].mean()))\n",
        "print(\"Random Forest/Near Miss 3 Precision: \", (scores['test_precision'].mean()))\n",
        "print(\"Random Forest/Near Miss 3 Recall: \", (scores['test_recall'].mean()))\n",
        "print(\"Random Forest/Near Miss 3 F1-Score: \", (scores['test_f1_score'].mean()))\n",
        "print(\"Random Forest/Near Miss 3 ROC-AUC: \", (scores['test_roc_auc'].mean()))"
      ],
      "metadata": {
        "colab": {
          "base_uri": "https://localhost:8080/"
        },
        "id": "IRjyNDjlumO2",
        "outputId": "d72bfbcb-06fc-4499-a6f5-64c75258783a"
      },
      "execution_count": null,
      "outputs": [
        {
          "output_type": "stream",
          "name": "stdout",
          "text": [
            "Random Forest/Near Miss 3 Accuracy:  0.9717141447525257\n",
            "Random Forest/Near Miss 3 Precision:  0.05429376369257408\n",
            "Random Forest/Near Miss 3 Recall:  0.9046382189239333\n",
            "Random Forest/Near Miss 3 F1-Score:  0.10221539191407485\n",
            "Random Forest/Near Miss 3 ROC-AUC:  0.938234379496963\n"
          ]
        }
      ]
    },
    {
      "cell_type": "markdown",
      "source": [
        "### **Naive Bayes - NearMiss 3**"
      ],
      "metadata": {
        "id": "3xUPXCf-uuce"
      }
    },
    {
      "cell_type": "code",
      "source": [
        "pipeline = Pipeline(\n",
        "    steps = [('under_sampling', NearMiss(version=3)),\n",
        "             ('model', GaussianNB())]\n",
        ")\n",
        "\n",
        "scoring = {'accuracy' : make_scorer(accuracy_score),\n",
        "           'precision' : make_scorer(precision_score),\n",
        "           'recall' : make_scorer(recall_score),\n",
        "           'f1_score' : make_scorer(f1_score),\n",
        "           'roc_auc' : make_scorer(roc_auc_score)}\n",
        "\n",
        "# Evaluate\n",
        "scores = cross_validate(pipeline, \n",
        "                        X,\n",
        "                        y, \n",
        "                        scoring=scoring,\n",
        "                        cv=StratifiedKFold(n_splits=5, shuffle=True, random_state=10),\n",
        "                        n_jobs=-1)\n",
        "\n",
        "print(\"Gaussian Naive Bayes/Near Miss 3 Accuracy: \", (scores['test_accuracy'].mean()))\n",
        "print(\"Gaussian Naive Bayes/Near Miss 3 Precision: \", (scores['test_precision'].mean()))\n",
        "print(\"Gaussian Naive Bayes/Near Miss 3 Recall: \", (scores['test_recall'].mean()))\n",
        "print(\"Gaussian Naive Bayes/Near Miss 3 F1-Score: \", (scores['test_f1_score'].mean()))\n",
        "print(\"Gaussian Naive Bayes/Near Miss 3 ROC-AUC: \", (scores['test_roc_auc'].mean()))"
      ],
      "metadata": {
        "colab": {
          "base_uri": "https://localhost:8080/"
        },
        "id": "oDCQZXNiu4rD",
        "outputId": "0c31eae2-a9d3-4e99-e469-180e40ae5e12"
      },
      "execution_count": null,
      "outputs": [
        {
          "output_type": "stream",
          "name": "stdout",
          "text": [
            "Gaussian Naive Bayes/Near Miss 3 Accuracy:  0.9921350253253449\n",
            "Gaussian Naive Bayes/Near Miss 3 Precision:  0.14287621974595682\n",
            "Gaussian Naive Bayes/Near Miss 3 Recall:  0.7072974644403216\n",
            "Gaussian Naive Bayes/Near Miss 3 F1-Score:  0.23760296454698437\n",
            "Gaussian Naive Bayes/Near Miss 3 ROC-AUC:  0.849962679778327\n"
          ]
        }
      ]
    },
    {
      "cell_type": "markdown",
      "source": [
        "### **KNN - NearMiss 3**"
      ],
      "metadata": {
        "id": "HvF_DnG8vIBR"
      }
    },
    {
      "cell_type": "code",
      "source": [
        "pipeline = Pipeline(\n",
        "    steps = [('under_sampling', NearMiss(version=3)),\n",
        "             ('model', KNeighborsClassifier(n_neighbors=3))]\n",
        ")\n",
        "\n",
        "scoring = {'accuracy' : make_scorer(accuracy_score),\n",
        "           'precision' : make_scorer(precision_score),\n",
        "           'recall' : make_scorer(recall_score),\n",
        "           'f1_score' : make_scorer(f1_score),\n",
        "           'roc_auc' : make_scorer(roc_auc_score)}\n",
        "\n",
        "\n",
        "# Evaluate\n",
        "scores = cross_validate(pipeline, \n",
        "                        X,\n",
        "                        y, \n",
        "                        scoring=scoring,\n",
        "                        cv=StratifiedKFold(n_splits=5, shuffle=True, random_state=10),\n",
        "                        n_jobs=-1)\n",
        "\n",
        "print(\"KNN/Near Miss 3 Accuracy: \", (scores['test_accuracy'].mean()))\n",
        "print(\"KNN/Near Miss 3 Precision: \", (scores['test_precision'].mean()))\n",
        "print(\"KNN/Near Miss 3 Recall: \", (scores['test_recall'].mean()))\n",
        "print(\"KNN/Near Miss 3 F1-Score: \", (scores['test_f1_score'].mean()))\n",
        "print(\"KNN/Near Miss 3 ROC-AUC: \", (scores['test_roc_auc'].mean()))"
      ],
      "metadata": {
        "colab": {
          "base_uri": "https://localhost:8080/"
        },
        "id": "bHgiQb65vbfe",
        "outputId": "81599625-067e-4ccf-e5a6-c1ad850bd50a"
      },
      "execution_count": null,
      "outputs": [
        {
          "output_type": "stream",
          "name": "stdout",
          "text": [
            "KNN/Near Miss 3 Accuracy:  0.6313256835335074\n",
            "KNN/Near Miss 3 Precision:  0.002611141231932362\n",
            "KNN/Near Miss 3 Recall:  0.5570603999175427\n",
            "KNN/Near Miss 3 F1-Score:  0.005197847308080894\n",
            "KNN/Near Miss 3 ROC-AUC:  0.5942574742847831\n"
          ]
        }
      ]
    },
    {
      "cell_type": "markdown",
      "source": [
        "# **Cluster Centroids**"
      ],
      "metadata": {
        "id": "AS8xOhhRu0dS"
      }
    },
    {
      "cell_type": "markdown",
      "source": [
        "### **Logistic Regression - Cluster Centroids**"
      ],
      "metadata": {
        "id": "uVrtrgHLERij"
      }
    },
    {
      "cell_type": "code",
      "source": [
        "from sklearn.metrics import SCORERS\n",
        "print(SCORERS.keys())"
      ],
      "metadata": {
        "colab": {
          "base_uri": "https://localhost:8080/"
        },
        "id": "3U1EDgxlP2BO",
        "outputId": "c2928e1a-0da9-4c87-85c1-857d4e0ea685"
      },
      "execution_count": null,
      "outputs": [
        {
          "output_type": "stream",
          "name": "stdout",
          "text": [
            "dict_keys(['explained_variance', 'r2', 'max_error', 'neg_median_absolute_error', 'neg_mean_absolute_error', 'neg_mean_absolute_percentage_error', 'neg_mean_squared_error', 'neg_mean_squared_log_error', 'neg_root_mean_squared_error', 'neg_mean_poisson_deviance', 'neg_mean_gamma_deviance', 'accuracy', 'top_k_accuracy', 'roc_auc', 'roc_auc_ovr', 'roc_auc_ovo', 'roc_auc_ovr_weighted', 'roc_auc_ovo_weighted', 'balanced_accuracy', 'average_precision', 'neg_log_loss', 'neg_brier_score', 'adjusted_rand_score', 'rand_score', 'homogeneity_score', 'completeness_score', 'v_measure_score', 'mutual_info_score', 'adjusted_mutual_info_score', 'normalized_mutual_info_score', 'fowlkes_mallows_score', 'precision', 'precision_macro', 'precision_micro', 'precision_samples', 'precision_weighted', 'recall', 'recall_macro', 'recall_micro', 'recall_samples', 'recall_weighted', 'f1', 'f1_macro', 'f1_micro', 'f1_samples', 'f1_weighted', 'jaccard', 'jaccard_macro', 'jaccard_micro', 'jaccard_samples', 'jaccard_weighted'])\n"
          ]
        }
      ]
    },
    {
      "cell_type": "code",
      "source": [
        "pipeline = Pipeline(\n",
        "            steps = [('under_sampling', ClusterCentroids()),\n",
        "             ('model', LogisticRegression(solver='lbfgs', max_iter=400))]    \n",
        ")\n",
        "\n",
        "\n",
        "scoring = {'accuracy' : make_scorer(accuracy_score),\n",
        "           'precision' : make_scorer(precision_score),\n",
        "           'recall' : make_scorer(recall_score),\n",
        "           'f1_score' : make_scorer(f1_score),\n",
        "           'roc_auc' : make_scorer(roc_auc_score)}\n",
        "\n",
        "\n",
        "# Evaluate\n",
        "scores = cross_validate(pipeline, \n",
        "                        X,\n",
        "                        y, \n",
        "                        scoring=scoring,\n",
        "                        cv=StratifiedKFold(n_splits=5, shuffle=True, random_state=10),\n",
        "                        n_jobs=-1)\n",
        "\n",
        "print(\"Logistic Regression/ClusterCentroids Accuracy: \", (scores['test_accuracy'].mean()))\n",
        "print(\"Logistic Regression/ClusterCentroids Precision: \", (scores['test_precision'].mean()))\n",
        "print(\"Logistic Regression/ClusterCentroids Recall: \", (scores['test_recall'].mean()))\n",
        "print(\"Logistic Regression/ClusterCentroids F1-Score: \", (scores['test_f1_score'].mean()))\n",
        "print(\"Logistic Regression/ClusterCentroids ROC-AUC: \", (scores['test_roc_auc'].mean()))"
      ],
      "metadata": {
        "colab": {
          "base_uri": "https://localhost:8080/"
        },
        "id": "Ikd-rpndEQd2",
        "outputId": "41aca88d-a85c-40c2-b16a-64e495ccb912"
      },
      "execution_count": null,
      "outputs": [
        {
          "output_type": "stream",
          "name": "stdout",
          "text": [
            "Logistic Regression/ClusterCentroids Accuracy:  0.8701504952171358\n",
            "Logistic Regression/ClusterCentroids Precision:  0.013017041171509102\n",
            "Logistic Regression/ClusterCentroids Recall:  0.9290455576169862\n",
            "Logistic Regression/ClusterCentroids F1-Score:  0.02565659249224662\n",
            "Logistic Regression/ClusterCentroids ROC-AUC:  0.89954731145714\n"
          ]
        }
      ]
    },
    {
      "cell_type": "markdown",
      "source": [
        "### **Decision Tree - Cluster Centroids**"
      ],
      "metadata": {
        "id": "cq2lGyqRHKUi"
      }
    },
    {
      "cell_type": "code",
      "source": [
        "pipeline = Pipeline(\n",
        "            steps = [('under_sampling', ClusterCentroids()),\n",
        "             ('model', DecisionTreeClassifier())]    \n",
        ")\n",
        "\n",
        "\n",
        "scoring = {'accuracy' : make_scorer(accuracy_score),\n",
        "           'precision' : make_scorer(precision_score),\n",
        "           'recall' : make_scorer(recall_score),\n",
        "           'f1_score' : make_scorer(f1_score),\n",
        "           'roc_auc' : make_scorer(roc_auc_score)}\n",
        "\n",
        "\n",
        "# Evaluate\n",
        "scores = cross_validate(pipeline, \n",
        "                        X,\n",
        "                        y, \n",
        "                        scoring=scoring,\n",
        "                        cv=StratifiedKFold(n_splits=5, shuffle=True, random_state=10),\n",
        "                        n_jobs=-1)\n",
        "\n",
        "print(\"Decision Tree/ClusterCentroids Accuracy: \", (scores['test_accuracy'].mean()))\n",
        "print(\"Decision Tree/ClusterCentroids Precision: \", (scores['test_precision'].mean()))\n",
        "print(\"Decision Tree/ClusterCentroids Recall: \", (scores['test_recall'].mean()))\n",
        "print(\"Decision Tree/ClusterCentroids F1-Score: \", (scores['test_f1_score'].mean()))\n",
        "print(\"Decision Tree/ClusterCentroids ROC-AUC: \", (scores['test_roc_auc'].mean()))"
      ],
      "metadata": {
        "colab": {
          "base_uri": "https://localhost:8080/"
        },
        "id": "GOAMggS7olUa",
        "outputId": "2d52d7b9-79ff-4b1a-cb76-5621f9f29980"
      },
      "execution_count": null,
      "outputs": [
        {
          "output_type": "stream",
          "name": "stdout",
          "text": [
            "Decision Tree/ClusterCentroids Accuracy:  0.23414744164816415\n",
            "Decision Tree/ClusterCentroids Precision:  0.002302988510956004\n",
            "Decision Tree/ClusterCentroids Recall:  0.9918985776128633\n",
            "Decision Tree/ClusterCentroids F1-Score:  0.004594862161010738\n",
            "Decision Tree/ClusterCentroids ROC-AUC:  0.6123676979652872\n"
          ]
        }
      ]
    },
    {
      "cell_type": "markdown",
      "source": [
        "### **Random Forest - Cluster Centroids**"
      ],
      "metadata": {
        "id": "rmV9wEDSHOuS"
      }
    },
    {
      "cell_type": "code",
      "source": [
        "pipeline = Pipeline(\n",
        "            steps = [('under_sampling', ClusterCentroids()),\n",
        "             ('model', RandomForestClassifier())]    \n",
        ")\n",
        "\n",
        "\n",
        "scoring = {'accuracy' : make_scorer(accuracy_score),\n",
        "           'precision' : make_scorer(precision_score),\n",
        "           'recall' : make_scorer(recall_score),\n",
        "           'f1_score' : make_scorer(f1_score),\n",
        "           'roc_auc' : make_scorer(roc_auc_score)}\n",
        "\n",
        "\n",
        "# Evaluate\n",
        "scores = cross_validate(pipeline, \n",
        "                        X,\n",
        "                        y, \n",
        "                        scoring=scoring,\n",
        "                        cv=StratifiedKFold(n_splits=5, shuffle=True, random_state=10),\n",
        "                        n_jobs=-1)\n",
        "\n",
        "print(\"Random Forest/ClusterCentroids Accuracy: \", (scores['test_accuracy'].mean()))\n",
        "print(\"Random Forest/ClusterCentroids Precision: \", (scores['test_precision'].mean()))\n",
        "print(\"Random Forest/ClusterCentroids Recall: \", (scores['test_recall'].mean()))\n",
        "print(\"Random Forest/ClusterCentroids F1-Score: \", (scores['test_f1_score'].mean()))\n",
        "print(\"Random Forest/ClusterCentroids ROC-AUC: \", (scores['test_roc_auc'].mean()))"
      ],
      "metadata": {
        "colab": {
          "base_uri": "https://localhost:8080/"
        },
        "id": "JGO1A6g-r-Zd",
        "outputId": "3dc1f551-a7d7-4f28-f112-edeb70b6a077"
      },
      "execution_count": null,
      "outputs": [
        {
          "output_type": "stream",
          "name": "stdout",
          "text": [
            "Random Forest/ClusterCentroids Accuracy:  0.06428548603481579\n",
            "Random Forest/ClusterCentroids Precision:  0.0018398627177420557\n",
            "Random Forest/ClusterCentroids Recall:  0.997979797979798\n",
            "Random Forest/ClusterCentroids F1-Score:  0.0036729498972782825\n",
            "Random Forest/ClusterCentroids ROC-AUC:  0.5303248619710995\n"
          ]
        }
      ]
    },
    {
      "cell_type": "markdown",
      "source": [
        "### **Naive Bayes - Cluster Centroids**"
      ],
      "metadata": {
        "id": "AAH8Q6-GHYkn"
      }
    },
    {
      "cell_type": "code",
      "source": [
        "pipeline = Pipeline(\n",
        "            steps = [('under_sampling', ClusterCentroids()),\n",
        "             ('model', GaussianNB())]    \n",
        ")\n",
        "\n",
        "\n",
        "scoring = {'accuracy' : make_scorer(accuracy_score),\n",
        "           'precision' : make_scorer(precision_score),\n",
        "           'recall' : make_scorer(recall_score),\n",
        "           'f1_score' : make_scorer(f1_score),\n",
        "           'roc_auc' : make_scorer(roc_auc_score)}\n",
        "\n",
        "\n",
        "# Evaluate\n",
        "scores = cross_validate(pipeline, \n",
        "                        X,\n",
        "                        y, \n",
        "                        scoring=scoring,\n",
        "                        cv=StratifiedKFold(n_splits=5, shuffle=True, random_state=10),\n",
        "                        n_jobs=-1)\n",
        "\n",
        "print(\"Gaussian Naive Bayes/ClusterCentroids Accuracy: \", (scores['test_accuracy'].mean()))\n",
        "print(\"Gaussian Naive Bayes/ClusterCentroids Precision: \", (scores['test_precision'].mean()))\n",
        "print(\"Gaussian Naive Bayes/ClusterCentroids Recall: \", (scores['test_recall'].mean()))\n",
        "print(\"Gaussian Naive Bayes/ClusterCentroids F1-Score: \", (scores['test_f1_score'].mean()))\n",
        "print(\"Gaussian Naive Bayes/ClusterCentroids ROC-AUC: \", (scores['test_roc_auc'].mean()))"
      ],
      "metadata": {
        "colab": {
          "base_uri": "https://localhost:8080/"
        },
        "id": "f8rZHaWxsFPr",
        "outputId": "4b3e5424-170c-4e45-fc04-ee2d3473f4ea"
      },
      "execution_count": null,
      "outputs": [
        {
          "output_type": "stream",
          "name": "stdout",
          "text": [
            "Gaussian Naive Bayes/ClusterCentroids Accuracy:  0.9950773719547072\n",
            "Gaussian Naive Bayes/ClusterCentroids Precision:  0.2342053385014357\n",
            "Gaussian Naive Bayes/ClusterCentroids Recall:  0.8030715316429602\n",
            "Gaussian Naive Bayes/ClusterCentroids F1-Score:  0.3623995975263664\n",
            "Gaussian Naive Bayes/ClusterCentroids ROC-AUC:  0.899240776109365\n"
          ]
        }
      ]
    },
    {
      "cell_type": "markdown",
      "source": [
        "### **KNN - Cluster Centroids**"
      ],
      "metadata": {
        "id": "MXmXOO4SEMmS"
      }
    },
    {
      "cell_type": "code",
      "source": [
        "pipeline = Pipeline(\n",
        "            steps = [('under_sampling', ClusterCentroids()),\n",
        "             ('model', KNeighborsClassifier(n_neighbors=3))]    \n",
        ")\n",
        "\n",
        "\n",
        "scoring = {'accuracy' : make_scorer(accuracy_score),\n",
        "           'precision' : make_scorer(precision_score),\n",
        "           'recall' : make_scorer(recall_score),\n",
        "           'f1_score' : make_scorer(f1_score),\n",
        "           'roc_auc' : make_scorer(roc_auc_score)}\n",
        "\n",
        "\n",
        "# Evaluate\n",
        "scores = cross_validate(pipeline, \n",
        "                        X,\n",
        "                        y, \n",
        "                        scoring=scoring,\n",
        "                        cv=StratifiedKFold(n_splits=5, shuffle=True, random_state=10),\n",
        "                        n_jobs=-1)\n",
        "\n",
        "print(\"KNN/ClusterCentroids Accuracy: \", (scores['test_accuracy'].mean()))\n",
        "print(\"KNN/ClusterCentroids Precision: \", (scores['test_precision'].mean()))\n",
        "print(\"KNN/ClusterCentroids Recall: \", (scores['test_recall'].mean()))\n",
        "print(\"KNN/ClusterCentroids F1-Score: \", (scores['test_f1_score'].mean()))\n",
        "print(\"KNN/ClusterCentroids ROC-AUC: \", (scores['test_roc_auc'].mean()))"
      ],
      "metadata": {
        "colab": {
          "base_uri": "https://localhost:8080/"
        },
        "id": "yhq9SDGHBdDu",
        "outputId": "e24f60b4-726d-45ba-cf9b-f8e7e82645d5"
      },
      "execution_count": null,
      "outputs": [
        {
          "output_type": "stream",
          "name": "stdout",
          "text": [
            "KNN/ClusterCentroids Accuracy:  0.6377792708620912\n",
            "KNN/ClusterCentroids Precision:  0.0030882113053413976\n",
            "KNN/ClusterCentroids Recall:  0.6484642341785198\n",
            "KNN/ClusterCentroids F1-Score:  0.006147130097003003\n",
            "KNN/ClusterCentroids ROC-AUC:  0.6431125841768213\n"
          ]
        }
      ]
    },
    {
      "cell_type": "markdown",
      "source": [
        "## **TomekLinks**"
      ],
      "metadata": {
        "id": "Ty_rqSYVGnCM"
      }
    },
    {
      "cell_type": "markdown",
      "source": [
        "### **Logistic Regression - TomekLinks**"
      ],
      "metadata": {
        "id": "TgWs0V-Prd9H"
      }
    },
    {
      "cell_type": "code",
      "source": [
        "pipeline = Pipeline(\n",
        "            steps = [('under_sampling', TomekLinks()),\n",
        "             ('model', LogisticRegression(solver='lbfgs', max_iter=400))]    \n",
        ")\n",
        "\n",
        "\n",
        "scoring = {'accuracy' : make_scorer(accuracy_score),\n",
        "           'precision' : make_scorer(precision_score),\n",
        "           'recall' : make_scorer(recall_score),\n",
        "           'f1_score' : make_scorer(f1_score),\n",
        "           'roc_auc' : make_scorer(roc_auc_score)}\n",
        "\n",
        "\n",
        "# Evaluate\n",
        "scores = cross_validate(pipeline, \n",
        "                        X,\n",
        "                        y, \n",
        "                        scoring=scoring,\n",
        "                        cv=StratifiedKFold(n_splits=5, shuffle=True, random_state=10),\n",
        "                        n_jobs=-1)\n",
        "\n",
        "print(\"Logistic Regression/TomekLinks Accuracy: \", (scores['test_accuracy'].mean()))\n",
        "print(\"Logistic Regression/TomekLinks Precision: \", (scores['test_precision'].mean()))\n",
        "print(\"Logistic Regression/TomekLinks Recall: \", (scores['test_recall'].mean()))\n",
        "print(\"Logistic Regression/TomekLinks F1-Score: \", (scores['test_f1_score'].mean()))\n",
        "print(\"Logistic Regression/TomekLinks ROC-AUC: \", (scores['test_roc_auc'].mean()))"
      ],
      "metadata": {
        "colab": {
          "base_uri": "https://localhost:8080/",
          "height": 381
        },
        "id": "UV4rvgC8b6lF",
        "outputId": "d2f1dbd4-332b-46e6-882a-15d9c8eb7fa1"
      },
      "execution_count": null,
      "outputs": [
        {
          "output_type": "error",
          "ename": "KeyboardInterrupt",
          "evalue": "ignored",
          "traceback": [
            "\u001b[0;31m---------------------------------------------------------------------------\u001b[0m",
            "\u001b[0;31mKeyboardInterrupt\u001b[0m                         Traceback (most recent call last)",
            "\u001b[0;32m<ipython-input-12-5295d36875b5>\u001b[0m in \u001b[0;36m<module>\u001b[0;34m\u001b[0m\n\u001b[1;32m     18\u001b[0m                         \u001b[0mscoring\u001b[0m\u001b[0;34m=\u001b[0m\u001b[0mscoring\u001b[0m\u001b[0;34m,\u001b[0m\u001b[0;34m\u001b[0m\u001b[0;34m\u001b[0m\u001b[0m\n\u001b[1;32m     19\u001b[0m                         \u001b[0mcv\u001b[0m\u001b[0;34m=\u001b[0m\u001b[0mStratifiedKFold\u001b[0m\u001b[0;34m(\u001b[0m\u001b[0mn_splits\u001b[0m\u001b[0;34m=\u001b[0m\u001b[0;36m5\u001b[0m\u001b[0;34m,\u001b[0m \u001b[0mshuffle\u001b[0m\u001b[0;34m=\u001b[0m\u001b[0;32mTrue\u001b[0m\u001b[0;34m,\u001b[0m \u001b[0mrandom_state\u001b[0m\u001b[0;34m=\u001b[0m\u001b[0;36m10\u001b[0m\u001b[0;34m)\u001b[0m\u001b[0;34m,\u001b[0m\u001b[0;34m\u001b[0m\u001b[0;34m\u001b[0m\u001b[0m\n\u001b[0;32m---> 20\u001b[0;31m                         n_jobs=-1)\n\u001b[0m\u001b[1;32m     21\u001b[0m \u001b[0;34m\u001b[0m\u001b[0m\n\u001b[1;32m     22\u001b[0m \u001b[0mprint\u001b[0m\u001b[0;34m(\u001b[0m\u001b[0;34m\"Logistic Regression/TomekLinks Accuracy: \"\u001b[0m\u001b[0;34m,\u001b[0m \u001b[0;34m(\u001b[0m\u001b[0mscores\u001b[0m\u001b[0;34m[\u001b[0m\u001b[0;34m'test_accuracy'\u001b[0m\u001b[0;34m]\u001b[0m\u001b[0;34m.\u001b[0m\u001b[0mmean\u001b[0m\u001b[0;34m(\u001b[0m\u001b[0;34m)\u001b[0m\u001b[0;34m)\u001b[0m\u001b[0;34m)\u001b[0m\u001b[0;34m\u001b[0m\u001b[0;34m\u001b[0m\u001b[0m\n",
            "\u001b[0;32m/usr/local/lib/python3.7/dist-packages/sklearn/model_selection/_validation.py\u001b[0m in \u001b[0;36mcross_validate\u001b[0;34m(estimator, X, y, groups, scoring, cv, n_jobs, verbose, fit_params, pre_dispatch, return_train_score, return_estimator, error_score)\u001b[0m\n\u001b[1;32m    281\u001b[0m             \u001b[0merror_score\u001b[0m\u001b[0;34m=\u001b[0m\u001b[0merror_score\u001b[0m\u001b[0;34m,\u001b[0m\u001b[0;34m\u001b[0m\u001b[0;34m\u001b[0m\u001b[0m\n\u001b[1;32m    282\u001b[0m         )\n\u001b[0;32m--> 283\u001b[0;31m         \u001b[0;32mfor\u001b[0m \u001b[0mtrain\u001b[0m\u001b[0;34m,\u001b[0m \u001b[0mtest\u001b[0m \u001b[0;32min\u001b[0m \u001b[0mcv\u001b[0m\u001b[0;34m.\u001b[0m\u001b[0msplit\u001b[0m\u001b[0;34m(\u001b[0m\u001b[0mX\u001b[0m\u001b[0;34m,\u001b[0m \u001b[0my\u001b[0m\u001b[0;34m,\u001b[0m \u001b[0mgroups\u001b[0m\u001b[0;34m)\u001b[0m\u001b[0;34m\u001b[0m\u001b[0;34m\u001b[0m\u001b[0m\n\u001b[0m\u001b[1;32m    284\u001b[0m     )\n\u001b[1;32m    285\u001b[0m \u001b[0;34m\u001b[0m\u001b[0m\n",
            "\u001b[0;32m/usr/local/lib/python3.7/dist-packages/joblib/parallel.py\u001b[0m in \u001b[0;36m__call__\u001b[0;34m(self, iterable)\u001b[0m\n\u001b[1;32m   1054\u001b[0m \u001b[0;34m\u001b[0m\u001b[0m\n\u001b[1;32m   1055\u001b[0m             \u001b[0;32mwith\u001b[0m \u001b[0mself\u001b[0m\u001b[0;34m.\u001b[0m\u001b[0m_backend\u001b[0m\u001b[0;34m.\u001b[0m\u001b[0mretrieval_context\u001b[0m\u001b[0;34m(\u001b[0m\u001b[0;34m)\u001b[0m\u001b[0;34m:\u001b[0m\u001b[0;34m\u001b[0m\u001b[0;34m\u001b[0m\u001b[0m\n\u001b[0;32m-> 1056\u001b[0;31m                 \u001b[0mself\u001b[0m\u001b[0;34m.\u001b[0m\u001b[0mretrieve\u001b[0m\u001b[0;34m(\u001b[0m\u001b[0;34m)\u001b[0m\u001b[0;34m\u001b[0m\u001b[0;34m\u001b[0m\u001b[0m\n\u001b[0m\u001b[1;32m   1057\u001b[0m             \u001b[0;31m# Make sure that we get a last message telling us we are done\u001b[0m\u001b[0;34m\u001b[0m\u001b[0;34m\u001b[0m\u001b[0;34m\u001b[0m\u001b[0m\n\u001b[1;32m   1058\u001b[0m             \u001b[0melapsed_time\u001b[0m \u001b[0;34m=\u001b[0m \u001b[0mtime\u001b[0m\u001b[0;34m.\u001b[0m\u001b[0mtime\u001b[0m\u001b[0;34m(\u001b[0m\u001b[0;34m)\u001b[0m \u001b[0;34m-\u001b[0m \u001b[0mself\u001b[0m\u001b[0;34m.\u001b[0m\u001b[0m_start_time\u001b[0m\u001b[0;34m\u001b[0m\u001b[0;34m\u001b[0m\u001b[0m\n",
            "\u001b[0;32m/usr/local/lib/python3.7/dist-packages/joblib/parallel.py\u001b[0m in \u001b[0;36mretrieve\u001b[0;34m(self)\u001b[0m\n\u001b[1;32m    933\u001b[0m             \u001b[0;32mtry\u001b[0m\u001b[0;34m:\u001b[0m\u001b[0;34m\u001b[0m\u001b[0;34m\u001b[0m\u001b[0m\n\u001b[1;32m    934\u001b[0m                 \u001b[0;32mif\u001b[0m \u001b[0mgetattr\u001b[0m\u001b[0;34m(\u001b[0m\u001b[0mself\u001b[0m\u001b[0;34m.\u001b[0m\u001b[0m_backend\u001b[0m\u001b[0;34m,\u001b[0m \u001b[0;34m'supports_timeout'\u001b[0m\u001b[0;34m,\u001b[0m \u001b[0;32mFalse\u001b[0m\u001b[0;34m)\u001b[0m\u001b[0;34m:\u001b[0m\u001b[0;34m\u001b[0m\u001b[0;34m\u001b[0m\u001b[0m\n\u001b[0;32m--> 935\u001b[0;31m                     \u001b[0mself\u001b[0m\u001b[0;34m.\u001b[0m\u001b[0m_output\u001b[0m\u001b[0;34m.\u001b[0m\u001b[0mextend\u001b[0m\u001b[0;34m(\u001b[0m\u001b[0mjob\u001b[0m\u001b[0;34m.\u001b[0m\u001b[0mget\u001b[0m\u001b[0;34m(\u001b[0m\u001b[0mtimeout\u001b[0m\u001b[0;34m=\u001b[0m\u001b[0mself\u001b[0m\u001b[0;34m.\u001b[0m\u001b[0mtimeout\u001b[0m\u001b[0;34m)\u001b[0m\u001b[0;34m)\u001b[0m\u001b[0;34m\u001b[0m\u001b[0;34m\u001b[0m\u001b[0m\n\u001b[0m\u001b[1;32m    936\u001b[0m                 \u001b[0;32melse\u001b[0m\u001b[0;34m:\u001b[0m\u001b[0;34m\u001b[0m\u001b[0;34m\u001b[0m\u001b[0m\n\u001b[1;32m    937\u001b[0m                     \u001b[0mself\u001b[0m\u001b[0;34m.\u001b[0m\u001b[0m_output\u001b[0m\u001b[0;34m.\u001b[0m\u001b[0mextend\u001b[0m\u001b[0;34m(\u001b[0m\u001b[0mjob\u001b[0m\u001b[0;34m.\u001b[0m\u001b[0mget\u001b[0m\u001b[0;34m(\u001b[0m\u001b[0;34m)\u001b[0m\u001b[0;34m)\u001b[0m\u001b[0;34m\u001b[0m\u001b[0;34m\u001b[0m\u001b[0m\n",
            "\u001b[0;32m/usr/local/lib/python3.7/dist-packages/joblib/_parallel_backends.py\u001b[0m in \u001b[0;36mwrap_future_result\u001b[0;34m(future, timeout)\u001b[0m\n\u001b[1;32m    540\u001b[0m         AsyncResults.get from multiprocessing.\"\"\"\n\u001b[1;32m    541\u001b[0m         \u001b[0;32mtry\u001b[0m\u001b[0;34m:\u001b[0m\u001b[0;34m\u001b[0m\u001b[0;34m\u001b[0m\u001b[0m\n\u001b[0;32m--> 542\u001b[0;31m             \u001b[0;32mreturn\u001b[0m \u001b[0mfuture\u001b[0m\u001b[0;34m.\u001b[0m\u001b[0mresult\u001b[0m\u001b[0;34m(\u001b[0m\u001b[0mtimeout\u001b[0m\u001b[0;34m=\u001b[0m\u001b[0mtimeout\u001b[0m\u001b[0;34m)\u001b[0m\u001b[0;34m\u001b[0m\u001b[0;34m\u001b[0m\u001b[0m\n\u001b[0m\u001b[1;32m    543\u001b[0m         \u001b[0;32mexcept\u001b[0m \u001b[0mCfTimeoutError\u001b[0m \u001b[0;32mas\u001b[0m \u001b[0me\u001b[0m\u001b[0;34m:\u001b[0m\u001b[0;34m\u001b[0m\u001b[0;34m\u001b[0m\u001b[0m\n\u001b[1;32m    544\u001b[0m             \u001b[0;32mraise\u001b[0m \u001b[0mTimeoutError\u001b[0m \u001b[0;32mfrom\u001b[0m \u001b[0me\u001b[0m\u001b[0;34m\u001b[0m\u001b[0;34m\u001b[0m\u001b[0m\n",
            "\u001b[0;32m/usr/lib/python3.7/concurrent/futures/_base.py\u001b[0m in \u001b[0;36mresult\u001b[0;34m(self, timeout)\u001b[0m\n\u001b[1;32m    428\u001b[0m                 \u001b[0;32mreturn\u001b[0m \u001b[0mself\u001b[0m\u001b[0;34m.\u001b[0m\u001b[0m__get_result\u001b[0m\u001b[0;34m(\u001b[0m\u001b[0;34m)\u001b[0m\u001b[0;34m\u001b[0m\u001b[0;34m\u001b[0m\u001b[0m\n\u001b[1;32m    429\u001b[0m \u001b[0;34m\u001b[0m\u001b[0m\n\u001b[0;32m--> 430\u001b[0;31m             \u001b[0mself\u001b[0m\u001b[0;34m.\u001b[0m\u001b[0m_condition\u001b[0m\u001b[0;34m.\u001b[0m\u001b[0mwait\u001b[0m\u001b[0;34m(\u001b[0m\u001b[0mtimeout\u001b[0m\u001b[0;34m)\u001b[0m\u001b[0;34m\u001b[0m\u001b[0;34m\u001b[0m\u001b[0m\n\u001b[0m\u001b[1;32m    431\u001b[0m \u001b[0;34m\u001b[0m\u001b[0m\n\u001b[1;32m    432\u001b[0m             \u001b[0;32mif\u001b[0m \u001b[0mself\u001b[0m\u001b[0;34m.\u001b[0m\u001b[0m_state\u001b[0m \u001b[0;32min\u001b[0m \u001b[0;34m[\u001b[0m\u001b[0mCANCELLED\u001b[0m\u001b[0;34m,\u001b[0m \u001b[0mCANCELLED_AND_NOTIFIED\u001b[0m\u001b[0;34m]\u001b[0m\u001b[0;34m:\u001b[0m\u001b[0;34m\u001b[0m\u001b[0;34m\u001b[0m\u001b[0m\n",
            "\u001b[0;32m/usr/lib/python3.7/threading.py\u001b[0m in \u001b[0;36mwait\u001b[0;34m(self, timeout)\u001b[0m\n\u001b[1;32m    294\u001b[0m         \u001b[0;32mtry\u001b[0m\u001b[0;34m:\u001b[0m    \u001b[0;31m# restore state no matter what (e.g., KeyboardInterrupt)\u001b[0m\u001b[0;34m\u001b[0m\u001b[0;34m\u001b[0m\u001b[0m\n\u001b[1;32m    295\u001b[0m             \u001b[0;32mif\u001b[0m \u001b[0mtimeout\u001b[0m \u001b[0;32mis\u001b[0m \u001b[0;32mNone\u001b[0m\u001b[0;34m:\u001b[0m\u001b[0;34m\u001b[0m\u001b[0;34m\u001b[0m\u001b[0m\n\u001b[0;32m--> 296\u001b[0;31m                 \u001b[0mwaiter\u001b[0m\u001b[0;34m.\u001b[0m\u001b[0macquire\u001b[0m\u001b[0;34m(\u001b[0m\u001b[0;34m)\u001b[0m\u001b[0;34m\u001b[0m\u001b[0;34m\u001b[0m\u001b[0m\n\u001b[0m\u001b[1;32m    297\u001b[0m                 \u001b[0mgotit\u001b[0m \u001b[0;34m=\u001b[0m \u001b[0;32mTrue\u001b[0m\u001b[0;34m\u001b[0m\u001b[0;34m\u001b[0m\u001b[0m\n\u001b[1;32m    298\u001b[0m             \u001b[0;32melse\u001b[0m\u001b[0;34m:\u001b[0m\u001b[0;34m\u001b[0m\u001b[0;34m\u001b[0m\u001b[0m\n",
            "\u001b[0;31mKeyboardInterrupt\u001b[0m: "
          ]
        }
      ]
    },
    {
      "cell_type": "markdown",
      "source": [
        "### **Decision Tree - TomekLinks**"
      ],
      "metadata": {
        "id": "r4B5ho9AriTQ"
      }
    },
    {
      "cell_type": "code",
      "source": [
        "pipeline = Pipeline(\n",
        "            steps = [('under_sampling', TomekLinks()),\n",
        "             ('model', DecisionTreeClassifier())]    \n",
        ")\n",
        "\n",
        "\n",
        "scoring = {'accuracy' : make_scorer(accuracy_score),\n",
        "           'precision' : make_scorer(precision_score),\n",
        "           'recall' : make_scorer(recall_score),\n",
        "           'f1_score' : make_scorer(f1_score),\n",
        "           'roc_auc' : make_scorer(roc_auc_score)}\n",
        "\n",
        "\n",
        "# Evaluate\n",
        "scores = cross_validate(pipeline, \n",
        "                        X,\n",
        "                        y, \n",
        "                        scoring=scoring,\n",
        "                        cv=StratifiedKFold(n_splits=5, shuffle=True, random_state=10),\n",
        "                        n_jobs=-1)\n",
        "\n",
        "print(\"Decision Tree/TomekLinks Accuracy: \", (scores['test_accuracy'].mean()))\n",
        "print(\"Decision Tree/TomekLinks Precision: \", (scores['test_precision'].mean()))\n",
        "print(\"Decision Tree/TomekLinks Recall: \", (scores['test_recall'].mean()))\n",
        "print(\"Decision Tree/TomekLinks F1-Score: \", (scores['test_f1_score'].mean()))\n",
        "print(\"Decision Tree/TomekLinks ROC-AUC: \", (scores['test_roc_auc'].mean()))"
      ],
      "metadata": {
        "id": "kRxazKU5rpa9"
      },
      "execution_count": null,
      "outputs": []
    },
    {
      "cell_type": "markdown",
      "source": [
        "### **Random Forest - TomekLinks()**"
      ],
      "metadata": {
        "id": "CzDldquS81t4"
      }
    },
    {
      "cell_type": "code",
      "source": [
        "pipeline = Pipeline(\n",
        "            steps = [('under_sampling', TomekLinks()),\n",
        "             ('model', RandomForestClassifier())]    \n",
        ")\n",
        "\n",
        "\n",
        "scoring = {'accuracy' : make_scorer(accuracy_score),\n",
        "           'precision' : make_scorer(precision_score),\n",
        "           'recall' : make_scorer(recall_score),\n",
        "           'f1_score' : make_scorer(f1_score),\n",
        "           'roc_auc' : make_scorer(roc_auc_score)}\n",
        "\n",
        "\n",
        "# Evaluate\n",
        "scores = cross_validate(pipeline, \n",
        "                        X,\n",
        "                        y, \n",
        "                        scoring=scoring,\n",
        "                        cv=StratifiedKFold(n_splits=5, shuffle=True, random_state=10),\n",
        "                        n_jobs=-1)\n",
        "\n",
        "print(\"Random Forest/TomekLinks Accuracy: \", (scores['test_accuracy'].mean()))\n",
        "print(\"Random Forest/TomekLinks Precision: \", (scores['test_precision'].mean()))\n",
        "print(\"Random Forest/TomekLinks Recall: \", (scores['test_recall'].mean()))\n",
        "print(\"Random Forest/TomekLinks F1-Score: \", (scores['test_f1_score'].mean()))\n",
        "print(\"Random Forest/TomekLinks ROC-AUC: \", (scores['test_roc_auc'].mean()))"
      ],
      "metadata": {
        "id": "32FtB2BL8018"
      },
      "execution_count": null,
      "outputs": []
    },
    {
      "cell_type": "markdown",
      "source": [
        "### **Gaussian NB - TomekLinks()**"
      ],
      "metadata": {
        "id": "xGtpjo1wQZlf"
      }
    },
    {
      "cell_type": "code",
      "source": [
        "pipeline = Pipeline(\n",
        "            steps = [('under_sampling', TomekLinks()),\n",
        "             ('model', GaussianNB())]    \n",
        ")\n",
        "\n",
        "\n",
        "scoring = {'accuracy' : make_scorer(accuracy_score),\n",
        "           'precision' : make_scorer(precision_score),\n",
        "           'recall' : make_scorer(recall_score),\n",
        "           'f1_score' : make_scorer(f1_score),\n",
        "           'roc_auc' : make_scorer(roc_auc_score)}\n",
        "\n",
        "\n",
        "# Evaluate\n",
        "scores = cross_validate(pipeline, \n",
        "                        X,\n",
        "                        y, \n",
        "                        scoring=scoring,\n",
        "                        cv=StratifiedKFold(n_splits=5, shuffle=True, random_state=10),\n",
        "                        n_jobs=-1)\n",
        "\n",
        "print(\"Gaussian Naive Bayes/TomekLinks Accuracy: \", (scores['test_accuracy'].mean()))\n",
        "print(\"Gaussian Naive Bayes/TomekLinks Precision: \", (scores['test_precision'].mean()))\n",
        "print(\"Gaussian Naive Bayes/TomekLinks Recall: \", (scores['test_recall'].mean()))\n",
        "print(\"Gaussian Naive Bayes/TomekLinks F1-Score: \", (scores['test_f1_score'].mean()))\n",
        "print(\"Gaussian Naive Bayes/TomekLinks ROC-AUC: \", (scores['test_roc_auc'].mean()))"
      ],
      "metadata": {
        "id": "cgEE7Zx2Qi_N"
      },
      "execution_count": null,
      "outputs": []
    },
    {
      "cell_type": "markdown",
      "source": [
        "### **KNN - TomekLinks**"
      ],
      "metadata": {
        "id": "ZiB2OalrgaEb"
      }
    },
    {
      "cell_type": "code",
      "source": [
        "pipeline = Pipeline(\n",
        "            steps = [('under_sampling', TomekLinks()),\n",
        "             ('model', KNeighborsClassifier(n_neighbors=3))]    \n",
        ")\n",
        "\n",
        "\n",
        "scoring = {'accuracy' : make_scorer(accuracy_score),\n",
        "           'precision' : make_scorer(precision_score),\n",
        "           'recall' : make_scorer(recall_score),\n",
        "           'f1_score' : make_scorer(f1_score),\n",
        "           'roc_auc' : make_scorer(roc_auc_score)}\n",
        "\n",
        "\n",
        "# Evaluate\n",
        "scores = cross_validate(pipeline, \n",
        "                        X,\n",
        "                        y, \n",
        "                        scoring=scoring,\n",
        "                        cv=StratifiedKFold(n_splits=5, shuffle=True, random_state=10),\n",
        "                        n_jobs=-1)\n",
        "\n",
        "print(\"KNN/TomekLinks Accuracy: \", (scores['test_accuracy'].mean()))\n",
        "print(\"KNN/TomekLinks Precision: \", (scores['test_precision'].mean()))\n",
        "print(\"KNN/TomekLinks Recall: \", (scores['test_recall'].mean()))\n",
        "print(\"KNN/TomekLinks F1-Score: \", (scores['test_f1_score'].mean()))\n",
        "print(\"KNN/TomekLinks ROC-AUC: \", (scores['test_roc_auc'].mean()))"
      ],
      "metadata": {
        "id": "cfR7sDAUgRdw"
      },
      "execution_count": null,
      "outputs": []
    },
    {
      "cell_type": "markdown",
      "source": [
        "# **Oversampling**"
      ],
      "metadata": {
        "id": "n4wTlPH7BpEm"
      }
    },
    {
      "cell_type": "markdown",
      "source": [
        "### **Random Over Sampling (ROS)**"
      ],
      "metadata": {
        "id": "QL9hD756BvVg"
      }
    },
    {
      "cell_type": "markdown",
      "source": [
        "### **Logistic Regression - ROS**"
      ],
      "metadata": {
        "id": "QIx2CufYBy4D"
      }
    },
    {
      "cell_type": "code",
      "source": [
        "pipeline = Pipeline(\n",
        "            steps = [('over_sampling', RandomOverSampler()),\n",
        "             ('model', LogisticRegression(solver='lbfgs', max_iter=400))]    \n",
        ")\n",
        "\n",
        "\n",
        "scoring = {'accuracy' : make_scorer(accuracy_score),\n",
        "           'precision' : make_scorer(precision_score),\n",
        "           'recall' : make_scorer(recall_score),\n",
        "           'f1_score' : make_scorer(f1_score),\n",
        "           'roc_auc' : make_scorer(roc_auc_score)}\n",
        "\n",
        "\n",
        "# Evaluate\n",
        "scores = cross_validate(pipeline, \n",
        "                        X,\n",
        "                        y, \n",
        "                        scoring=scoring,\n",
        "                        cv=StratifiedKFold(n_splits=5, shuffle=True, random_state=10),\n",
        "                        n_jobs=-1)\n",
        "\n",
        "print(\"Logistic Regression/ROS Accuracy: \", (scores['test_accuracy'].mean()))\n",
        "print(\"Logistic Regression/ROS Precision: \", (scores['test_precision'].mean()))\n",
        "print(\"Logistic Regression/ROS Recall: \", (scores['test_recall'].mean()))\n",
        "print(\"Logistic Regression/ROS F1-Score: \", (scores['test_f1_score'].mean()))\n",
        "print(\"Logistic Regression/ROS ROC-AUC: \", (scores['test_roc_auc'].mean()))"
      ],
      "metadata": {
        "colab": {
          "base_uri": "https://localhost:8080/"
        },
        "id": "E5xVQECuBuOt",
        "outputId": "4644be37-c4da-4d10-fea7-d2ecc5fc599e"
      },
      "execution_count": null,
      "outputs": [
        {
          "output_type": "stream",
          "name": "stdout",
          "text": [
            "Logistic Regression/ROS Accuracy:  0.9642775483842818\n",
            "Logistic Regression/ROS Precision:  0.04235928143016524\n",
            "Logistic Regression/ROS Recall:  0.9066996495567924\n",
            "Logistic Regression/ROS F1-Score:  0.08091331641692318\n",
            "Logistic Regression/ROS ROC-AUC:  0.9355385942770157\n"
          ]
        }
      ]
    },
    {
      "cell_type": "markdown",
      "source": [
        "### **Decision Tree - ROS**"
      ],
      "metadata": {
        "id": "yL6BB6rOCWVN"
      }
    },
    {
      "cell_type": "code",
      "source": [
        "pipeline = Pipeline(\n",
        "            steps = [('over_sampling', RandomOverSampler()),\n",
        "             ('model', DecisionTreeClassifier())]    \n",
        ")\n",
        "\n",
        "\n",
        "scoring = {'accuracy' : make_scorer(accuracy_score),\n",
        "           'precision' : make_scorer(precision_score),\n",
        "           'recall' : make_scorer(recall_score),\n",
        "           'f1_score' : make_scorer(f1_score),\n",
        "           'roc_auc' : make_scorer(roc_auc_score)}\n",
        "\n",
        "\n",
        "# Evaluate\n",
        "scores = cross_validate(pipeline, \n",
        "                        X,\n",
        "                        y, \n",
        "                        scoring=scoring,\n",
        "                        cv=StratifiedKFold(n_splits=5, shuffle=True, random_state=10),\n",
        "                        n_jobs=-1)\n",
        "\n",
        "print(\"Decision Tree/ROS Accuracy: \", (scores['test_accuracy'].mean()))\n",
        "print(\"Decision Tree/ROS Precision: \", (scores['test_precision'].mean()))\n",
        "print(\"Decision Tree/ROS Recall: \", (scores['test_recall'].mean()))\n",
        "print(\"Decision Tree/ROS F1-Score: \", (scores['test_f1_score'].mean()))\n",
        "print(\"Decision Tree/ROS ROC-AUC: \", (scores['test_roc_auc'].mean()))"
      ],
      "metadata": {
        "colab": {
          "base_uri": "https://localhost:8080/"
        },
        "id": "PnbA2bDGCHaj",
        "outputId": "b0345b8d-53e6-4c04-d4ca-a74f9e53e38b"
      },
      "execution_count": null,
      "outputs": [
        {
          "output_type": "stream",
          "name": "stdout",
          "text": [
            "Decision Tree/ROS Accuracy:  0.9990976349822228\n",
            "Decision Tree/ROS Precision:  0.747807273722428\n",
            "Decision Tree/ROS Recall:  0.7237270665842094\n",
            "Decision Tree/ROS F1-Score:  0.7345394216461747\n",
            "Decision Tree/ROS ROC-AUC:  0.8616507411425524\n"
          ]
        }
      ]
    },
    {
      "cell_type": "markdown",
      "source": [
        "### **Random Forest - ROS**"
      ],
      "metadata": {
        "id": "XbV5HbqnCqS1"
      }
    },
    {
      "cell_type": "code",
      "source": [
        "pipeline = Pipeline(\n",
        "            steps = [('over_sampling', RandomOverSampler()),\n",
        "             ('model', RandomForestClassifier())]    \n",
        ")\n",
        "\n",
        "\n",
        "scoring = {'accuracy' : make_scorer(accuracy_score),\n",
        "           'precision' : make_scorer(precision_score),\n",
        "           'recall' : make_scorer(recall_score),\n",
        "           'f1_score' : make_scorer(f1_score),\n",
        "           'roc_auc' : make_scorer(roc_auc_score)}\n",
        "\n",
        "\n",
        "# Evaluate\n",
        "scores = cross_validate(pipeline, \n",
        "                        X,\n",
        "                        y, \n",
        "                        scoring=scoring,\n",
        "                        cv=StratifiedKFold(n_splits=5, shuffle=True, random_state=10),\n",
        "                        n_jobs=-1)\n",
        "\n",
        "print(\"Random Forest/ROS Accuracy: \", (scores['test_accuracy'].mean()))\n",
        "print(\"Random Forest/ROS Precision: \", (scores['test_precision'].mean()))\n",
        "print(\"Random Forest/ROS Recall: \", (scores['test_recall'].mean()))\n",
        "print(\"Random Forest/ROS F1-Score: \", (scores['test_f1_score'].mean()))\n",
        "print(\"Random Forest/ROS ROC-AUC: \", (scores['test_roc_auc'].mean()))"
      ],
      "metadata": {
        "colab": {
          "base_uri": "https://localhost:8080/"
        },
        "id": "IvAv6Nq0CncP",
        "outputId": "8995ac94-73be-4c12-a839-d23944de56a9"
      },
      "execution_count": null,
      "outputs": [
        {
          "output_type": "stream",
          "name": "stdout",
          "text": [
            "Random Forest/ROS Accuracy:  0.9995295065255192\n",
            "Random Forest/ROS Precision:  0.9453365025981071\n",
            "Random Forest/ROS Recall:  0.7725211296639867\n",
            "Random Forest/ROS F1-Score:  0.8496163809999707\n",
            "Random Forest/ROS ROC-AUC:  0.8862218753502565\n"
          ]
        }
      ]
    },
    {
      "cell_type": "markdown",
      "source": [
        "### **Gaussian NB - ROS**"
      ],
      "metadata": {
        "id": "Qg4j0CFADokr"
      }
    },
    {
      "cell_type": "code",
      "source": [
        "pipeline = Pipeline(\n",
        "            steps = [('over_sampling', RandomOverSampler()),\n",
        "             ('model', GaussianNB())]    \n",
        ")\n",
        "\n",
        "\n",
        "scoring = {'accuracy' : make_scorer(accuracy_score),\n",
        "           'precision' : make_scorer(precision_score),\n",
        "           'recall' : make_scorer(recall_score),\n",
        "           'f1_score' : make_scorer(f1_score),\n",
        "           'roc_auc' : make_scorer(roc_auc_score)}\n",
        "\n",
        "\n",
        "# Evaluate\n",
        "scores = cross_validate(pipeline, \n",
        "                        X,\n",
        "                        y, \n",
        "                        scoring=scoring,\n",
        "                        cv=StratifiedKFold(n_splits=5, shuffle=True, random_state=10),\n",
        "                        n_jobs=-1)\n",
        "\n",
        "print(\"Gaussian Naive Bayes/ROS Accuracy: \", (scores['test_accuracy'].mean()))\n",
        "print(\"Gaussian Naive Bayes/ROS Precision: \", (scores['test_precision'].mean()))\n",
        "print(\"Gaussian Naive Bayes/ROS Recall: \", (scores['test_recall'].mean()))\n",
        "print(\"Gaussian Naive Bayes/ROS F1-Score: \", (scores['test_f1_score'].mean()))\n",
        "print(\"Gaussian Naive Bayes/ROS ROC-AUC: \", (scores['test_roc_auc'].mean()))"
      ],
      "metadata": {
        "colab": {
          "base_uri": "https://localhost:8080/"
        },
        "id": "jLER9neFDiEf",
        "outputId": "2a22fbb6-40d2-44a6-9289-d48a25af505d"
      },
      "execution_count": null,
      "outputs": [
        {
          "output_type": "stream",
          "name": "stdout",
          "text": [
            "Gaussian Naive Bayes/ROS Accuracy:  0.9904602083078592\n",
            "Gaussian Naive Bayes/ROS Precision:  0.12317332147794806\n",
            "Gaussian Naive Bayes/ROS Recall:  0.7378066378066378\n",
            "Gaussian Naive Bayes/ROS F1-Score:  0.21103972456040734\n",
            "Gaussian Naive Bayes/ROS ROC-AUC:  0.8643520289608254\n"
          ]
        }
      ]
    },
    {
      "cell_type": "markdown",
      "source": [
        "### **KNN - ROS**"
      ],
      "metadata": {
        "id": "YV_QqrNwIBpj"
      }
    },
    {
      "cell_type": "code",
      "source": [
        "pipeline = Pipeline(\n",
        "            steps = [('over_sampling', RandomOverSampler()),\n",
        "             ('model', KNeighborsClassifier(n_neighbors=3))]    \n",
        ")\n",
        "\n",
        "\n",
        "scoring = {'accuracy' : make_scorer(accuracy_score),\n",
        "           'precision' : make_scorer(precision_score),\n",
        "           'recall' : make_scorer(recall_score),\n",
        "           'f1_score' : make_scorer(f1_score),\n",
        "           'roc_auc' : make_scorer(roc_auc_score)}\n",
        "\n",
        "\n",
        "# Evaluate\n",
        "scores = cross_validate(pipeline, \n",
        "                        X,\n",
        "                        y, \n",
        "                        scoring=scoring,\n",
        "                        cv=StratifiedKFold(n_splits=5, shuffle=True, random_state=10),\n",
        "                        n_jobs=-1)\n",
        "\n",
        "print(\"KNN/ROS Accuracy: \", (scores['test_accuracy'].mean()))\n",
        "print(\"KNN/ROS Precision: \", (scores['test_precision'].mean()))\n",
        "print(\"KNN/ROS Recall: \", (scores['test_recall'].mean()))\n",
        "print(\"KNN/ROS F1-Score: \", (scores['test_f1_score'].mean()))\n",
        "print(\"KNN/ROS ROC-AUC: \", (scores['test_roc_auc'].mean()))"
      ],
      "metadata": {
        "colab": {
          "base_uri": "https://localhost:8080/"
        },
        "id": "F2EPi9lVG9P-",
        "outputId": "e685d75e-d89b-41dd-e000-453c01b07190"
      },
      "execution_count": null,
      "outputs": [
        {
          "output_type": "stream",
          "name": "stdout",
          "text": [
            "KNN/ROS Accuracy:  0.9976089065664885\n",
            "KNN/ROS Precision:  0.2628115128115128\n",
            "KNN/ROS Recall:  0.21341991341991343\n",
            "KNN/ROS F1-Score:  0.23524701539991488\n",
            "KNN/ROS ROC-AUC:  0.6061929245449285\n"
          ]
        }
      ]
    },
    {
      "cell_type": "markdown",
      "source": [
        "### **Synthetic Minority Oversampling Technique (SMOTE)**"
      ],
      "metadata": {
        "id": "UfmtBczuK9ra"
      }
    },
    {
      "cell_type": "markdown",
      "source": [
        "### **Logistic Regression - SMOTE**"
      ],
      "metadata": {
        "id": "0T33aIUnLHa7"
      }
    },
    {
      "cell_type": "code",
      "source": [
        "pipeline = Pipeline(\n",
        "            steps = [('over_sampling', SMOTE()),\n",
        "             ('model', LogisticRegression(solver='lbfgs', max_iter=400))]    \n",
        ")\n",
        "\n",
        "\n",
        "scoring = {'accuracy' : make_scorer(accuracy_score),\n",
        "           'precision' : make_scorer(precision_score),\n",
        "           'recall' : make_scorer(recall_score),\n",
        "           'f1_score' : make_scorer(f1_score),\n",
        "           'roc_auc' : make_scorer(roc_auc_score)}\n",
        "\n",
        "\n",
        "# Evaluate\n",
        "scores = cross_validate(pipeline, \n",
        "                        X,\n",
        "                        y, \n",
        "                        scoring=scoring,\n",
        "                        cv=StratifiedKFold(n_splits=5, shuffle=True, random_state=10),\n",
        "                        n_jobs=-1)\n",
        "\n",
        "print(\"Logistic Regression/SMOTE Accuracy: \", (scores['test_accuracy'].mean()))\n",
        "print(\"Logistic Regression/SMOTE Precision: \", (scores['test_precision'].mean()))\n",
        "print(\"Logistic Regression/SMOTE Recall: \", (scores['test_recall'].mean()))\n",
        "print(\"Logistic Regression/SMOTE F1-Score: \", (scores['test_f1_score'].mean()))\n",
        "print(\"Logistic Regression/SMOTE ROC-AUC: \", (scores['test_roc_auc'].mean()))"
      ],
      "metadata": {
        "colab": {
          "base_uri": "https://localhost:8080/"
        },
        "id": "LYny_zfDIOFp",
        "outputId": "0c64eaac-6abc-4292-dbe6-5e8c28a89b39"
      },
      "execution_count": null,
      "outputs": [
        {
          "output_type": "stream",
          "name": "stdout",
          "text": [
            "Logistic Regression/SMOTE Accuracy:  0.9800144916042395\n",
            "Logistic Regression/SMOTE Precision:  0.07896478084732712\n",
            "Logistic Regression/SMOTE Recall:  0.8823335394763966\n",
            "Logistic Regression/SMOTE F1-Score:  0.14389108655035518\n",
            "Logistic Regression/SMOTE ROC-AUC:  0.9312587451879635\n"
          ]
        }
      ]
    },
    {
      "cell_type": "markdown",
      "source": [
        "### **Decision Tree - SMOTE**"
      ],
      "metadata": {
        "id": "jRbt83CtOPTQ"
      }
    },
    {
      "cell_type": "code",
      "source": [
        "pipeline = Pipeline(\n",
        "            steps = [('over_sampling', SMOTE()),\n",
        "             ('model', DecisionTreeClassifier())]    \n",
        ")\n",
        "\n",
        "\n",
        "scoring = {'accuracy' : make_scorer(accuracy_score),\n",
        "           'precision' : make_scorer(precision_score),\n",
        "           'recall' : make_scorer(recall_score),\n",
        "           'f1_score' : make_scorer(f1_score),\n",
        "           'roc_auc' : make_scorer(roc_auc_score)}\n",
        "\n",
        "\n",
        "# Evaluate\n",
        "scores = cross_validate(pipeline, \n",
        "                        X,\n",
        "                        y, \n",
        "                        scoring=scoring,\n",
        "                        cv=StratifiedKFold(n_splits=5, shuffle=True, random_state=10),\n",
        "                        n_jobs=-1)\n",
        "\n",
        "print(\"Decision Tree/SMOTE Accuracy: \", (scores['test_accuracy'].mean()))\n",
        "print(\"Decision Tree/SMOTE Precision: \", (scores['test_precision'].mean()))\n",
        "print(\"Decision Tree/SMOTE Recall: \", (scores['test_recall'].mean()))\n",
        "print(\"Decision Tree/SMOTE F1-Score: \", (scores['test_f1_score'].mean()))\n",
        "print(\"Decision Tree/SMOTE ROC-AUC: \", (scores['test_roc_auc'].mean()))"
      ],
      "metadata": {
        "colab": {
          "base_uri": "https://localhost:8080/"
        },
        "id": "3Zr1Ql-tORw0",
        "outputId": "85066000-a7a8-4f0e-99cf-0032f829f8fc"
      },
      "execution_count": null,
      "outputs": [
        {
          "output_type": "stream",
          "name": "stdout",
          "text": [
            "Decision Tree/SMOTE Accuracy:  0.9976861519082327\n",
            "Decision Tree/SMOTE Precision:  0.4111452811764761\n",
            "Decision Tree/SMOTE Recall:  0.7787466501752217\n",
            "Decision Tree/SMOTE F1-Score:  0.5372530417385465\n",
            "Decision Tree/SMOTE ROC-AUC:  0.8884060880441907\n"
          ]
        }
      ]
    },
    {
      "cell_type": "markdown",
      "source": [
        "### **Random Forest - SMOTE**"
      ],
      "metadata": {
        "id": "Te8HGXcyOwVP"
      }
    },
    {
      "cell_type": "code",
      "source": [
        "pipeline = Pipeline(\n",
        "            steps = [('over_sampling', SMOTE()),\n",
        "             ('model', RandomForestClassifier())]    \n",
        ")\n",
        "\n",
        "\n",
        "scoring = {'accuracy' : make_scorer(accuracy_score),\n",
        "           'precision' : make_scorer(precision_score),\n",
        "           'recall' : make_scorer(recall_score),\n",
        "           'f1_score' : make_scorer(f1_score),\n",
        "           'roc_auc' : make_scorer(roc_auc_score)}\n",
        "\n",
        "\n",
        "# Evaluate\n",
        "scores = cross_validate(pipeline, \n",
        "                        X,\n",
        "                        y, \n",
        "                        scoring=scoring,\n",
        "                        cv=StratifiedKFold(n_splits=5, shuffle=True, random_state=10),\n",
        "                        n_jobs=-1)\n",
        "\n",
        "print(\"Random Forest/SMOTE Accuracy: \", (scores['test_accuracy'].mean()))\n",
        "print(\"Random Forest/SMOTE Precision: \", (scores['test_precision'].mean()))\n",
        "print(\"Random Forest/SMOTE Recall: \", (scores['test_recall'].mean()))\n",
        "print(\"Random Forest/SMOTE F1-Score: \", (scores['test_f1_score'].mean()))\n",
        "print(\"Random Forest/SMOTE ROC-AUC: \", (scores['test_roc_auc'].mean()))"
      ],
      "metadata": {
        "colab": {
          "base_uri": "https://localhost:8080/"
        },
        "id": "YOzi04itOyg0",
        "outputId": "ad951fe8-a179-423b-abac-e0d260ec1a56"
      },
      "execution_count": null,
      "outputs": [
        {
          "output_type": "stream",
          "name": "stdout",
          "text": [
            "Random Forest/SMOTE Accuracy:  0.9995049284902553\n",
            "Random Forest/SMOTE Precision:  0.8796421169056179\n",
            "Random Forest/SMOTE Recall:  0.8274788703360132\n",
            "Random Forest/SMOTE F1-Score:  0.8517419128973532\n",
            "Random Forest/SMOTE ROC-AUC:  0.9136409528508583\n"
          ]
        }
      ]
    },
    {
      "cell_type": "markdown",
      "source": [
        "### **Gaussian NB - SMOTE**"
      ],
      "metadata": {
        "id": "kkEZe7ZjO9Qh"
      }
    },
    {
      "cell_type": "code",
      "source": [
        "pipeline = Pipeline(\n",
        "            steps = [('over_sampling', SMOTE()),\n",
        "             ('model', GaussianNB())]    \n",
        ")\n",
        "\n",
        "\n",
        "scoring = {'accuracy' : make_scorer(accuracy_score),\n",
        "           'precision' : make_scorer(precision_score),\n",
        "           'recall' : make_scorer(recall_score),\n",
        "           'f1_score' : make_scorer(f1_score),\n",
        "           'roc_auc' : make_scorer(roc_auc_score)}\n",
        "\n",
        "\n",
        "# Evaluate\n",
        "scores = cross_validate(pipeline, \n",
        "                        X,\n",
        "                        y, \n",
        "                        scoring=scoring,\n",
        "                        cv=StratifiedKFold(n_splits=5, shuffle=True, random_state=10),\n",
        "                        n_jobs=-1)\n",
        "\n",
        "print(\"Gaussian Naive Bayes/SMOTE Accuracy: \", (scores['test_accuracy'].mean()))\n",
        "print(\"Gaussian Naive Bayes/SMOTE Precision: \", (scores['test_precision'].mean()))\n",
        "print(\"Gaussian Naive Bayes/SMOTE Recall: \", (scores['test_recall'].mean()))\n",
        "print(\"Gaussian Naive Bayes/SMOTE F1-Score: \", (scores['test_f1_score'].mean()))\n",
        "print(\"Gaussian Naive Bayes/SMOTE ROC-AUC: \", (scores['test_roc_auc'].mean()))"
      ],
      "metadata": {
        "colab": {
          "base_uri": "https://localhost:8080/"
        },
        "id": "AYQHDxCTO_Gj",
        "outputId": "5853bfde-2347-4f1b-ad58-146df0054b90"
      },
      "execution_count": null,
      "outputs": [
        {
          "output_type": "stream",
          "name": "stdout",
          "text": [
            "Gaussian Naive Bayes/SMOTE Accuracy:  0.9923211167625657\n",
            "Gaussian Naive Bayes/SMOTE Precision:  0.1527248612937886\n",
            "Gaussian Naive Bayes/SMOTE Recall:  0.758214801071944\n",
            "Gaussian Naive Bayes/SMOTE F1-Score:  0.25419376225234075\n",
            "Gaussian Naive Bayes/SMOTE ROC-AUC:  0.8754705892527122\n"
          ]
        }
      ]
    },
    {
      "cell_type": "markdown",
      "source": [
        "### **KNN - SMOTE**"
      ],
      "metadata": {
        "id": "2XlYsIzCPKrc"
      }
    },
    {
      "cell_type": "code",
      "source": [
        "pipeline = Pipeline(\n",
        "            steps = [('over_sampling', SMOTE()),\n",
        "             ('model', KNeighborsClassifier(n_neighbors=3))]    \n",
        ")\n",
        "\n",
        "\n",
        "scoring = {'accuracy' : make_scorer(accuracy_score),\n",
        "           'precision' : make_scorer(precision_score),\n",
        "           'recall' : make_scorer(recall_score),\n",
        "           'f1_score' : make_scorer(f1_score),\n",
        "           'roc_auc' : make_scorer(roc_auc_score)}\n",
        "\n",
        "\n",
        "# Evaluate\n",
        "scores = cross_validate(pipeline, \n",
        "                        X,\n",
        "                        y, \n",
        "                        scoring=scoring,\n",
        "                        cv=StratifiedKFold(n_splits=5, shuffle=True, random_state=10),\n",
        "                        n_jobs=-1)\n",
        "\n",
        "print(\"KNN/SMOTE Accuracy: \", (scores['test_accuracy'].mean()))\n",
        "print(\"KNN/SMOTE Precision: \", (scores['test_precision'].mean()))\n",
        "print(\"KNN/SMOTE Recall: \", (scores['test_recall'].mean()))\n",
        "print(\"KNN/SMOTE F1-Score: \", (scores['test_f1_score'].mean()))\n",
        "print(\"KNN/SMOTE ROC-AUC: \", (scores['test_roc_auc'].mean()))"
      ],
      "metadata": {
        "colab": {
          "base_uri": "https://localhost:8080/"
        },
        "id": "E_co6u00PMs0",
        "outputId": "9d297321-cd81-4179-ce23-49630109d2ac"
      },
      "execution_count": null,
      "outputs": [
        {
          "output_type": "stream",
          "name": "stderr",
          "text": [
            "/usr/local/lib/python3.7/dist-packages/joblib/externals/loky/process_executor.py:705: UserWarning:\n",
            "\n",
            "A worker stopped while some jobs were given to the executor. This can be caused by a too short worker timeout or by a memory leak.\n",
            "\n"
          ]
        },
        {
          "output_type": "stream",
          "name": "stdout",
          "text": [
            "KNN/SMOTE Accuracy:  0.9571639655055731\n",
            "KNN/SMOTE Precision:  0.021622027687547958\n",
            "KNN/SMOTE Recall:  0.5387342815914244\n",
            "KNN/SMOTE F1-Score:  0.041570098241472\n",
            "KNN/SMOTE ROC-AUC:  0.7483112696668586\n"
          ]
        }
      ]
    },
    {
      "cell_type": "markdown",
      "source": [
        "### **Adaptive Synthetic Oversampling (ADASYN)**"
      ],
      "metadata": {
        "id": "Ul0DeZZYdeoc"
      }
    },
    {
      "cell_type": "markdown",
      "source": [
        "### **Logistic Regression - ADASYN**"
      ],
      "metadata": {
        "id": "iP_oi1KndqmY"
      }
    },
    {
      "cell_type": "code",
      "source": [
        "pipeline = Pipeline(\n",
        "            steps = [('over_sampling', ADASYN()),\n",
        "             ('model', LogisticRegression(solver='lbfgs', max_iter=400))]    \n",
        ")\n",
        "\n",
        "\n",
        "scoring = {'accuracy' : make_scorer(accuracy_score),\n",
        "           'precision' : make_scorer(precision_score),\n",
        "           'recall' : make_scorer(recall_score),\n",
        "           'f1_score' : make_scorer(f1_score),\n",
        "           'roc_auc' : make_scorer(roc_auc_score)}\n",
        "\n",
        "\n",
        "# Evaluate\n",
        "scores = cross_validate(pipeline, \n",
        "                        X,\n",
        "                        y, \n",
        "                        scoring=scoring,\n",
        "                        cv=StratifiedKFold(n_splits=5, shuffle=True, random_state=10),\n",
        "                        n_jobs=-1)\n",
        "\n",
        "print(\"Logistic Regression/ADASYN Accuracy: \", (scores['test_accuracy'].mean()))\n",
        "print(\"Logistic Regression/ADASYN Precision: \", (scores['test_precision'].mean()))\n",
        "print(\"Logistic Regression/ADASYN Recall: \", (scores['test_recall'].mean()))\n",
        "print(\"Logistic Regression/ADASYN F1-Score: \", (scores['test_f1_score'].mean()))\n",
        "print(\"Logistic Regression/ADASYN ROC-AUC: \", (scores['test_roc_auc'].mean()))"
      ],
      "metadata": {
        "colab": {
          "base_uri": "https://localhost:8080/"
        },
        "id": "bgyv6y0BZqZR",
        "outputId": "c95d6d3b-af84-4e4f-8ad8-05543fa1ff5a"
      },
      "execution_count": null,
      "outputs": [
        {
          "output_type": "stream",
          "name": "stderr",
          "text": [
            "/usr/local/lib/python3.7/dist-packages/joblib/externals/loky/process_executor.py:705: UserWarning:\n",
            "\n",
            "A worker stopped while some jobs were given to the executor. This can be caused by a too short worker timeout or by a memory leak.\n",
            "\n"
          ]
        },
        {
          "output_type": "stream",
          "name": "stdout",
          "text": [
            "Logistic Regression/ADASYN Accuracy:  0.9723602529739637\n",
            "Logistic Regression/ADASYN Precision:  0.054088799540225885\n",
            "Logistic Regression/ADASYN Recall:  0.8803545660688519\n",
            "Logistic Regression/ADASYN F1-Score:  0.10177882964767042\n",
            "Logistic Regression/ADASYN ROC-AUC:  0.9264372411794412\n"
          ]
        }
      ]
    },
    {
      "cell_type": "markdown",
      "source": [
        "### **Decision Tree - ADASYN**"
      ],
      "metadata": {
        "id": "T4ODRkSseHM5"
      }
    },
    {
      "cell_type": "code",
      "source": [
        "pipeline = Pipeline(\n",
        "            steps = [('over_sampling', ADASYN()),\n",
        "             ('model', DecisionTreeClassifier())]    \n",
        ")\n",
        "\n",
        "\n",
        "scoring = {'accuracy' : make_scorer(accuracy_score),\n",
        "           'precision' : make_scorer(precision_score),\n",
        "           'recall' : make_scorer(recall_score),\n",
        "           'f1_score' : make_scorer(f1_score),\n",
        "           'roc_auc' : make_scorer(roc_auc_score)}\n",
        "\n",
        "\n",
        "# Evaluate\n",
        "scores = cross_validate(pipeline, \n",
        "                        X,\n",
        "                        y, \n",
        "                        scoring=scoring,\n",
        "                        cv=StratifiedKFold(n_splits=5, shuffle=True, random_state=10),\n",
        "                        n_jobs=-1)\n",
        "\n",
        "print(\"Decision Tree/ADASYN Accuracy: \", (scores['test_accuracy'].mean()))\n",
        "print(\"Decision Tree/ADASYN Precision: \", (scores['test_precision'].mean()))\n",
        "print(\"Decision Tree/ADASYN Recall: \", (scores['test_recall'].mean()))\n",
        "print(\"Decision Tree/ADASYN F1-Score: \", (scores['test_f1_score'].mean()))\n",
        "print(\"Decision Tree/ADASYN ROC-AUC: \", (scores['test_roc_auc'].mean()))"
      ],
      "metadata": {
        "colab": {
          "base_uri": "https://localhost:8080/"
        },
        "id": "jMEGAwFVeJbj",
        "outputId": "ce9647a6-9d77-4e50-9a87-0b246d928a08"
      },
      "execution_count": null,
      "outputs": [
        {
          "output_type": "stream",
          "name": "stderr",
          "text": [
            "/usr/local/lib/python3.7/dist-packages/joblib/externals/loky/process_executor.py:705: UserWarning:\n",
            "\n",
            "A worker stopped while some jobs were given to the executor. This can be caused by a too short worker timeout or by a memory leak.\n",
            "\n"
          ]
        },
        {
          "output_type": "stream",
          "name": "stdout",
          "text": [
            "Decision Tree/ADASYN Accuracy:  0.9977598861373055\n",
            "Decision Tree/ADASYN Precision:  0.41967540955776245\n",
            "Decision Tree/ADASYN Recall:  0.7725829725829725\n",
            "Decision Tree/ADASYN F1-Score:  0.5430858451304548\n",
            "Decision Tree/ADASYN ROC-AUC:  0.8853664559554154\n"
          ]
        }
      ]
    },
    {
      "cell_type": "markdown",
      "source": [
        "### **Random Forest - ADASYN**"
      ],
      "metadata": {
        "id": "fzjtaD41edlR"
      }
    },
    {
      "cell_type": "code",
      "source": [
        "pipeline = Pipeline(\n",
        "            steps = [('over_sampling', ADASYN()),\n",
        "             ('model', RandomForestClassifier())]    \n",
        ")\n",
        "\n",
        "\n",
        "scoring = {'accuracy' : make_scorer(accuracy_score),\n",
        "           'precision' : make_scorer(precision_score),\n",
        "           'recall' : make_scorer(recall_score),\n",
        "           'f1_score' : make_scorer(f1_score),\n",
        "           'roc_auc' : make_scorer(roc_auc_score)}\n",
        "\n",
        "\n",
        "# Evaluate\n",
        "scores = cross_validate(pipeline, \n",
        "                        X,\n",
        "                        y, \n",
        "                        scoring=scoring,\n",
        "                        cv=StratifiedKFold(n_splits=5, shuffle=True, random_state=10),\n",
        "                        n_jobs=-1)\n",
        "\n",
        "print(\"Random Forest/ADASYN Accuracy: \", (scores['test_accuracy'].mean()))\n",
        "print(\"Random Forest/ADASYN Precision: \", (scores['test_precision'].mean()))\n",
        "print(\"Random Forest/ADASYN Recall: \", (scores['test_recall'].mean()))\n",
        "print(\"Random Forest/ADASYN F1-Score: \", (scores['test_f1_score'].mean()))\n",
        "print(\"Random Forest/ADASYN ROC-AUC: \", (scores['test_roc_auc'].mean()))"
      ],
      "metadata": {
        "colab": {
          "base_uri": "https://localhost:8080/"
        },
        "id": "2tX9ExtUeg1w",
        "outputId": "f0dd0d9a-157c-4081-ff3e-7ea26ce72fec"
      },
      "execution_count": null,
      "outputs": [
        {
          "output_type": "stream",
          "name": "stdout",
          "text": [
            "Random Forest/ADASYN Accuracy:  0.9994979062032714\n",
            "Random Forest/ADASYN Precision:  0.881761045331297\n",
            "Random Forest/ADASYN Recall:  0.8213770356627499\n",
            "Random Forest/ADASYN F1-Score:  0.8491774110352328\n",
            "Random Forest/ADASYN ROC-AUC:  0.910591794127033\n"
          ]
        }
      ]
    },
    {
      "cell_type": "markdown",
      "source": [
        "### **Gaussian NB - ADASYN**"
      ],
      "metadata": {
        "id": "O2hSKMVwesau"
      }
    },
    {
      "cell_type": "code",
      "source": [
        "pipeline = Pipeline(\n",
        "            steps = [('over_sampling', ADASYN()),\n",
        "             ('model', GaussianNB())]    \n",
        ")\n",
        "\n",
        "\n",
        "scoring = {'accuracy' : make_scorer(accuracy_score),\n",
        "           'precision' : make_scorer(precision_score),\n",
        "           'recall' : make_scorer(recall_score),\n",
        "           'f1_score' : make_scorer(f1_score),\n",
        "           'roc_auc' : make_scorer(roc_auc_score)}\n",
        "\n",
        "\n",
        "# Evaluate\n",
        "scores = cross_validate(pipeline, \n",
        "                        X,\n",
        "                        y, \n",
        "                        scoring=scoring,\n",
        "                        cv=StratifiedKFold(n_splits=5, shuffle=True, random_state=10),\n",
        "                        n_jobs=-1)\n",
        "\n",
        "print(\"Gaussian Naive Bayes/ADASYN Accuracy: \", (scores['test_accuracy'].mean()))\n",
        "print(\"Gaussian Naive Bayes/ADASYN Precision: \", (scores['test_precision'].mean()))\n",
        "print(\"Gaussian Naive Bayes/ADASYN Recall: \", (scores['test_recall'].mean()))\n",
        "print(\"Gaussian Naive Bayes/ADASYN F1-Score: \", (scores['test_f1_score'].mean()))\n",
        "print(\"Gaussian Naive Bayes/ADASYN ROC-AUC: \", (scores['test_roc_auc'].mean()))"
      ],
      "metadata": {
        "colab": {
          "base_uri": "https://localhost:8080/"
        },
        "id": "JHYR0i95eyKI",
        "outputId": "befe1b96-f88e-47e2-8428-a7dda8ffa967"
      },
      "execution_count": null,
      "outputs": [
        {
          "output_type": "stream",
          "name": "stdout",
          "text": [
            "Gaussian Naive Bayes/ADASYN Accuracy:  0.9919805346418562\n",
            "Gaussian Naive Bayes/ADASYN Precision:  0.14904950470811598\n",
            "Gaussian Naive Bayes/ADASYN Recall:  0.7745207173778602\n",
            "Gaussian Naive Bayes/ADASYN F1-Score:  0.24994885994267815\n",
            "Gaussian Naive Bayes/ADASYN ROC-AUC:  0.8834388930610174\n"
          ]
        }
      ]
    },
    {
      "cell_type": "markdown",
      "source": [
        "### **KNN - ADASYN**"
      ],
      "metadata": {
        "id": "TfA0C5XPe7K_"
      }
    },
    {
      "cell_type": "code",
      "source": [
        "pipeline = Pipeline(\n",
        "            steps = [('over_sampling', ADASYN()),\n",
        "             ('model', KNeighborsClassifier(n_neighbors=3))]    \n",
        ")\n",
        "\n",
        "\n",
        "scoring = {'accuracy' : make_scorer(accuracy_score),\n",
        "           'precision' : make_scorer(precision_score),\n",
        "           'recall' : make_scorer(recall_score),\n",
        "           'f1_score' : make_scorer(f1_score),\n",
        "           'roc_auc' : make_scorer(roc_auc_score)}\n",
        "\n",
        "\n",
        "# Evaluate\n",
        "scores = cross_validate(pipeline, \n",
        "                        X,\n",
        "                        y, \n",
        "                        scoring=scoring,\n",
        "                        cv=StratifiedKFold(n_splits=5, shuffle=True, random_state=10),\n",
        "                        n_jobs=-1)\n",
        "\n",
        "print(\"KNN/ADASYN Accuracy: \", (scores['test_accuracy'].mean()))\n",
        "print(\"KNN/ADASYN Precision: \", (scores['test_precision'].mean()))\n",
        "print(\"KNN/ADASYN Recall: \", (scores['test_recall'].mean()))\n",
        "print(\"KNN/ADASYN F1-Score: \", (scores['test_f1_score'].mean()))\n",
        "print(\"KNN/ADASYN ROC-AUC: \", (scores['test_roc_auc'].mean()))"
      ],
      "metadata": {
        "colab": {
          "base_uri": "https://localhost:8080/"
        },
        "id": "7Sqr5v6Re9ss",
        "outputId": "e976f165-8c30-407b-e4c2-8fa7d0f2d9ca"
      },
      "execution_count": null,
      "outputs": [
        {
          "output_type": "stream",
          "name": "stderr",
          "text": [
            "/usr/local/lib/python3.7/dist-packages/joblib/externals/loky/process_executor.py:705: UserWarning:\n",
            "\n",
            "A worker stopped while some jobs were given to the executor. This can be caused by a too short worker timeout or by a memory leak.\n",
            "\n"
          ]
        },
        {
          "output_type": "stream",
          "name": "stdout",
          "text": [
            "KNN/ADASYN Accuracy:  0.9554294529154808\n",
            "KNN/ADASYN Precision:  0.020785019033231943\n",
            "KNN/ADASYN Recall:  0.5387755102040815\n",
            "KNN/ADASYN F1-Score:  0.040020678375401506\n",
            "KNN/ADASYN ROC-AUC:  0.7474631292469154\n"
          ]
        }
      ]
    },
    {
      "cell_type": "markdown",
      "source": [
        "# **Feature Selection**"
      ],
      "metadata": {
        "id": "ATO4HhZ_08qH"
      }
    },
    {
      "cell_type": "markdown",
      "source": [
        "### **Logistic Regression - Raw - ANOVA F measure**"
      ],
      "metadata": {
        "id": "ImlOY-Yn1Pbs"
      }
    },
    {
      "cell_type": "code",
      "source": [
        "pipeline = Pipeline(\n",
        "    steps = [('feature_selection', SelectKBest(score_func=f_classif, k=20)),\n",
        "             ('model', LogisticRegression(solver='lbfgs', max_iter=400))]\n",
        ")\n",
        "\n",
        "scoring = {'accuracy' : make_scorer(accuracy_score),\n",
        "           'precision' : make_scorer(precision_score),\n",
        "           'recall' : make_scorer(recall_score),\n",
        "           'f1_score' : make_scorer(f1_score),\n",
        "           'roc_auc' : make_scorer(roc_auc_score)}\n",
        "\n",
        "# Evaluate\n",
        "scores = cross_validate(pipeline, \n",
        "                        X,\n",
        "                        y, \n",
        "                        scoring=scoring,\n",
        "                        cv=StratifiedKFold(n_splits=5, shuffle=True, random_state=10),\n",
        "                        n_jobs=-1)\n",
        "\n",
        "print(\"Logistic Regression/Raw Data Accuracy: \", (scores['test_accuracy'].mean()))\n",
        "print(\"Logistic Regression/Raw Data Precision: \", (scores['test_precision'].mean()))\n",
        "print(\"Logistic Regression/Raw Data Recall: \", (scores['test_recall'].mean()))\n",
        "print(\"Logistic Regression/Raw Data F1-Score: \", (scores['test_f1_score'].mean()))\n",
        "print(\"Logistic Regression/Raw Data ROC-AUC: \", (scores['test_roc_auc'].mean()))\n",
        "# what are scores for the features\n",
        "for i in range(len(fs.scores_)):\n",
        "\tprint('Feature %d: %f' % (i, fs.scores_[i]))\n",
        "# plot the scores\n",
        "pyplot.bar([i for i in range(len(fs.scores_))], fs.scores_)\n",
        "pyplot.show()"
      ],
      "metadata": {
        "colab": {
          "base_uri": "https://localhost:8080/",
          "height": 872
        },
        "id": "_B-biBHIkAwX",
        "outputId": "fb05552f-9d14-49bb-cf17-457bf55d2ba1"
      },
      "execution_count": null,
      "outputs": [
        {
          "output_type": "stream",
          "name": "stdout",
          "text": [
            "Logistic Regression/Raw Data Accuracy:  0.9991643464928271\n",
            "Logistic Regression/Raw Data Precision:  0.8688786635941597\n",
            "Logistic Regression/Raw Data Recall:  0.6097299525870954\n",
            "Logistic Regression/Raw Data F1-Score:  0.7150754520963802\n",
            "Logistic Regression/Raw Data ROC-AUC:  0.8047840801044618\n",
            "Feature 0: 43.252998\n",
            "Feature 1: 2955.668946\n",
            "Feature 2: 2393.401678\n",
            "Feature 3: 11014.508305\n",
            "Feature 4: 5163.832114\n",
            "Feature 5: 2592.357929\n",
            "Feature 6: 543.510578\n",
            "Feature 7: 10349.605408\n",
            "Feature 8: 112.548287\n",
            "Feature 9: 2746.600273\n",
            "Feature 10: 14057.979985\n",
            "Feature 11: 6999.355047\n",
            "Feature 12: 20749.822361\n",
            "Feature 13: 5.947672\n",
            "Feature 14: 28695.547788\n",
            "Feature 15: 5.080193\n",
            "Feature 16: 11443.349428\n",
            "Feature 17: 33979.168593\n",
            "Feature 18: 3584.380605\n",
            "Feature 19: 344.990997\n",
            "Feature 20: 114.999731\n",
            "Feature 21: 465.916251\n",
            "Feature 22: 0.184706\n",
            "Feature 23: 2.053476\n",
            "Feature 24: 14.850932\n",
            "Feature 25: 3.116062\n",
            "Feature 26: 5.653653\n",
            "Feature 27: 88.045296\n",
            "Feature 28: 25.901405\n",
            "Feature 29: 9.033345\n"
          ]
        },
        {
          "output_type": "display_data",
          "data": {
            "text/plain": [
              "<Figure size 432x288 with 1 Axes>"
            ],
            "image/png": "[encoded data removed]"
          },
          "metadata": {
            "needs_background": "light"
          }
        }
      ]
    },
    {
      "cell_type": "markdown",
      "source": [
        "### **Decision Tree - Raw - Anova-F**"
      ],
      "metadata": {
        "id": "jelAdSoD8I7Q"
      }
    },
    {
      "cell_type": "code",
      "source": [
        "pipeline = Pipeline(\n",
        "    steps = [('feature_selection', SelectKBest(score_func=f_classif, k=20)),\n",
        "             ('model', DecisionTreeClassifier())]\n",
        ")\n",
        "\n",
        "\n",
        "scoring = {'accuracy' : make_scorer(accuracy_score),\n",
        "           'precision' : make_scorer(precision_score),\n",
        "           'recall' : make_scorer(recall_score),\n",
        "           'f1_score' : make_scorer(f1_score),\n",
        "           'roc_auc' : make_scorer(roc_auc_score)}\n",
        "\n",
        "\n",
        "# Evaluate\n",
        "scores = cross_validate(pipeline, \n",
        "                        X,\n",
        "                        y, \n",
        "                        scoring=scoring,\n",
        "                        cv=StratifiedKFold(n_splits=5, shuffle=True, random_state=10),\n",
        "                        n_jobs=-1)\n",
        "\n",
        "print(\"Decision Tree/Raw/Anova-F Accuracy: \", (scores['test_accuracy'].mean()))\n",
        "print(\"Decision Tree/Raw/Anova-F Precision: \", (scores['test_precision'].mean()))\n",
        "print(\"Decision Tree/Raw/Anova-F Recall: \", (scores['test_recall'].mean()))\n",
        "print(\"Decision Tree/Raw/Anova-F F1-Score: \", (scores['test_f1_score'].mean()))\n",
        "print(\"Decision Tree/Raw/Anova-F ROC-AUC: \", (scores['test_roc_auc'].mean()))"
      ],
      "metadata": {
        "colab": {
          "base_uri": "https://localhost:8080/"
        },
        "id": "3aBFquQ45moL",
        "outputId": "a41f6d59-e554-4cdd-9ecd-e8a57cbb41b2"
      },
      "execution_count": null,
      "outputs": [
        {
          "output_type": "stream",
          "name": "stdout",
          "text": [
            "Decision Tree/Raw/Anova-F Accuracy:  0.9992345692393844\n",
            "Decision Tree/Raw/Anova-F Precision:  0.7805556507901877\n",
            "Decision Tree/Raw/Anova-F Recall:  0.7786229643372501\n",
            "Decision Tree/Raw/Anova-F F1-Score:  0.7783296191833111\n",
            "Decision Tree/Raw/Anova-F ROC-AUC:  0.8891197933727473\n"
          ]
        }
      ]
    },
    {
      "cell_type": "markdown",
      "source": [
        "### **Random Forest - Raw - Anova-F**"
      ],
      "metadata": {
        "id": "FZxgFsho9Ock"
      }
    },
    {
      "cell_type": "code",
      "source": [
        "pipeline = Pipeline(\n",
        "    steps = [('feature_selection', SelectKBest(score_func=f_classif, k=20)),\n",
        "             ('model', RandomForestClassifier())]\n",
        ")\n",
        "\n",
        "\n",
        "scoring = {'accuracy' : make_scorer(accuracy_score),\n",
        "           'precision' : make_scorer(precision_score),\n",
        "           'recall' : make_scorer(recall_score),\n",
        "           'f1_score' : make_scorer(f1_score),\n",
        "           'roc_auc' : make_scorer(roc_auc_score)}\n",
        "\n",
        "\n",
        "# Evaluate\n",
        "scores = cross_validate(pipeline, \n",
        "                        X,\n",
        "                        y, \n",
        "                        scoring=scoring,\n",
        "                        cv=StratifiedKFold(n_splits=5, shuffle=True, random_state=10),\n",
        "                        n_jobs=-1)\n",
        "\n",
        "print(\"Random Forest/Raw/Anova-F Accuracy: \", (scores['test_accuracy'].mean()))\n",
        "print(\"Random Forest/Raw/Anova-F Precision: \", (scores['test_precision'].mean()))\n",
        "print(\"Random Forest/Raw/Anova-F Recall: \", (scores['test_recall'].mean()))\n",
        "print(\"Random Forest/Raw/Anova-F F1-Score: \", (scores['test_f1_score'].mean()))\n",
        "print(\"Random Forest/Raw/Anova-F ROC-AUC: \", (scores['test_roc_auc'].mean()))"
      ],
      "metadata": {
        "colab": {
          "base_uri": "https://localhost:8080/"
        },
        "id": "5obU7kpz8mGg",
        "outputId": "834018bb-4f58-4507-f970-f44d5096241c"
      },
      "execution_count": null,
      "outputs": [
        {
          "output_type": "stream",
          "name": "stdout",
          "text": [
            "Random Forest/Raw/Anova-F Accuracy:  0.999554084375861\n",
            "Random Forest/Raw/Anova-F Precision:  0.9528820772723211\n",
            "Random Forest/Raw/Anova-F Recall:  0.7806225520511235\n",
            "Random Forest/Raw/Anova-F F1-Score:  0.8578914588236621\n",
            "Random Forest/Raw/Anova-F ROC-AUC:  0.8902778623822437\n"
          ]
        }
      ]
    },
    {
      "cell_type": "markdown",
      "source": [
        "### **Gaussian NB - Raw - Anova-F**"
      ],
      "metadata": {
        "id": "JLGOBlXv9wHd"
      }
    },
    {
      "cell_type": "code",
      "source": [
        "pipeline = Pipeline(\n",
        "    steps = [('feature_selection', SelectKBest(score_func=f_classif, k=20)),\n",
        "             ('model', GaussianNB())]\n",
        ")\n",
        "\n",
        "\n",
        "scoring = {'accuracy' : make_scorer(accuracy_score),\n",
        "           'precision' : make_scorer(precision_score),\n",
        "           'recall' : make_scorer(recall_score),\n",
        "           'f1_score' : make_scorer(f1_score),\n",
        "           'roc_auc' : make_scorer(roc_auc_score)}\n",
        "\n",
        "\n",
        "# Evaluate\n",
        "scores = cross_validate(pipeline, \n",
        "                        X,\n",
        "                        y, \n",
        "                        scoring=scoring,\n",
        "                        cv=StratifiedKFold(n_splits=5, shuffle=True, random_state=10),\n",
        "                        n_jobs=-1)\n",
        "\n",
        "print(\"Gaussian Naive Bayes/Raw/Anova-F Accuracy: \", (scores['test_accuracy'].mean()))\n",
        "print(\"Gaussian Naive Bayes/Raw/Anova-F Precision: \", (scores['test_precision'].mean()))\n",
        "print(\"Gaussian Naive Bayes/Raw/Anova-F Recall: \", (scores['test_recall'].mean()))\n",
        "print(\"Gaussian Naive Bayes/Raw/Anova-F F1-Score: \", (scores['test_f1_score'].mean()))\n",
        "print(\"Gaussian Naive Bayes/Raw/Anova-F ROC-AUC: \", (scores['test_roc_auc'].mean()))"
      ],
      "metadata": {
        "colab": {
          "base_uri": "https://localhost:8080/"
        },
        "id": "hxZrKbLV9tmn",
        "outputId": "55ba644f-4226-4efb-904a-ece4ac2c7ca7"
      },
      "execution_count": null,
      "outputs": [
        {
          "output_type": "stream",
          "name": "stdout",
          "text": [
            "Gaussian Naive Bayes/Raw/Anova-F Accuracy:  0.9854357433246168\n",
            "Gaussian Naive Bayes/Raw/Anova-F Precision:  0.11001507562084394\n",
            "Gaussian Naive Bayes/Raw/Anova-F Recall:  0.7644609358895074\n",
            "Gaussian Naive Bayes/Raw/Anova-F F1-Score:  0.18478178678472326\n",
            "Gaussian Naive Bayes/Raw/Anova-F ROC-AUC:  0.8751397411100807\n"
          ]
        }
      ]
    },
    {
      "cell_type": "markdown",
      "source": [
        "### **KNN - Raw - Anova-F**"
      ],
      "metadata": {
        "id": "Tq3gsTFL-F0X"
      }
    },
    {
      "cell_type": "code",
      "source": [
        "pipeline = Pipeline(\n",
        "            steps = [('feature_selection', SelectKBest(score_func=f_classif, k=20)),\n",
        "                     ('model', KNeighborsClassifier(n_neighbors=3))]    \n",
        ")\n",
        "\n",
        "\n",
        "scoring = {'accuracy' : make_scorer(accuracy_score),\n",
        "           'precision' : make_scorer(precision_score),\n",
        "           'recall' : make_scorer(recall_score),\n",
        "           'f1_score' : make_scorer(f1_score),\n",
        "           'roc_auc' : make_scorer(roc_auc_score)}\n",
        "\n",
        "\n",
        "# Evaluate\n",
        "scores = cross_validate(pipeline, \n",
        "                        X,\n",
        "                        y, \n",
        "                        scoring=scoring,\n",
        "                        cv=StratifiedKFold(n_splits=5, shuffle=True, random_state=10),\n",
        "                        n_jobs=-1)\n",
        "\n",
        "print(\"KNN/Raw/Anova-F Accuracy: \", (scores['test_accuracy'].mean()))\n",
        "print(\"KNN/Raw/Anova-F Precision: \", (scores['test_precision'].mean()))\n",
        "print(\"KNN/Raw/Anova-F Recall: \", (scores['test_recall'].mean()))\n",
        "print(\"KNN/Raw/Anova-F F1-Score: \", (scores['test_f1_score'].mean()))\n",
        "print(\"KNN/Raw/Anova-F ROC-AUC: \", (scores['test_roc_auc'].mean()))"
      ],
      "metadata": {
        "colab": {
          "base_uri": "https://localhost:8080/"
        },
        "id": "nu96cXqP-LvG",
        "outputId": "9ab13d62-fa4b-4ab3-eb84-c2dc0daa0806"
      },
      "execution_count": null,
      "outputs": [
        {
          "output_type": "stream",
          "name": "stderr",
          "text": [
            "/usr/local/lib/python3.7/dist-packages/joblib/externals/loky/process_executor.py:705: UserWarning:\n",
            "\n",
            "A worker stopped while some jobs were given to the executor. This can be caused by a too short worker timeout or by a memory leak.\n",
            "\n"
          ]
        },
        {
          "output_type": "stream",
          "name": "stdout",
          "text": [
            "KNN/Raw/Anova-F Accuracy:  0.9991783917448419\n",
            "KNN/Raw/Anova-F Precision:  0.9618556914998495\n",
            "KNN/Raw/Anova-F Recall:  0.5571634714491858\n",
            "KNN/Raw/Anova-F F1-Score:  0.6502288406004704\n",
            "KNN/Raw/Anova-F ROC-AUC:  0.7785535979196934\n"
          ]
        }
      ]
    },
    {
      "cell_type": "markdown",
      "source": [
        "# **Undersampling AND Feature Selection**"
      ],
      "metadata": {
        "id": "IJ4l6GcpB8Ov"
      }
    },
    {
      "cell_type": "markdown",
      "source": [
        "## **RUS + ANOVA-F**"
      ],
      "metadata": {
        "id": "_LlLN8sVCIG3"
      }
    },
    {
      "cell_type": "markdown",
      "source": [
        "## **Logistic Regression + RUS + ANOVA-F**"
      ],
      "metadata": {
        "id": "J_2AcyVKCPCB"
      }
    },
    {
      "cell_type": "code",
      "source": [
        "pipeline = Pipeline(\n",
        "    steps = [('under_sampling', RandomUnderSampler()),\n",
        "             ('feature_selection', SelectKBest(score_func=f_classif, k=20)),\n",
        "             ('model', LogisticRegression(solver='lbfgs', max_iter=400))]\n",
        ")\n",
        "\n",
        "scoring = {'accuracy' : make_scorer(accuracy_score),\n",
        "           'precision' : make_scorer(precision_score),\n",
        "           'recall' : make_scorer(recall_score),\n",
        "           'f1_score' : make_scorer(f1_score),\n",
        "           'roc_auc' : make_scorer(roc_auc_score)}\n",
        "\n",
        "# Evaluate\n",
        "scores = cross_validate(pipeline, \n",
        "                        X,\n",
        "                        y, \n",
        "                        scoring=scoring,\n",
        "                        cv=StratifiedKFold(n_splits=5, shuffle=True, random_state=10),\n",
        "                        n_jobs=-1)\n",
        "\n",
        "print(\"Logistic Regression/RUS/ANOVA-F Data Accuracy: \", (scores['test_accuracy'].mean()))\n",
        "print(\"Logistic Regression/RUS/ANOVA-F Data Precision: \", (scores['test_precision'].mean()))\n",
        "print(\"Logistic Regression/RUS/ANOVA-F Data Recall: \", (scores['test_recall'].mean()))\n",
        "print(\"Logistic Regression/RUS/ANOVA-F Data F1-Score: \", (scores['test_f1_score'].mean()))\n",
        "print(\"Logistic Regression/RUS/ANOVA-F Data ROC-AUC: \", (scores['test_roc_auc'].mean()))"
      ],
      "metadata": {
        "colab": {
          "base_uri": "https://localhost:8080/"
        },
        "id": "wTuj1kOMBLSM",
        "outputId": "36558415-d0ed-42ab-f96e-092aae0886d5"
      },
      "execution_count": null,
      "outputs": [
        {
          "output_type": "stream",
          "name": "stdout",
          "text": [
            "Logistic Regression/RUS/ANOVA-F Data Accuracy:  0.9637684267529117\n",
            "Logistic Regression/RUS/ANOVA-F Data Precision:  0.04175365451160194\n",
            "Logistic Regression/RUS/ANOVA-F Data Recall:  0.9026180169037312\n",
            "Logistic Regression/RUS/ANOVA-F Data F1-Score:  0.07977324235949085\n",
            "Logistic Regression/RUS/ANOVA-F Data ROC-AUC:  0.933246296319196\n"
          ]
        }
      ]
    },
    {
      "cell_type": "markdown",
      "source": [
        "## **Decision Tree + RUS + ANOVA-F**"
      ],
      "metadata": {
        "id": "rNs3oRRCCo3p"
      }
    },
    {
      "cell_type": "code",
      "source": [
        "pipeline = Pipeline(\n",
        "    steps = [('under_sampling', RandomUnderSampler()),\n",
        "             ('feature_selection', SelectKBest(score_func=f_classif, k=20)),\n",
        "             ('model', DecisionTreeClassifier())]\n",
        ")\n",
        "\n",
        "scoring = {'accuracy' : make_scorer(accuracy_score),\n",
        "           'precision' : make_scorer(precision_score),\n",
        "           'recall' : make_scorer(recall_score),\n",
        "           'f1_score' : make_scorer(f1_score),\n",
        "           'roc_auc' : make_scorer(roc_auc_score)}\n",
        "\n",
        "# Evaluate\n",
        "scores = cross_validate(pipeline, \n",
        "                        X,\n",
        "                        y, \n",
        "                        scoring=scoring,\n",
        "                        cv=StratifiedKFold(n_splits=5, shuffle=True, random_state=10),\n",
        "                        n_jobs=-1)\n",
        "\n",
        "print(\"Decision Tree/RUS/ANOVA-F Data Accuracy: \", (scores['test_accuracy'].mean()))\n",
        "print(\"Decision Tree/RUS/ANOVA-F Data Precision: \", (scores['test_precision'].mean()))\n",
        "print(\"Decision Tree/RUS/ANOVA-F Data Recall: \", (scores['test_recall'].mean()))\n",
        "print(\"Decision Tree/RUS/ANOVA-F Data F1-Score: \", (scores['test_f1_score'].mean()))\n",
        "print(\"Decision Tree/RUS/ANOVA-F Data ROC-AUC: \", (scores['test_roc_auc'].mean()))"
      ],
      "metadata": {
        "colab": {
          "base_uri": "https://localhost:8080/"
        },
        "id": "zbvHKqzCCtF6",
        "outputId": "69766b93-e159-4ebf-9690-8471dbbb33d2"
      },
      "execution_count": null,
      "outputs": [
        {
          "output_type": "stream",
          "name": "stdout",
          "text": [
            "Decision Tree/RUS/ANOVA-F Data Accuracy:  0.8972497042868739\n",
            "Decision Tree/RUS/ANOVA-F Data Precision:  0.015449874891124885\n",
            "Decision Tree/RUS/ANOVA-F Data Recall:  0.9167594310451455\n",
            "Decision Tree/RUS/ANOVA-F Data F1-Score:  0.030380082321660028\n",
            "Decision Tree/RUS/ANOVA-F Data ROC-AUC:  0.9069877734864507\n"
          ]
        }
      ]
    },
    {
      "cell_type": "markdown",
      "source": [
        "### **Random Forest + RUS + Anova-F**"
      ],
      "metadata": {
        "id": "-2ZEw9P1DHFQ"
      }
    },
    {
      "cell_type": "code",
      "source": [
        "pipeline = Pipeline(\n",
        "    steps = [('under_sampling', RandomUnderSampler()),\n",
        "             ('feature_selection', SelectKBest(score_func=f_classif, k=20)),\n",
        "             ('model', RandomForestClassifier())]\n",
        ")\n",
        "\n",
        "scoring = {'accuracy' : make_scorer(accuracy_score),\n",
        "           'precision' : make_scorer(precision_score),\n",
        "           'recall' : make_scorer(recall_score),\n",
        "           'f1_score' : make_scorer(f1_score),\n",
        "           'roc_auc' : make_scorer(roc_auc_score)}\n",
        "\n",
        "# Evaluate\n",
        "scores = cross_validate(pipeline, \n",
        "                        X,\n",
        "                        y, \n",
        "                        scoring=scoring,\n",
        "                        cv=StratifiedKFold(n_splits=5, shuffle=True, random_state=10),\n",
        "                        n_jobs=-1)\n",
        "\n",
        "print(\"Random Forest/RUS/ANOVA-F Data Accuracy: \", (scores['test_accuracy'].mean()))\n",
        "print(\"Random Forest/RUS/ANOVA-F Data Precision: \", (scores['test_precision'].mean()))\n",
        "print(\"Random Forest/RUS/ANOVA-F Data Recall: \", (scores['test_recall'].mean()))\n",
        "print(\"Random Forest/RUS/ANOVA-F Data F1-Score: \", (scores['test_f1_score'].mean()))\n",
        "print(\"Random Forest/RUS/ANOVA-F Data ROC-AUC: \", (scores['test_roc_auc'].mean()))"
      ],
      "metadata": {
        "colab": {
          "base_uri": "https://localhost:8080/"
        },
        "id": "AtAWc5O7DK_U",
        "outputId": "b059cd97-577e-43e0-c3de-033f0053fbdf"
      },
      "execution_count": null,
      "outputs": [
        {
          "output_type": "stream",
          "name": "stdout",
          "text": [
            "Random Forest/RUS/ANOVA-F Data Accuracy:  0.9708995508327085\n",
            "Random Forest/RUS/ANOVA-F Data Precision:  0.05383865349911885\n",
            "Random Forest/RUS/ANOVA-F Data Recall:  0.9046794475365904\n",
            "Random Forest/RUS/ANOVA-F Data F1-Score:  0.10132336583676264\n",
            "Random Forest/RUS/ANOVA-F Data ROC-AUC:  0.937846995632249\n"
          ]
        }
      ]
    },
    {
      "cell_type": "markdown",
      "source": [
        "### **Gaussian NB + RUS + ANOVA-F**"
      ],
      "metadata": {
        "id": "JCoKj7-DDeA9"
      }
    },
    {
      "cell_type": "code",
      "source": [
        "pipeline = Pipeline(\n",
        "    steps = [('under_sampling', RandomUnderSampler()),\n",
        "             ('feature_selection', SelectKBest(score_func=f_classif, k=20)),\n",
        "             ('model', GaussianNB())]\n",
        ")\n",
        "\n",
        "scoring = {'accuracy' : make_scorer(accuracy_score),\n",
        "           'precision' : make_scorer(precision_score),\n",
        "           'recall' : make_scorer(recall_score),\n",
        "           'f1_score' : make_scorer(f1_score),\n",
        "           'roc_auc' : make_scorer(roc_auc_score)}\n",
        "\n",
        "# Evaluate\n",
        "scores = cross_validate(pipeline, \n",
        "                        X,\n",
        "                        y, \n",
        "                        scoring=scoring,\n",
        "                        cv=StratifiedKFold(n_splits=5, shuffle=True, random_state=10),\n",
        "                        n_jobs=-1)\n",
        "\n",
        "print(\"Gaussian NB/RUS/ANOVA-F Data Accuracy: \", (scores['test_accuracy'].mean()))\n",
        "print(\"Gaussian NB/RUS/ANOVA-F Data Precision: \", (scores['test_precision'].mean()))\n",
        "print(\"Gaussian NB/RUS/ANOVA-F Data Recall: \", (scores['test_recall'].mean()))\n",
        "print(\"Gaussian NB/RUS/ANOVA-F Data F1-Score: \", (scores['test_f1_score'].mean()))\n",
        "print(\"Gaussian NB/RUS/ANOVA-F Data ROC-AUC: \", (scores['test_roc_auc'].mean()))"
      ],
      "metadata": {
        "colab": {
          "base_uri": "https://localhost:8080/"
        },
        "id": "yO2OXxe1DyBe",
        "outputId": "fdee8bee-8591-4b26-f29d-9598e5b1edd5"
      },
      "execution_count": null,
      "outputs": [
        {
          "output_type": "stream",
          "name": "stdout",
          "text": [
            "Gaussian NB/RUS/ANOVA-F Data Accuracy:  0.9911659486120413\n",
            "Gaussian NB/RUS/ANOVA-F Data Precision:  0.15273363407767046\n",
            "Gaussian NB/RUS/ANOVA-F Data Recall:  0.7846423417851989\n",
            "Gaussian NB/RUS/ANOVA-F Data F1-Score:  0.25241212334730234\n",
            "Gaussian NB/RUS/ANOVA-F Data ROC-AUC:  0.8880829140296129\n"
          ]
        }
      ]
    },
    {
      "cell_type": "markdown",
      "source": [
        "### **KNN + RUS + ANOVA-F**"
      ],
      "metadata": {
        "id": "5Zqax0EnERR0"
      }
    },
    {
      "cell_type": "code",
      "source": [
        "pipeline = Pipeline(\n",
        "            steps = [('under_sampling', RandomUnderSampler()),\n",
        "                     ('feature_selection', SelectKBest(score_func=f_classif, k=20)),\n",
        "                     ('model', KNeighborsClassifier(n_neighbors=3))]    \n",
        ")\n",
        "\n",
        "\n",
        "scoring = {'accuracy' : make_scorer(accuracy_score),\n",
        "           'precision' : make_scorer(precision_score),\n",
        "           'recall' : make_scorer(recall_score),\n",
        "           'f1_score' : make_scorer(f1_score),\n",
        "           'roc_auc' : make_scorer(roc_auc_score)}\n",
        "\n",
        "\n",
        "# Evaluate\n",
        "scores = cross_validate(pipeline, \n",
        "                        X,\n",
        "                        y, \n",
        "                        scoring=scoring,\n",
        "                        cv=StratifiedKFold(n_splits=5, shuffle=True, random_state=10),\n",
        "                        n_jobs=-1)\n",
        "\n",
        "print(\"KNN/RUS/ANOVA-F Accuracy: \", (scores['test_accuracy'].mean()))\n",
        "print(\"KNN/RUS/ANOVA-F Precision: \", (scores['test_precision'].mean()))\n",
        "print(\"KNN/RUS/ANOVA-F Recall: \", (scores['test_recall'].mean()))\n",
        "print(\"KNN/RUS/ANOVA-F F1-Score: \", (scores['test_f1_score'].mean()))\n",
        "print(\"KNN/RUS/ANOVA-F ROC-AUC: \", (scores['test_roc_auc'].mean()))"
      ],
      "metadata": {
        "colab": {
          "base_uri": "https://localhost:8080/"
        },
        "id": "OpSSfilGEX4a",
        "outputId": "6a6d4396-b4a6-44e5-ce87-e24353efd587"
      },
      "execution_count": null,
      "outputs": [
        {
          "output_type": "stream",
          "name": "stderr",
          "text": [
            "/usr/local/lib/python3.7/dist-packages/joblib/externals/loky/process_executor.py:705: UserWarning:\n",
            "\n",
            "A worker stopped while some jobs were given to the executor. This can be caused by a too short worker timeout or by a memory leak.\n",
            "\n"
          ]
        },
        {
          "output_type": "stream",
          "name": "stdout",
          "text": [
            "KNN/RUS/ANOVA-F Accuracy:  0.6206414091579642\n",
            "KNN/RUS/ANOVA-F Precision:  0.002966526040807924\n",
            "KNN/RUS/ANOVA-F Recall:  0.6504019789734075\n",
            "KNN/RUS/ANOVA-F F1-Score:  0.005906063599866961\n",
            "KNN/RUS/ANOVA-F ROC-AUC:  0.6354959088543066\n"
          ]
        }
      ]
    },
    {
      "cell_type": "markdown",
      "source": [
        "### **Logistic Regression - NearMiss - Anova-F**"
      ],
      "metadata": {
        "id": "f_-tFKXRE_7g"
      }
    },
    {
      "cell_type": "code",
      "source": [
        "pipeline = Pipeline(\n",
        "    steps = [('under_sampling', NearMiss()),\n",
        "             ('feature_selection', SelectKBest(score_func=f_classif, k=20)),\n",
        "             ('model', LogisticRegression(solver='lbfgs', max_iter=400))]\n",
        ")\n",
        "\n",
        "scoring = {'accuracy' : make_scorer(accuracy_score),\n",
        "           'precision' : make_scorer(precision_score),\n",
        "           'recall' : make_scorer(recall_score),\n",
        "           'f1_score' : make_scorer(f1_score),\n",
        "           'roc_auc' : make_scorer(roc_auc_score)}\n",
        "\n",
        "# Evaluate\n",
        "scores = cross_validate(pipeline, \n",
        "                        X,\n",
        "                        y, \n",
        "                        scoring=scoring,\n",
        "                        cv=StratifiedKFold(n_splits=5, shuffle=True, random_state=10),\n",
        "                        n_jobs=-1)\n",
        "\n",
        "print(\"Logistic Regression/NearMiss/ANOVA-F Data Accuracy: \", (scores['test_accuracy'].mean()))\n",
        "print(\"Logistic Regression/NearMiss/ANOVA-F Data Precision: \", (scores['test_precision'].mean()))\n",
        "print(\"Logistic Regression/NearMiss/ANOVA-F Data Recall: \", (scores['test_recall'].mean()))\n",
        "print(\"Logistic Regression/NearMiss/ANOVA-F Data F1-Score: \", (scores['test_f1_score'].mean()))\n",
        "print(\"Logistic Regression/NearMiss/ANOVA-F Data ROC-AUC: \", (scores['test_roc_auc'].mean()))"
      ],
      "metadata": {
        "colab": {
          "base_uri": "https://localhost:8080/"
        },
        "id": "1iRbpKEaHAQ9",
        "outputId": "21b74772-b594-4c20-a0e8-33334032b8c6"
      },
      "execution_count": null,
      "outputs": [
        {
          "output_type": "stream",
          "name": "stderr",
          "text": [
            "/usr/local/lib/python3.7/dist-packages/joblib/externals/loky/process_executor.py:705: UserWarning:\n",
            "\n",
            "A worker stopped while some jobs were given to the executor. This can be caused by a too short worker timeout or by a memory leak.\n",
            "\n"
          ]
        },
        {
          "output_type": "stream",
          "name": "stdout",
          "text": [
            "Logistic Regression/NearMiss/ANOVA-F Data Accuracy:  0.8043623478854631\n",
            "Logistic Regression/NearMiss/ANOVA-F Data Precision:  0.008562013003971369\n",
            "Logistic Regression/NearMiss/ANOVA-F Data Recall:  0.9249226963512678\n",
            "Logistic Regression/NearMiss/ANOVA-F Data F1-Score:  0.016960011950599884\n",
            "Logistic Regression/NearMiss/ANOVA-F Data ROC-AUC:  0.8645382698997779\n"
          ]
        }
      ]
    },
    {
      "cell_type": "markdown",
      "source": [
        "### **Decision Tree + NearMiss - ANOVA-F**"
      ],
      "metadata": {
        "id": "lqyxZ0stFIMu"
      }
    },
    {
      "cell_type": "code",
      "source": [
        "pipeline = Pipeline(\n",
        "    steps = [('under_sampling', NearMiss()),\n",
        "             ('feature_selection', SelectKBest(score_func=f_classif, k=20)),\n",
        "             ('model', DecisionTreeClassifier())]\n",
        ")\n",
        "\n",
        "\n",
        "scoring = {'accuracy' : make_scorer(accuracy_score),\n",
        "           'precision' : make_scorer(precision_score),\n",
        "           'recall' : make_scorer(recall_score),\n",
        "           'f1_score' : make_scorer(f1_score),\n",
        "           'roc_auc' : make_scorer(roc_auc_score)}\n",
        "\n",
        "\n",
        "# Evaluate\n",
        "scores = cross_validate(pipeline, \n",
        "                        X,\n",
        "                        y, \n",
        "                        scoring=scoring,\n",
        "                        cv=StratifiedKFold(n_splits=5, shuffle=True, random_state=10),\n",
        "                        n_jobs=-1)\n",
        "\n",
        "print(\"Decision Tree/NearMiss/ANOVA-F Accuracy: \", (scores['test_accuracy'].mean()))\n",
        "print(\"Decision Tree/NearMiss/ANOVA-F Precision: \", (scores['test_precision'].mean()))\n",
        "print(\"Decision Tree/NearMiss/ANOVA-F Recall: \", (scores['test_recall'].mean()))\n",
        "print(\"Decision Tree/NearMiss/ANOVA-F F1-Score: \", (scores['test_f1_score'].mean()))\n",
        "print(\"Decision Tree/NearMiss/ANOVA-F ROC-AUC: \", (scores['test_roc_auc'].mean()))"
      ],
      "metadata": {
        "colab": {
          "base_uri": "https://localhost:8080/"
        },
        "id": "TglrmjxTHPNz",
        "outputId": "1a5067c8-2981-4e6b-80ae-87180c068a54"
      },
      "execution_count": null,
      "outputs": [
        {
          "output_type": "stream",
          "name": "stdout",
          "text": [
            "Decision Tree/NearMiss/ANOVA-F Accuracy:  0.5167396283227391\n",
            "Decision Tree/NearMiss/ANOVA-F Precision:  0.003783501682003184\n",
            "Decision Tree/NearMiss/ANOVA-F Recall:  0.9472479901051329\n",
            "Decision Tree/NearMiss/ANOVA-F F1-Score:  0.0075329396392228186\n",
            "Decision Tree/NearMiss/ANOVA-F ROC-AUC:  0.731621286788845\n"
          ]
        }
      ]
    },
    {
      "cell_type": "markdown",
      "source": [
        "### **Random Forest + NearMiss + ANOVA-F**"
      ],
      "metadata": {
        "id": "f2g2n5JmFOyC"
      }
    },
    {
      "cell_type": "code",
      "source": [
        "pipeline = Pipeline(\n",
        "    steps = [('under_sampling', NearMiss()),\n",
        "             ('feature_selection', SelectKBest(score_func=f_classif, k=20)),\n",
        "             ('model', RandomForestClassifier())]\n",
        ")\n",
        "\n",
        "\n",
        "scoring = {'accuracy' : make_scorer(accuracy_score),\n",
        "           'precision' : make_scorer(precision_score),\n",
        "           'recall' : make_scorer(recall_score),\n",
        "           'f1_score' : make_scorer(f1_score),\n",
        "           'roc_auc' : make_scorer(roc_auc_score)}\n",
        "\n",
        "\n",
        "# Evaluate\n",
        "scores = cross_validate(pipeline, \n",
        "                        X,\n",
        "                        y, \n",
        "                        scoring=scoring,\n",
        "                        cv=StratifiedKFold(n_splits=5, shuffle=True, random_state=10),\n",
        "                        n_jobs=-1)\n",
        "\n",
        "print(\"Random Forest/NearMiss/ANOVA-F Accuracy: \", (scores['test_accuracy'].mean()))\n",
        "print(\"Random Forest/NearMiss/ANOVA-F Precision: \", (scores['test_precision'].mean()))\n",
        "print(\"Random Forest/NearMiss/ANOVA-F Recall: \", (scores['test_recall'].mean()))\n",
        "print(\"Random Forest/NearMiss/ANOVA-F F1-Score: \", (scores['test_f1_score'].mean()))\n",
        "print(\"Random Forest/NearMiss/ANOVA-F ROC-AUC: \", (scores['test_roc_auc'].mean()))"
      ],
      "metadata": {
        "colab": {
          "base_uri": "https://localhost:8080/"
        },
        "id": "qavR0pO9KR5l",
        "outputId": "ce258474-29f4-44ef-9ade-85abf8f5b8c3"
      },
      "execution_count": null,
      "outputs": [
        {
          "output_type": "stream",
          "name": "stdout",
          "text": [
            "Random Forest/NearMiss/ANOVA-F Accuracy:  0.7332086169913218\n",
            "Random Forest/NearMiss/ANOVA-F Precision:  0.007447874348947313\n",
            "Random Forest/NearMiss/ANOVA-F Recall:  0.9330653473510615\n",
            "Random Forest/NearMiss/ANOVA-F F1-Score:  0.014758832443016123\n",
            "Random Forest/NearMiss/ANOVA-F ROC-AUC:  0.832964272430433\n"
          ]
        }
      ]
    },
    {
      "cell_type": "markdown",
      "source": [
        "### **Gaussian NB + NearMiss + ANOVA-F**"
      ],
      "metadata": {
        "id": "pjc8vHCcFRfn"
      }
    },
    {
      "cell_type": "code",
      "source": [
        "pipeline = Pipeline(\n",
        "    steps = [('under_sampling', NearMiss()),\n",
        "             ('feature_selection', SelectKBest(score_func=f_classif, k=20)),\n",
        "             ('model', GaussianNB())]\n",
        ")\n",
        "\n",
        "\n",
        "scoring = {'accuracy' : make_scorer(accuracy_score),\n",
        "           'precision' : make_scorer(precision_score),\n",
        "           'recall' : make_scorer(recall_score),\n",
        "           'f1_score' : make_scorer(f1_score),\n",
        "           'roc_auc' : make_scorer(roc_auc_score)}\n",
        "\n",
        "\n",
        "# Evaluate\n",
        "scores = cross_validate(pipeline, \n",
        "                        X,\n",
        "                        y, \n",
        "                        scoring=scoring,\n",
        "                        cv=StratifiedKFold(n_splits=5, shuffle=True, random_state=10),\n",
        "                        n_jobs=-1)\n",
        "\n",
        "print(\"Gaussian NB/NearMiss/ANOVA-F Accuracy: \", (scores['test_accuracy'].mean()))\n",
        "print(\"Gaussian NB/NearMiss/ANOVA-F Precision: \", (scores['test_precision'].mean()))\n",
        "print(\"Gaussian NB/NearMiss/ANOVA-F Recall: \", (scores['test_recall'].mean()))\n",
        "print(\"Gaussian NB/NearMiss/ANOVA-F F1-Score: \", (scores['test_f1_score'].mean()))\n",
        "print(\"Gaussian NB/NearMiss/ANOVA-F ROC-AUC: \", (scores['test_roc_auc'].mean()))"
      ],
      "metadata": {
        "colab": {
          "base_uri": "https://localhost:8080/"
        },
        "id": "D6uYlZiMKaNG",
        "outputId": "cbb5b39f-c921-445a-ffae-c4ffafd86dcb"
      },
      "execution_count": null,
      "outputs": [
        {
          "output_type": "stream",
          "name": "stdout",
          "text": [
            "Gaussian NB/NearMiss/ANOVA-F Accuracy:  0.7847140091227696\n",
            "Gaussian NB/NearMiss/ANOVA-F Precision:  0.00684709492223721\n",
            "Gaussian NB/NearMiss/ANOVA-F Recall:  0.8232117089259946\n",
            "Gaussian NB/NearMiss/ANOVA-F F1-Score:  0.013576724597291404\n",
            "Gaussian NB/NearMiss/ANOVA-F ROC-AUC:  0.8039295095638538\n"
          ]
        }
      ]
    },
    {
      "cell_type": "markdown",
      "source": [
        "### **KNN + NearMiss + ANOVA-F**"
      ],
      "metadata": {
        "id": "y-Exqi8BFUsn"
      }
    },
    {
      "cell_type": "code",
      "source": [
        "pipeline = Pipeline(\n",
        "            steps = [('under_sampling', NearMiss()),\n",
        "                     ('feature_selection', SelectKBest(score_func=f_classif, k=20)),\n",
        "                     ('model', KNeighborsClassifier(n_neighbors=3))]    \n",
        ")\n",
        "\n",
        "\n",
        "scoring = {'accuracy' : make_scorer(accuracy_score),\n",
        "           'precision' : make_scorer(precision_score),\n",
        "           'recall' : make_scorer(recall_score),\n",
        "           'f1_score' : make_scorer(f1_score),\n",
        "           'roc_auc' : make_scorer(roc_auc_score)}\n",
        "\n",
        "\n",
        "# Evaluate\n",
        "scores = cross_validate(pipeline, \n",
        "                        X,\n",
        "                        y, \n",
        "                        scoring=scoring,\n",
        "                        cv=StratifiedKFold(n_splits=5, shuffle=True, random_state=10),\n",
        "                        n_jobs=-1)\n",
        "\n",
        "print(\"KNN/NearMiss/ANOVA-F Accuracy: \", (scores['test_accuracy'].mean()))\n",
        "print(\"KNN/NearMiss/ANOVA-F Precision: \", (scores['test_precision'].mean()))\n",
        "print(\"KNN/NearMiss/ANOVA-F Recall: \", (scores['test_recall'].mean()))\n",
        "print(\"KNN/NearMiss/ANOVA-F F1-Score: \", (scores['test_f1_score'].mean()))\n",
        "print(\"KNN/NearMiss/ANOVA-F ROC-AUC: \", (scores['test_roc_auc'].mean()))"
      ],
      "metadata": {
        "colab": {
          "base_uri": "https://localhost:8080/"
        },
        "id": "YQU16POrKpDJ",
        "outputId": "bfde8d50-85af-461b-c01a-1ed5bb8b27df"
      },
      "execution_count": null,
      "outputs": [
        {
          "output_type": "stream",
          "name": "stdout",
          "text": [
            "KNN/NearMiss/ANOVA-F Accuracy:  0.17536525959774077\n",
            "KNN/NearMiss/ANOVA-F Precision:  0.0024366254117576735\n",
            "KNN/NearMiss/ANOVA-F Recall:  0.9532261389404247\n",
            "KNN/NearMiss/ANOVA-F F1-Score:  0.004856599672746589\n",
            "KNN/NearMiss/ANOVA-F ROC-AUC:  0.5636221966706765\n"
          ]
        }
      ]
    },
    {
      "cell_type": "markdown",
      "source": [
        "### **Logistic Regression + TomekLinks + ANOVA-F**"
      ],
      "metadata": {
        "id": "vhQTpNOIMhYs"
      }
    },
    {
      "cell_type": "code",
      "source": [
        "pipeline = Pipeline(\n",
        "    steps = [('under_sampling', TomekLinks()),\n",
        "             ('feature_selection', SelectKBest(score_func=f_classif, k=20)),\n",
        "             ('model', LogisticRegression(solver='lbfgs', max_iter=400))]\n",
        ")\n",
        "\n",
        "scoring = {'accuracy' : make_scorer(accuracy_score),\n",
        "           'precision' : make_scorer(precision_score),\n",
        "           'recall' : make_scorer(recall_score),\n",
        "           'f1_score' : make_scorer(f1_score),\n",
        "           'roc_auc' : make_scorer(roc_auc_score)}\n",
        "\n",
        "# Evaluate\n",
        "scores = cross_validate(pipeline, \n",
        "                        X,\n",
        "                        y, \n",
        "                        scoring=scoring,\n",
        "                        cv=StratifiedKFold(n_splits=5, shuffle=True, random_state=10),\n",
        "                        n_jobs=-1)\n",
        "\n",
        "print(\"Logistic Regression/TomekLinks/ANOVA-F Data Accuracy: \", (scores['test_accuracy'].mean()))\n",
        "print(\"Logistic Regression/TomekLinks/ANOVA-F Data Precision: \", (scores['test_precision'].mean()))\n",
        "print(\"Logistic Regression/TomekLinks/ANOVA-F Data Recall: \", (scores['test_recall'].mean()))\n",
        "print(\"Logistic Regression/TomekLinks/ANOVA-F Data F1-Score: \", (scores['test_f1_score'].mean()))\n",
        "print(\"Logistic Regression/TomekLinks/ANOVA-F Data ROC-AUC: \", (scores['test_roc_auc'].mean()))"
      ],
      "metadata": {
        "colab": {
          "base_uri": "https://localhost:8080/"
        },
        "id": "363BeR_xM16q",
        "outputId": "0bde75a0-e515-4cd7-b0f7-0c3bcd2b4409"
      },
      "execution_count": 12,
      "outputs": [
        {
          "output_type": "stream",
          "name": "stdout",
          "text": [
            "Logistic Regression/TomekLinks/ANOVA-F Data Accuracy:  0.9991538129698905\n",
            "Logistic Regression/TomekLinks/ANOVA-F Data Precision:  0.869918626611271\n",
            "Logistic Regression/TomekLinks/ANOVA-F Data Recall:  0.6015873015873016\n",
            "Logistic Regression/TomekLinks/ANOVA-F Data F1-Score:  0.709734532928295\n",
            "Logistic Regression/TomekLinks/ANOVA-F Data ROC-AUC:  0.8007145132173712\n"
          ]
        }
      ]
    },
    {
      "cell_type": "markdown",
      "source": [
        "### **Decision Tree + TomekLinks + ANOVA-F**"
      ],
      "metadata": {
        "id": "2D6mbCS7MpZj"
      }
    },
    {
      "cell_type": "code",
      "source": [
        "pipeline = Pipeline(\n",
        "    steps = [('under_sampling', TomekLinks()),\n",
        "             ('feature_selection', SelectKBest(score_func=f_classif, k=20)),\n",
        "             ('model', DecisionTreeClassifier())]\n",
        ")\n",
        "\n",
        "scoring = {'accuracy' : make_scorer(accuracy_score),\n",
        "           'precision' : make_scorer(precision_score),\n",
        "           'recall' : make_scorer(recall_score),\n",
        "           'f1_score' : make_scorer(f1_score),\n",
        "           'roc_auc' : make_scorer(roc_auc_score)}\n",
        "\n",
        "# Evaluate\n",
        "scores = cross_validate(pipeline, \n",
        "                        X,\n",
        "                        y, \n",
        "                        scoring=scoring,\n",
        "                        cv=StratifiedKFold(n_splits=5, shuffle=True, random_state=10),\n",
        "                        n_jobs=-1)\n",
        "\n",
        "print(\"Decision Tree/TomekLinks + ANOVA-F Data Accuracy: \", (scores['test_accuracy'].mean()))\n",
        "print(\"Decision Tree/TomekLinks + ANOVA-F Data Precision: \", (scores['test_precision'].mean()))\n",
        "print(\"Decision Tree/TomekLinks + ANOVA-F Data Recall: \", (scores['test_recall'].mean()))\n",
        "print(\"Decision Tree/TomekLinks + ANOVA-F Data F1-Score: \", (scores['test_f1_score'].mean()))\n",
        "print(\"Decision Tree/TomekLinks + ANOVA-F Data ROC-AUC: \", (scores['test_roc_auc'].mean()))"
      ],
      "metadata": {
        "id": "9cdC-IVKOqb9",
        "colab": {
          "base_uri": "https://localhost:8080/"
        },
        "outputId": "6a7ef604-0715-4eec-ddeb-4b1817aacc33"
      },
      "execution_count": 13,
      "outputs": [
        {
          "output_type": "stream",
          "name": "stdout",
          "text": [
            "Decision Tree/TomekLinks + ANOVA-F Data Accuracy:  0.999234569301025\n",
            "Decision Tree/TomekLinks + ANOVA-F Data Precision:  0.7858297340093917\n",
            "Decision Tree/TomekLinks + ANOVA-F Data Recall:  0.7704803133374561\n",
            "Decision Tree/TomekLinks + ANOVA-F Data F1-Score:  0.7768511304992287\n",
            "Decision Tree/TomekLinks + ANOVA-F Data ROC-AUC:  0.8850555023240751\n"
          ]
        }
      ]
    },
    {
      "cell_type": "markdown",
      "source": [
        "### **Random Forest + TomekLinks + ANOVA-F**"
      ],
      "metadata": {
        "id": "M7Jovcj1Mr1T"
      }
    },
    {
      "cell_type": "code",
      "source": [
        "pipeline = Pipeline(\n",
        "    steps = [('under_sampling', TomekLinks()),\n",
        "             ('feature_selection', SelectKBest(score_func=f_classif, k=20)),\n",
        "             ('model', RandomForestClassifier())]\n",
        ")\n",
        "\n",
        "scoring = {'accuracy' : make_scorer(accuracy_score),\n",
        "           'precision' : make_scorer(precision_score),\n",
        "           'recall' : make_scorer(recall_score),\n",
        "           'f1_score' : make_scorer(f1_score),\n",
        "           'roc_auc' : make_scorer(roc_auc_score)}\n",
        "\n",
        "# Evaluate\n",
        "scores = cross_validate(pipeline, \n",
        "                        X,\n",
        "                        y, \n",
        "                        scoring=scoring,\n",
        "                        cv=StratifiedKFold(n_splits=5, shuffle=True, random_state=10),\n",
        "                        n_jobs=-1)\n",
        "\n",
        "print(\"Random Forest/TomekLinks + ANOVA-F Data Accuracy: \", (scores['test_accuracy'].mean()))\n",
        "print(\"Random Forest/TomekLinks + ANOVA-F Data Precision: \", (scores['test_precision'].mean()))\n",
        "print(\"Random Forest/TomekLinks + ANOVA-F Data Recall: \", (scores['test_recall'].mean()))\n",
        "print(\"Random Forest/TomekLinks + ANOVA-F Data F1-Score: \", (scores['test_f1_score'].mean()))\n",
        "print(\"Random Forest/TomekLinks + ANOVA-F Data ROC-AUC: \", (scores['test_roc_auc'].mean()))"
      ],
      "metadata": {
        "id": "jhfG0jPOO29t",
        "colab": {
          "base_uri": "https://localhost:8080/"
        },
        "outputId": "48c5be32-0879-438b-ae9a-4b4b4578b507"
      },
      "execution_count": 12,
      "outputs": [
        {
          "output_type": "stream",
          "name": "stdout",
          "text": [
            "Random Forest/TomekLinks + ANOVA-F Data Accuracy:  0.9995505731399084\n",
            "Random Forest/TomekLinks + ANOVA-F Data Precision:  0.9461138658089878\n",
            "Random Forest/TomekLinks + ANOVA-F Data Recall:  0.7846629560915275\n",
            "Random Forest/TomekLinks + ANOVA-F Data F1-Score:  0.8576248711046552\n",
            "Random Forest/TomekLinks + ANOVA-F Data ROC-AUC:  0.892292788564027\n"
          ]
        }
      ]
    },
    {
      "cell_type": "markdown",
      "source": [
        "### **Gaussian NB + TomekLinks + ANOVA-F**"
      ],
      "metadata": {
        "id": "DkjYfqHDMvvU"
      }
    },
    {
      "cell_type": "code",
      "source": [
        "pipeline = Pipeline(\n",
        "    steps = [('under_sampling', TomekLinks()),\n",
        "             ('feature_selection', SelectKBest(score_func=f_classif, k=20)),\n",
        "             ('model', GaussianNB())]\n",
        ")\n",
        "\n",
        "scoring = {'accuracy' : make_scorer(accuracy_score),\n",
        "           'precision' : make_scorer(precision_score),\n",
        "           'recall' : make_scorer(recall_score),\n",
        "           'f1_score' : make_scorer(f1_score),\n",
        "           'roc_auc' : make_scorer(roc_auc_score)}\n",
        "\n",
        "# Evaluate\n",
        "scores = cross_validate(pipeline, \n",
        "                        X,\n",
        "                        y, \n",
        "                        scoring=scoring,\n",
        "                        cv=StratifiedKFold(n_splits=5, shuffle=True, random_state=10),\n",
        "                        n_jobs=-1)\n",
        "\n",
        "print(\"Gaussian NB/TomekLinks/ANOVA-F Data Accuracy: \", (scores['test_accuracy'].mean()))\n",
        "print(\"Gaussian NB/TomekLinks/ANOVA-F Data Precision: \", (scores['test_precision'].mean()))\n",
        "print(\"Gaussian NB/TomekLinks/ANOVA-F Data Recall: \", (scores['test_recall'].mean()))\n",
        "print(\"Gaussian NB/TomekLinks/ANOVA-F Data F1-Score: \", (scores['test_f1_score'].mean()))\n",
        "print(\"Gaussian NB/TomekLinks/ANOVA-F Data ROC-AUC: \", (scores['test_roc_auc'].mean()))"
      ],
      "metadata": {
        "id": "8HNqOZofPDmc",
        "colab": {
          "base_uri": "https://localhost:8080/"
        },
        "outputId": "41a22046-9198-4c17-da54-37ccfcd894ee"
      },
      "execution_count": 13,
      "outputs": [
        {
          "output_type": "stream",
          "name": "stdout",
          "text": [
            "Gaussian NB/TomekLinks/ANOVA-F Data Accuracy:  0.9854357433246168\n",
            "Gaussian NB/TomekLinks/ANOVA-F Data Precision:  0.11001507562084394\n",
            "Gaussian NB/TomekLinks/ANOVA-F Data Recall:  0.7644609358895074\n",
            "Gaussian NB/TomekLinks/ANOVA-F Data F1-Score:  0.18478178678472326\n",
            "Gaussian NB/TomekLinks/ANOVA-F Data ROC-AUC:  0.8751397411100807\n"
          ]
        }
      ]
    },
    {
      "cell_type": "markdown",
      "source": [
        "### **KNN + TomekLinks + ANOVA-F**"
      ],
      "metadata": {
        "id": "09GsRDyqMyPp"
      }
    },
    {
      "cell_type": "code",
      "source": [
        "pipeline = Pipeline(\n",
        "            steps = [('under_sampling', TomekLinks()),\n",
        "                     ('feature_selection', SelectKBest(score_func=f_classif, k=20)),\n",
        "                     ('model', KNeighborsClassifier(n_neighbors=3))]    \n",
        ")\n",
        "\n",
        "\n",
        "scoring = {'accuracy' : make_scorer(accuracy_score),\n",
        "           'precision' : make_scorer(precision_score),\n",
        "           'recall' : make_scorer(recall_score),\n",
        "           'f1_score' : make_scorer(f1_score),\n",
        "           'roc_auc' : make_scorer(roc_auc_score)}\n",
        "\n",
        "\n",
        "# Evaluate\n",
        "scores = cross_validate(pipeline, \n",
        "                        X,\n",
        "                        y, \n",
        "                        scoring=scoring,\n",
        "                        cv=StratifiedKFold(n_splits=5, shuffle=True, random_state=10),\n",
        "                        n_jobs=-1)\n",
        "\n",
        "print(\"KNN/TomekLinks/ANOVA-F Accuracy: \", (scores['test_accuracy'].mean()))\n",
        "print(\"KNN/TomekLinks/ANOVA-F Precision: \", (scores['test_precision'].mean()))\n",
        "print(\"KNN/TomekLinks/ANOVA-F Recall: \", (scores['test_recall'].mean()))\n",
        "print(\"KNN/TomekLinks/ANOVA-F F1-Score: \", (scores['test_f1_score'].mean()))\n",
        "print(\"KNN/TomekLinks/ANOVA-F ROC-AUC: \", (scores['test_roc_auc'].mean()))"
      ],
      "metadata": {
        "id": "RdGHmgB3FHXI",
        "colab": {
          "base_uri": "https://localhost:8080/"
        },
        "outputId": "478ea3b6-6cca-4443-d448-fa2d5b996420"
      },
      "execution_count": 14,
      "outputs": [
        {
          "output_type": "stream",
          "name": "stdout",
          "text": [
            "KNN/TomekLinks/ANOVA-F Accuracy:  0.9991783917448419\n",
            "KNN/TomekLinks/ANOVA-F Precision:  0.9618556914998495\n",
            "KNN/TomekLinks/ANOVA-F Recall:  0.5571634714491858\n",
            "KNN/TomekLinks/ANOVA-F F1-Score:  0.6502288406004704\n",
            "KNN/TomekLinks/ANOVA-F ROC-AUC:  0.7785535979196934\n"
          ]
        }
      ]
    },
    {
      "cell_type": "markdown",
      "source": [
        ""
      ],
      "metadata": {
        "id": "HxKSMMdnaKHG"
      }
    },
    {
      "cell_type": "markdown",
      "source": [
        ""
      ],
      "metadata": {
        "id": "cb4f3cqDaJ7G"
      }
    },
    {
      "cell_type": "markdown",
      "source": [
        ""
      ],
      "metadata": {
        "id": "Kdg0cwRtaJiH"
      }
    },
    {
      "cell_type": "markdown",
      "source": [
        ""
      ],
      "metadata": {
        "id": "WSIEavKAaJT2"
      }
    },
    {
      "cell_type": "markdown",
      "source": [
        ""
      ],
      "metadata": {
        "id": "b7li7NbqaR2U"
      }
    },
    {
      "cell_type": "markdown",
      "source": [
        ""
      ],
      "metadata": {
        "id": "PXo6cFrKaRwD"
      }
    },
    {
      "cell_type": "markdown",
      "source": [
        ""
      ],
      "metadata": {
        "id": "rPR0XmujaRpO"
      }
    },
    {
      "cell_type": "markdown",
      "source": [
        ""
      ],
      "metadata": {
        "id": "2HUQJ4u8aRin"
      }
    },
    {
      "cell_type": "markdown",
      "source": [
        ""
      ],
      "metadata": {
        "id": "b4q69Z9UaRb3"
      }
    },
    {
      "cell_type": "markdown",
      "source": [
        ""
      ],
      "metadata": {
        "id": "dJLlFD89aRVE"
      }
    },
    {
      "cell_type": "markdown",
      "source": [
        ""
      ],
      "metadata": {
        "id": "yn_gCszQaRNp"
      }
    },
    {
      "cell_type": "markdown",
      "source": [
        ""
      ],
      "metadata": {
        "id": "u4yqinUGaRGY"
      }
    },
    {
      "cell_type": "markdown",
      "source": [
        ""
      ],
      "metadata": {
        "id": "R8Bz3NtjaQ_x"
      }
    },
    {
      "cell_type": "markdown",
      "source": [
        ""
      ],
      "metadata": {
        "id": "s1BGBckuaQ4p"
      }
    },
    {
      "cell_type": "markdown",
      "source": [
        ""
      ],
      "metadata": {
        "id": "MqNqKNP4aQym"
      }
    },
    {
      "cell_type": "markdown",
      "source": [
        ""
      ],
      "metadata": {
        "id": "ge1X_26kaQsE"
      }
    },
    {
      "cell_type": "markdown",
      "source": [
        ""
      ],
      "metadata": {
        "id": "F93SE4N0aQl6"
      }
    },
    {
      "cell_type": "markdown",
      "source": [
        ""
      ],
      "metadata": {
        "id": "-ZsYnFa2aQe2"
      }
    },
    {
      "cell_type": "markdown",
      "source": [
        ""
      ],
      "metadata": {
        "id": "6H_KwlKPaQYn"
      }
    },
    {
      "cell_type": "markdown",
      "source": [
        ""
      ],
      "metadata": {
        "id": "9NA5TufSaQSG"
      }
    },
    {
      "cell_type": "markdown",
      "source": [
        ""
      ],
      "metadata": {
        "id": "RUcYcyzKaQML"
      }
    },
    {
      "cell_type": "markdown",
      "source": [
        ""
      ],
      "metadata": {
        "id": "SkRCTFnkaQFh"
      }
    },
    {
      "cell_type": "markdown",
      "source": [
        ""
      ],
      "metadata": {
        "id": "O6EpuzdhaP_l"
      }
    },
    {
      "cell_type": "markdown",
      "source": [
        ""
      ],
      "metadata": {
        "id": "GYk3cQdqaP5I"
      }
    },
    {
      "cell_type": "markdown",
      "source": [
        ""
      ],
      "metadata": {
        "id": "h2m0bd4RaPzH"
      }
    },
    {
      "cell_type": "markdown",
      "source": [
        ""
      ],
      "metadata": {
        "id": "D_X-20UHaPsQ"
      }
    },
    {
      "cell_type": "markdown",
      "source": [
        ""
      ],
      "metadata": {
        "id": "hXHLODtUaPmP"
      }
    },
    {
      "cell_type": "markdown",
      "source": [
        ""
      ],
      "metadata": {
        "id": "ejQjdHK7aPfl"
      }
    },
    {
      "cell_type": "markdown",
      "source": [
        ""
      ],
      "metadata": {
        "id": "r3iFxK2maPZa"
      }
    },
    {
      "cell_type": "markdown",
      "source": [
        ""
      ],
      "metadata": {
        "id": "O492cQ2EaPSr"
      }
    },
    {
      "cell_type": "markdown",
      "source": [
        ""
      ],
      "metadata": {
        "id": "eStqQSdqaPMd"
      }
    },
    {
      "cell_type": "markdown",
      "source": [
        ""
      ],
      "metadata": {
        "id": "XTSVPFX-aPFv"
      }
    },
    {
      "cell_type": "markdown",
      "source": [
        ""
      ],
      "metadata": {
        "id": "lfq8ZdCxaO_v"
      }
    },
    {
      "cell_type": "markdown",
      "source": [
        ""
      ],
      "metadata": {
        "id": "LWP_rTlhaO49"
      }
    },
    {
      "cell_type": "markdown",
      "source": [
        ""
      ],
      "metadata": {
        "id": "eh6WxcXHaOqx"
      }
    },
    {
      "cell_type": "markdown",
      "source": [
        ""
      ],
      "metadata": {
        "id": "MAv-LcF8aOkP"
      }
    },
    {
      "cell_type": "markdown",
      "source": [
        ""
      ],
      "metadata": {
        "id": "ucuXdXX8aOeC"
      }
    },
    {
      "cell_type": "markdown",
      "source": [
        ""
      ],
      "metadata": {
        "id": "t0karbS6aOVr"
      }
    },
    {
      "cell_type": "markdown",
      "source": [
        ""
      ],
      "metadata": {
        "id": "Uch8m0l-aOQL"
      }
    },
    {
      "cell_type": "markdown",
      "source": [
        ""
      ],
      "metadata": {
        "id": "-sy7NWWxaOH3"
      }
    },
    {
      "cell_type": "markdown",
      "source": [
        ""
      ],
      "metadata": {
        "id": "YyiTZmbAaN7n"
      }
    },
    {
      "cell_type": "markdown",
      "source": [
        ""
      ],
      "metadata": {
        "id": "lvdfStv_aNuT"
      }
    },
    {
      "cell_type": "markdown",
      "source": [
        ""
      ],
      "metadata": {
        "id": "-XctfFXsaNYn"
      }
    },
    {
      "cell_type": "markdown",
      "source": [
        "### **Logistic Regression + ROS + ANOVA-F**"
      ],
      "metadata": {
        "id": "1xVchCljQigG"
      }
    },
    {
      "cell_type": "code",
      "source": [
        "pipeline = Pipeline(\n",
        "    steps = [('over_sampling', RandomOverSampler()),\n",
        "             ('feature_selection', SelectKBest(score_func=f_classif, k=20)),\n",
        "             ('model', LogisticRegression(solver='lbfgs', max_iter=400))]\n",
        ")\n",
        "\n",
        "scoring = {'accuracy' : make_scorer(accuracy_score),\n",
        "           'precision' : make_scorer(precision_score),\n",
        "           'recall' : make_scorer(recall_score),\n",
        "           'f1_score' : make_scorer(f1_score),\n",
        "           'roc_auc' : make_scorer(roc_auc_score)}\n",
        "\n",
        "# Evaluate\n",
        "scores = cross_validate(pipeline, \n",
        "                        X,\n",
        "                        y, \n",
        "                        scoring=scoring,\n",
        "                        cv=StratifiedKFold(n_splits=5, shuffle=True, random_state=10),\n",
        "                        n_jobs=-1)\n",
        "\n",
        "print(\"Logistic Regression/ROS/ANOVA-F Data Accuracy: \", (scores['test_accuracy'].mean()))\n",
        "print(\"Logistic Regression/ROS/ANOVA-F Data Precision: \", (scores['test_precision'].mean()))\n",
        "print(\"Logistic Regression/ROS/ANOVA-F Data Recall: \", (scores['test_recall'].mean()))\n",
        "print(\"Logistic Regression/ROS/ANOVA-F Data F1-Score: \", (scores['test_f1_score'].mean()))\n",
        "print(\"Logistic Regression/ROS/ANOVA-F Data ROC-AUC: \", (scores['test_roc_auc'].mean()))"
      ],
      "metadata": {
        "colab": {
          "base_uri": "https://localhost:8080/"
        },
        "id": "2Gs1RN1OVliP",
        "outputId": "a0270d1f-c12a-4dfc-a6ad-0eb6418add00"
      },
      "execution_count": null,
      "outputs": [
        {
          "output_type": "stream",
          "name": "stdout",
          "text": [
            "Logistic Regression/ROS/ANOVA-F Data Accuracy:  0.9661138862622423\n",
            "Logistic Regression/ROS/ANOVA-F Data Precision:  0.04411936905252166\n",
            "Logistic Regression/ROS/ANOVA-F Data Recall:  0.9005978148835292\n",
            "Logistic Regression/ROS/ANOVA-F Data F1-Score:  0.08410957604951537\n",
            "Logistic Regression/ROS/ANOVA-F Data ROC-AUC:  0.9334127072764551\n"
          ]
        }
      ]
    },
    {
      "cell_type": "markdown",
      "source": [
        "### **Decision Tree + ROS + ANOVA-F**"
      ],
      "metadata": {
        "id": "qisokH9_Qsyw"
      }
    },
    {
      "cell_type": "code",
      "source": [
        "pipeline = Pipeline(\n",
        "    steps = [('under_sampling', RandomOverSampler()),\n",
        "             ('feature_selection', SelectKBest(score_func=f_classif, k=20)),\n",
        "             ('model', DecisionTreeClassifier())]\n",
        ")\n",
        "\n",
        "\n",
        "scoring = {'accuracy' : make_scorer(accuracy_score),\n",
        "           'precision' : make_scorer(precision_score),\n",
        "           'recall' : make_scorer(recall_score),\n",
        "           'f1_score' : make_scorer(f1_score),\n",
        "           'roc_auc' : make_scorer(roc_auc_score)}\n",
        "\n",
        "\n",
        "# Evaluate\n",
        "scores = cross_validate(pipeline, \n",
        "                        X,\n",
        "                        y, \n",
        "                        scoring=scoring,\n",
        "                        cv=StratifiedKFold(n_splits=5, shuffle=True, random_state=10),\n",
        "                        n_jobs=-1)\n",
        "\n",
        "print(\"Decision Tree/ROS/ANOVA-F Accuracy: \", (scores['test_accuracy'].mean()))\n",
        "print(\"Decision Tree/ROS/ANOVA-F Precision: \", (scores['test_precision'].mean()))\n",
        "print(\"Decision Tree/ROS/ANOVA-F Recall: \", (scores['test_recall'].mean()))\n",
        "print(\"Decision Tree/ROS/ANOVA-F F1-Score: \", (scores['test_f1_score'].mean()))\n",
        "print(\"Decision Tree/ROS/ANOVA-F ROC-AUC: \", (scores['test_roc_auc'].mean()))"
      ],
      "metadata": {
        "colab": {
          "base_uri": "https://localhost:8080/"
        },
        "id": "cTAkd7nRVtPc",
        "outputId": "1070ad7d-d9d4-4f67-92d1-829e43a7140b"
      },
      "execution_count": null,
      "outputs": [
        {
          "output_type": "stream",
          "name": "stdout",
          "text": [
            "Decision Tree/ROS/ANOVA-F Accuracy:  0.9991678575438581\n",
            "Decision Tree/ROS/ANOVA-F Precision:  0.776203191458171\n",
            "Decision Tree/ROS/ANOVA-F Recall:  0.7358688930117501\n",
            "Decision Tree/ROS/ANOVA-F F1-Score:  0.753899727311629\n",
            "Decision Tree/ROS/ANOVA-F ROC-AUC:  0.8677462749356097\n"
          ]
        }
      ]
    },
    {
      "cell_type": "code",
      "source": [
        "pipeline = Pipeline(steps=\n",
        "                    [('under_sampling', RandomOverSampler()),\n",
        "                     ('feature_selection', SelectKBest(score_func=f_classif, k=20)),\n",
        "                     ('model', DecisionTreeClassifier)]\n",
        "                    )"
      ],
      "metadata": {
        "id": "KqYpHeZISDjo"
      },
      "execution_count": null,
      "outputs": []
    },
    {
      "cell_type": "markdown",
      "source": [
        "### **Random Forest + ROS + ANOVA-F**"
      ],
      "metadata": {
        "id": "gIV96mohQwhF"
      }
    },
    {
      "cell_type": "code",
      "source": [
        "pipeline = Pipeline(\n",
        "    steps = [('over_sampling', RandomOverSampler()),\n",
        "             ('feature_selection', SelectKBest(score_func=f_classif, k=20)),\n",
        "             ('model', RandomForestClassifier())]\n",
        ")\n",
        "\n",
        "scoring = {'accuracy' : make_scorer(accuracy_score),\n",
        "           'precision' : make_scorer(precision_score),\n",
        "           'recall' : make_scorer(recall_score),\n",
        "           'f1_score' : make_scorer(f1_score),\n",
        "           'roc_auc' : make_scorer(roc_auc_score)}\n",
        "\n",
        "# Evaluate\n",
        "scores = cross_validate(pipeline, \n",
        "                        X,\n",
        "                        y, \n",
        "                        scoring=scoring,\n",
        "                        cv=StratifiedKFold(n_splits=5, shuffle=True, random_state=10),\n",
        "                        n_jobs=-1)\n",
        "\n",
        "print(\"Random Forest/ROS/ANOVA-F Data Accuracy: \", (scores['test_accuracy'].mean()))\n",
        "print(\"Random Forest/ROS/ANOVA-F Data Precision: \", (scores['test_precision'].mean()))\n",
        "print(\"Random Forest/ROS/ANOVA-F Data Recall: \", (scores['test_recall'].mean()))\n",
        "print(\"Random Forest/ROS/ANOVA-F Data F1-Score: \", (scores['test_f1_score'].mean()))\n",
        "print(\"Random Forest/ROS/ANOVA-F Data ROC-AUC: \", (scores['test_roc_auc'].mean()))"
      ],
      "metadata": {
        "colab": {
          "base_uri": "https://localhost:8080/"
        },
        "id": "_ZTPPXmjWBPX",
        "outputId": "e6e0da3b-3487-4681-f923-aacd1b0d2959"
      },
      "execution_count": null,
      "outputs": [
        {
          "output_type": "stream",
          "name": "stdout",
          "text": [
            "Random Forest/ROS/ANOVA-F Data Accuracy:  0.9995470622121585\n",
            "Random Forest/ROS/ANOVA-F Data Precision:  0.9436023703448002\n",
            "Random Forest/ROS/ANOVA-F Data Recall:  0.7847041847041847\n",
            "Random Forest/ROS/ANOVA-F Data F1-Score:  0.856472357277719\n",
            "Random Forest/ROS/ANOVA-F Data ROC-AUC:  0.8923116442575493\n"
          ]
        }
      ]
    },
    {
      "cell_type": "markdown",
      "source": [
        "### **Gaussian NB + ROS + ANOVA-F**"
      ],
      "metadata": {
        "id": "8l11Nv8FQy9H"
      }
    },
    {
      "cell_type": "code",
      "source": [
        "pipeline = Pipeline(\n",
        "    steps = [('over_sampling', RandomOverSampler()),\n",
        "             ('feature_selection', SelectKBest(score_func=f_classif, k=20)),\n",
        "             ('model', GaussianNB())]\n",
        ")\n",
        "\n",
        "scoring = {'accuracy' : make_scorer(accuracy_score),\n",
        "           'precision' : make_scorer(precision_score),\n",
        "           'recall' : make_scorer(recall_score),\n",
        "           'f1_score' : make_scorer(f1_score),\n",
        "           'roc_auc' : make_scorer(roc_auc_score)}\n",
        "\n",
        "# Evaluate\n",
        "scores = cross_validate(pipeline, \n",
        "                        X,\n",
        "                        y, \n",
        "                        scoring=scoring,\n",
        "                        cv=StratifiedKFold(n_splits=5, shuffle=True, random_state=10),\n",
        "                        n_jobs=-1)\n",
        "\n",
        "print(\"Gaussian NB/ROS/ANOVA-F Data Accuracy: \", (scores['test_accuracy'].mean()))\n",
        "print(\"Gaussian NB/ROS/ANOVA-F Data Precision: \", (scores['test_precision'].mean()))\n",
        "print(\"Gaussian NB/ROS/ANOVA-F Data Recall: \", (scores['test_recall'].mean()))\n",
        "print(\"Gaussian NB/ROS/ANOVA-F Data F1-Score: \", (scores['test_f1_score'].mean()))\n",
        "print(\"Gaussian NB/ROS/ANOVA-F Data ROC-AUC: \", (scores['test_roc_auc'].mean()))"
      ],
      "metadata": {
        "colab": {
          "base_uri": "https://localhost:8080/"
        },
        "id": "GEG7xh1iWHx3",
        "outputId": "aec8a272-3c95-4d67-b8c1-62762efa58c8"
      },
      "execution_count": null,
      "outputs": [
        {
          "output_type": "stream",
          "name": "stdout",
          "text": [
            "Gaussian NB/ROS/ANOVA-F Data Accuracy:  0.9919348909784537\n",
            "Gaussian NB/ROS/ANOVA-F Data Precision:  0.1492966833846508\n",
            "Gaussian NB/ROS/ANOVA-F Data Recall:  0.7805813234384662\n",
            "Gaussian NB/ROS/ANOVA-F Data F1-Score:  0.250604569850387\n",
            "Gaussian NB/ROS/ANOVA-F Data ROC-AUC:  0.886441058286421\n"
          ]
        }
      ]
    },
    {
      "cell_type": "markdown",
      "source": [
        "### **KNN + ROS + ANOVA-F**"
      ],
      "metadata": {
        "id": "dMNvEJoHQ1uz"
      }
    },
    {
      "cell_type": "code",
      "source": [
        "pipeline = Pipeline(\n",
        "            steps = [('over_sampling', RandomOverSampler()),\n",
        "                     ('feature_selection', SelectKBest(score_func=f_classif, k=20)),\n",
        "                     ('model', KNeighborsClassifier(n_neighbors=3))]    \n",
        ")\n",
        "\n",
        "\n",
        "scoring = {'accuracy' : make_scorer(accuracy_score),\n",
        "           'precision' : make_scorer(precision_score),\n",
        "           'recall' : make_scorer(recall_score),\n",
        "           'f1_score' : make_scorer(f1_score),\n",
        "           'roc_auc' : make_scorer(roc_auc_score)}\n",
        "\n",
        "\n",
        "# Evaluate\n",
        "scores = cross_validate(pipeline, \n",
        "                        X,\n",
        "                        y, \n",
        "                        scoring=scoring,\n",
        "                        cv=StratifiedKFold(n_splits=5, shuffle=True, random_state=10),\n",
        "                        n_jobs=-1)\n",
        "\n",
        "print(\"KNN/ROS/ANOVA-F Accuracy: \", (scores['test_accuracy'].mean()))\n",
        "print(\"KNN/ROS/ANOVA-F Precision: \", (scores['test_precision'].mean()))\n",
        "print(\"KNN/ROS/ANOVA-F Recall: \", (scores['test_recall'].mean()))\n",
        "print(\"KNN/ROS/ANOVA-F F1-Score: \", (scores['test_f1_score'].mean()))\n",
        "print(\"KNN/ROS/ANOVA-F ROC-AUC: \", (scores['test_roc_auc'].mean()))"
      ],
      "metadata": {
        "colab": {
          "base_uri": "https://localhost:8080/"
        },
        "id": "SJjHCYfgWa_Z",
        "outputId": "0628a409-9596-42e2-91c2-c066dbdda795"
      },
      "execution_count": null,
      "outputs": [
        {
          "output_type": "stream",
          "name": "stdout",
          "text": [
            "KNN/ROS/ANOVA-F Accuracy:  0.9985463840054353\n",
            "KNN/ROS/ANOVA-F Precision:  0.6846114814666968\n",
            "KNN/ROS/ANOVA-F Recall:  0.2947639661925376\n",
            "KNN/ROS/ANOVA-F F1-Score:  0.41158616546232085\n",
            "KNN/ROS/ANOVA-F ROC-AUC:  0.6472641560382522\n"
          ]
        }
      ]
    },
    {
      "cell_type": "markdown",
      "source": [
        "### **Logistic Regression + SMOTE + ANOVA-F**"
      ],
      "metadata": {
        "id": "iCKmoVO7Q5hO"
      }
    },
    {
      "cell_type": "code",
      "source": [
        "pipeline = Pipeline(\n",
        "    steps = [('over_sampling', SMOTE()),\n",
        "             ('feature_selection', SelectKBest(score_func=f_classif, k=20)),\n",
        "             ('model', LogisticRegression(solver='lbfgs', max_iter=400))]\n",
        ")\n",
        "\n",
        "scoring = {'accuracy' : make_scorer(accuracy_score),\n",
        "           'precision' : make_scorer(precision_score),\n",
        "           'recall' : make_scorer(recall_score),\n",
        "           'f1_score' : make_scorer(f1_score),\n",
        "           'roc_auc' : make_scorer(roc_auc_score)}\n",
        "\n",
        "# Evaluate\n",
        "scores = cross_validate(pipeline, \n",
        "                        X,\n",
        "                        y, \n",
        "                        scoring=scoring,\n",
        "                        cv=StratifiedKFold(n_splits=5, shuffle=True, random_state=10),\n",
        "                        n_jobs=-1)\n",
        "\n",
        "print(\"Logistic Regression/SMOTE/ANOVA-F Data Accuracy: \", (scores['test_accuracy'].mean()))\n",
        "print(\"Logistic Regression/SMOTE/ANOVA-F Data Precision: \", (scores['test_precision'].mean()))\n",
        "print(\"Logistic Regression/SMOTE/ANOVA-F Data Recall: \", (scores['test_recall'].mean()))\n",
        "print(\"Logistic Regression/SMOTE/ANOVA-F Data F1-Score: \", (scores['test_f1_score'].mean()))\n",
        "print(\"Logistic Regression/SMOTE/ANOVA-F Data ROC-AUC: \", (scores['test_roc_auc'].mean()))"
      ],
      "metadata": {
        "colab": {
          "base_uri": "https://localhost:8080/"
        },
        "id": "cwgG53CSXXlW",
        "outputId": "a5c9c108-bd17-4ff2-febf-34ded5950050"
      },
      "execution_count": null,
      "outputs": [
        {
          "output_type": "stream",
          "name": "stdout",
          "text": [
            "Logistic Regression/SMOTE/ANOVA-F Data Accuracy:  0.9775567045975506\n",
            "Logistic Regression/SMOTE/ANOVA-F Data Precision:  0.06589134238032673\n",
            "Logistic Regression/SMOTE/ANOVA-F Data Recall:  0.8782519068233354\n",
            "Logistic Regression/SMOTE/ANOVA-F Data F1-Score:  0.12233409303502954\n",
            "Logistic Regression/SMOTE/ANOVA-F Data ROC-AUC:  0.9279904171226925\n"
          ]
        }
      ]
    },
    {
      "cell_type": "markdown",
      "source": [
        "### **Decision Tree + SMOTE + ANOVA-F**"
      ],
      "metadata": {
        "id": "92mKZGHOQ8jP"
      }
    },
    {
      "cell_type": "code",
      "source": [
        "pipeline = Pipeline(\n",
        "    steps = [('feature_selection', SelectKBest(score_func=f_classif, k=20)),\n",
        "             ('over_sampling', SMOTE()),\n",
        "             ('model', DecisionTreeClassifier())]\n",
        ")\n",
        "\n",
        "scoring = {'accuracy' : make_scorer(accuracy_score),\n",
        "           'precision' : make_scorer(precision_score),\n",
        "           'recall' : make_scorer(recall_score),\n",
        "           'f1_score' : make_scorer(f1_score),\n",
        "           'roc_auc' : make_scorer(roc_auc_score)}\n",
        "\n",
        "# Evaluate\n",
        "scores = cross_validate(pipeline, \n",
        "                        X,\n",
        "                        y, \n",
        "                        scoring=scoring,\n",
        "                        cv=StratifiedKFold(n_splits=5, shuffle=True, random_state=10),\n",
        "                        n_jobs=-1)\n",
        "\n",
        "print(\"Decision Tree/SMOTE/ANOVA-F Data Accuracy: \", (scores['test_accuracy'].mean()))\n",
        "print(\"Decision Tree/SMOTE/ANOVA-F Data Precision: \", (scores['test_precision'].mean()))\n",
        "print(\"Decision Tree/SMOTE/ANOVA-F Data Recall: \", (scores['test_recall'].mean()))\n",
        "print(\"Decision Tree/SMOTE/ANOVA-F Data F1-Score: \", (scores['test_f1_score'].mean()))\n",
        "print(\"Decision Tree/SMOTE/ANOVA-F Data ROC-AUC: \", (scores['test_roc_auc'].mean()))"
      ],
      "metadata": {
        "colab": {
          "base_uri": "https://localhost:8080/"
        },
        "id": "2SVabciLXpvT",
        "outputId": "4a8848e1-293b-42a0-f4a9-93cf179cd70b"
      },
      "execution_count": null,
      "outputs": [
        {
          "output_type": "stream",
          "name": "stdout",
          "text": [
            "Decision Tree/SMOTE/ANOVA-F Data Accuracy:  0.9975808184664439\n",
            "Decision Tree/SMOTE/ANOVA-F Data Precision:  0.39875073477921485\n",
            "Decision Tree/SMOTE/ANOVA-F Data Recall:  0.7828076685219542\n",
            "Decision Tree/SMOTE/ANOVA-F Data F1-Score:  0.5278173150061513\n",
            "Decision Tree/SMOTE/ANOVA-F Data ROC-AUC:  0.890380321607758\n"
          ]
        }
      ]
    },
    {
      "cell_type": "markdown",
      "source": [
        "### **Random Forest + SMOTE + ANOVA-F**"
      ],
      "metadata": {
        "id": "iRFQ-HimQ-03"
      }
    },
    {
      "cell_type": "code",
      "source": [
        "pipeline = Pipeline(\n",
        "    steps = [('over_sampling', SMOTE()),\n",
        "             ('feature_selection', SelectKBest(score_func=f_classif, k=20)),\n",
        "             ('model', RandomForestClassifier())]\n",
        ")\n",
        "\n",
        "scoring = {'accuracy' : make_scorer(accuracy_score),\n",
        "           'precision' : make_scorer(precision_score),\n",
        "           'recall' : make_scorer(recall_score),\n",
        "           'f1_score' : make_scorer(f1_score),\n",
        "           'roc_auc' : make_scorer(roc_auc_score)}\n",
        "\n",
        "# Evaluate\n",
        "scores = cross_validate(pipeline, \n",
        "                        X,\n",
        "                        y, \n",
        "                        scoring=scoring,\n",
        "                        cv=StratifiedKFold(n_splits=5, shuffle=True, random_state=10),\n",
        "                        n_jobs=-1)\n",
        "\n",
        "print(\"Random Forest/SMOTE-ANOVA-F Data Accuracy: \", (scores['test_accuracy'].mean()))\n",
        "print(\"Random Forest/SMOTE-ANOVA-F Data Precision: \", (scores['test_precision'].mean()))\n",
        "print(\"Random Forest/SMOTE-ANOVA-F Data Recall: \", (scores['test_recall'].mean()))\n",
        "print(\"Random Forest/SMOTE-ANOVA-F Data F1-Score: \", (scores['test_f1_score'].mean()))\n",
        "print(\"Random Forest/SMOTE-ANOVA-F Data ROC-AUC: \", (scores['test_roc_auc'].mean()))"
      ],
      "metadata": {
        "colab": {
          "base_uri": "https://localhost:8080/"
        },
        "id": "psZZ_2SZYGEM",
        "outputId": "a74d9c9c-7eb5-403e-ca55-10f2d6493894"
      },
      "execution_count": null,
      "outputs": [
        {
          "output_type": "stream",
          "name": "stdout",
          "text": [
            "Random Forest/SMOTE-ANOVA-F Data Accuracy:  0.9994979061416309\n",
            "Random Forest/SMOTE-ANOVA-F Data Precision:  0.8726555070676317\n",
            "Random Forest/SMOTE-ANOVA-F Data Recall:  0.8315398886827458\n",
            "Random Forest/SMOTE-ANOVA-F Data F1-Score:  0.8506014564856382\n",
            "Random Forest/SMOTE-ANOVA-F Data ROC-AUC:  0.9156644275729997\n"
          ]
        }
      ]
    },
    {
      "cell_type": "markdown",
      "source": [
        "### **Gaussian NB + SMOTE + ANOVA-F**"
      ],
      "metadata": {
        "id": "T7x7lzFRREN3"
      }
    },
    {
      "cell_type": "code",
      "source": [
        "pipeline = Pipeline(\n",
        "    steps = [('over_sampling', SMOTE()),\n",
        "             ('feature_selection', SelectKBest(score_func=f_classif, k=20)),\n",
        "             ('model', GaussianNB())]\n",
        ")\n",
        "\n",
        "scoring = {'accuracy' : make_scorer(accuracy_score),\n",
        "           'precision' : make_scorer(precision_score),\n",
        "           'recall' : make_scorer(recall_score),\n",
        "           'f1_score' : make_scorer(f1_score),\n",
        "           'roc_auc' : make_scorer(roc_auc_score)}\n",
        "\n",
        "# Evaluate\n",
        "scores = cross_validate(pipeline, \n",
        "                        X,\n",
        "                        y, \n",
        "                        scoring=scoring,\n",
        "                        cv=StratifiedKFold(n_splits=5, shuffle=True, random_state=10),\n",
        "                        n_jobs=-1)\n",
        "\n",
        "print(\"Gaussian NB/SMOTE/ANOVA-F Data Accuracy: \", (scores['test_accuracy'].mean()))\n",
        "print(\"Gaussian NB/SMOTE/ANOVA-F Data Precision: \", (scores['test_precision'].mean()))\n",
        "print(\"Gaussian NB/SMOTE/ANOVA-F Data Recall: \", (scores['test_recall'].mean()))\n",
        "print(\"Gaussian NB/SMOTE/ANOVA-F Data F1-Score: \", (scores['test_f1_score'].mean()))\n",
        "print(\"Gaussian NB/SMOTE/ANOVA-F Data ROC-AUC: \", (scores['test_roc_auc'].mean()))"
      ],
      "metadata": {
        "colab": {
          "base_uri": "https://localhost:8080/"
        },
        "id": "CTn0CxMKYPEt",
        "outputId": "6b2ee651-a4ef-4bd1-ef4e-59e64dbdcea8"
      },
      "execution_count": null,
      "outputs": [
        {
          "output_type": "stream",
          "name": "stdout",
          "text": [
            "Gaussian NB/SMOTE/ANOVA-F Data Accuracy:  0.9921209775460638\n",
            "Gaussian NB/SMOTE/ANOVA-F Data Precision:  0.15289373639153067\n",
            "Gaussian NB/SMOTE/ANOVA-F Data Recall:  0.7826015254586683\n",
            "Gaussian NB/SMOTE/ANOVA-F Data F1-Score:  0.25569685775958384\n",
            "Gaussian NB/SMOTE/ANOVA-F Data ROC-AUC:  0.8875426071624453\n"
          ]
        }
      ]
    },
    {
      "cell_type": "markdown",
      "source": [
        "### **KNN + SMOTE + ANOVA-F**"
      ],
      "metadata": {
        "id": "viSjN9PvRJOP"
      }
    },
    {
      "cell_type": "code",
      "source": [
        "pipeline = Pipeline(\n",
        "            steps = [('over_sampling', SMOTE()),\n",
        "                     ('feature_selection', SelectKBest(score_func=f_classif, k=20)),\n",
        "                     ('model', KNeighborsClassifier(n_neighbors=3))]    \n",
        ")\n",
        "\n",
        "\n",
        "scoring = {'accuracy' : make_scorer(accuracy_score),\n",
        "           'precision' : make_scorer(precision_score),\n",
        "           'recall' : make_scorer(recall_score),\n",
        "           'f1_score' : make_scorer(f1_score),\n",
        "           'roc_auc' : make_scorer(roc_auc_score)}\n",
        "\n",
        "\n",
        "# Evaluate\n",
        "scores = cross_validate(pipeline, \n",
        "                        X,\n",
        "                        y, \n",
        "                        scoring=scoring,\n",
        "                        cv=StratifiedKFold(n_splits=5, shuffle=True, random_state=10),\n",
        "                        n_jobs=-1)\n",
        "\n",
        "print(\"KNN/SMOTE/ANOVA-F Accuracy: \", (scores['test_accuracy'].mean()))\n",
        "print(\"KNN/SMOTE/ANOVA-F Precision: \", (scores['test_precision'].mean()))\n",
        "print(\"KNN/SMOTE/ANOVA-F Recall: \", (scores['test_recall'].mean()))\n",
        "print(\"KNN/SMOTE/ANOVA-F F1-Score: \", (scores['test_f1_score'].mean()))\n",
        "print(\"KNN/SMOTE/ANOVA-F ROC-AUC: \", (scores['test_roc_auc'].mean()))"
      ],
      "metadata": {
        "colab": {
          "base_uri": "https://localhost:8080/"
        },
        "id": "yS_7hSt8Yopx",
        "outputId": "f0e66185-b24e-4dcc-b71d-ab80d090f57c"
      },
      "execution_count": null,
      "outputs": [
        {
          "output_type": "stream",
          "name": "stderr",
          "text": [
            "/usr/local/lib/python3.7/dist-packages/joblib/externals/loky/process_executor.py:705: UserWarning:\n",
            "\n",
            "A worker stopped while some jobs were given to the executor. This can be caused by a too short worker timeout or by a memory leak.\n",
            "\n"
          ]
        },
        {
          "output_type": "stream",
          "name": "stdout",
          "text": [
            "KNN/SMOTE/ANOVA-F Accuracy:  0.9840909694805273\n",
            "KNN/SMOTE/ANOVA-F Precision:  0.07687132557026863\n",
            "KNN/SMOTE/ANOVA-F Recall:  0.7442176870748299\n",
            "KNN/SMOTE/ANOVA-F F1-Score:  0.1392175374636906\n",
            "KNN/SMOTE/ANOVA-F ROC-AUC:  0.8643621541260226\n"
          ]
        }
      ]
    },
    {
      "cell_type": "markdown",
      "source": [
        "### **Logistic Regression + ADASYN + ANOVA-F**"
      ],
      "metadata": {
        "id": "A2prpaNWKzSZ"
      }
    },
    {
      "cell_type": "code",
      "source": [
        "pipeline = Pipeline(\n",
        "    steps = [('over_sampling', ADASYN()),\n",
        "             ('feature_selection', SelectKBest(score_func=f_classif, k=20)),\n",
        "             ('model', LogisticRegression(solver='lbfgs', max_iter=400))]\n",
        ")\n",
        "\n",
        "scoring = {'accuracy' : make_scorer(accuracy_score),\n",
        "           'precision' : make_scorer(precision_score),\n",
        "           'recall' : make_scorer(recall_score),\n",
        "           'f1_score' : make_scorer(f1_score),\n",
        "           'roc_auc' : make_scorer(roc_auc_score)}\n",
        "\n",
        "# Evaluate\n",
        "scores = cross_validate(pipeline, \n",
        "                        X,\n",
        "                        y, \n",
        "                        scoring=scoring,\n",
        "                        cv=StratifiedKFold(n_splits=5, shuffle=True, random_state=10),\n",
        "                        n_jobs=-1)\n",
        "\n",
        "print(\"Logistic Regression/ADASYN/ANOVA-F Data Accuracy: \", (scores['test_accuracy'].mean()))\n",
        "print(\"Logistic Regression/ADASYN/ANOVA-F Data Precision: \", (scores['test_precision'].mean()))\n",
        "print(\"Logistic Regression/ADASYN/ANOVA-F Data Recall: \", (scores['test_recall'].mean()))\n",
        "print(\"Logistic Regression/ADASYN/ANOVA-F Data F1-Score: \", (scores['test_f1_score'].mean()))\n",
        "print(\"Logistic Regression/ADASYN/ANOVA-F Data ROC-AUC: \", (scores['test_roc_auc'].mean()))"
      ],
      "metadata": {
        "colab": {
          "base_uri": "https://localhost:8080/"
        },
        "id": "69aYiTyPPKLG",
        "outputId": "62e9062e-2668-4f29-e046-70f6ed5bd631"
      },
      "execution_count": null,
      "outputs": [
        {
          "output_type": "stream",
          "name": "stdout",
          "text": [
            "Logistic Regression/ADASYN/ANOVA-F Data Accuracy:  0.9761698273587545\n",
            "Logistic Regression/ADASYN/ANOVA-F Data Precision:  0.06685539761820829\n",
            "Logistic Regression/ADASYN/ANOVA-F Data Recall:  0.8802927231498661\n",
            "Logistic Regression/ADASYN/ANOVA-F Data F1-Score:  0.12349016777607077\n",
            "Logistic Regression/ADASYN/ANOVA-F Data ROC-AUC:  0.9283144146146952\n"
          ]
        }
      ]
    },
    {
      "cell_type": "markdown",
      "source": [
        "### **Decision Tree + ADASYN + ANOVA-F**"
      ],
      "metadata": {
        "id": "ICdryPmaK5gk"
      }
    },
    {
      "cell_type": "code",
      "source": [
        "pipeline = Pipeline(\n",
        "    steps = [('over_sampling', ADASYN()),\n",
        "             ('feature_selection', SelectKBest(score_func=f_classif, k=20)),\n",
        "             ('model', DecisionTreeClassifier())]\n",
        ")\n",
        "\n",
        "scoring = {'accuracy' : make_scorer(accuracy_score),\n",
        "           'precision' : make_scorer(precision_score),\n",
        "           'recall' : make_scorer(recall_score),\n",
        "           'f1_score' : make_scorer(f1_score),\n",
        "           'roc_auc' : make_scorer(roc_auc_score)}\n",
        "\n",
        "# Evaluate\n",
        "scores = cross_validate(pipeline, \n",
        "                        X,\n",
        "                        y, \n",
        "                        scoring=scoring,\n",
        "                        cv=StratifiedKFold(n_splits=5, shuffle=True, random_state=10),\n",
        "                        n_jobs=-1)\n",
        "\n",
        "print(\"Decision Tree/ADASYN/ANOVA-F Data Accuracy: \", (scores['test_accuracy'].mean()))\n",
        "print(\"Decision Tree/ADASYN/ANOVA-F Data Precision: \", (scores['test_precision'].mean()))\n",
        "print(\"Decision Tree/ADASYN/ANOVA-F Data Recall: \", (scores['test_recall'].mean()))\n",
        "print(\"Decision Tree/ADASYN/ANOVA-F Data F1-Score: \", (scores['test_f1_score'].mean()))\n",
        "print(\"Decision Tree/ADASYN/ANOVA-F Data ROC-AUC: \", (scores['test_roc_auc'].mean()))"
      ],
      "metadata": {
        "colab": {
          "base_uri": "https://localhost:8080/"
        },
        "id": "UZ6iC0QrOyOt",
        "outputId": "845239d7-6932-4738-93cf-92d32a934dac"
      },
      "execution_count": null,
      "outputs": [
        {
          "output_type": "stream",
          "name": "stdout",
          "text": [
            "Decision Tree/ADASYN/ANOVA-F Data Accuracy:  0.9977704179959449\n",
            "Decision Tree/ADASYN/ANOVA-F Data Precision:  0.42866567486644697\n",
            "Decision Tree/ADASYN/ANOVA-F Data Recall:  0.8071737786023501\n",
            "Decision Tree/ADASYN/ANOVA-F Data F1-Score:  0.5573689907460732\n",
            "Decision Tree/ADASYN/ANOVA-F Data ROC-AUC:  0.902637238385817\n"
          ]
        }
      ]
    },
    {
      "cell_type": "markdown",
      "source": [
        "### **Random Forest + ADASYN + ANOVA-F**"
      ],
      "metadata": {
        "id": "BYhTmfBvK9EM"
      }
    },
    {
      "cell_type": "code",
      "source": [
        "pipeline = Pipeline(\n",
        "    steps = [('over_sampling', ADASYN()),\n",
        "             ('feature_selection', SelectKBest(score_func=f_classif, k=20)),\n",
        "             ('model', RandomForestClassifier())]\n",
        ")\n",
        "\n",
        "scoring = {'accuracy' : make_scorer(accuracy_score),\n",
        "           'precision' : make_scorer(precision_score),\n",
        "           'recall' : make_scorer(recall_score),\n",
        "           'f1_score' : make_scorer(f1_score),\n",
        "           'roc_auc' : make_scorer(roc_auc_score)}\n",
        "\n",
        "# Evaluate\n",
        "scores = cross_validate(pipeline, \n",
        "                        X,\n",
        "                        y, \n",
        "                        scoring=scoring,\n",
        "                        cv=StratifiedKFold(n_splits=5, shuffle=True, random_state=10),\n",
        "                        n_jobs=-1)\n",
        "\n",
        "print(\"Gaussian NB/ADASYN/ANOVA-F Data Accuracy: \", (scores['test_accuracy'].mean()))\n",
        "print(\"Gaussian NB/ADASYN/ANOVA-F Data Precision: \", (scores['test_precision'].mean()))\n",
        "print(\"Gaussian NB/ADASYN/ANOVA-F Data Recall: \", (scores['test_recall'].mean()))\n",
        "print(\"Gaussian NB/ADASYN/ANOVA-F Data F1-Score: \", (scores['test_f1_score'].mean()))\n",
        "print(\"Gaussian NB/ADASYN/ANOVA-F Data ROC-AUC: \", (scores['test_roc_auc'].mean()))"
      ],
      "metadata": {
        "colab": {
          "base_uri": "https://localhost:8080/"
        },
        "id": "PFZN5E3OOqj0",
        "outputId": "04c4d8b0-10f3-4b7a-8858-4d371406978b"
      },
      "execution_count": null,
      "outputs": [
        {
          "output_type": "stream",
          "name": "stdout",
          "text": [
            "Gaussian NB/ADASYN/ANOVA-F Data Accuracy:  0.9995084397262083\n",
            "Gaussian NB/ADASYN/ANOVA-F Data Precision:  0.8778277950801268\n",
            "Gaussian NB/ADASYN/ANOVA-F Data Recall:  0.8315398886827458\n",
            "Gaussian NB/ADASYN/ANOVA-F Data F1-Score:  0.8532731904519624\n",
            "Gaussian NB/ADASYN/ANOVA-F Data ROC-AUC:  0.9156697034114185\n"
          ]
        }
      ]
    },
    {
      "cell_type": "markdown",
      "source": [
        "### **Gaussian NB + ADASYN + ANOVA-F**"
      ],
      "metadata": {
        "id": "V-NPOEdDK_Dk"
      }
    },
    {
      "cell_type": "code",
      "source": [
        "pipeline = Pipeline(\n",
        "    steps = [('over_sampling', ADASYN()),\n",
        "             ('feature_selection', SelectKBest(score_func=f_classif, k=20)),\n",
        "             ('model', GaussianNB())]\n",
        ")\n",
        "\n",
        "scoring = {'accuracy' : make_scorer(accuracy_score),\n",
        "           'precision' : make_scorer(precision_score),\n",
        "           'recall' : make_scorer(recall_score),\n",
        "           'f1_score' : make_scorer(f1_score),\n",
        "           'roc_auc' : make_scorer(roc_auc_score)}\n",
        "\n",
        "# Evaluate\n",
        "scores = cross_validate(pipeline, \n",
        "                        X,\n",
        "                        y, \n",
        "                        scoring=scoring,\n",
        "                        cv=StratifiedKFold(n_splits=5, shuffle=True, random_state=10),\n",
        "                        n_jobs=-1)\n",
        "\n",
        "print(\"Gaussian NB/ADASYN/ANOVA-F Data Accuracy: \", (scores['test_accuracy'].mean()))\n",
        "print(\"Gaussian NB/ADASYN/ANOVA-F Data Precision: \", (scores['test_precision'].mean()))\n",
        "print(\"Gaussian NB/ADASYN/ANOVA-F Data Recall: \", (scores['test_recall'].mean()))\n",
        "print(\"Gaussian NB/ADASYN/ANOVA-F Data F1-Score: \", (scores['test_f1_score'].mean()))\n",
        "print(\"Gaussian NB/ADASYN/ANOVA-F Data ROC-AUC: \", (scores['test_roc_auc'].mean()))"
      ],
      "metadata": {
        "colab": {
          "base_uri": "https://localhost:8080/"
        },
        "id": "X8g2J9eXOmG6",
        "outputId": "df9fbc9c-7984-47a8-be12-bde1fb080ab7"
      },
      "execution_count": null,
      "outputs": [
        {
          "output_type": "stream",
          "name": "stdout",
          "text": [
            "Gaussian NB/ADASYN/ANOVA-F Data Accuracy:  0.9925212525888323\n",
            "Gaussian NB/ADASYN/ANOVA-F Data Precision:  0.16241931492891354\n",
            "Gaussian NB/ADASYN/ANOVA-F Data Recall:  0.8009688723974439\n",
            "Gaussian NB/ADASYN/ANOVA-F Data F1-Score:  0.27001731772774934\n",
            "Gaussian NB/ADASYN/ANOVA-F Data ROC-AUC:  0.896910934976486\n"
          ]
        }
      ]
    },
    {
      "cell_type": "markdown",
      "source": [
        "### **KNN + ADASYN + ANOVA-F**"
      ],
      "metadata": {
        "id": "3sM5jFCNLBOB"
      }
    },
    {
      "cell_type": "code",
      "source": [
        "pipeline = Pipeline(\n",
        "            steps = [('over_sampling', ADASYN()),\n",
        "                     ('feature_selection', SelectKBest(score_func=f_classif, k=20)),\n",
        "                     ('model', KNeighborsClassifier(n_neighbors=3))]    \n",
        ")\n",
        "\n",
        "\n",
        "scoring = {'accuracy' : make_scorer(accuracy_score),\n",
        "           'precision' : make_scorer(precision_score),\n",
        "           'recall' : make_scorer(recall_score),\n",
        "           'f1_score' : make_scorer(f1_score),\n",
        "           'roc_auc' : make_scorer(roc_auc_score)}\n",
        "\n",
        "\n",
        "# Evaluate\n",
        "scores = cross_validate(pipeline, \n",
        "                        X,\n",
        "                        y, \n",
        "                        scoring=scoring,\n",
        "                        cv=StratifiedKFold(n_splits=5, shuffle=True, random_state=10),\n",
        "                        n_jobs=-1)\n",
        "\n",
        "print(\"KNN/ADASYN/ANOVA-F Accuracy: \", (scores['test_accuracy'].mean()))\n",
        "print(\"KNN/ADASYN/ANOVA-F Precision: \", (scores['test_precision'].mean()))\n",
        "print(\"KNN/ADASYN/ANOVA-F Recall: \", (scores['test_recall'].mean()))\n",
        "print(\"KNN/ADASYN/ANOVA-F F1-Score: \", (scores['test_f1_score'].mean()))\n",
        "print(\"KNN/ADASYN/ANOVA-F ROC-AUC: \", (scores['test_roc_auc'].mean()))"
      ],
      "metadata": {
        "colab": {
          "base_uri": "https://localhost:8080/"
        },
        "id": "MvFPN58GOcVx",
        "outputId": "64502044-5e7b-4303-99dd-f96ec12b4e39"
      },
      "execution_count": null,
      "outputs": [
        {
          "output_type": "stream",
          "name": "stdout",
          "text": [
            "KNN/ADASYN/ANOVA-F Accuracy:  0.9828409982058375\n",
            "KNN/ADASYN/ANOVA-F Precision:  0.07078795948580192\n",
            "KNN/ADASYN/ANOVA-F Recall:  0.7340548340548342\n",
            "KNN/ADASYN/ANOVA-F F1-Score:  0.12897792940478442\n",
            "KNN/ADASYN/ANOVA-F ROC-AUC:  0.8586634545210419\n"
          ]
        }
      ]
    },
    {
      "cell_type": "markdown",
      "source": [
        "### **Logistic Regression + RFE**"
      ],
      "metadata": {
        "id": "ErHcILBnt6AF"
      }
    },
    {
      "cell_type": "code",
      "source": [
        "pipeline = Pipeline(\n",
        "    steps = [('feature_selection', RFE(estimator=DecisionTreeClassifier(), n_features_to_select=20)),\n",
        "             ('model', LogisticRegression(solver='lbfgs', max_iter=400))]\n",
        ")\n",
        "\n",
        "scoring = {'accuracy' : make_scorer(accuracy_score),\n",
        "           'precision' : make_scorer(precision_score),\n",
        "           'recall' : make_scorer(recall_score),\n",
        "           'f1_score' : make_scorer(f1_score),\n",
        "           'roc_auc' : make_scorer(roc_auc_score)}\n",
        "\n",
        "# Evaluate\n",
        "scores = cross_validate(pipeline, \n",
        "                        X,\n",
        "                        y, \n",
        "                        scoring=scoring,\n",
        "                        cv=StratifiedKFold(n_splits=5, shuffle=True, random_state=10),\n",
        "                        n_jobs=-1)\n",
        "\n",
        "print(\"Logistic Regression/Raw Data/RFE Accuracy: \", (scores['test_accuracy'].mean()))\n",
        "print(\"Logistic Regression/Raw Data/RFE Precision: \", (scores['test_precision'].mean()))\n",
        "print(\"Logistic Regression/Raw Data/RFE Recall: \", (scores['test_recall'].mean()))\n",
        "print(\"Logistic Regression/Raw Data/RFE F1-Score: \", (scores['test_f1_score'].mean()))\n",
        "print(\"Logistic Regression/Raw Data/RFE ROC-AUC: \", (scores['test_roc_auc'].mean()))"
      ],
      "metadata": {
        "colab": {
          "base_uri": "https://localhost:8080/"
        },
        "id": "rddvrqZhuc-Y",
        "outputId": "118844a2-002b-4709-873c-699b93838858"
      },
      "execution_count": 11,
      "outputs": [
        {
          "output_type": "stream",
          "name": "stdout",
          "text": [
            "Logistic Regression/Raw Data/RFE Accuracy:  0.9990519888531946\n",
            "Logistic Regression/Raw Data/RFE Precision:  0.8131515049557697\n",
            "Logistic Regression/Raw Data/RFE Recall:  0.6301587301587301\n",
            "Logistic Regression/Raw Data/RFE F1-Score:  0.6992594456127067\n",
            "Logistic Regression/Raw Data/RFE ROC-AUC:  0.8149246071524179\n"
          ]
        }
      ]
    },
    {
      "cell_type": "markdown",
      "source": [
        "### **Decision Tree + RFE**"
      ],
      "metadata": {
        "id": "vO97Fny6t_eg"
      }
    },
    {
      "cell_type": "code",
      "source": [
        "pipeline = Pipeline(\n",
        "    steps = [('feature_selection', RFE(estimator=DecisionTreeClassifier(), n_features_to_select=20)),\n",
        "             ('model', DecisionTreeClassifier())]\n",
        ")\n",
        "\n",
        "scoring = {'accuracy' : make_scorer(accuracy_score),\n",
        "           'precision' : make_scorer(precision_score),\n",
        "           'recall' : make_scorer(recall_score),\n",
        "           'f1_score' : make_scorer(f1_score),\n",
        "           'roc_auc' : make_scorer(roc_auc_score)}\n",
        "\n",
        "# Evaluate\n",
        "scores = cross_validate(pipeline, \n",
        "                        X,\n",
        "                        y, \n",
        "                        scoring=scoring,\n",
        "                        cv=StratifiedKFold(n_splits=5, shuffle=True, random_state=10),\n",
        "                        n_jobs=-1)\n",
        "\n",
        "print(\"Decision Tree/Raw Data/RFE Accuracy: \", (scores['test_accuracy'].mean()))\n",
        "print(\"Decision Tree/Raw Data/RFE Precision: \", (scores['test_precision'].mean()))\n",
        "print(\"Decision Tree/Raw Data/RFE Recall: \", (scores['test_recall'].mean()))\n",
        "print(\"Decision Tree/Raw Data/RFE F1-Score: \", (scores['test_f1_score'].mean()))\n",
        "print(\"Decision Tree/Raw Data/RFE ROC-AUC: \", (scores['test_roc_auc'].mean()))"
      ],
      "metadata": {
        "colab": {
          "base_uri": "https://localhost:8080/"
        },
        "id": "4evJLLN-upUw",
        "outputId": "22667fc3-c89f-4c32-a869-dceafd76a1b6"
      },
      "execution_count": 12,
      "outputs": [
        {
          "output_type": "stream",
          "name": "stdout",
          "text": [
            "Decision Tree/Raw Data/RFE Accuracy:  0.9991819025493104\n",
            "Decision Tree/Raw Data/RFE Precision:  0.7590808199503851\n",
            "Decision Tree/Raw Data/RFE Recall:  0.7726242011956297\n",
            "Decision Tree/Raw Data/RFE F1-Score:  0.764421448115235\n",
            "Decision Tree/Raw Data/RFE ROC-AUC:  0.8860993084482625\n"
          ]
        }
      ]
    },
    {
      "cell_type": "markdown",
      "source": [
        "### **Random Forest + RFE**"
      ],
      "metadata": {
        "id": "pVZKVotcuBY-"
      }
    },
    {
      "cell_type": "code",
      "source": [
        "pipeline = Pipeline(\n",
        "    steps = [('feature_selection', RFE(estimator=DecisionTreeClassifier(), n_features_to_select=20)),\n",
        "             ('model', RandomForestClassifier())]\n",
        ")\n",
        "\n",
        "scoring = {'accuracy' : make_scorer(accuracy_score),\n",
        "           'precision' : make_scorer(precision_score),\n",
        "           'recall' : make_scorer(recall_score),\n",
        "           'f1_score' : make_scorer(f1_score),\n",
        "           'roc_auc' : make_scorer(roc_auc_score)}\n",
        "\n",
        "# Evaluate\n",
        "scores = cross_validate(pipeline, \n",
        "                        X,\n",
        "                        y, \n",
        "                        scoring=scoring,\n",
        "                        cv=StratifiedKFold(n_splits=5, shuffle=True, random_state=10),\n",
        "                        n_jobs=-1)\n",
        "\n",
        "print(\"Random Forest/Raw Data/RFE Accuracy: \", (scores['test_accuracy'].mean()))\n",
        "print(\"Random Forest/Raw Data/RFE Precision: \", (scores['test_precision'].mean()))\n",
        "print(\"Random Forest/Raw Data/RFE Recall: \", (scores['test_recall'].mean()))\n",
        "print(\"Random Forest/Raw Data/RFE F1-Score: \", (scores['test_f1_score'].mean()))\n",
        "print(\"Random Forest/Raw Data/RFE ROC-AUC: \", (scores['test_roc_auc'].mean()))"
      ],
      "metadata": {
        "colab": {
          "base_uri": "https://localhost:8080/"
        },
        "id": "4iS5fodjuzj8",
        "outputId": "76e120ca-4a22-49cd-95d7-abf8ce39ed8f"
      },
      "execution_count": 13,
      "outputs": [
        {
          "output_type": "stream",
          "name": "stdout",
          "text": [
            "Random Forest/Raw Data/RFE Accuracy:  0.9995470620272366\n",
            "Random Forest/Raw Data/RFE Precision:  0.9526411859745194\n",
            "Random Forest/Raw Data/RFE Recall:  0.7765409193980621\n",
            "Random Forest/Raw Data/RFE F1-Score:  0.855358870369286\n",
            "Random Forest/Raw Data/RFE ROC-AUC:  0.888237046055713\n"
          ]
        }
      ]
    },
    {
      "cell_type": "markdown",
      "source": [
        "### **Gaussian NB + RFE**"
      ],
      "metadata": {
        "id": "5CS2eNaWuDXB"
      }
    },
    {
      "cell_type": "code",
      "source": [
        "pipeline = Pipeline(\n",
        "    steps = [('feature_selection', RFE(estimator=DecisionTreeClassifier(), n_features_to_select=20)),\n",
        "             ('model', GaussianNB())]\n",
        ")\n",
        "\n",
        "scoring = {'accuracy' : make_scorer(accuracy_score),\n",
        "           'precision' : make_scorer(precision_score),\n",
        "           'recall' : make_scorer(recall_score),\n",
        "           'f1_score' : make_scorer(f1_score),\n",
        "           'roc_auc' : make_scorer(roc_auc_score)}\n",
        "\n",
        "# Evaluate\n",
        "scores = cross_validate(pipeline, \n",
        "                        X,\n",
        "                        y, \n",
        "                        scoring=scoring,\n",
        "                        cv=StratifiedKFold(n_splits=5, shuffle=True, random_state=10),\n",
        "                        n_jobs=-1)\n",
        "\n",
        "print(\"Gaussian NB/Raw Data/RFE Accuracy: \", (scores['test_accuracy'].mean()))\n",
        "print(\"Gaussian NB/Raw Data/RFE Precision: \", (scores['test_precision'].mean()))\n",
        "print(\"Gaussian NB/Raw Data/RFE Recall: \", (scores['test_recall'].mean()))\n",
        "print(\"Gaussian NB/Raw Data/RFE F1-Score: \", (scores['test_f1_score'].mean()))\n",
        "print(\"Gaussian NB/Raw Data/RFE ROC-AUC: \", (scores['test_roc_auc'].mean()))"
      ],
      "metadata": {
        "colab": {
          "base_uri": "https://localhost:8080/"
        },
        "id": "sau5Q-_QvE4q",
        "outputId": "e216ad20-4daf-4210-85c8-a5bc639360bd"
      },
      "execution_count": 14,
      "outputs": [
        {
          "output_type": "stream",
          "name": "stdout",
          "text": [
            "Gaussian NB/Raw Data/RFE Accuracy:  0.9894455430995288\n",
            "Gaussian NB/Raw Data/RFE Precision:  0.15433845806754556\n",
            "Gaussian NB/Raw Data/RFE Recall:  0.7170892599464028\n",
            "Gaussian NB/Raw Data/RFE F1-Score:  0.2420468537548484\n",
            "Gaussian NB/Raw Data/RFE ROC-AUC:  0.8535026870577731\n"
          ]
        }
      ]
    },
    {
      "cell_type": "markdown",
      "source": [
        "### **KNN + RFE**"
      ],
      "metadata": {
        "id": "kMh1HCcSuFg1"
      }
    },
    {
      "cell_type": "code",
      "source": [
        "pipeline = Pipeline(\n",
        "    steps = [('feature_selection', RFE(estimator=DecisionTreeClassifier(), n_features_to_select=20)),\n",
        "             ('model', KNeighborsClassifier(n_neighbors=3))]\n",
        ")\n",
        "\n",
        "scoring = {'accuracy' : make_scorer(accuracy_score),\n",
        "           'precision' : make_scorer(precision_score),\n",
        "           'recall' : make_scorer(recall_score),\n",
        "           'f1_score' : make_scorer(f1_score),\n",
        "           'roc_auc' : make_scorer(roc_auc_score)}\n",
        "\n",
        "# Evaluate\n",
        "scores = cross_validate(pipeline, \n",
        "                        X,\n",
        "                        y, \n",
        "                        scoring=scoring,\n",
        "                        cv=StratifiedKFold(n_splits=5, shuffle=True, random_state=10),\n",
        "                        n_jobs=-1)\n",
        "\n",
        "print(\"KNN/Raw Data/RFE Accuracy: \", (scores['test_accuracy'].mean()))\n",
        "print(\"KNN/Raw Data/RFE Precision: \", (scores['test_precision'].mean()))\n",
        "print(\"KNN/Raw Data/RFE Recall: \", (scores['test_recall'].mean()))\n",
        "print(\"KNN/Raw Data/RFE F1-Score: \", (scores['test_f1_score'].mean()))\n",
        "print(\"KNN/Raw Data/RFE ROC-AUC: \", (scores['test_roc_auc'].mean()))"
      ],
      "metadata": {
        "colab": {
          "base_uri": "https://localhost:8080/"
        },
        "id": "f26RYjyqvLyg",
        "outputId": "535c7afe-d99b-4f35-fe2d-c3a37c626dea"
      },
      "execution_count": 15,
      "outputs": [
        {
          "output_type": "stream",
          "name": "stderr",
          "text": [
            "/usr/local/lib/python3.7/dist-packages/joblib/externals/loky/process_executor.py:705: UserWarning:\n",
            "\n",
            "A worker stopped while some jobs were given to the executor. This can be caused by a too short worker timeout or by a memory leak.\n",
            "\n"
          ]
        },
        {
          "output_type": "stream",
          "name": "stdout",
          "text": [
            "KNN/Raw Data/RFE Accuracy:  0.998785141577964\n",
            "KNN/Raw Data/RFE Precision:  0.8241220047558075\n",
            "KNN/Raw Data/RFE Recall:  0.3310657596371882\n",
            "KNN/Raw Data/RFE F1-Score:  0.4176523241068426\n",
            "KNN/Raw Data/RFE ROC-AUC:  0.6655029834008884\n"
          ]
        }
      ]
    },
    {
      "cell_type": "markdown",
      "source": [
        "### **Logistic Regression + RUS + RFE**"
      ],
      "metadata": {
        "id": "yUoNOBpSSEgw"
      }
    },
    {
      "cell_type": "code",
      "source": [
        "pipeline = Pipeline(\n",
        "    steps = [('under_sampling', RandomUnderSampler()),\n",
        "             ('feature_selection', RFE(estimator=DecisionTreeClassifier(), n_features_to_select=20)),\n",
        "             ('model', LogisticRegression(solver='lbfgs', max_iter=400))]\n",
        ")\n",
        "\n",
        "scoring = {'accuracy' : make_scorer(accuracy_score),\n",
        "           'precision' : make_scorer(precision_score),\n",
        "           'recall' : make_scorer(recall_score),\n",
        "           'f1_score' : make_scorer(f1_score),\n",
        "           'roc_auc' : make_scorer(roc_auc_score)}\n",
        "\n",
        "# Evaluate\n",
        "scores = cross_validate(pipeline, \n",
        "                        X,\n",
        "                        y, \n",
        "                        scoring=scoring,\n",
        "                        cv=StratifiedKFold(n_splits=5, shuffle=True, random_state=10),\n",
        "                        n_jobs=-1)\n",
        "\n",
        "print(\"Logistic Regression/RUS/RFE Accuracy: \", (scores['test_accuracy'].mean()))\n",
        "print(\"Logistic Regression/RUS/RFE Precision: \", (scores['test_precision'].mean()))\n",
        "print(\"Logistic Regression/RUS/RFE Recall: \", (scores['test_recall'].mean()))\n",
        "print(\"Logistic Regression/RUS/RFE F1-Score: \", (scores['test_f1_score'].mean()))\n",
        "print(\"Logistic Regression/RUS/RFE ROC-AUC: \", (scores['test_roc_auc'].mean()))"
      ],
      "metadata": {
        "colab": {
          "base_uri": "https://localhost:8080/"
        },
        "id": "UZLz7ff06Ork",
        "outputId": "e35341df-e0de-42b7-f246-486e42023908"
      },
      "execution_count": null,
      "outputs": [
        {
          "output_type": "stream",
          "name": "stdout",
          "text": [
            "Logistic Regression/RUS/RFE Accuracy:  0.9616090366750922\n",
            "Logistic Regression/RUS/RFE Precision:  0.04356157007463306\n",
            "Logistic Regression/RUS/RFE Recall:  0.9148010719439291\n",
            "Logistic Regression/RUS/RFE F1-Score:  0.08292746623830238\n",
            "Logistic Regression/RUS/RFE ROC-AUC:  0.9382457252866331\n"
          ]
        }
      ]
    },
    {
      "cell_type": "markdown",
      "source": [
        "### **Decision Tree + RUS + RFE**"
      ],
      "metadata": {
        "id": "JgwEsoJcSKpl"
      }
    },
    {
      "cell_type": "code",
      "source": [
        "pipeline = Pipeline(\n",
        "    steps = [('under_sampling', RandomUnderSampler()),\n",
        "             ('feature_selection', RFE(estimator=DecisionTreeClassifier(), n_features_to_select=20)),\n",
        "             ('model', DecisionTreeClassifier())]\n",
        ")\n",
        "\n",
        "scoring = {'accuracy' : make_scorer(accuracy_score),\n",
        "           'precision' : make_scorer(precision_score),\n",
        "           'recall' : make_scorer(recall_score),\n",
        "           'f1_score' : make_scorer(f1_score),\n",
        "           'roc_auc' : make_scorer(roc_auc_score)}\n",
        "\n",
        "# Evaluate\n",
        "scores = cross_validate(pipeline, \n",
        "                        X,\n",
        "                        y, \n",
        "                        scoring=scoring,\n",
        "                        cv=StratifiedKFold(n_splits=5, shuffle=True, random_state=10),\n",
        "                        n_jobs=-1)\n",
        "\n",
        "print(\"Decision Tree/RUS/RFE Accuracy: \", (scores['test_accuracy'].mean()))\n",
        "print(\"Decision Tree/RUS/RFE Precision: \", (scores['test_precision'].mean()))\n",
        "print(\"Decision Tree/RUS/RFE Recall: \", (scores['test_recall'].mean()))\n",
        "print(\"Decision Tree/RUS/RFE F1-Score: \", (scores['test_f1_score'].mean()))\n",
        "print(\"Decision Tree/RUS/RFE ROC-AUC: \", (scores['test_roc_auc'].mean()))"
      ],
      "metadata": {
        "id": "ip8QrD4K7yWH",
        "colab": {
          "base_uri": "https://localhost:8080/"
        },
        "outputId": "0d0049c0-15a9-4634-cbd6-ce0135a1f6ff"
      },
      "execution_count": null,
      "outputs": [
        {
          "output_type": "stream",
          "name": "stdout",
          "text": [
            "Decision Tree/RUS/RFE Accuracy:  0.9036329007132261\n",
            "Decision Tree/RUS/RFE Precision:  0.01622243997057033\n",
            "Decision Tree/RUS/RFE Recall:  0.9107400535971963\n",
            "Decision Tree/RUS/RFE F1-Score:  0.031869442937264014\n",
            "Decision Tree/RUS/RFE ROC-AUC:  0.9071805186826001\n"
          ]
        }
      ]
    },
    {
      "cell_type": "markdown",
      "source": [
        "### **Random Forest + RUS + RFE**"
      ],
      "metadata": {
        "id": "SJLBv-MrSNyH"
      }
    },
    {
      "cell_type": "code",
      "source": [
        "pipeline = Pipeline(\n",
        "    steps = [('under_sampling', RandomUnderSampler()),\n",
        "             ('feature_selection', RFE(estimator=DecisionTreeClassifier(), n_features_to_select=20)),\n",
        "             ('model', RandomForestClassifier())]\n",
        ")\n",
        "\n",
        "scoring = {'accuracy' : make_scorer(accuracy_score),\n",
        "           'precision' : make_scorer(precision_score),\n",
        "           'recall' : make_scorer(recall_score),\n",
        "           'f1_score' : make_scorer(f1_score),\n",
        "           'roc_auc' : make_scorer(roc_auc_score)}\n",
        "\n",
        "# Evaluate\n",
        "scores = cross_validate(pipeline, \n",
        "                        X,\n",
        "                        y, \n",
        "                        scoring=scoring,\n",
        "                        cv=StratifiedKFold(n_splits=5, shuffle=True, random_state=10),\n",
        "                        n_jobs=-1)\n",
        "\n",
        "print(\"Random Forest/RUS/RFE Accuracy: \", (scores['test_accuracy'].mean()))\n",
        "print(\"Random Forest/RUS/RFE Precision: \", (scores['test_precision'].mean()))\n",
        "print(\"Random Forest/RUS/RFE Recall: \", (scores['test_recall'].mean()))\n",
        "print(\"Random Forest/RUS/RFE F1-Score: \", (scores['test_f1_score'].mean()))\n",
        "print(\"Random Forest/RUS/RFE ROC-AUC: \", (scores['test_roc_auc'].mean()))"
      ],
      "metadata": {
        "id": "ZrUTor9X7-fU",
        "colab": {
          "base_uri": "https://localhost:8080/"
        },
        "outputId": "cc69bd2b-5acc-4502-c791-a62c3e102dfc"
      },
      "execution_count": null,
      "outputs": [
        {
          "output_type": "stream",
          "name": "stdout",
          "text": [
            "Random Forest/RUS/RFE Accuracy:  0.9690526854725945\n",
            "Random Forest/RUS/RFE Precision:  0.049903102187538836\n",
            "Random Forest/RUS/RFE Recall:  0.9107194392908677\n",
            "Random Forest/RUS/RFE F1-Score:  0.09447108208636372\n",
            "Random Forest/RUS/RFE ROC-AUC:  0.9399366853348982\n"
          ]
        }
      ]
    },
    {
      "cell_type": "markdown",
      "source": [
        "### **Gaussian NB + RUS + RFE**"
      ],
      "metadata": {
        "id": "J-oqoI35SQbF"
      }
    },
    {
      "cell_type": "code",
      "source": [
        "pipeline = Pipeline(\n",
        "    steps = [('under_sampling', RandomUnderSampler()),\n",
        "             ('feature_selection', RFE(estimator=DecisionTreeClassifier(), n_features_to_select=20)),\n",
        "             ('model', GaussianNB())]\n",
        ")\n",
        "\n",
        "scoring = {'accuracy' : make_scorer(accuracy_score),\n",
        "           'precision' : make_scorer(precision_score),\n",
        "           'recall' : make_scorer(recall_score),\n",
        "           'f1_score' : make_scorer(f1_score),\n",
        "           'roc_auc' : make_scorer(roc_auc_score)}\n",
        "\n",
        "# Evaluate\n",
        "scores = cross_validate(pipeline, \n",
        "                        X,\n",
        "                        y, \n",
        "                        scoring=scoring,\n",
        "                        cv=StratifiedKFold(n_splits=5, shuffle=True, random_state=10),\n",
        "                        n_jobs=-1)\n",
        "\n",
        "print(\"Gaussian NB/RUS/RFE Accuracy: \", (scores['test_accuracy'].mean()))\n",
        "print(\"Gaussian NB/RUS/RFE Precision: \", (scores['test_precision'].mean()))\n",
        "print(\"Gaussian NB/RUS/RFE Recall: \", (scores['test_recall'].mean()))\n",
        "print(\"Gaussian NB/RUS/RFE F1-Score: \", (scores['test_f1_score'].mean()))\n",
        "print(\"Gaussian NB/RUS/RFE ROC-AUC: \", (scores['test_roc_auc'].mean()))"
      ],
      "metadata": {
        "id": "sRVIs_RW8JpN",
        "colab": {
          "base_uri": "https://localhost:8080/"
        },
        "outputId": "665a9bc2-0a03-4056-c675-a9729fea65df"
      },
      "execution_count": null,
      "outputs": [
        {
          "output_type": "stream",
          "name": "stdout",
          "text": [
            "Gaussian NB/RUS/RFE Accuracy:  0.9794808810699756\n",
            "Gaussian NB/RUS/RFE Precision:  0.08156529604105918\n",
            "Gaussian NB/RUS/RFE Recall:  0.825211296639868\n",
            "Gaussian NB/RUS/RFE F1-Score:  0.144858546534065\n",
            "Gaussian NB/RUS/RFE ROC-AUC:  0.9024795557817281\n"
          ]
        }
      ]
    },
    {
      "cell_type": "markdown",
      "source": [
        "### **KNN + RUS + RFE**"
      ],
      "metadata": {
        "id": "m8NiCwXVSTqt"
      }
    },
    {
      "cell_type": "code",
      "source": [
        "pipeline = Pipeline(\n",
        "            steps = [('under_sampling', RandomUnderSampler()),\n",
        "                     ('feature_selection', RFE(estimator=DecisionTreeClassifier(), n_features_to_select=20)),\n",
        "                     ('model', KNeighborsClassifier(n_neighbors=3))]    \n",
        ")\n",
        "\n",
        "\n",
        "scoring = {'accuracy' : make_scorer(accuracy_score),\n",
        "           'precision' : make_scorer(precision_score),\n",
        "           'recall' : make_scorer(recall_score),\n",
        "           'f1_score' : make_scorer(f1_score),\n",
        "           'roc_auc' : make_scorer(roc_auc_score)}\n",
        "\n",
        "\n",
        "# Evaluate\n",
        "scores = cross_validate(pipeline, \n",
        "                        X,\n",
        "                        y, \n",
        "                        scoring=scoring,\n",
        "                        cv=StratifiedKFold(n_splits=5, shuffle=True, random_state=10),\n",
        "                        n_jobs=-1)\n",
        "\n",
        "print(\"KNN/RUS/RFE Accuracy: \", (scores['test_accuracy'].mean()))\n",
        "print(\"KNN/RUS/RFE Precision: \", (scores['test_precision'].mean()))\n",
        "print(\"KNN/RUS/RFE Recall: \", (scores['test_recall'].mean()))\n",
        "print(\"KNN/RUS/RFE F1-Score: \", (scores['test_f1_score'].mean()))\n",
        "print(\"KNN/RUS/RFE ROC-AUC: \", (scores['test_roc_auc'].mean()))"
      ],
      "metadata": {
        "colab": {
          "base_uri": "https://localhost:8080/"
        },
        "id": "zLtdtbEc9LSV",
        "outputId": "33b26c6e-6ff4-4a5c-f198-4f022fa80c8e"
      },
      "execution_count": null,
      "outputs": [
        {
          "output_type": "stream",
          "name": "stdout",
          "text": [
            "KNN/RUS/RFE Accuracy:  0.7694692660681196\n",
            "KNN/RUS/RFE Precision:  0.019270444371421988\n",
            "KNN/RUS/RFE Recall:  0.7606679035250463\n",
            "KNN/RUS/RFE F1-Score:  0.036816657855955705\n",
            "KNN/RUS/RFE ROC-AUC:  0.7650762270557718\n"
          ]
        }
      ]
    },
    {
      "cell_type": "markdown",
      "source": [
        "### **Logistic Regression + NearMiss + RFE**"
      ],
      "metadata": {
        "id": "iI42AdrZSWjP"
      }
    },
    {
      "cell_type": "code",
      "source": [
        "pipeline = Pipeline(\n",
        "    steps = [('under_sampling', NearMiss()),\n",
        "             ('feature_selection', RFE(estimator=DecisionTreeClassifier(), n_features_to_select=20)),\n",
        "             ('model', LogisticRegression(solver='lbfgs', max_iter=400))]\n",
        ")\n",
        "\n",
        "scoring = {'accuracy' : make_scorer(accuracy_score),\n",
        "           'precision' : make_scorer(precision_score),\n",
        "           'recall' : make_scorer(recall_score),\n",
        "           'f1_score' : make_scorer(f1_score),\n",
        "           'roc_auc' : make_scorer(roc_auc_score)}\n",
        "\n",
        "# Evaluate\n",
        "scores = cross_validate(pipeline, \n",
        "                        X,\n",
        "                        y, \n",
        "                        scoring=scoring,\n",
        "                        cv=StratifiedKFold(n_splits=5, shuffle=True, random_state=10),\n",
        "                        n_jobs=-1)\n",
        "\n",
        "print(\"Logistic Regression/NearMiss/RFE Accuracy: \", (scores['test_accuracy'].mean()))\n",
        "print(\"Logistic Regression/NearMiss/RFE Precision: \", (scores['test_precision'].mean()))\n",
        "print(\"Logistic Regression/NearMiss/RFE Recall: \", (scores['test_recall'].mean()))\n",
        "print(\"Logistic Regression/NearMiss/RFE F1-Score: \", (scores['test_f1_score'].mean()))\n",
        "print(\"Logistic Regression/NearMiss/RFE ROC-AUC: \", (scores['test_roc_auc'].mean()))"
      ],
      "metadata": {
        "colab": {
          "base_uri": "https://localhost:8080/"
        },
        "id": "fgx995mO9f8O",
        "outputId": "b63fba2e-cf47-414b-cbc7-350ea5c2ffc7"
      },
      "execution_count": null,
      "outputs": [
        {
          "output_type": "stream",
          "name": "stdout",
          "text": [
            "Logistic Regression/NearMiss/RFE Accuracy:  0.8062934681146924\n",
            "Logistic Regression/NearMiss/RFE Precision:  0.008609307951884644\n",
            "Logistic Regression/NearMiss/RFE Recall:  0.9249433106575964\n",
            "Logistic Regression/NearMiss/RFE F1-Score:  0.017053013666919182\n",
            "Logistic Regression/NearMiss/RFE ROC-AUC:  0.8655158140963624\n"
          ]
        }
      ]
    },
    {
      "cell_type": "markdown",
      "source": [
        "### **Decision Tree + NearMiss + RFE**"
      ],
      "metadata": {
        "id": "wP-EX4XqSvLP"
      }
    },
    {
      "cell_type": "code",
      "source": [
        "pipeline = Pipeline(\n",
        "    steps = [('under_sampling', NearMiss()),\n",
        "             ('feature_selection', RFE(estimator=DecisionTreeClassifier(), n_features_to_select=20)),\n",
        "             ('model', DecisionTreeClassifier())]\n",
        ")\n",
        "\n",
        "scoring = {'accuracy' : make_scorer(accuracy_score),\n",
        "           'precision' : make_scorer(precision_score),\n",
        "           'recall' : make_scorer(recall_score),\n",
        "           'f1_score' : make_scorer(f1_score),\n",
        "           'roc_auc' : make_scorer(roc_auc_score)}\n",
        "\n",
        "# Evaluate\n",
        "scores = cross_validate(pipeline, \n",
        "                        X,\n",
        "                        y, \n",
        "                        scoring=scoring,\n",
        "                        cv=StratifiedKFold(n_splits=5, shuffle=True, random_state=10),\n",
        "                        n_jobs=-1)\n",
        "\n",
        "print(\"Decision Tree/NearMiss/RFE Accuracy: \", (scores['test_accuracy'].mean()))\n",
        "print(\"Decision Tree/NearMiss/RFE Precision: \", (scores['test_precision'].mean()))\n",
        "print(\"Decision Tree/NearMiss/RFE Recall: \", (scores['test_recall'].mean()))\n",
        "print(\"Decision Tree/NearMiss/RFE F1-Score: \", (scores['test_f1_score'].mean()))\n",
        "print(\"Decision Tree/NearMiss/RFE ROC-AUC: \", (scores['test_roc_auc'].mean()))"
      ],
      "metadata": {
        "colab": {
          "base_uri": "https://localhost:8080/"
        },
        "id": "FY6XsHz39m5W",
        "outputId": "5380d262-5d1a-4f42-a476-4a975c456711"
      },
      "execution_count": null,
      "outputs": [
        {
          "output_type": "stream",
          "name": "stdout",
          "text": [
            "Decision Tree/NearMiss/RFE Accuracy:  0.525605286135369\n",
            "Decision Tree/NearMiss/RFE Precision:  0.0037871763354743087\n",
            "Decision Tree/NearMiss/RFE Recall:  0.9471861471861474\n",
            "Decision Tree/NearMiss/RFE F1-Score:  0.007541318851703509\n",
            "Decision Tree/NearMiss/RFE ROC-AUC:  0.7360308626650536\n"
          ]
        }
      ]
    },
    {
      "cell_type": "markdown",
      "source": [
        "### **Random Forest + NearMiss + RFE**"
      ],
      "metadata": {
        "id": "pVghMD7eS0ob"
      }
    },
    {
      "cell_type": "code",
      "source": [
        "pipeline = Pipeline(\n",
        "    steps = [('under_sampling', NearMiss()),\n",
        "             ('feature_selection', RFE(estimator=DecisionTreeClassifier(), n_features_to_select=20)),\n",
        "             ('model', RandomForestClassifier())]\n",
        ")\n",
        "\n",
        "scoring = {'accuracy' : make_scorer(accuracy_score),\n",
        "           'precision' : make_scorer(precision_score),\n",
        "           'recall' : make_scorer(recall_score),\n",
        "           'f1_score' : make_scorer(f1_score),\n",
        "           'roc_auc' : make_scorer(roc_auc_score)}\n",
        "\n",
        "# Evaluate\n",
        "scores = cross_validate(pipeline, \n",
        "                        X,\n",
        "                        y, \n",
        "                        scoring=scoring,\n",
        "                        cv=StratifiedKFold(n_splits=5, shuffle=True, random_state=10),\n",
        "                        n_jobs=-1)\n",
        "\n",
        "print(\"Random Forest/NearMiss/RFE Accuracy: \", (scores['test_accuracy'].mean()))\n",
        "print(\"Random Forest/NearMiss/RFE Precision: \", (scores['test_precision'].mean()))\n",
        "print(\"Random Forest/NearMiss/RFE Recall: \", (scores['test_recall'].mean()))\n",
        "print(\"Random Forest/NearMiss/RFE F1-Score: \", (scores['test_f1_score'].mean()))\n",
        "print(\"Random Forest/NearMiss/RFE ROC-AUC: \", (scores['test_roc_auc'].mean()))"
      ],
      "metadata": {
        "colab": {
          "base_uri": "https://localhost:8080/"
        },
        "id": "fNPHSSdI9xoi",
        "outputId": "45500570-69e7-4546-d31d-afb798616798"
      },
      "execution_count": null,
      "outputs": [
        {
          "output_type": "stream",
          "name": "stdout",
          "text": [
            "Random Forest/NearMiss/RFE Accuracy:  0.7282647334647097\n",
            "Random Forest/NearMiss/RFE Precision:  0.007234142820915754\n",
            "Random Forest/NearMiss/RFE Recall:  0.949268192125335\n",
            "Random Forest/NearMiss/RFE F1-Score:  0.014342673058963959\n",
            "Random Forest/NearMiss/RFE ROC-AUC:  0.8385754990839643\n"
          ]
        }
      ]
    },
    {
      "cell_type": "markdown",
      "source": [
        "### **Gaussian NB + NearMiss + RFE**"
      ],
      "metadata": {
        "id": "4mLUpZoWS3cw"
      }
    },
    {
      "cell_type": "code",
      "source": [
        "pipeline = Pipeline(\n",
        "    steps = [('under_sampling', NearMiss()),\n",
        "             ('feature_selection', RFE(estimator=DecisionTreeClassifier(), n_features_to_select=20)),\n",
        "             ('model', GaussianNB())]\n",
        ")\n",
        "\n",
        "scoring = {'accuracy' : make_scorer(accuracy_score),\n",
        "           'precision' : make_scorer(precision_score),\n",
        "           'recall' : make_scorer(recall_score),\n",
        "           'f1_score' : make_scorer(f1_score),\n",
        "           'roc_auc' : make_scorer(roc_auc_score)}\n",
        "\n",
        "# Evaluate\n",
        "scores = cross_validate(pipeline, \n",
        "                        X,\n",
        "                        y, \n",
        "                        scoring=scoring,\n",
        "                        cv=StratifiedKFold(n_splits=5, shuffle=True, random_state=10),\n",
        "                        n_jobs=-1)\n",
        "\n",
        "print(\"Gaussian NB/NearMiss/RFE Accuracy: \", (scores['test_accuracy'].mean()))\n",
        "print(\"Gaussian NB/NearMiss/RFE Precision: \", (scores['test_precision'].mean()))\n",
        "print(\"Gaussian NB/NearMiss/RFE Recall: \", (scores['test_recall'].mean()))\n",
        "print(\"Gaussian NB/NearMiss/RFE F1-Score: \", (scores['test_f1_score'].mean()))\n",
        "print(\"Gaussian NB/NearMiss/RFE ROC-AUC: \", (scores['test_roc_auc'].mean()))"
      ],
      "metadata": {
        "colab": {
          "base_uri": "https://localhost:8080/"
        },
        "id": "u3EilpbD-y1v",
        "outputId": "551c1170-6016-4562-889f-7adc1bd07b17"
      },
      "execution_count": null,
      "outputs": [
        {
          "output_type": "stream",
          "name": "stdout",
          "text": [
            "Gaussian NB/NearMiss/RFE Accuracy:  0.774313969491781\n",
            "Gaussian NB/NearMiss/RFE Precision:  0.006315836009570459\n",
            "Gaussian NB/NearMiss/RFE Recall:  0.8007833436404864\n",
            "Gaussian NB/NearMiss/RFE F1-Score:  0.01252955273984228\n",
            "Gaussian NB/NearMiss/RFE ROC-AUC:  0.787525660529949\n"
          ]
        }
      ]
    },
    {
      "cell_type": "markdown",
      "source": [
        "### **KNN + NearMiss + RFE**"
      ],
      "metadata": {
        "id": "gFvhnI5WS53-"
      }
    },
    {
      "cell_type": "code",
      "source": [
        "pipeline = Pipeline(\n",
        "            steps = [('under_sampling', NearMiss()),\n",
        "                     ('feature_selection', RFE(estimator=DecisionTreeClassifier(), n_features_to_select=20)),\n",
        "                     ('model', KNeighborsClassifier(n_neighbors=3))]    \n",
        ")\n",
        "\n",
        "\n",
        "scoring = {'accuracy' : make_scorer(accuracy_score),\n",
        "           'precision' : make_scorer(precision_score),\n",
        "           'recall' : make_scorer(recall_score),\n",
        "           'f1_score' : make_scorer(f1_score),\n",
        "           'roc_auc' : make_scorer(roc_auc_score)}\n",
        "\n",
        "\n",
        "# Evaluate\n",
        "scores = cross_validate(pipeline, \n",
        "                        X,\n",
        "                        y, \n",
        "                        scoring=scoring,\n",
        "                        cv=StratifiedKFold(n_splits=5, shuffle=True, random_state=10),\n",
        "                        n_jobs=-1)\n",
        "\n",
        "print(\"KNN/NearMiss/RFE Accuracy: \", (scores['test_accuracy'].mean()))\n",
        "print(\"KNN/NearMiss/RFE Precision: \", (scores['test_precision'].mean()))\n",
        "print(\"KNN/NearMiss/RFE Recall: \", (scores['test_recall'].mean()))\n",
        "print(\"KNN/NearMiss/RFE F1-Score: \", (scores['test_f1_score'].mean()))\n",
        "print(\"KNN/NearMiss/RFE ROC-AUC: \", (scores['test_roc_auc'].mean()))"
      ],
      "metadata": {
        "colab": {
          "base_uri": "https://localhost:8080/"
        },
        "id": "L6W4pK4i--vO",
        "outputId": "8db84733-8c4c-440f-c8ea-a33d10819b06"
      },
      "execution_count": null,
      "outputs": [
        {
          "output_type": "stream",
          "name": "stdout",
          "text": [
            "KNN/NearMiss/RFE Accuracy:  0.049170144072693614\n",
            "KNN/NearMiss/RFE Precision:  0.0017031530146849015\n",
            "KNN/NearMiss/RFE Recall:  0.9389404246547102\n",
            "KNN/NearMiss/RFE F1-Score:  0.0034001377935492932\n",
            "KNN/NearMiss/RFE ROC-AUC:  0.4932853469491655\n"
          ]
        }
      ]
    },
    {
      "cell_type": "markdown",
      "source": [
        "### **Logistic Regression + TomekLinks + RFE**"
      ],
      "metadata": {
        "id": "uflJd5x3S9Wt"
      }
    },
    {
      "cell_type": "code",
      "source": [
        "pipeline = Pipeline(\n",
        "    steps = [('under_sampling', TomekLinks()),\n",
        "             ('feature_selection', RFE(estimator=DecisionTreeClassifier(), n_features_to_select=20)),\n",
        "             ('model', LogisticRegression(solver='lbfgs', max_iter=400))]\n",
        ")\n",
        "\n",
        "scoring = {'accuracy' : make_scorer(accuracy_score),\n",
        "           'precision' : make_scorer(precision_score),\n",
        "           'recall' : make_scorer(recall_score),\n",
        "           'f1_score' : make_scorer(f1_score),\n",
        "           'roc_auc' : make_scorer(roc_auc_score)}\n",
        "\n",
        "# Evaluate\n",
        "scores = cross_validate(pipeline, \n",
        "                        X,\n",
        "                        y, \n",
        "                        scoring=scoring,\n",
        "                        cv=StratifiedKFold(n_splits=5, shuffle=True, random_state=10),\n",
        "                        n_jobs=-1)\n",
        "\n",
        "print(\"Logistic Regression/TomekLinks/RFE Accuracy: \", (scores['test_accuracy'].mean()))\n",
        "print(\"Logistic Regression/TomekLinks/RFE Precision: \", (scores['test_precision'].mean()))\n",
        "print(\"Logistic Regression/TomekLinks/RFE Recall: \", (scores['test_recall'].mean()))\n",
        "print(\"Logistic Regression/TomekLinks/RFE F1-Score: \", (scores['test_f1_score'].mean()))\n",
        "print(\"Logistic Regression/TomekLinks/RFE ROC-AUC: \", (scores['test_roc_auc'].mean()))"
      ],
      "metadata": {
        "id": "HviDCkxk_InR",
        "colab": {
          "base_uri": "https://localhost:8080/"
        },
        "outputId": "96b308cd-a490-4ce9-e8c6-74f9795af4e3"
      },
      "execution_count": 15,
      "outputs": [
        {
          "output_type": "stream",
          "name": "stdout",
          "text": [
            "Logistic Regression/TomekLinks/RFE Accuracy:  0.9991538133397343\n",
            "Logistic Regression/TomekLinks/RFE Precision:  0.8534598895926978\n",
            "Logistic Regression/TomekLinks/RFE Recall:  0.6179962894248608\n",
            "Logistic Regression/TomekLinks/RFE F1-Score:  0.7140865208550984\n",
            "Logistic Regression/TomekLinks/RFE ROC-AUC:  0.8089049382337009\n"
          ]
        }
      ]
    },
    {
      "cell_type": "markdown",
      "source": [
        "### **Decision Tree + TomekLinks + RFE**"
      ],
      "metadata": {
        "id": "5A_ItiLuTCX8"
      }
    },
    {
      "cell_type": "code",
      "source": [
        "pipeline = Pipeline(\n",
        "    steps = [('under_sampling', TomekLinks()),\n",
        "             ('feature_selection', RFE(estimator=DecisionTreeClassifier(), n_features_to_select=20)),\n",
        "             ('model', LogisticRegression(solver='lbfgs', max_iter=400))]\n",
        ")\n",
        "\n",
        "scoring = {'accuracy' : make_scorer(accuracy_score),\n",
        "           'precision' : make_scorer(precision_score),\n",
        "           'recall' : make_scorer(recall_score),\n",
        "           'f1_score' : make_scorer(f1_score),\n",
        "           'roc_auc' : make_scorer(roc_auc_score)}\n",
        "\n",
        "# Evaluate\n",
        "scores = cross_validate(pipeline, \n",
        "                        X,\n",
        "                        y, \n",
        "                        scoring=scoring,\n",
        "                        cv=StratifiedKFold(n_splits=5, shuffle=True, random_state=10),\n",
        "                        n_jobs=-1)\n",
        "\n",
        "print(\"Decision Tree/TomekLinks/RFE Accuracy: \", (scores['test_accuracy'].mean()))\n",
        "print(\"Decision Tree/TomekLinks/RFE Precision: \", (scores['test_precision'].mean()))\n",
        "print(\"Decision Tree/TomekLinks/RFE Recall: \", (scores['test_recall'].mean()))\n",
        "print(\"Decision Tree/TomekLinks/RFE F1-Score: \", (scores['test_f1_score'].mean()))\n",
        "print(\"Decision Tree/TomekLinks/RFE ROC-AUC: \", (scores['test_roc_auc'].mean()))"
      ],
      "metadata": {
        "id": "5XQU4Ghx_O8d",
        "colab": {
          "base_uri": "https://localhost:8080/"
        },
        "outputId": "5b3a218d-8f6a-4f61-9b06-c624b48213b7"
      },
      "execution_count": 16,
      "outputs": [
        {
          "output_type": "stream",
          "name": "stdout",
          "text": [
            "Decision Tree/TomekLinks/RFE Accuracy:  0.9991924358256845\n",
            "Decision Tree/TomekLinks/RFE Precision:  0.8633623418669023\n",
            "Decision Tree/TomekLinks/RFE Recall:  0.6342197485054628\n",
            "Decision Tree/TomekLinks/RFE F1-Score:  0.728456565587414\n",
            "Decision Tree/TomekLinks/RFE ROC-AUC:  0.8170219436124206\n"
          ]
        }
      ]
    },
    {
      "cell_type": "markdown",
      "source": [
        "### **Random Forest + TomekLinks + RFE**"
      ],
      "metadata": {
        "id": "VpSj2Tx1TGcl"
      }
    },
    {
      "cell_type": "code",
      "source": [
        "pipeline = Pipeline(\n",
        "    steps = [('under_sampling', TomekLinks()),\n",
        "             ('feature_selection', RFE(estimator=DecisionTreeClassifier(), n_features_to_select=20)),\n",
        "             ('model', RandomForestClassifier())]\n",
        ")\n",
        "\n",
        "scoring = {'accuracy' : make_scorer(accuracy_score),\n",
        "           'precision' : make_scorer(precision_score),\n",
        "           'recall' : make_scorer(recall_score),\n",
        "           'f1_score' : make_scorer(f1_score),\n",
        "           'roc_auc' : make_scorer(roc_auc_score)}\n",
        "\n",
        "# Evaluate\n",
        "scores = cross_validate(pipeline, \n",
        "                        X,\n",
        "                        y, \n",
        "                        scoring=scoring,\n",
        "                        cv=StratifiedKFold(n_splits=5, shuffle=True, random_state=10),\n",
        "                        n_jobs=-1)\n",
        "\n",
        "print(\"Random Forest/TomekLinks/RFE Accuracy: \", (scores['test_accuracy'].mean()))\n",
        "print(\"Random Forest/TomekLinks/RFE Precision: \", (scores['test_precision'].mean()))\n",
        "print(\"Random Forest/TomekLinks/RFE Recall: \", (scores['test_recall'].mean()))\n",
        "print(\"Random Forest/TomekLinks/RFE F1-Score: \", (scores['test_f1_score'].mean()))\n",
        "print(\"Random Forest/TomekLinks/RFE ROC-AUC: \", (scores['test_roc_auc'].mean()))"
      ],
      "metadata": {
        "id": "-UK36Kkf_Uq4",
        "colab": {
          "base_uri": "https://localhost:8080/"
        },
        "outputId": "a9583974-33bf-42c4-850c-773c6d0dae14"
      },
      "execution_count": 17,
      "outputs": [
        {
          "output_type": "stream",
          "name": "stderr",
          "text": [
            "/usr/local/lib/python3.7/dist-packages/joblib/externals/loky/process_executor.py:705: UserWarning:\n",
            "\n",
            "A worker stopped while some jobs were given to the executor. This can be caused by a too short worker timeout or by a memory leak.\n",
            "\n"
          ]
        },
        {
          "output_type": "stream",
          "name": "stdout",
          "text": [
            "Random Forest/TomekLinks/RFE Accuracy:  0.9995505731399081\n",
            "Random Forest/TomekLinks/RFE Precision:  0.9488076695108033\n",
            "Random Forest/TomekLinks/RFE Recall:  0.782663368377654\n",
            "Random Forest/TomekLinks/RFE F1-Score:  0.8571479173094462\n",
            "Random Forest/TomekLinks/RFE ROC-AUC:  0.8912947533198965\n"
          ]
        }
      ]
    },
    {
      "cell_type": "markdown",
      "source": [
        "### **Gaussian NB + TomekLinks + RFE**"
      ],
      "metadata": {
        "id": "4ukLa4daTKRK"
      }
    },
    {
      "cell_type": "code",
      "source": [
        "pipeline = Pipeline(\n",
        "    steps = [('under_sampling', TomekLinks()),\n",
        "             ('feature_selection', RFE(estimator=DecisionTreeClassifier(), n_features_to_select=20)),\n",
        "             ('model', GaussianNB())]\n",
        ")\n",
        "\n",
        "scoring = {'accuracy' : make_scorer(accuracy_score),\n",
        "           'precision' : make_scorer(precision_score),\n",
        "           'recall' : make_scorer(recall_score),\n",
        "           'f1_score' : make_scorer(f1_score),\n",
        "           'roc_auc' : make_scorer(roc_auc_score)}\n",
        "\n",
        "# Evaluate\n",
        "scores = cross_validate(pipeline, \n",
        "                        X,\n",
        "                        y, \n",
        "                        scoring=scoring,\n",
        "                        cv=StratifiedKFold(n_splits=5, shuffle=True, random_state=10),\n",
        "                        n_jobs=-1)\n",
        "\n",
        "print(\"Gaussian NB/TomekLinks/RFE Accuracy: \", (scores['test_accuracy'].mean()))\n",
        "print(\"Gaussian NB/TomekLinks/RFE Precision: \", (scores['test_precision'].mean()))\n",
        "print(\"Gaussian NB/TomekLinks/RFE Recall: \", (scores['test_recall'].mean()))\n",
        "print(\"Gaussian NB/TomekLinks/RFE F1-Score: \", (scores['test_f1_score'].mean()))\n",
        "print(\"Gaussian NB/TomekLinks/RFE ROC-AUC: \", (scores['test_roc_auc'].mean()))"
      ],
      "metadata": {
        "id": "6EsTVbzm_g2I",
        "colab": {
          "base_uri": "https://localhost:8080/"
        },
        "outputId": "38dce00f-17cd-4833-b62c-fb4bbb89824f"
      },
      "execution_count": 18,
      "outputs": [
        {
          "output_type": "stream",
          "name": "stderr",
          "text": [
            "/usr/local/lib/python3.7/dist-packages/joblib/externals/loky/process_executor.py:705: UserWarning:\n",
            "\n",
            "A worker stopped while some jobs were given to the executor. This can be caused by a too short worker timeout or by a memory leak.\n",
            "\n"
          ]
        },
        {
          "output_type": "stream",
          "name": "stdout",
          "text": [
            "Gaussian NB/TomekLinks/RFE Accuracy:  0.9896737129669958\n",
            "Gaussian NB/TomekLinks/RFE Precision:  0.15783050445363914\n",
            "Gaussian NB/TomekLinks/RFE Recall:  0.7540300968872398\n",
            "Gaussian NB/TomekLinks/RFE F1-Score:  0.2503422601558981\n",
            "Gaussian NB/TomekLinks/RFE ROC-AUC:  0.8720557603300838\n"
          ]
        }
      ]
    },
    {
      "cell_type": "markdown",
      "source": [
        "### **KNN + TomekLinks + RFE**"
      ],
      "metadata": {
        "id": "ztpX-9VmTNLg"
      }
    },
    {
      "cell_type": "code",
      "source": [
        "pipeline = Pipeline(\n",
        "            steps = [('under_sampling', TomekLinks()),\n",
        "                     ('feature_selection', RFE(estimator=DecisionTreeClassifier(), n_features_to_select=20)),\n",
        "                     ('model', KNeighborsClassifier(n_neighbors=3))]    \n",
        ")\n",
        "\n",
        "\n",
        "scoring = {'accuracy' : make_scorer(accuracy_score),\n",
        "           'precision' : make_scorer(precision_score),\n",
        "           'recall' : make_scorer(recall_score),\n",
        "           'f1_score' : make_scorer(f1_score),\n",
        "           'roc_auc' : make_scorer(roc_auc_score)}\n",
        "\n",
        "\n",
        "# Evaluate\n",
        "scores = cross_validate(pipeline, \n",
        "                        X,\n",
        "                        y, \n",
        "                        scoring=scoring,\n",
        "                        cv=StratifiedKFold(n_splits=5, shuffle=True, random_state=10),\n",
        "                        n_jobs=-1)\n",
        "\n",
        "print(\"KNN/TomekLinks/RFE Accuracy: \", (scores['test_accuracy'].mean()))\n",
        "print(\"KNN/TomekLinks/RFE Precision: \", (scores['test_precision'].mean()))\n",
        "print(\"KNN/TomekLinks/RFE Recall: \", (scores['test_recall'].mean()))\n",
        "print(\"KNN/TomekLinks/RFE F1-Score: \", (scores['test_f1_score'].mean()))\n",
        "print(\"KNN/TomekLinks/RFE ROC-AUC: \", (scores['test_roc_auc'].mean()))"
      ],
      "metadata": {
        "id": "-iGW88jy_rTQ",
        "colab": {
          "base_uri": "https://localhost:8080/"
        },
        "outputId": "1d6ea5ba-294a-41fb-9bd6-48f719a908a1"
      },
      "execution_count": 19,
      "outputs": [
        {
          "output_type": "stream",
          "name": "stdout",
          "text": [
            "KNN/TomekLinks/RFE Accuracy:  0.9988342979566951\n",
            "KNN/TomekLinks/RFE Precision:  0.891547721684708\n",
            "KNN/TomekLinks/RFE Recall:  0.35349412492269633\n",
            "KNN/TomekLinks/RFE F1-Score:  0.4419531378460331\n",
            "KNN/TomekLinks/RFE ROC-AUC:  0.6767224418820611\n"
          ]
        }
      ]
    },
    {
      "cell_type": "markdown",
      "source": [
        "### **Logistic Regression + ROS + RFE**"
      ],
      "metadata": {
        "id": "uhxM2ztQTT2o"
      }
    },
    {
      "cell_type": "code",
      "source": [
        "pipeline = Pipeline(\n",
        "    steps = [('under_sampling', RandomOverSampler()),\n",
        "             ('feature_selection', RFE(estimator=DecisionTreeClassifier(), n_features_to_select=20)),\n",
        "             ('model', LogisticRegression(solver='lbfgs', max_iter=400))]\n",
        ")\n",
        "\n",
        "scoring = {'accuracy' : make_scorer(accuracy_score),\n",
        "           'precision' : make_scorer(precision_score),\n",
        "           'recall' : make_scorer(recall_score),\n",
        "           'f1_score' : make_scorer(f1_score),\n",
        "           'roc_auc' : make_scorer(roc_auc_score)}\n",
        "\n",
        "# Evaluate\n",
        "scores = cross_validate(pipeline, \n",
        "                        X,\n",
        "                        y, \n",
        "                        scoring=scoring,\n",
        "                        cv=StratifiedKFold(n_splits=5, shuffle=True, random_state=10),\n",
        "                        n_jobs=-1)\n",
        "\n",
        "print(\"Logistic Regression/ROS/RFE Accuracy: \", (scores['test_accuracy'].mean()))\n",
        "print(\"Logistic Regression/ROS/RFE Precision: \", (scores['test_precision'].mean()))\n",
        "print(\"Logistic Regression/ROS/RFE Recall: \", (scores['test_recall'].mean()))\n",
        "print(\"Logistic Regression/ROS/RFE F1-Score: \", (scores['test_f1_score'].mean()))\n",
        "print(\"Logistic Regression/ROS/RFE ROC-AUC: \", (scores['test_roc_auc'].mean()))"
      ],
      "metadata": {
        "colab": {
          "base_uri": "https://localhost:8080/"
        },
        "id": "QE8JYrty_0nt",
        "outputId": "fbc17511-8214-4103-b735-caf5eb25e499"
      },
      "execution_count": null,
      "outputs": [
        {
          "output_type": "stream",
          "name": "stdout",
          "text": [
            "Logistic Regression/ROS/RFE Accuracy:  0.959530416304427\n",
            "Logistic Regression/ROS/RFE Precision:  0.04268061289213132\n",
            "Logistic Regression/ROS/RFE Recall:  0.9005565862708721\n",
            "Logistic Regression/ROS/RFE F1-Score:  0.08113345826205792\n",
            "Logistic Regression/ROS/RFE ROC-AUC:  0.9300946939584668\n"
          ]
        }
      ]
    },
    {
      "cell_type": "markdown",
      "source": [
        "### **Decision Tree + ROS + RFE**"
      ],
      "metadata": {
        "id": "-Sh2UXBCTYcm"
      }
    },
    {
      "cell_type": "code",
      "source": [
        "pipeline = Pipeline(\n",
        "    steps = [('over_sampling', RandomOverSampler()),\n",
        "             ('feature_selection', RFE(estimator=DecisionTreeClassifier(), n_features_to_select=20)),\n",
        "             ('model', DecisionTreeClassifier())]\n",
        ")\n",
        "\n",
        "scoring = {'accuracy' : make_scorer(accuracy_score),\n",
        "           'precision' : make_scorer(precision_score),\n",
        "           'recall' : make_scorer(recall_score),\n",
        "           'f1_score' : make_scorer(f1_score),\n",
        "           'roc_auc' : make_scorer(roc_auc_score)}\n",
        "\n",
        "# Evaluate\n",
        "scores = cross_validate(pipeline, \n",
        "                        X,\n",
        "                        y, \n",
        "                        scoring=scoring,\n",
        "                        cv=StratifiedKFold(n_splits=5, shuffle=True, random_state=10),\n",
        "                        n_jobs=-1)\n",
        "\n",
        "print(\"Decision Tree/ROS/RFE Accuracy: \", (scores['test_accuracy'].mean()))\n",
        "print(\"Decision Tree/ROS/RFE Precision: \", (scores['test_precision'].mean()))\n",
        "print(\"Decision Tree/ROS/RFE Recall: \", (scores['test_recall'].mean()))\n",
        "print(\"Decision Tree/ROS/RFE F1-Score: \", (scores['test_f1_score'].mean()))\n",
        "print(\"Decision Tree/ROS/RFE ROC-AUC: \", (scores['test_roc_auc'].mean()))"
      ],
      "metadata": {
        "colab": {
          "base_uri": "https://localhost:8080/"
        },
        "id": "3CyrI7fU_7pN",
        "outputId": "f6943f87-23e9-4c09-f94a-24eea33078f8"
      },
      "execution_count": null,
      "outputs": [
        {
          "output_type": "stream",
          "name": "stdout",
          "text": [
            "Decision Tree/ROS/RFE Accuracy:  0.9991362577763763\n",
            "Decision Tree/ROS/RFE Precision:  0.7562478777589134\n",
            "Decision Tree/ROS/RFE Recall:  0.7379715522572666\n",
            "Decision Tree/ROS/RFE F1-Score:  0.7466186579797875\n",
            "Decision Tree/ROS/RFE ROC-AUC:  0.8687800184303056\n"
          ]
        }
      ]
    },
    {
      "cell_type": "markdown",
      "source": [
        "### **Random Forest + ROS + RFE**"
      ],
      "metadata": {
        "id": "CvP55jN2TbKb"
      }
    },
    {
      "cell_type": "code",
      "source": [
        "pipeline = Pipeline(\n",
        "    steps = [('over_sampling', RandomOverSampler()),\n",
        "             ('feature_selection', RFE(estimator=DecisionTreeClassifier(), n_features_to_select=20)),\n",
        "             ('model', RandomForestClassifier())]\n",
        ")\n",
        "\n",
        "scoring = {'accuracy' : make_scorer(accuracy_score),\n",
        "           'precision' : make_scorer(precision_score),\n",
        "           'recall' : make_scorer(recall_score),\n",
        "           'f1_score' : make_scorer(f1_score),\n",
        "           'roc_auc' : make_scorer(roc_auc_score)}\n",
        "\n",
        "# Evaluate\n",
        "scores = cross_validate(pipeline, \n",
        "                        X,\n",
        "                        y, \n",
        "                        scoring=scoring,\n",
        "                        cv=StratifiedKFold(n_splits=5, shuffle=True, random_state=10),\n",
        "                        n_jobs=-1)\n",
        "\n",
        "print(\"Random Forest/ROS/RFE Accuracy: \", (scores['test_accuracy'].mean()))\n",
        "print(\"Random Forest/ROS/RFE Precision: \", (scores['test_precision'].mean()))\n",
        "print(\"Random Forest/ROS/RFE Recall: \", (scores['test_recall'].mean()))\n",
        "print(\"Random Forest/ROS/RFE F1-Score: \", (scores['test_f1_score'].mean()))\n",
        "print(\"Random Forest/ROS/RFE ROC-AUC: \", (scores['test_roc_auc'].mean()))"
      ],
      "metadata": {
        "colab": {
          "base_uri": "https://localhost:8080/"
        },
        "id": "saf7kFOPAG13",
        "outputId": "c6084caf-7dd1-4381-dda5-0aff44a54824"
      },
      "execution_count": null,
      "outputs": [
        {
          "output_type": "stream",
          "name": "stdout",
          "text": [
            "Random Forest/ROS/RFE Accuracy:  0.9995295065255192\n",
            "Random Forest/ROS/RFE Precision:  0.944984357179479\n",
            "Random Forest/ROS/RFE Recall:  0.7725211296639868\n",
            "Random Forest/ROS/RFE F1-Score:  0.8496510094068785\n",
            "Random Forest/ROS/RFE ROC-AUC:  0.8862218753502565\n"
          ]
        }
      ]
    },
    {
      "cell_type": "markdown",
      "source": [
        "### **Gaussian NB + ROS + RFE**"
      ],
      "metadata": {
        "id": "yockGQNeTeRy"
      }
    },
    {
      "cell_type": "code",
      "source": [
        "pipeline = Pipeline(\n",
        "    steps = [('over_sampling', RandomOverSampler()),\n",
        "             ('feature_selection', RFE(estimator=DecisionTreeClassifier(), n_features_to_select=20)),\n",
        "             ('model', GaussianNB())]\n",
        ")\n",
        "\n",
        "scoring = {'accuracy' : make_scorer(accuracy_score),\n",
        "           'precision' : make_scorer(precision_score),\n",
        "           'recall' : make_scorer(recall_score),\n",
        "           'f1_score' : make_scorer(f1_score),\n",
        "           'roc_auc' : make_scorer(roc_auc_score)}\n",
        "\n",
        "# Evaluate\n",
        "scores = cross_validate(pipeline, \n",
        "                        X,\n",
        "                        y, \n",
        "                        scoring=scoring,\n",
        "                        cv=StratifiedKFold(n_splits=5, shuffle=True, random_state=10),\n",
        "                        n_jobs=-1)\n",
        "\n",
        "print(\"Gaussian NB/ROS/RFE Accuracy: \", (scores['test_accuracy'].mean()))\n",
        "print(\"Gaussian NB/ROS/RFE Precision: \", (scores['test_precision'].mean()))\n",
        "print(\"Gaussian NB/ROS/RFE Recall: \", (scores['test_recall'].mean()))\n",
        "print(\"Gaussian NB/ROS/RFE F1-Score: \", (scores['test_f1_score'].mean()))\n",
        "print(\"Gaussian NB/ROS/RFE ROC-AUC: \", (scores['test_roc_auc'].mean()))"
      ],
      "metadata": {
        "colab": {
          "base_uri": "https://localhost:8080/"
        },
        "id": "maDiGm36ATbG",
        "outputId": "cee4d78c-3959-434c-ad26-83bbec20f729"
      },
      "execution_count": null,
      "outputs": [
        {
          "output_type": "stream",
          "name": "stdout",
          "text": [
            "Gaussian NB/ROS/RFE Accuracy:  0.9847440760107389\n",
            "Gaussian NB/ROS/RFE Precision:  0.10124851814494333\n",
            "Gaussian NB/ROS/RFE Recall:  0.7845598845598845\n",
            "Gaussian NB/ROS/RFE F1-Score:  0.17595178959793253\n",
            "Gaussian NB/ROS/RFE ROC-AUC:  0.8848251825943823\n"
          ]
        }
      ]
    },
    {
      "cell_type": "markdown",
      "source": [
        "### **KNN + ROS + RFE**"
      ],
      "metadata": {
        "id": "FPEyS1q9Tgfn"
      }
    },
    {
      "cell_type": "code",
      "source": [
        "pipeline = Pipeline(\n",
        "            steps = [('over_sampling', RandomOverSampler()),\n",
        "                     ('feature_selection', RFE(estimator=DecisionTreeClassifier(), n_features_to_select=20)),\n",
        "                     ('model', KNeighborsClassifier(n_neighbors=3))]    \n",
        ")\n",
        "\n",
        "\n",
        "scoring = {'accuracy' : make_scorer(accuracy_score),\n",
        "           'precision' : make_scorer(precision_score),\n",
        "           'recall' : make_scorer(recall_score),\n",
        "           'f1_score' : make_scorer(f1_score),\n",
        "           'roc_auc' : make_scorer(roc_auc_score)}\n",
        "\n",
        "\n",
        "# Evaluate\n",
        "scores = cross_validate(pipeline, \n",
        "                        X,\n",
        "                        y, \n",
        "                        scoring=scoring,\n",
        "                        cv=StratifiedKFold(n_splits=5, shuffle=True, random_state=10),\n",
        "                        n_jobs=-1)\n",
        "\n",
        "print(\"KNN/ROS/RFE Accuracy: \", (scores['test_accuracy'].mean()))\n",
        "print(\"KNN/ROS/RFE Precision: \", (scores['test_precision'].mean()))\n",
        "print(\"KNN/ROS/RFE Recall: \", (scores['test_recall'].mean()))\n",
        "print(\"KNN/ROS/RFE F1-Score: \", (scores['test_f1_score'].mean()))\n",
        "print(\"KNN/ROS/RFE ROC-AUC: \", (scores['test_roc_auc'].mean()))"
      ],
      "metadata": {
        "colab": {
          "base_uri": "https://localhost:8080/"
        },
        "id": "iqGkdONpAdzK",
        "outputId": "441569ab-3453-4e2a-e66d-6321c0aa267c"
      },
      "execution_count": null,
      "outputs": [
        {
          "output_type": "stream",
          "name": "stderr",
          "text": [
            "/usr/local/lib/python3.7/dist-packages/joblib/externals/loky/process_executor.py:705: UserWarning:\n",
            "\n",
            "A worker stopped while some jobs were given to the executor. This can be caused by a too short worker timeout or by a memory leak.\n",
            "\n"
          ]
        },
        {
          "output_type": "stream",
          "name": "stdout",
          "text": [
            "KNN/ROS/RFE Accuracy:  0.9980899334406246\n",
            "KNN/ROS/RFE Precision:  0.43510840380809424\n",
            "KNN/ROS/RFE Recall:  0.41867656153370436\n",
            "KNN/ROS/RFE F1-Score:  0.4250771269420694\n",
            "KNN/ROS/RFE ROC-AUC:  0.7088845586628478\n"
          ]
        }
      ]
    },
    {
      "cell_type": "markdown",
      "source": [
        "### **Logistic Regression + SMOTE + RFE**"
      ],
      "metadata": {
        "id": "bByTH8NVTjTV"
      }
    },
    {
      "cell_type": "code",
      "source": [
        "pipeline = Pipeline(\n",
        "    steps = [('over_sampling', SMOTE()),\n",
        "             ('feature_selection', RFE(estimator=DecisionTreeClassifier(), n_features_to_select=20)),\n",
        "             ('model', LogisticRegression(solver='lbfgs', max_iter=400))]\n",
        ")\n",
        "\n",
        "scoring = {'accuracy' : make_scorer(accuracy_score),\n",
        "           'precision' : make_scorer(precision_score),\n",
        "           'recall' : make_scorer(recall_score),\n",
        "           'f1_score' : make_scorer(f1_score),\n",
        "           'roc_auc' : make_scorer(roc_auc_score)}\n",
        "\n",
        "# Evaluate\n",
        "scores = cross_validate(pipeline, \n",
        "                        X,\n",
        "                        y, \n",
        "                        scoring=scoring,\n",
        "                        cv=StratifiedKFold(n_splits=5, shuffle=True, random_state=10),\n",
        "                        n_jobs=-1)\n",
        "\n",
        "print(\"Logistic Regression/SMOTE/RFE Accuracy: \", (scores['test_accuracy'].mean()))\n",
        "print(\"Logistic Regression/SMOTE/RFE Precision: \", (scores['test_precision'].mean()))\n",
        "print(\"Logistic Regression/SMOTE/RFE Recall: \", (scores['test_recall'].mean()))\n",
        "print(\"Logistic Regression/SMOTE/RFE F1-Score: \", (scores['test_f1_score'].mean()))\n",
        "print(\"Logistic Regression/SMOTE/RFE ROC-AUC: \", (scores['test_roc_auc'].mean()))"
      ],
      "metadata": {
        "colab": {
          "base_uri": "https://localhost:8080/"
        },
        "id": "SHXsts7lAtLj",
        "outputId": "f8a04f7e-f60c-4645-88c0-012724a85fa7"
      },
      "execution_count": null,
      "outputs": [
        {
          "output_type": "stream",
          "name": "stdout",
          "text": [
            "Logistic Regression/SMOTE/RFE Accuracy:  0.9662227499253022\n",
            "Logistic Regression/SMOTE/RFE Precision:  0.042796854942257746\n",
            "Logistic Regression/SMOTE/RFE Recall:  0.864069264069264\n",
            "Logistic Regression/SMOTE/RFE F1-Score:  0.08154377559241124\n",
            "Logistic Regression/SMOTE/RFE ROC-AUC:  0.915234603896827\n"
          ]
        }
      ]
    },
    {
      "cell_type": "markdown",
      "source": [
        "### **Decision Tree + SMOTE + RFE**"
      ],
      "metadata": {
        "id": "7keWacZyTp_I"
      }
    },
    {
      "cell_type": "code",
      "source": [
        "pipeline = Pipeline(\n",
        "    steps = [('over_sampling', SMOTE()),\n",
        "             ('feature_selection', RFE(estimator=DecisionTreeClassifier(), n_features_to_select=20)),\n",
        "             ('model', DecisionTreeClassifier())]\n",
        ")\n",
        "\n",
        "scoring = {'accuracy' : make_scorer(accuracy_score),\n",
        "           'precision' : make_scorer(precision_score),\n",
        "           'recall' : make_scorer(recall_score),\n",
        "           'f1_score' : make_scorer(f1_score),\n",
        "           'roc_auc' : make_scorer(roc_auc_score)}\n",
        "\n",
        "# Evaluate\n",
        "scores = cross_validate(pipeline, \n",
        "                        X,\n",
        "                        y, \n",
        "                        scoring=scoring,\n",
        "                        cv=StratifiedKFold(n_splits=5, shuffle=True, random_state=10),\n",
        "                        n_jobs=-1)\n",
        "\n",
        "print(\"Decision Tree/SMOTE/RFE Accuracy: \", (scores['test_accuracy'].mean()))\n",
        "print(\"Decision Tree/SMOTE/RFE Precision: \", (scores['test_precision'].mean()))\n",
        "print(\"Decision Tree/SMOTE/RFE Recall: \", (scores['test_recall'].mean()))\n",
        "print(\"Decision Tree/SMOTE/RFE F1-Score: \", (scores['test_f1_score'].mean()))\n",
        "print(\"Decision Tree/SMOTE/RFE ROC-AUC: \", (scores['test_roc_auc'].mean()))"
      ],
      "metadata": {
        "colab": {
          "base_uri": "https://localhost:8080/"
        },
        "id": "Lxe0dl6wBN7q",
        "outputId": "4ab678dc-7fce-486f-8255-5fcff8d7b94e"
      },
      "execution_count": null,
      "outputs": [
        {
          "output_type": "stream",
          "name": "stdout",
          "text": [
            "Decision Tree/SMOTE/RFE Accuracy:  0.9977598865071492\n",
            "Decision Tree/SMOTE/RFE Precision:  0.42089179896121465\n",
            "Decision Tree/SMOTE/RFE Recall:  0.7868893011750154\n",
            "Decision Tree/SMOTE/RFE F1-Score:  0.547706387857364\n",
            "Decision Tree/SMOTE/RFE ROC-AUC:  0.8925073099617933\n"
          ]
        }
      ]
    },
    {
      "cell_type": "markdown",
      "source": [
        "### **Random Forest + SMOTE + RFE**"
      ],
      "metadata": {
        "id": "XSLYy64cTtN5"
      }
    },
    {
      "cell_type": "code",
      "source": [
        "pipeline = Pipeline(\n",
        "    steps = [('over_sampling', SMOTE()),\n",
        "             ('feature_selection', RFE(estimator=DecisionTreeClassifier(), n_features_to_select=20)),\n",
        "             ('model', RandomForestClassifier())]\n",
        ")\n",
        "\n",
        "scoring = {'accuracy' : make_scorer(accuracy_score),\n",
        "           'precision' : make_scorer(precision_score),\n",
        "           'recall' : make_scorer(recall_score),\n",
        "           'f1_score' : make_scorer(f1_score),\n",
        "           'roc_auc' : make_scorer(roc_auc_score)}\n",
        "\n",
        "# Evaluate\n",
        "scores = cross_validate(pipeline, \n",
        "                        X,\n",
        "                        y, \n",
        "                        scoring=scoring,\n",
        "                        cv=StratifiedKFold(n_splits=5, shuffle=True, random_state=10),\n",
        "                        n_jobs=-1)\n",
        "\n",
        "print(\"Random Forest/SMOTE/RFE Accuracy: \", (scores['test_accuracy'].mean()))\n",
        "print(\"Random Forest/SMOTE/RFE Precision: \", (scores['test_precision'].mean()))\n",
        "print(\"Random Forest/SMOTE/RFE Recall: \", (scores['test_recall'].mean()))\n",
        "print(\"Random Forest/SMOTE/RFE F1-Score: \", (scores['test_f1_score'].mean()))\n",
        "print(\"Random Forest/SMOTE/RFE ROC-AUC: \", (scores['test_roc_auc'].mean()))"
      ],
      "metadata": {
        "colab": {
          "base_uri": "https://localhost:8080/"
        },
        "id": "2DDvRuOgBftC",
        "outputId": "5a1c416f-17c7-4178-f169-c6a453a26452"
      },
      "execution_count": null,
      "outputs": [
        {
          "output_type": "stream",
          "name": "stdout",
          "text": [
            "Random Forest/SMOTE/RFE Accuracy:  0.9995224842385353\n",
            "Random Forest/SMOTE/RFE Precision:  0.8846285078232679\n",
            "Random Forest/SMOTE/RFE Recall:  0.8336013193156051\n",
            "Random Forest/SMOTE/RFE F1-Score:  0.856896131505603\n",
            "Random Forest/SMOTE/RFE ROC-AUC:  0.9167056945662667\n"
          ]
        }
      ]
    },
    {
      "cell_type": "markdown",
      "source": [
        "### **Gaussian NB + SMOTE + RFE**"
      ],
      "metadata": {
        "id": "GKXkfpoyTv14"
      }
    },
    {
      "cell_type": "code",
      "source": [
        "pipeline = Pipeline(\n",
        "    steps = [('over_sampling', SMOTE()),\n",
        "             ('feature_selection', RFE(estimator=DecisionTreeClassifier(), n_features_to_select=20)),\n",
        "             ('model', GaussianNB())]\n",
        ")\n",
        "\n",
        "scoring = {'accuracy' : make_scorer(accuracy_score),\n",
        "           'precision' : make_scorer(precision_score),\n",
        "           'recall' : make_scorer(recall_score),\n",
        "           'f1_score' : make_scorer(f1_score),\n",
        "           'roc_auc' : make_scorer(roc_auc_score)}\n",
        "\n",
        "# Evaluate\n",
        "scores = cross_validate(pipeline, \n",
        "                        X,\n",
        "                        y, \n",
        "                        scoring=scoring,\n",
        "                        cv=StratifiedKFold(n_splits=5, shuffle=True, random_state=10),\n",
        "                        n_jobs=-1)\n",
        "\n",
        "print(\"Gaussian NB/SMOTE/RFE Accuracy: \", (scores['test_accuracy'].mean()))\n",
        "print(\"Gaussian NB/SMOTE/RFE Precision: \", (scores['test_precision'].mean()))\n",
        "print(\"Gaussian NB/SMOTE/RFE Recall: \", (scores['test_recall'].mean()))\n",
        "print(\"Gaussian NB/SMOTE/RFE F1-Score: \", (scores['test_f1_score'].mean()))\n",
        "print(\"Gaussian NB/SMOTE/RFE ROC-AUC: \", (scores['test_roc_auc'].mean()))"
      ],
      "metadata": {
        "colab": {
          "base_uri": "https://localhost:8080/"
        },
        "id": "ETHm-tdLBlZQ",
        "outputId": "17c8819e-be17-4209-e9db-fe1f2a5fd467"
      },
      "execution_count": null,
      "outputs": [
        {
          "output_type": "stream",
          "name": "stdout",
          "text": [
            "Gaussian NB/SMOTE/RFE Accuracy:  0.9933639295541612\n",
            "Gaussian NB/SMOTE/RFE Precision:  0.18434201008774934\n",
            "Gaussian NB/SMOTE/RFE Recall:  0.7867656153370438\n",
            "Gaussian NB/SMOTE/RFE F1-Score:  0.29704292671275595\n",
            "Gaussian NB/SMOTE/RFE ROC-AUC:  0.890243683809422\n"
          ]
        }
      ]
    },
    {
      "cell_type": "markdown",
      "source": [
        "### **KNN + SMOTE + RFE**"
      ],
      "metadata": {
        "id": "2CaQDRQvTylY"
      }
    },
    {
      "cell_type": "code",
      "source": [
        "pipeline = Pipeline(\n",
        "            steps = [('over_sampling', SMOTE()),\n",
        "                     ('feature_selection', RFE(estimator=DecisionTreeClassifier(), n_features_to_select=20)),\n",
        "                     ('model', KNeighborsClassifier(n_neighbors=3))]    \n",
        ")\n",
        "\n",
        "\n",
        "scoring = {'accuracy' : make_scorer(accuracy_score),\n",
        "           'precision' : make_scorer(precision_score),\n",
        "           'recall' : make_scorer(recall_score),\n",
        "           'f1_score' : make_scorer(f1_score),\n",
        "           'roc_auc' : make_scorer(roc_auc_score)}\n",
        "\n",
        "\n",
        "# Evaluate\n",
        "scores = cross_validate(pipeline, \n",
        "                        X,\n",
        "                        y, \n",
        "                        scoring=scoring,\n",
        "                        cv=StratifiedKFold(n_splits=5, shuffle=True, random_state=10),\n",
        "                        n_jobs=-1)\n",
        "\n",
        "print(\"KNN/SMOTE/RFE Accuracy: \", (scores['test_accuracy'].mean()))\n",
        "print(\"KNN/SMOTE/RFE Precision: \", (scores['test_precision'].mean()))\n",
        "print(\"KNN/SMOTE/RFE Recall: \", (scores['test_recall'].mean()))\n",
        "print(\"KNN/SMOTE/RFE F1-Score: \", (scores['test_f1_score'].mean()))\n",
        "print(\"KNN/SMOTE/RFE ROC-AUC: \", (scores['test_roc_auc'].mean()))"
      ],
      "metadata": {
        "colab": {
          "base_uri": "https://localhost:8080/"
        },
        "id": "jCGKE7ZGBulz",
        "outputId": "5837b6d9-1a56-496e-c2ac-f24ace61d8c4"
      },
      "execution_count": null,
      "outputs": [
        {
          "output_type": "stream",
          "name": "stdout",
          "text": [
            "KNN/SMOTE/RFE Accuracy:  0.9622410280797287\n",
            "KNN/SMOTE/RFE Precision:  0.03200071081917609\n",
            "KNN/SMOTE/RFE Recall:  0.5650175221603793\n",
            "KNN/SMOTE/RFE F1-Score:  0.05970150135975884\n",
            "KNN/SMOTE/RFE ROC-AUC:  0.7639729821026471\n"
          ]
        }
      ]
    },
    {
      "cell_type": "markdown",
      "source": [
        "### **Logistic Regression + ADASYN + RFE**"
      ],
      "metadata": {
        "id": "9m1lUQsET0-D"
      }
    },
    {
      "cell_type": "code",
      "source": [
        "pipeline = Pipeline(\n",
        "    steps = [('over_sampling', ADASYN()),\n",
        "             ('feature_selection', RFE(estimator=DecisionTreeClassifier(), n_features_to_select=20)),\n",
        "             ('model', LogisticRegression(solver='lbfgs', max_iter=400))]\n",
        ")\n",
        "\n",
        "scoring = {'accuracy' : make_scorer(accuracy_score),\n",
        "           'precision' : make_scorer(precision_score),\n",
        "           'recall' : make_scorer(recall_score),\n",
        "           'f1_score' : make_scorer(f1_score),\n",
        "           'roc_auc' : make_scorer(roc_auc_score)}\n",
        "\n",
        "# Evaluate\n",
        "scores = cross_validate(pipeline, \n",
        "                        X,\n",
        "                        y, \n",
        "                        scoring=scoring,\n",
        "                        cv=StratifiedKFold(n_splits=5, shuffle=True, random_state=10),\n",
        "                        n_jobs=-1)\n",
        "\n",
        "print(\"Logistic Regression/ADASYN/RFE Accuracy: \", (scores['test_accuracy'].mean()))\n",
        "print(\"Logistic Regression/ADASYN/RFE Precision: \", (scores['test_precision'].mean()))\n",
        "print(\"Logistic Regression/ADASYN/RFE Recall: \", (scores['test_recall'].mean()))\n",
        "print(\"Logistic Regression/ADASYN/RFE F1-Score: \", (scores['test_f1_score'].mean()))\n",
        "print(\"Logistic Regression/ADASYN/RFE ROC-AUC: \", (scores['test_roc_auc'].mean()))"
      ],
      "metadata": {
        "colab": {
          "base_uri": "https://localhost:8080/"
        },
        "id": "w4qHNnczB8HM",
        "outputId": "d7714fbf-6785-40c2-cb79-507b977ccf33"
      },
      "execution_count": null,
      "outputs": [
        {
          "output_type": "stream",
          "name": "stdout",
          "text": [
            "Logistic Regression/ADASYN/RFE Accuracy:  0.978301129768014\n",
            "Logistic Regression/ADASYN/RFE Precision:  0.07274275223819338\n",
            "Logistic Regression/ADASYN/RFE Recall:  0.8904143475572047\n",
            "Logistic Regression/ADASYN/RFE F1-Score:  0.13396981640879516\n",
            "Logistic Regression/ADASYN/RFE ROC-AUC:  0.9344339117277081\n"
          ]
        }
      ]
    },
    {
      "cell_type": "markdown",
      "source": [
        "### **Decision Tree + ADASYN + RFE**"
      ],
      "metadata": {
        "id": "0kOYNADfT8FO"
      }
    },
    {
      "cell_type": "code",
      "source": [
        "pipeline = Pipeline(\n",
        "    steps = [('over_sampling', ADASYN()),\n",
        "             ('feature_selection', RFE(estimator=DecisionTreeClassifier(), n_features_to_select=20)),\n",
        "             ('model', DecisionTreeClassifier())]\n",
        ")\n",
        "\n",
        "scoring = {'accuracy' : make_scorer(accuracy_score),\n",
        "           'precision' : make_scorer(precision_score),\n",
        "           'recall' : make_scorer(recall_score),\n",
        "           'f1_score' : make_scorer(f1_score),\n",
        "           'roc_auc' : make_scorer(roc_auc_score)}\n",
        "\n",
        "# Evaluate\n",
        "scores = cross_validate(pipeline, \n",
        "                        X,\n",
        "                        y, \n",
        "                        scoring=scoring,\n",
        "                        cv=StratifiedKFold(n_splits=5, shuffle=True, random_state=10),\n",
        "                        n_jobs=-1)\n",
        "\n",
        "print(\"Decision Tree/ADASYN/RFE Accuracy: \", (scores['test_accuracy'].mean()))\n",
        "print(\"Decision Tree/ADASYN/RFE Precision: \", (scores['test_precision'].mean()))\n",
        "print(\"Decision Tree/ADASYN/RFE Recall: \", (scores['test_recall'].mean()))\n",
        "print(\"Decision Tree/ADASYN/RFE F1-Score: \", (scores['test_f1_score'].mean()))\n",
        "print(\"Decision Tree/ADASYN/RFE ROC-AUC: \", (scores['test_roc_auc'].mean()))"
      ],
      "metadata": {
        "colab": {
          "base_uri": "https://localhost:8080/"
        },
        "id": "ZUX0_qeICCuq",
        "outputId": "805a08e1-c2d4-4099-d76c-e15ce80cdab3"
      },
      "execution_count": null,
      "outputs": [
        {
          "output_type": "stream",
          "name": "stdout",
          "text": [
            "Decision Tree/ADASYN/RFE Accuracy:  0.9976440172617199\n",
            "Decision Tree/ADASYN/RFE Precision:  0.40662699179758677\n",
            "Decision Tree/ADASYN/RFE Recall:  0.76852195423624\n",
            "Decision Tree/ADASYN/RFE F1-Score:  0.5301917315141511\n",
            "Decision Tree/ADASYN/RFE ROC-AUC:  0.8832814297850563\n"
          ]
        }
      ]
    },
    {
      "cell_type": "markdown",
      "source": [
        "### **Random Forest + ADASYN + RFE**"
      ],
      "metadata": {
        "id": "3BSg175IUA0d"
      }
    },
    {
      "cell_type": "code",
      "source": [
        "pipeline = Pipeline(\n",
        "    steps = [('over_sampling', ADASYN()),\n",
        "             ('feature_selection', RFE(estimator=DecisionTreeClassifier(), n_features_to_select=20)),\n",
        "             ('model', RandomForestClassifier())]\n",
        ")\n",
        "\n",
        "scoring = {'accuracy' : make_scorer(accuracy_score),\n",
        "           'precision' : make_scorer(precision_score),\n",
        "           'recall' : make_scorer(recall_score),\n",
        "           'f1_score' : make_scorer(f1_score),\n",
        "           'roc_auc' : make_scorer(roc_auc_score)}\n",
        "\n",
        "# Evaluate\n",
        "scores = cross_validate(pipeline, \n",
        "                        X,\n",
        "                        y, \n",
        "                        scoring=scoring,\n",
        "                        cv=StratifiedKFold(n_splits=5, shuffle=True, random_state=10),\n",
        "                        n_jobs=-1)\n",
        "\n",
        "print(\"Random Forest/ADASYN/RFE Accuracy: \", (scores['test_accuracy'].mean()))\n",
        "print(\"Random Forest/ADASYN/RFE Precision: \", (scores['test_precision'].mean()))\n",
        "print(\"Random Forest/ADASYN/RFE Recall: \", (scores['test_recall'].mean()))\n",
        "print(\"Random Forest/ADASYN/RFE F1-Score: \", (scores['test_f1_score'].mean()))\n",
        "print(\"Random Forest/ADASYN/RFE ROC-AUC: \", (scores['test_roc_auc'].mean()))"
      ],
      "metadata": {
        "colab": {
          "base_uri": "https://localhost:8080/"
        },
        "id": "ftXEad31CJ3M",
        "outputId": "e0327d0f-a3be-4f92-f401-dec22b1a7a99"
      },
      "execution_count": null,
      "outputs": [
        {
          "output_type": "stream",
          "name": "stdout",
          "text": [
            "Random Forest/ADASYN/RFE Accuracy:  0.9995154620748327\n",
            "Random Forest/ADASYN/RFE Precision:  0.8866655751971375\n",
            "Random Forest/ADASYN/RFE Recall:  0.8254586683158112\n",
            "Random Forest/ADASYN/RFE F1-Score:  0.8540607478546323\n",
            "Random Forest/ADASYN/RFE ROC-AUC:  0.9126378862919822\n"
          ]
        }
      ]
    },
    {
      "cell_type": "markdown",
      "source": [
        "### **Gaussian NB + ADASYN + RFE**"
      ],
      "metadata": {
        "id": "W3qtMF-vUEAG"
      }
    },
    {
      "cell_type": "code",
      "source": [
        "pipeline = Pipeline(\n",
        "    steps = [('over_sampling', ADASYN()),\n",
        "             ('feature_selection', RFE(estimator=DecisionTreeClassifier(), n_features_to_select=20)),\n",
        "             ('model', GaussianNB())]\n",
        ")\n",
        "\n",
        "scoring = {'accuracy' : make_scorer(accuracy_score),\n",
        "           'precision' : make_scorer(precision_score),\n",
        "           'recall' : make_scorer(recall_score),\n",
        "           'f1_score' : make_scorer(f1_score),\n",
        "           'roc_auc' : make_scorer(roc_auc_score)}\n",
        "\n",
        "# Evaluate\n",
        "scores = cross_validate(pipeline, \n",
        "                        X,\n",
        "                        y, \n",
        "                        scoring=scoring,\n",
        "                        cv=StratifiedKFold(n_splits=5, shuffle=True, random_state=10),\n",
        "                        n_jobs=-1)\n",
        "\n",
        "print(\"Gaussian NB/ADASYN/RFE Accuracy: \", (scores['test_accuracy'].mean()))\n",
        "print(\"Gaussian NB/ADASYN/RFE Precision: \", (scores['test_precision'].mean()))\n",
        "print(\"Gaussian NB/ADASYN/RFE Recall: \", (scores['test_recall'].mean()))\n",
        "print(\"Gaussian NB/ADASYN/RFE F1-Score: \", (scores['test_f1_score'].mean()))\n",
        "print(\"Gaussian NB/ADASYN/RFE ROC-AUC: \", (scores['test_roc_auc'].mean()))"
      ],
      "metadata": {
        "colab": {
          "base_uri": "https://localhost:8080/"
        },
        "id": "v5-ojc_3CPh9",
        "outputId": "3171b0e2-613f-413f-ba06-e54e82b8d83b"
      },
      "execution_count": null,
      "outputs": [
        {
          "output_type": "stream",
          "name": "stdout",
          "text": [
            "Gaussian NB/ADASYN/RFE Accuracy:  0.9936623791241397\n",
            "Gaussian NB/ADASYN/RFE Precision:  0.19100652053034475\n",
            "Gaussian NB/ADASYN/RFE Recall:  0.7989898989898989\n",
            "Gaussian NB/ADASYN/RFE F1-Score:  0.30753527652782475\n",
            "Gaussian NB/ADASYN/RFE ROC-AUC:  0.8964947560475409\n"
          ]
        }
      ]
    },
    {
      "cell_type": "markdown",
      "source": [
        "### **KNN + ADASYN + RFE**"
      ],
      "metadata": {
        "id": "IEnIixeGUGS-"
      }
    },
    {
      "cell_type": "code",
      "source": [
        "pipeline = Pipeline(\n",
        "            steps = [('over_sampling', ADASYN()),\n",
        "                     ('feature_selection', RFE(estimator=DecisionTreeClassifier(), n_features_to_select=20)),\n",
        "                     ('model', KNeighborsClassifier(n_neighbors=3))]    \n",
        ")\n",
        "\n",
        "\n",
        "scoring = {'accuracy' : make_scorer(accuracy_score),\n",
        "           'precision' : make_scorer(precision_score),\n",
        "           'recall' : make_scorer(recall_score),\n",
        "           'f1_score' : make_scorer(f1_score),\n",
        "           'roc_auc' : make_scorer(roc_auc_score)}\n",
        "\n",
        "\n",
        "# Evaluate\n",
        "scores = cross_validate(pipeline, \n",
        "                        X,\n",
        "                        y, \n",
        "                        scoring=scoring,\n",
        "                        cv=StratifiedKFold(n_splits=5, shuffle=True, random_state=10),\n",
        "                        n_jobs=-1)\n",
        "\n",
        "print(\"KNN/ADASYN/RFE Accuracy: \", (scores['test_accuracy'].mean()))\n",
        "print(\"KNN/ADASYN/RFE Precision: \", (scores['test_precision'].mean()))\n",
        "print(\"KNN/ADASYN/RFE Recall: \", (scores['test_recall'].mean()))\n",
        "print(\"KNN/ADASYN/RFE F1-Score: \", (scores['test_f1_score'].mean()))\n",
        "print(\"KNN/ADASYN/RFE ROC-AUC: \", (scores['test_roc_auc'].mean()))"
      ],
      "metadata": {
        "id": "LtUYnTY_SKAb",
        "colab": {
          "base_uri": "https://localhost:8080/"
        },
        "outputId": "9d1845b1-5cee-4604-f0ae-256b2746e54d"
      },
      "execution_count": 10,
      "outputs": [
        {
          "output_type": "stream",
          "name": "stdout",
          "text": [
            "KNN/ADASYN/RFE Accuracy:  0.961163098983603\n",
            "KNN/ADASYN/RFE Precision:  0.03144296221034555\n",
            "KNN/ADASYN/RFE Recall:  0.5608740465883322\n",
            "KNN/ADASYN/RFE F1-Score:  0.058693619198505284\n",
            "KNN/ADASYN/RFE ROC-AUC:  0.7613648674107271\n"
          ]
        }
      ]
    },
    {
      "cell_type": "markdown",
      "source": [
        "# **ENSEMBLE MODELS**"
      ],
      "metadata": {
        "id": "avn8I-jpCdfo"
      }
    },
    {
      "cell_type": "code",
      "source": [
        ""
      ],
      "metadata": {
        "id": "xqjeVV-CCfxx"
      },
      "execution_count": null,
      "outputs": []
    }
  ]
}