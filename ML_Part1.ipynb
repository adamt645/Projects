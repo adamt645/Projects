{
  "cells": [
    {
      "cell_type": "markdown",
      "metadata": {
        "id": "view-in-github",
        "colab_type": "text"
      },
      "source": [
        "<a href=\"https://colab.research.google.com/github/adamt645/Projects/blob/main/ML_Part1.ipynb\" target=\"_parent\"><img src=\"https://colab.research.google.com/assets/colab-badge.svg\" alt=\"Open In Colab\"/></a>"
      ]
    },
    {
      "cell_type": "markdown",
      "metadata": {
        "id": "XduQVvsQNCb4"
      },
      "source": [
        "# **1. Author**\n",
        "\n",
        "**Student Name**:  Adam Toth <br>\n",
        "**Student ID**:  210505924\n",
        "\n",
        "# **2. Problem formulation**\n",
        "This assignment uses the MLEnd Hums and Whistles dataset and attempts to build a machine learning pipeline that takes as an input a Potter or a StarWars audio segment and predicts its song label (either Harry or StarWars). \n",
        "<br>\n",
        "<br>\n",
        "Listening to someone whistling or humming either the Harry Potter or StarWars theme song, and recognising which one is which, should be relatively easy for humans. Attempting to do the same with a computer is what this paper is about. \n",
        "<br>\n",
        "<br>\n",
        "The problem is interesting because (i) replicating human capabilities with computers is fun, (ii) similar methods could later be applied to identify human voices and match it with their 'owner' (and be applied to home security systems, phone lock releases, etc.), (iii) gives an overview of the necessary steps of a machine learning pipeline. \n",
        "\n",
        "# **3. Machine Learning pipeline**\n",
        "`Insert picture of all steps that are going to be implemented.`\n",
        "\n",
        "\n",
        "# **4. Transformation stage**\n",
        "`Describe any transformations, such as feature extraction. Identify input and output`.\n",
        "\n",
        "### **`1. Feature extraction --> dimensionality reduction`**\n",
        "  `Before the following steps are considered, let's define what goal is to be achieved. Some predictor features and a target feature are needed to be extracted from the created dataframe. In the first (basic) part of this paper, this four predictor features are going to be:`<br>\n",
        "* `Power`\n",
        "* `Pitch mean`\n",
        "* `Pitch standard deviation`\n",
        "* `Fraction of voiced region`,\n",
        "\n",
        "`whilst the target variable will be \"song\" (either Potter or StarWars).`\n",
        "\n",
        "By extracting four features from our audio signals, we are reducing the original data's dimensionality and establishing a subset of the original attributes (feature selection), on which we can perform various operations (feature extraction). Based on these predictor features a later defined models will decide whether the song is Potter or StarWars.` \n",
        "\n",
        "Two functions are defined at this stage that will extract the required features from our audio signals. \n",
        "\n",
        "**1.** 'getPitch': gets the pitch of an audio signal\n",
        "\n",
        "**2.** 'getXy': takes a number of files and creates a NumPy array containing the four audio features used as predictors (X) and a binary label (y), that indicates whether the song is Potter (y=1) or StarWars (y=0). The resulting shapes of X and y arrays are then:\n",
        "* The shape of X is:  (832, 4)\n",
        "* The shape of y is:  (832,)\n",
        "\n",
        "### **`2. Feature Scaling`**\n",
        "Feature scaling needs to be applied to the extracted predictors as they could be at different levels of magnitude (e.g., different scale) causing algorithms sensitive to scaling, such as SVM, to perform worse than otherwise and lead to incorrect model outcomes (e.g., if there are a few features that are dominant in magnitude, they would govern the model's results.  \n",
        "\n",
        "\n",
        "From later drawn histograms of the predictor variables one can see that, e.g., 'Power' or 'Pitch Mean' values are scaled differently than the rest of the predictors; they are measured in different units (e.g., Hertz, Watt) therefore making them incommensurable.<br>\n",
        "\n",
        "This project will scale features using 'Standard Scaling' (Z-score normalisation), making features' properties to have a standard normal distribution with mean of 0 and standard deviation of 1. \n",
        "\n",
        "\n",
        "# **5. Modeling**\n",
        "`Describe the Machine Learning models that you will implement.`\n",
        "\n",
        "* __Support Vector Machine__<br>\n",
        "The Support Vector Machine (SVM) is a supervised, linear model for classification (and regression tasks). The SVM takes the predictor features as input, and creates a separating line (or hyperplane) as an output that separate the data into classes. Based on the finding of the SVM algorithm, one finds the points closes to the line from both the classes (where distances are called margins). These points are called support vectors.  The goal is to maximise the margins, resulting in a way where the separation between the two classes is as wide as possible. \n",
        "\n",
        "* __k-Nearest Neighbour algorithm__<br>\n",
        "K-nearest neighbours (kNN) is a supervised Machine Learning model (learning from data that is already labelled). It takes in input objects (in our case, the four audio features extracted from the given recordings) and output values (Potter or Star Wars). The model is then trained on data to learn how to map the inputs to the desired output. The goal is that the model will make correct predictions on unseen data. \n",
        "\n",
        "kNN is an extension of nearest neighbours that proceeds as follows. Given a new sample x:\n",
        "- We calculate the distance to all the training samples xi\n",
        "- Extract the K closest samples (neighbours)\n",
        "- Obtain the number of neighbours that belong to each class\n",
        "- Assign the label of the most popular class among the neighbours. \n",
        "\n",
        "Since the model will be applied to a binary classification problem, K should be set as an odd number to prevent potential situations where among the K neighbours both classes are equally present, making the algorithm unable to decide what label to give to the analysed sample. \n",
        "\n",
        "# **6. Methodology**\n",
        "#### **Strategy to evaluate the performance** (designed before creating models)\n",
        "### **`Quality metric`** (quantifying the performance)<br>\n",
        "The only operation that we can perform with categorical variables is **comparison**, i.e., we can assess whether y_i = y_hat_i is either true or false. \n",
        "    \n",
        "By comparing predictions and true labels, we can identify in a dataset:\n",
        "* The correctly classified samples (**true predictions**) in each class\n",
        "* The incorrectly classified samples (**false predictions**) in each class\n",
        "\n",
        "Two common and equivalent notions of quality are the **accuracy (A)** and the **error** (or misclassification) **rate** E = 1-A, defined as:\n",
        "A = #correctly classified samples/#samples, E = #incorrectly classified samples/#samples. \n",
        "\n",
        "Using these notions of quality, the best classifier can be defined as the one with the higest accuracy (or the lowest misclassification rate). In non-lineary separable datasets, the accuracy of a lineary classifier is A < 1 (E>0). The best one will achieve the highest accuracy. \n",
        "\n",
        "Accuracy will be provided with regard to training and validation performance of the respective models (validation performance will be used to decide which ML model performed better; although, caution will have to be paid as these metrics are random quantities). \n",
        "\n",
        "      \n",
        "### **`How data will be used (training and validation of models)`**\n",
        "\n",
        "Machine learning uses datasets for different purposes, for instance to assess the deployment performance of a final model (test/validation dataset) or to tune a model (training dataset). \n",
        "\n",
        "Often, we need to explore different options before training a final model. \n",
        "\n",
        "#### **`1. Training`**\n",
        "`Used to find the best values for the parameters of a model, i.e., to tune a model.`\n",
        "We use a subset of data, known as the **training dataset**, to (implicitly or explicitly) **reconstruct** the error surface needed during optimisation. We will call this the **empirical error surface**. \n",
        "\n",
        "\n",
        "#### **`2. Validation`**\n",
        "`Necessary to compare different modelling options and select the best one, the one that will be trained.`\n",
        "**Validation methods** allow us to use data for **assessing and selecting** different families of models. The same data used for validation can then be used to train a final model. \n",
        "\n",
        "**Validation involves one or more training and performance estimation rounds per model family followed by performance averaging.**\n",
        "\n",
        "#### **`3. Test`**\n",
        "`This is the most important task. It allows us to estimate the deployment performance of the model.`\n",
        "\n",
        "If we could use all the data that models can be shown (population), we would be able to quantify their **true deployment performance**. Instead, we use a **subset of the data, a test dataset (extracted randomly)**, to compute the **test deployment performance** as an **estimation** of the true performance.\n",
        "\n",
        "\n",
        "Caution should be applied as the **test performance is itself random**, as different datasets generally produce different values --> some models might appear to be **superior by chance**. \n",
        "<br>\n",
        "<br>\n",
        "<br>\n",
        "<br>\n",
        "<br>\n",
        "\n",
        "`Two model evaluation techniques will be used in this project.`\n",
        "#### **`Train/test split procedure`**\n",
        "The whole dataset is split into two pieces - on one piece we do the training of our model, whilst on the other piece of data we do the testing. During the training stage the model is not exposed to the test set, hence when it makes predictions on the test dataset, it can be taken as an indicator of the performance of the model. The splitting will be done using scikit learn with train_size=0.7, and test_size=0.3, whilst random_state=1. \n",
        "\n",
        "#### **`k-Fold Cross-Validation (for kNN model)`**\n",
        "Cross-validation is when the dataset is randomly split up into 'k' groups. One of the groups is used as the test set and the rest are used as the training set. The model is trained on the training set and scored on the test set. Then the process is repeated until each unique group has been used as the test set. \n",
        "\n",
        "For example, for 5-fold cross-validation, the dataset would be split into 5 groups, and the model would be trained and tested 5 separate times so each group would get a chance to be the test set. \n",
        "\n",
        "Cross-validation is better than using the holdout method (train_test_split) because the holdout method score is dependent on how the data is split into train and test sets. Cross-validation gives the model an opportunity to test on multiple splits so we can get a better idea on how the model will perform on unseen data (source: https://towardsdatascience.com/building-a-k-nearest-neighbors-k-nn-model-with-scikit-learn-51209555453a). \n",
        "\n",
        "`In both cases of 'train_test_split* and 'k-fold cross-validation' instances there will be an intermediate stage (validation) where the hyperparameters of the respective models will be tuned in order to get better predictions. The project will be using grid search: the method will be given a subset of parameters for each parameters of the respective models, after which the algorithm carries out an exhaustive search with all the permutation-combinations of the parameters and returns the parameters that provide the best results.`\n",
        "\n",
        "`Moreover, besides acquiring accuracy of the models, confusion matrix will be provided after each models' findings to better visualise the results.`\n",
        "\n",
        "# **7. Dataset**\n",
        "The paper uses 832 given recordings of either hummings and whistlings of the most notable parts of the theme songs of either Harry Potter and Star Wars movies. Recordings are divided into two-two seperate zipped folders with respect to both songs. \n",
        "<br>\n",
        "## **Step 1**<br>\n",
        "As a first step, files are downloaded from a given url and uploaded into my Google Drive. \n",
        "\n",
        "## **Step 2**<br>\n",
        "Next, files are downloaded locally to correct files names that do not follow the instructed naming conventions. Once the corrected files are uploaded back to the Google Drive, sample paths of the respective folders are set here in Google Colab. Files are then imported as lists (four of them). \n",
        "\n",
        "All four lists are then used to create Pandas Dataframes by extracting each instance's 'file_id', 'participant' (id of recorder), 'interpretation' (type as of either humming or whistling), 'interpretation number' (StarWars.wav/Potter.wav), and 'song' (Potter/StarWars). Once this is done, the dataframes are merged together."
      ]
    },
    {
      "cell_type": "code",
      "execution_count": 1,
      "metadata": {
        "colab": {
          "base_uri": "https://localhost:8080/"
        },
        "id": "bvGEdVMKGsa_",
        "outputId": "ebf828f7-af6b-4df6-9dfa-fb36106e408a"
      },
      "outputs": [
        {
          "output_type": "stream",
          "name": "stdout",
          "text": [
            "Drive already mounted at /content/drive; to attempt to forcibly remount, call drive.mount(\"/content/drive\", force_remount=True).\n"
          ]
        }
      ],
      "source": [
        "# Loading necessary libraries\n",
        "from google.colab import drive\n",
        "\n",
        "import numpy as np\n",
        "import pandas as pd\n",
        "import matplotlib.pyplot as plt\n",
        "\n",
        "import os, sys, re, pickle, glob\n",
        "import urllib.request\n",
        "import zipfile\n",
        "\n",
        "import IPython.display as ipd\n",
        "from tqdm import tqdm\n",
        "\n",
        "import librosa\n",
        "\n",
        "drive.mount('/content/drive')"
      ]
    },
    {
      "cell_type": "code",
      "execution_count": 2,
      "metadata": {
        "colab": {
          "base_uri": "https://localhost:8080/"
        },
        "id": "qNXn6Zi4G0Wb",
        "outputId": "20c1ff69-f16a-4920-ce0e-56852065a943"
      },
      "outputs": [
        {
          "output_type": "execute_result",
          "data": {
            "text/plain": [
              "['MLEndHW_Sample.zip',\n",
              " 'Potter_1.zip',\n",
              " 'Potter_2.zip',\n",
              " 'StarWars_1.zip',\n",
              " 'StarWars_2.zip',\n",
              " 'Potter_1',\n",
              " 'Potter_2',\n",
              " 'StarWars_1',\n",
              " 'StarWars_2',\n",
              " 'Hakuna_1',\n",
              " 'Mamma_1',\n",
              " 'Rain_1',\n",
              " 'Showman_1',\n",
              " 'IMG_5050.jpg']"
            ]
          },
          "metadata": {},
          "execution_count": 2
        }
      ],
      "source": [
        "path = '/content/drive/MyDrive/Public_Data/MLEndHW'\n",
        "os.listdir(path)"
      ]
    },
    {
      "cell_type": "code",
      "execution_count": 3,
      "metadata": {
        "colab": {
          "base_uri": "https://localhost:8080/"
        },
        "id": "uJwA5oJvHE9C",
        "outputId": "33a0880b-84d7-40ec-bfde-46f06b2613e0"
      },
      "outputs": [
        {
          "output_type": "stream",
          "name": "stdout",
          "text": [
            "210\n",
            "205\n",
            "210\n",
            "207\n",
            "<class 'list'>\n"
          ]
        }
      ],
      "source": [
        "# Potter_1\n",
        "sample_path = '/content/drive/MyDrive/Public_Data/MLEndHW/Potter_1/*.wav'\n",
        "files1 = glob.glob(sample_path)\n",
        "print(len(files1))\n",
        "\n",
        "# Potter_2\n",
        "sample_path2 = '/content/drive/MyDrive/Public_Data/MLEndHW/Potter_2/*.wav'\n",
        "files2 = glob.glob(sample_path2)\n",
        "print(len(files2))\n",
        "\n",
        "# StarWars_1\n",
        "sample_path3 = '/content/drive/MyDrive/Public_Data/MLEndHW/StarWars_1/*.wav'\n",
        "files3 = glob.glob(sample_path3)\n",
        "print(len(files3))\n",
        "\n",
        "# StarWars_2\n",
        "sample_path4 = '/content/drive/MyDrive/Public_Data/MLEndHW/StarWars_2/*.wav'\n",
        "files4 = glob.glob(sample_path4)\n",
        "print(len(files4))\n",
        "print(type(files4))"
      ]
    },
    {
      "cell_type": "code",
      "execution_count": 4,
      "metadata": {
        "colab": {
          "base_uri": "https://localhost:8080/",
          "height": 231
        },
        "id": "orBJHWuVG4aR",
        "outputId": "3bbfc669-b7eb-430e-8d65-9580348e7c71"
      },
      "outputs": [
        {
          "output_type": "execute_result",
          "data": {
            "text/html": [
              "<div>\n",
              "<style scoped>\n",
              "    .dataframe tbody tr th:only-of-type {\n",
              "        vertical-align: middle;\n",
              "    }\n",
              "\n",
              "    .dataframe tbody tr th {\n",
              "        vertical-align: top;\n",
              "    }\n",
              "\n",
              "    .dataframe thead th {\n",
              "        text-align: right;\n",
              "    }\n",
              "</style>\n",
              "<table border=\"1\" class=\"dataframe\">\n",
              "  <thead>\n",
              "    <tr style=\"text-align: right;\">\n",
              "      <th></th>\n",
              "      <th>participant</th>\n",
              "      <th>interpretation</th>\n",
              "      <th>number</th>\n",
              "      <th>song</th>\n",
              "    </tr>\n",
              "    <tr>\n",
              "      <th>file_id</th>\n",
              "      <th></th>\n",
              "      <th></th>\n",
              "      <th></th>\n",
              "      <th></th>\n",
              "    </tr>\n",
              "  </thead>\n",
              "  <tbody>\n",
              "    <tr>\n",
              "      <th>S103_hum_2_Potter.wav</th>\n",
              "      <td>S103</td>\n",
              "      <td>hum</td>\n",
              "      <td>Potter.wav</td>\n",
              "      <td>Potter</td>\n",
              "    </tr>\n",
              "    <tr>\n",
              "      <th>S40_hum_2_Potter.wav</th>\n",
              "      <td>S40</td>\n",
              "      <td>hum</td>\n",
              "      <td>Potter.wav</td>\n",
              "      <td>Potter</td>\n",
              "    </tr>\n",
              "    <tr>\n",
              "      <th>S40_whistle_2_Potter.wav</th>\n",
              "      <td>S40</td>\n",
              "      <td>whistle</td>\n",
              "      <td>Potter.wav</td>\n",
              "      <td>Potter</td>\n",
              "    </tr>\n",
              "    <tr>\n",
              "      <th>S103_whistle_2_Potter.wav</th>\n",
              "      <td>S103</td>\n",
              "      <td>whistle</td>\n",
              "      <td>Potter.wav</td>\n",
              "      <td>Potter</td>\n",
              "    </tr>\n",
              "    <tr>\n",
              "      <th>S17_hum_1_Potter.wav</th>\n",
              "      <td>S17</td>\n",
              "      <td>hum</td>\n",
              "      <td>Potter.wav</td>\n",
              "      <td>Potter</td>\n",
              "    </tr>\n",
              "  </tbody>\n",
              "</table>\n",
              "</div>"
            ],
            "text/plain": [
              "                          participant interpretation      number    song\n",
              "file_id                                                                 \n",
              "S103_hum_2_Potter.wav            S103            hum  Potter.wav  Potter\n",
              "S40_hum_2_Potter.wav              S40            hum  Potter.wav  Potter\n",
              "S40_whistle_2_Potter.wav          S40        whistle  Potter.wav  Potter\n",
              "S103_whistle_2_Potter.wav        S103        whistle  Potter.wav  Potter\n",
              "S17_hum_1_Potter.wav              S17            hum  Potter.wav  Potter"
            ]
          },
          "metadata": {},
          "execution_count": 4
        }
      ],
      "source": [
        "# Potter_1\n",
        "MLENDHW_table = [] \n",
        "\n",
        "for file in files1:\n",
        "  file_name = file.split('/')[-1]\n",
        "  participant_ID = file.split('/')[-1].split('_')[0]\n",
        "  interpretation_type = file.split('/')[-1].split('_')[1]\n",
        "  interpretation_number = file.split('/')[-1].split('_')[-1]\n",
        "  song = file.split('/')[-1].split('_')[-1].split('.')[0]\n",
        "  MLENDHW_table.append([file_name,participant_ID,interpretation_type,interpretation_number, song])\n",
        "\n",
        "MLENDHW_df = pd.DataFrame(MLENDHW_table,columns=['file_id','participant','interpretation','number','song']).set_index('file_id') \n",
        "MLENDHW_df.head()"
      ]
    },
    {
      "cell_type": "code",
      "execution_count": 5,
      "metadata": {
        "colab": {
          "base_uri": "https://localhost:8080/",
          "height": 231
        },
        "id": "sGCg4AxZHyGM",
        "outputId": "6d3735ad-447b-4648-ffc0-186eb2817d7d"
      },
      "outputs": [
        {
          "output_type": "execute_result",
          "data": {
            "text/html": [
              "<div>\n",
              "<style scoped>\n",
              "    .dataframe tbody tr th:only-of-type {\n",
              "        vertical-align: middle;\n",
              "    }\n",
              "\n",
              "    .dataframe tbody tr th {\n",
              "        vertical-align: top;\n",
              "    }\n",
              "\n",
              "    .dataframe thead th {\n",
              "        text-align: right;\n",
              "    }\n",
              "</style>\n",
              "<table border=\"1\" class=\"dataframe\">\n",
              "  <thead>\n",
              "    <tr style=\"text-align: right;\">\n",
              "      <th></th>\n",
              "      <th>participant</th>\n",
              "      <th>interpretation</th>\n",
              "      <th>number</th>\n",
              "      <th>song</th>\n",
              "    </tr>\n",
              "    <tr>\n",
              "      <th>file_id</th>\n",
              "      <th></th>\n",
              "      <th></th>\n",
              "      <th></th>\n",
              "      <th></th>\n",
              "    </tr>\n",
              "  </thead>\n",
              "  <tbody>\n",
              "    <tr>\n",
              "      <th>S202_hum_2_Potter.wav</th>\n",
              "      <td>S202</td>\n",
              "      <td>hum</td>\n",
              "      <td>Potter.wav</td>\n",
              "      <td>Potter</td>\n",
              "    </tr>\n",
              "    <tr>\n",
              "      <th>S129_whistle_2_Potter.wav</th>\n",
              "      <td>S129</td>\n",
              "      <td>whistle</td>\n",
              "      <td>Potter.wav</td>\n",
              "      <td>Potter</td>\n",
              "    </tr>\n",
              "    <tr>\n",
              "      <th>S193_hum_2_Potter.wav</th>\n",
              "      <td>S193</td>\n",
              "      <td>hum</td>\n",
              "      <td>Potter.wav</td>\n",
              "      <td>Potter</td>\n",
              "    </tr>\n",
              "    <tr>\n",
              "      <th>S121_hum_1_Potter.wav</th>\n",
              "      <td>S121</td>\n",
              "      <td>hum</td>\n",
              "      <td>Potter.wav</td>\n",
              "      <td>Potter</td>\n",
              "    </tr>\n",
              "    <tr>\n",
              "      <th>S193_whistle_2_Potter.wav</th>\n",
              "      <td>S193</td>\n",
              "      <td>whistle</td>\n",
              "      <td>Potter.wav</td>\n",
              "      <td>Potter</td>\n",
              "    </tr>\n",
              "  </tbody>\n",
              "</table>\n",
              "</div>"
            ],
            "text/plain": [
              "                          participant interpretation      number    song\n",
              "file_id                                                                 \n",
              "S202_hum_2_Potter.wav            S202            hum  Potter.wav  Potter\n",
              "S129_whistle_2_Potter.wav        S129        whistle  Potter.wav  Potter\n",
              "S193_hum_2_Potter.wav            S193            hum  Potter.wav  Potter\n",
              "S121_hum_1_Potter.wav            S121            hum  Potter.wav  Potter\n",
              "S193_whistle_2_Potter.wav        S193        whistle  Potter.wav  Potter"
            ]
          },
          "metadata": {},
          "execution_count": 5
        }
      ],
      "source": [
        "# Potter_2\n",
        "MLENDHW_table2 = [] \n",
        "\n",
        "for file in files2:\n",
        "  file_name = file.split('/')[-1]\n",
        "  participant_ID = file.split('/')[-1].split('_')[0]\n",
        "  interpretation_type = file.split('/')[-1].split('_')[1]\n",
        "  interpretation_number = file.split('/')[-1].split('_')[-1]\n",
        "  song = file.split('/')[-1].split('_')[-1].split('.')[0]\n",
        "  MLENDHW_table2.append([file_name,participant_ID,interpretation_type,interpretation_number, song])\n",
        "\n",
        "MLENDHW_df2 = pd.DataFrame(MLENDHW_table2,columns=['file_id','participant','interpretation','number','song']).set_index('file_id') \n",
        "MLENDHW_df2.head()"
      ]
    },
    {
      "cell_type": "code",
      "execution_count": 6,
      "metadata": {
        "colab": {
          "base_uri": "https://localhost:8080/",
          "height": 231
        },
        "id": "WjH1FeoKH-j2",
        "outputId": "9287b161-a8d6-41f1-b104-78d26516bd09"
      },
      "outputs": [
        {
          "output_type": "execute_result",
          "data": {
            "text/html": [
              "<div>\n",
              "<style scoped>\n",
              "    .dataframe tbody tr th:only-of-type {\n",
              "        vertical-align: middle;\n",
              "    }\n",
              "\n",
              "    .dataframe tbody tr th {\n",
              "        vertical-align: top;\n",
              "    }\n",
              "\n",
              "    .dataframe thead th {\n",
              "        text-align: right;\n",
              "    }\n",
              "</style>\n",
              "<table border=\"1\" class=\"dataframe\">\n",
              "  <thead>\n",
              "    <tr style=\"text-align: right;\">\n",
              "      <th></th>\n",
              "      <th>participant</th>\n",
              "      <th>interpretation</th>\n",
              "      <th>number</th>\n",
              "      <th>song</th>\n",
              "    </tr>\n",
              "    <tr>\n",
              "      <th>file_id</th>\n",
              "      <th></th>\n",
              "      <th></th>\n",
              "      <th></th>\n",
              "      <th></th>\n",
              "    </tr>\n",
              "  </thead>\n",
              "  <tbody>\n",
              "    <tr>\n",
              "      <th>S88_hum_2_StarWars.wav</th>\n",
              "      <td>S88</td>\n",
              "      <td>hum</td>\n",
              "      <td>StarWars.wav</td>\n",
              "      <td>StarWars</td>\n",
              "    </tr>\n",
              "    <tr>\n",
              "      <th>S88_hum_1_StarWars.wav</th>\n",
              "      <td>S88</td>\n",
              "      <td>hum</td>\n",
              "      <td>StarWars.wav</td>\n",
              "      <td>StarWars</td>\n",
              "    </tr>\n",
              "    <tr>\n",
              "      <th>S100_hum_4_StarWars.wav</th>\n",
              "      <td>S100</td>\n",
              "      <td>hum</td>\n",
              "      <td>StarWars.wav</td>\n",
              "      <td>StarWars</td>\n",
              "    </tr>\n",
              "    <tr>\n",
              "      <th>S100_hum_3_StarWars.wav</th>\n",
              "      <td>S100</td>\n",
              "      <td>hum</td>\n",
              "      <td>StarWars.wav</td>\n",
              "      <td>StarWars</td>\n",
              "    </tr>\n",
              "    <tr>\n",
              "      <th>S21_hum_4_StarWars.wav</th>\n",
              "      <td>S21</td>\n",
              "      <td>hum</td>\n",
              "      <td>StarWars.wav</td>\n",
              "      <td>StarWars</td>\n",
              "    </tr>\n",
              "  </tbody>\n",
              "</table>\n",
              "</div>"
            ],
            "text/plain": [
              "                        participant interpretation        number      song\n",
              "file_id                                                                   \n",
              "S88_hum_2_StarWars.wav          S88            hum  StarWars.wav  StarWars\n",
              "S88_hum_1_StarWars.wav          S88            hum  StarWars.wav  StarWars\n",
              "S100_hum_4_StarWars.wav        S100            hum  StarWars.wav  StarWars\n",
              "S100_hum_3_StarWars.wav        S100            hum  StarWars.wav  StarWars\n",
              "S21_hum_4_StarWars.wav          S21            hum  StarWars.wav  StarWars"
            ]
          },
          "metadata": {},
          "execution_count": 6
        }
      ],
      "source": [
        "# StarWars_1\n",
        "MLENDHW_table3 = [] \n",
        "\n",
        "for file in files3:\n",
        "  file_name = file.split('/')[-1]\n",
        "  participant_ID = file.split('/')[-1].split('_')[0]\n",
        "  interpretation_type = file.split('/')[-1].split('_')[1]\n",
        "  interpretation_number = file.split('/')[-1].split('_')[-1]\n",
        "  song = file.split('/')[-1].split('_')[-1].split('.')[0]\n",
        "  MLENDHW_table3.append([file_name,participant_ID,interpretation_type,interpretation_number, song])\n",
        "\n",
        "MLENDHW_df3 = pd.DataFrame(MLENDHW_table3,columns=['file_id','participant','interpretation','number','song']).set_index('file_id') \n",
        "MLENDHW_df3.head()"
      ]
    },
    {
      "cell_type": "code",
      "execution_count": 7,
      "metadata": {
        "colab": {
          "base_uri": "https://localhost:8080/",
          "height": 231
        },
        "id": "5Do6mPM6IWyn",
        "outputId": "426fc373-7f26-4ca7-f368-0eb53c3a8683"
      },
      "outputs": [
        {
          "output_type": "execute_result",
          "data": {
            "text/html": [
              "<div>\n",
              "<style scoped>\n",
              "    .dataframe tbody tr th:only-of-type {\n",
              "        vertical-align: middle;\n",
              "    }\n",
              "\n",
              "    .dataframe tbody tr th {\n",
              "        vertical-align: top;\n",
              "    }\n",
              "\n",
              "    .dataframe thead th {\n",
              "        text-align: right;\n",
              "    }\n",
              "</style>\n",
              "<table border=\"1\" class=\"dataframe\">\n",
              "  <thead>\n",
              "    <tr style=\"text-align: right;\">\n",
              "      <th></th>\n",
              "      <th>participant</th>\n",
              "      <th>interpretation</th>\n",
              "      <th>number</th>\n",
              "      <th>song</th>\n",
              "    </tr>\n",
              "    <tr>\n",
              "      <th>file_id</th>\n",
              "      <th></th>\n",
              "      <th></th>\n",
              "      <th></th>\n",
              "      <th></th>\n",
              "    </tr>\n",
              "  </thead>\n",
              "  <tbody>\n",
              "    <tr>\n",
              "      <th>S198_hum_2_StarWars.wav</th>\n",
              "      <td>S198</td>\n",
              "      <td>hum</td>\n",
              "      <td>StarWars.wav</td>\n",
              "      <td>StarWars</td>\n",
              "    </tr>\n",
              "    <tr>\n",
              "      <th>S190_hum_2_StarWars.wav</th>\n",
              "      <td>S190</td>\n",
              "      <td>hum</td>\n",
              "      <td>StarWars.wav</td>\n",
              "      <td>StarWars</td>\n",
              "    </tr>\n",
              "    <tr>\n",
              "      <th>S198_whistle_2_StarWars.wav</th>\n",
              "      <td>S198</td>\n",
              "      <td>whistle</td>\n",
              "      <td>StarWars.wav</td>\n",
              "      <td>StarWars</td>\n",
              "    </tr>\n",
              "    <tr>\n",
              "      <th>S122_hum_2_StarWars.wav</th>\n",
              "      <td>S122</td>\n",
              "      <td>hum</td>\n",
              "      <td>StarWars.wav</td>\n",
              "      <td>StarWars</td>\n",
              "    </tr>\n",
              "    <tr>\n",
              "      <th>S190_whistle_2_StarWars.wav</th>\n",
              "      <td>S190</td>\n",
              "      <td>whistle</td>\n",
              "      <td>StarWars.wav</td>\n",
              "      <td>StarWars</td>\n",
              "    </tr>\n",
              "  </tbody>\n",
              "</table>\n",
              "</div>"
            ],
            "text/plain": [
              "                            participant interpretation        number      song\n",
              "file_id                                                                       \n",
              "S198_hum_2_StarWars.wav            S198            hum  StarWars.wav  StarWars\n",
              "S190_hum_2_StarWars.wav            S190            hum  StarWars.wav  StarWars\n",
              "S198_whistle_2_StarWars.wav        S198        whistle  StarWars.wav  StarWars\n",
              "S122_hum_2_StarWars.wav            S122            hum  StarWars.wav  StarWars\n",
              "S190_whistle_2_StarWars.wav        S190        whistle  StarWars.wav  StarWars"
            ]
          },
          "metadata": {},
          "execution_count": 7
        }
      ],
      "source": [
        "# StarWars_2\n",
        "MLENDHW_table4 = [] \n",
        "\n",
        "for file in files4:\n",
        "  file_name = file.split('/')[-1]\n",
        "  participant_ID = file.split('/')[-1].split('_')[0]\n",
        "  interpretation_type = file.split('/')[-1].split('_')[1]\n",
        "  interpretation_number = file.split('/')[-1].split('_')[-1]\n",
        "  song = file.split('/')[-1].split('_')[-1].split('.')[0]\n",
        "  MLENDHW_table4.append([file_name,participant_ID,interpretation_type,interpretation_number, song])\n",
        "\n",
        "MLENDHW_df4 = pd.DataFrame(MLENDHW_table4,columns=['file_id','participant','interpretation','number','song']).set_index('file_id') \n",
        "MLENDHW_df4.head()"
      ]
    },
    {
      "cell_type": "code",
      "execution_count": 8,
      "metadata": {
        "colab": {
          "base_uri": "https://localhost:8080/",
          "height": 442
        },
        "id": "8Xc4FbB3EtEp",
        "outputId": "f371cccd-2309-4352-e9aa-40e81af29281"
      },
      "outputs": [
        {
          "output_type": "execute_result",
          "data": {
            "text/html": [
              "<div>\n",
              "<style scoped>\n",
              "    .dataframe tbody tr th:only-of-type {\n",
              "        vertical-align: middle;\n",
              "    }\n",
              "\n",
              "    .dataframe tbody tr th {\n",
              "        vertical-align: top;\n",
              "    }\n",
              "\n",
              "    .dataframe thead th {\n",
              "        text-align: right;\n",
              "    }\n",
              "</style>\n",
              "<table border=\"1\" class=\"dataframe\">\n",
              "  <thead>\n",
              "    <tr style=\"text-align: right;\">\n",
              "      <th></th>\n",
              "      <th>participant</th>\n",
              "      <th>interpretation</th>\n",
              "      <th>number</th>\n",
              "      <th>song</th>\n",
              "    </tr>\n",
              "    <tr>\n",
              "      <th>file_id</th>\n",
              "      <th></th>\n",
              "      <th></th>\n",
              "      <th></th>\n",
              "      <th></th>\n",
              "    </tr>\n",
              "  </thead>\n",
              "  <tbody>\n",
              "    <tr>\n",
              "      <th>S103_hum_2_Potter.wav</th>\n",
              "      <td>S103</td>\n",
              "      <td>hum</td>\n",
              "      <td>Potter.wav</td>\n",
              "      <td>Potter</td>\n",
              "    </tr>\n",
              "    <tr>\n",
              "      <th>S40_hum_2_Potter.wav</th>\n",
              "      <td>S40</td>\n",
              "      <td>hum</td>\n",
              "      <td>Potter.wav</td>\n",
              "      <td>Potter</td>\n",
              "    </tr>\n",
              "    <tr>\n",
              "      <th>S40_whistle_2_Potter.wav</th>\n",
              "      <td>S40</td>\n",
              "      <td>whistle</td>\n",
              "      <td>Potter.wav</td>\n",
              "      <td>Potter</td>\n",
              "    </tr>\n",
              "    <tr>\n",
              "      <th>S103_whistle_2_Potter.wav</th>\n",
              "      <td>S103</td>\n",
              "      <td>whistle</td>\n",
              "      <td>Potter.wav</td>\n",
              "      <td>Potter</td>\n",
              "    </tr>\n",
              "    <tr>\n",
              "      <th>S17_hum_1_Potter.wav</th>\n",
              "      <td>S17</td>\n",
              "      <td>hum</td>\n",
              "      <td>Potter.wav</td>\n",
              "      <td>Potter</td>\n",
              "    </tr>\n",
              "    <tr>\n",
              "      <th>...</th>\n",
              "      <td>...</td>\n",
              "      <td>...</td>\n",
              "      <td>...</td>\n",
              "      <td>...</td>\n",
              "    </tr>\n",
              "    <tr>\n",
              "      <th>S138_hum_1_StarWars.wav</th>\n",
              "      <td>S138</td>\n",
              "      <td>hum</td>\n",
              "      <td>StarWars.wav</td>\n",
              "      <td>StarWars</td>\n",
              "    </tr>\n",
              "    <tr>\n",
              "      <th>S138_whistle_1_StarWars.wav</th>\n",
              "      <td>S138</td>\n",
              "      <td>whistle</td>\n",
              "      <td>StarWars.wav</td>\n",
              "      <td>StarWars</td>\n",
              "    </tr>\n",
              "    <tr>\n",
              "      <th>S208_whistle_2_StarWars.wav</th>\n",
              "      <td>S208</td>\n",
              "      <td>whistle</td>\n",
              "      <td>StarWars.wav</td>\n",
              "      <td>StarWars</td>\n",
              "    </tr>\n",
              "    <tr>\n",
              "      <th>S149_hum_4_StarWars.wav</th>\n",
              "      <td>S149</td>\n",
              "      <td>hum</td>\n",
              "      <td>StarWars.wav</td>\n",
              "      <td>StarWars</td>\n",
              "    </tr>\n",
              "    <tr>\n",
              "      <th>S208_hum_2_StarWars.wav</th>\n",
              "      <td>S208</td>\n",
              "      <td>hum</td>\n",
              "      <td>StarWars.wav</td>\n",
              "      <td>StarWars</td>\n",
              "    </tr>\n",
              "  </tbody>\n",
              "</table>\n",
              "<p>832 rows × 4 columns</p>\n",
              "</div>"
            ],
            "text/plain": [
              "                            participant interpretation        number      song\n",
              "file_id                                                                       \n",
              "S103_hum_2_Potter.wav              S103            hum    Potter.wav    Potter\n",
              "S40_hum_2_Potter.wav                S40            hum    Potter.wav    Potter\n",
              "S40_whistle_2_Potter.wav            S40        whistle    Potter.wav    Potter\n",
              "S103_whistle_2_Potter.wav          S103        whistle    Potter.wav    Potter\n",
              "S17_hum_1_Potter.wav                S17            hum    Potter.wav    Potter\n",
              "...                                 ...            ...           ...       ...\n",
              "S138_hum_1_StarWars.wav            S138            hum  StarWars.wav  StarWars\n",
              "S138_whistle_1_StarWars.wav        S138        whistle  StarWars.wav  StarWars\n",
              "S208_whistle_2_StarWars.wav        S208        whistle  StarWars.wav  StarWars\n",
              "S149_hum_4_StarWars.wav            S149            hum  StarWars.wav  StarWars\n",
              "S208_hum_2_StarWars.wav            S208            hum  StarWars.wav  StarWars\n",
              "\n",
              "[832 rows x 4 columns]"
            ]
          },
          "metadata": {},
          "execution_count": 8
        }
      ],
      "source": [
        "# Merging data from different folders and dataframes\n",
        "files = files1 + files2 + files3 + files4\n",
        "\n",
        "dataframes = [MLENDHW_df, MLENDHW_df2, MLENDHW_df3, MLENDHW_df4]\n",
        "final_df = pd.concat(dataframes)\n",
        "final_df"
      ]
    },
    {
      "cell_type": "markdown",
      "metadata": {
        "id": "0Z8gcPwbEQKu"
      },
      "source": [
        "## **Step 3**<br>\n",
        "At this point, a quick check is due to see whether each songs are represented roughly equally.<br>\n",
        "\n",
        "\n"
      ]
    },
    {
      "cell_type": "code",
      "execution_count": 9,
      "metadata": {
        "colab": {
          "base_uri": "https://localhost:8080/"
        },
        "id": "aBzFpj7gFFGg",
        "outputId": "8da975d6-5dd0-41c7-d2c3-f20b7a1b061e"
      },
      "outputs": [
        {
          "output_type": "execute_result",
          "data": {
            "text/plain": [
              "StarWars     413\n",
              "Potter       411\n",
              "Potter         4\n",
              "Starwars       2\n",
              "hum3           1\n",
              "StartWars      1\n",
              "Name: song, dtype: int64"
            ]
          },
          "metadata": {},
          "execution_count": 9
        }
      ],
      "source": [
        "# Checking if dataset is balanced with respect to songs (Potter or StarWars)\n",
        "final_df['song'].value_counts()"
      ]
    },
    {
      "cell_type": "code",
      "execution_count": 9,
      "metadata": {
        "id": "sagH7AS8s8XX"
      },
      "outputs": [],
      "source": [
        ""
      ]
    },
    {
      "cell_type": "code",
      "execution_count": 10,
      "metadata": {
        "id": "YEJ7B5mEJHnm"
      },
      "outputs": [],
      "source": [
        "# Function gets the pitch of an audio signal\n",
        "def getPitch(x,fs,winLen=0.02):\n",
        "  #winLen = 0.02 \n",
        "  p = winLen*fs\n",
        "  frame_length = int(2**int(p-1).bit_length())\n",
        "  hop_length = frame_length//2\n",
        "  f0, voiced_flag, voiced_probs = librosa.pyin(y=x, fmin=80, fmax=450, sr=fs,\n",
        "                                                 frame_length=frame_length,hop_length=hop_length)\n",
        "  return f0,voiced_flag\n"
      ]
    },
    {
      "cell_type": "code",
      "execution_count": 11,
      "metadata": {
        "id": "sqtkCrl7JJ0k"
      },
      "outputs": [],
      "source": [
        "# Extracting four audio features as predictor variables (X) and a binary label (y)\n",
        "def getXy(files,labels_file, scale_audio=False, onlySingleDigit=False):\n",
        "  X,y =[],[]\n",
        "  for file in tqdm(files):\n",
        "    fileID = file.split('/')[-1]\n",
        "    file_name = file.split('/')[-1]\n",
        "    #print(file_name)\n",
        "    #print(labels_file.loc[fileID]['interpretation'])\n",
        "    #print(labels_file.loc[fileID]['interpretation']=='hum')\n",
        "    #yi = list(labels_file.loc[fileID]['interpretation'])[0]=='hum'\n",
        "    yi = labels_file.loc[fileID]['song']=='Potter'\n",
        "\n",
        "    fs = None # if None, fs would be 22050\n",
        "    x, fs = librosa.load(file,sr=fs)\n",
        "    if scale_audio: x = x/np.max(np.abs(x))\n",
        "    f0, voiced_flag = getPitch(x,fs,winLen=0.02)\n",
        "      \n",
        "    power = np.sum(x**2)/len(x)\n",
        "    pitch_mean = np.nanmean(f0) if np.mean(np.isnan(f0))<1 else 0\n",
        "    pitch_std  = np.nanstd(f0) if np.mean(np.isnan(f0))<1 else 0\n",
        "    voiced_fr = np.mean(voiced_flag)\n",
        "\n",
        "    xi = [power,pitch_mean,pitch_std,voiced_fr]\n",
        "    X.append(xi)\n",
        "    y.append(yi)\n",
        "\n",
        "  return np.array(X),np.array(y)"
      ]
    },
    {
      "cell_type": "code",
      "execution_count": 12,
      "metadata": {
        "colab": {
          "base_uri": "https://localhost:8080/",
          "height": 348
        },
        "id": "SGvTUFM3KbPP",
        "outputId": "1d1819b3-8d25-4b8a-d214-59d35c37c968"
      },
      "outputs": [
        {
          "output_type": "stream",
          "name": "stderr",
          "text": [
            "  3%|▎         | 24/832 [01:29<49:58,  3.71s/it]\n"
          ]
        },
        {
          "output_type": "error",
          "ename": "KeyboardInterrupt",
          "evalue": "ignored",
          "traceback": [
            "\u001b[0;31m---------------------------------------------------------------------------\u001b[0m",
            "\u001b[0;31mKeyboardInterrupt\u001b[0m                         Traceback (most recent call last)",
            "\u001b[0;32m<ipython-input-12-7a5b01439b17>\u001b[0m in \u001b[0;36m<module>\u001b[0;34m()\u001b[0m\n\u001b[1;32m      1\u001b[0m \u001b[0;31m# Iterating through all instances in dataframe, deriving the 4 pre-specified predictor features (X)\u001b[0m\u001b[0;34m\u001b[0m\u001b[0;34m\u001b[0m\u001b[0;34m\u001b[0m\u001b[0m\n\u001b[1;32m      2\u001b[0m \u001b[0;31m# and target variable y (either Potter or StarWars)\u001b[0m\u001b[0;34m\u001b[0m\u001b[0;34m\u001b[0m\u001b[0;34m\u001b[0m\u001b[0m\n\u001b[0;32m----> 3\u001b[0;31m \u001b[0mX\u001b[0m\u001b[0;34m,\u001b[0m\u001b[0my\u001b[0m \u001b[0;34m=\u001b[0m \u001b[0mgetXy\u001b[0m\u001b[0;34m(\u001b[0m\u001b[0mfiles\u001b[0m\u001b[0;34m,\u001b[0m \u001b[0mlabels_file\u001b[0m\u001b[0;34m=\u001b[0m\u001b[0mfinal_df\u001b[0m\u001b[0;34m,\u001b[0m \u001b[0mscale_audio\u001b[0m\u001b[0;34m=\u001b[0m\u001b[0;32mTrue\u001b[0m\u001b[0;34m,\u001b[0m \u001b[0monlySingleDigit\u001b[0m\u001b[0;34m=\u001b[0m\u001b[0;32mTrue\u001b[0m\u001b[0;34m)\u001b[0m\u001b[0;34m\u001b[0m\u001b[0;34m\u001b[0m\u001b[0m\n\u001b[0m",
            "\u001b[0;32m<ipython-input-11-b812130be016>\u001b[0m in \u001b[0;36mgetXy\u001b[0;34m(files, labels_file, scale_audio, onlySingleDigit)\u001b[0m\n\u001b[1;32m     14\u001b[0m     \u001b[0mx\u001b[0m\u001b[0;34m,\u001b[0m \u001b[0mfs\u001b[0m \u001b[0;34m=\u001b[0m \u001b[0mlibrosa\u001b[0m\u001b[0;34m.\u001b[0m\u001b[0mload\u001b[0m\u001b[0;34m(\u001b[0m\u001b[0mfile\u001b[0m\u001b[0;34m,\u001b[0m\u001b[0msr\u001b[0m\u001b[0;34m=\u001b[0m\u001b[0mfs\u001b[0m\u001b[0;34m)\u001b[0m\u001b[0;34m\u001b[0m\u001b[0;34m\u001b[0m\u001b[0m\n\u001b[1;32m     15\u001b[0m     \u001b[0;32mif\u001b[0m \u001b[0mscale_audio\u001b[0m\u001b[0;34m:\u001b[0m \u001b[0mx\u001b[0m \u001b[0;34m=\u001b[0m \u001b[0mx\u001b[0m\u001b[0;34m/\u001b[0m\u001b[0mnp\u001b[0m\u001b[0;34m.\u001b[0m\u001b[0mmax\u001b[0m\u001b[0;34m(\u001b[0m\u001b[0mnp\u001b[0m\u001b[0;34m.\u001b[0m\u001b[0mabs\u001b[0m\u001b[0;34m(\u001b[0m\u001b[0mx\u001b[0m\u001b[0;34m)\u001b[0m\u001b[0;34m)\u001b[0m\u001b[0;34m\u001b[0m\u001b[0;34m\u001b[0m\u001b[0m\n\u001b[0;32m---> 16\u001b[0;31m     \u001b[0mf0\u001b[0m\u001b[0;34m,\u001b[0m \u001b[0mvoiced_flag\u001b[0m \u001b[0;34m=\u001b[0m \u001b[0mgetPitch\u001b[0m\u001b[0;34m(\u001b[0m\u001b[0mx\u001b[0m\u001b[0;34m,\u001b[0m\u001b[0mfs\u001b[0m\u001b[0;34m,\u001b[0m\u001b[0mwinLen\u001b[0m\u001b[0;34m=\u001b[0m\u001b[0;36m0.02\u001b[0m\u001b[0;34m)\u001b[0m\u001b[0;34m\u001b[0m\u001b[0;34m\u001b[0m\u001b[0m\n\u001b[0m\u001b[1;32m     17\u001b[0m \u001b[0;34m\u001b[0m\u001b[0m\n\u001b[1;32m     18\u001b[0m     \u001b[0mpower\u001b[0m \u001b[0;34m=\u001b[0m \u001b[0mnp\u001b[0m\u001b[0;34m.\u001b[0m\u001b[0msum\u001b[0m\u001b[0;34m(\u001b[0m\u001b[0mx\u001b[0m\u001b[0;34m**\u001b[0m\u001b[0;36m2\u001b[0m\u001b[0;34m)\u001b[0m\u001b[0;34m/\u001b[0m\u001b[0mlen\u001b[0m\u001b[0;34m(\u001b[0m\u001b[0mx\u001b[0m\u001b[0;34m)\u001b[0m\u001b[0;34m\u001b[0m\u001b[0;34m\u001b[0m\u001b[0m\n",
            "\u001b[0;32m<ipython-input-10-9ebb17a324fe>\u001b[0m in \u001b[0;36mgetPitch\u001b[0;34m(x, fs, winLen)\u001b[0m\n\u001b[1;32m      6\u001b[0m   \u001b[0mhop_length\u001b[0m \u001b[0;34m=\u001b[0m \u001b[0mframe_length\u001b[0m\u001b[0;34m//\u001b[0m\u001b[0;36m2\u001b[0m\u001b[0;34m\u001b[0m\u001b[0;34m\u001b[0m\u001b[0m\n\u001b[1;32m      7\u001b[0m   f0, voiced_flag, voiced_probs = librosa.pyin(y=x, fmin=80, fmax=450, sr=fs,\n\u001b[0;32m----> 8\u001b[0;31m                                                  frame_length=frame_length,hop_length=hop_length)\n\u001b[0m\u001b[1;32m      9\u001b[0m   \u001b[0;32mreturn\u001b[0m \u001b[0mf0\u001b[0m\u001b[0;34m,\u001b[0m\u001b[0mvoiced_flag\u001b[0m\u001b[0;34m\u001b[0m\u001b[0;34m\u001b[0m\u001b[0m\n",
            "\u001b[0;32m/usr/local/lib/python3.7/dist-packages/librosa/core/pitch.py\u001b[0m in \u001b[0;36mpyin\u001b[0;34m(y, fmin, fmax, sr, frame_length, win_length, hop_length, n_thresholds, beta_parameters, boltzmann_parameter, resolution, max_transition_rate, switch_prob, no_trough_prob, fill_na, center, pad_mode)\u001b[0m\n\u001b[1;32m    862\u001b[0m \u001b[0;34m\u001b[0m\u001b[0m\n\u001b[1;32m    863\u001b[0m     \u001b[0;31m# Viterbi decoding.\u001b[0m\u001b[0;34m\u001b[0m\u001b[0;34m\u001b[0m\u001b[0;34m\u001b[0m\u001b[0m\n\u001b[0;32m--> 864\u001b[0;31m     \u001b[0mstates\u001b[0m \u001b[0;34m=\u001b[0m \u001b[0msequence\u001b[0m\u001b[0;34m.\u001b[0m\u001b[0mviterbi\u001b[0m\u001b[0;34m(\u001b[0m\u001b[0mobservation_probs\u001b[0m\u001b[0;34m,\u001b[0m \u001b[0mtransition\u001b[0m\u001b[0;34m,\u001b[0m \u001b[0mp_init\u001b[0m\u001b[0;34m=\u001b[0m\u001b[0mp_init\u001b[0m\u001b[0;34m)\u001b[0m\u001b[0;34m\u001b[0m\u001b[0;34m\u001b[0m\u001b[0m\n\u001b[0m\u001b[1;32m    865\u001b[0m \u001b[0;34m\u001b[0m\u001b[0m\n\u001b[1;32m    866\u001b[0m     \u001b[0;31m# Find f0 corresponding to each decoded pitch bin.\u001b[0m\u001b[0;34m\u001b[0m\u001b[0;34m\u001b[0m\u001b[0;34m\u001b[0m\u001b[0m\n",
            "\u001b[0;32m/usr/local/lib/python3.7/dist-packages/librosa/sequence.py\u001b[0m in \u001b[0;36mviterbi\u001b[0;34m(prob, transition, p_init, return_logp)\u001b[0m\n\u001b[1;32m   1066\u001b[0m     \u001b[0mlog_p_init\u001b[0m \u001b[0;34m=\u001b[0m \u001b[0mnp\u001b[0m\u001b[0;34m.\u001b[0m\u001b[0mlog\u001b[0m\u001b[0;34m(\u001b[0m\u001b[0mp_init\u001b[0m \u001b[0;34m+\u001b[0m \u001b[0mepsilon\u001b[0m\u001b[0;34m)\u001b[0m\u001b[0;34m\u001b[0m\u001b[0;34m\u001b[0m\u001b[0m\n\u001b[1;32m   1067\u001b[0m \u001b[0;34m\u001b[0m\u001b[0m\n\u001b[0;32m-> 1068\u001b[0;31m     \u001b[0m_viterbi\u001b[0m\u001b[0;34m(\u001b[0m\u001b[0mlog_prob\u001b[0m\u001b[0;34m,\u001b[0m \u001b[0mlog_trans\u001b[0m\u001b[0;34m,\u001b[0m \u001b[0mlog_p_init\u001b[0m\u001b[0;34m,\u001b[0m \u001b[0mstates\u001b[0m\u001b[0;34m,\u001b[0m \u001b[0mvalues\u001b[0m\u001b[0;34m,\u001b[0m \u001b[0mptr\u001b[0m\u001b[0;34m)\u001b[0m\u001b[0;34m\u001b[0m\u001b[0;34m\u001b[0m\u001b[0m\n\u001b[0m\u001b[1;32m   1069\u001b[0m \u001b[0;34m\u001b[0m\u001b[0m\n\u001b[1;32m   1070\u001b[0m     \u001b[0;32mif\u001b[0m \u001b[0mreturn_logp\u001b[0m\u001b[0;34m:\u001b[0m\u001b[0;34m\u001b[0m\u001b[0;34m\u001b[0m\u001b[0m\n",
            "\u001b[0;31mKeyboardInterrupt\u001b[0m: "
          ]
        }
      ],
      "source": [
        "# Iterating through all instances in dataframe, deriving the 4 pre-specified predictor features (X)\n",
        "# and target variable y (either Potter or StarWars)\n",
        "X,y = getXy(files, labels_file=final_df, scale_audio=True, onlySingleDigit=True)"
      ]
    },
    {
      "cell_type": "code",
      "execution_count": null,
      "metadata": {
        "id": "cGC6W_dJ-POs"
      },
      "outputs": [],
      "source": [
        "from numpy import asarray\n",
        "from numpy import savetxt\n",
        "\n",
        "# Save X and to csv\n",
        "savetxt('X.csv', X, delimiter=',')"
      ]
    },
    {
      "cell_type": "code",
      "execution_count": null,
      "metadata": {
        "id": "MqW5cPFiJdxH"
      },
      "outputs": [],
      "source": [
        "savetxt('y.csv', y, delimiter=',')"
      ]
    },
    {
      "cell_type": "code",
      "source": [
        "from numpy import genfromtxt\n",
        "X = genfromtxt('X.csv', delimiter=',')\n",
        "y = genfromtxt('y.csv', delimiter=',')"
      ],
      "metadata": {
        "id": "iR7jCLszhiHd"
      },
      "execution_count": 17,
      "outputs": []
    },
    {
      "cell_type": "code",
      "execution_count": 18,
      "metadata": {
        "colab": {
          "base_uri": "https://localhost:8080/"
        },
        "id": "6-XZPt898he7",
        "outputId": "1799f663-1248-4696-8a5a-178b0dfbe567"
      },
      "outputs": [
        {
          "output_type": "stream",
          "name": "stdout",
          "text": [
            "[[2.02235117e-02 1.64102638e+02 2.76965478e+01 6.31507776e-01]\n",
            " [1.71861343e-02 2.02538778e+02 4.85056901e+01 6.54810024e-01]\n",
            " [4.16404837e-03 3.93561321e+02 3.20134046e+01 6.51045422e-01]\n",
            " [5.77912653e-03 3.85549035e+02 2.88461611e+01 5.67370721e-01]\n",
            " [2.73457166e-02 2.59445836e+02 6.84512297e+01 7.38304094e-01]]\n",
            "\n",
            "[1 1 1 1 1]\n"
          ]
        }
      ],
      "source": [
        "print(X[0:5])\n",
        "print()\n",
        "# Converting boolean y values into integers (where True=1=Potter, False=0=StarWars)\n",
        "y = y.astype(int)\n",
        "print(y[0:5])"
      ]
    },
    {
      "cell_type": "code",
      "execution_count": 19,
      "metadata": {
        "colab": {
          "base_uri": "https://localhost:8080/",
          "height": 231
        },
        "id": "KLu_oORVgrKf",
        "outputId": "3e686fdc-81ad-4a43-818e-915eda1411d1"
      },
      "outputs": [
        {
          "output_type": "execute_result",
          "data": {
            "text/html": [
              "<div>\n",
              "<style scoped>\n",
              "    .dataframe tbody tr th:only-of-type {\n",
              "        vertical-align: middle;\n",
              "    }\n",
              "\n",
              "    .dataframe tbody tr th {\n",
              "        vertical-align: top;\n",
              "    }\n",
              "\n",
              "    .dataframe thead th {\n",
              "        text-align: right;\n",
              "    }\n",
              "</style>\n",
              "<table border=\"1\" class=\"dataframe\">\n",
              "  <thead>\n",
              "    <tr style=\"text-align: right;\">\n",
              "      <th></th>\n",
              "      <th>Power</th>\n",
              "      <th>Pitch Mean</th>\n",
              "      <th>Pitch s.d</th>\n",
              "      <th>Fract.of voiced region</th>\n",
              "      <th>Target</th>\n",
              "      <th>Song</th>\n",
              "    </tr>\n",
              "    <tr>\n",
              "      <th>file_id</th>\n",
              "      <th></th>\n",
              "      <th></th>\n",
              "      <th></th>\n",
              "      <th></th>\n",
              "      <th></th>\n",
              "      <th></th>\n",
              "    </tr>\n",
              "  </thead>\n",
              "  <tbody>\n",
              "    <tr>\n",
              "      <th>S103_hum_2_Potter.wav</th>\n",
              "      <td>0.020224</td>\n",
              "      <td>164.102638</td>\n",
              "      <td>27.696548</td>\n",
              "      <td>0.631508</td>\n",
              "      <td>1</td>\n",
              "      <td>Potter</td>\n",
              "    </tr>\n",
              "    <tr>\n",
              "      <th>S40_hum_2_Potter.wav</th>\n",
              "      <td>0.017186</td>\n",
              "      <td>202.538778</td>\n",
              "      <td>48.505690</td>\n",
              "      <td>0.654810</td>\n",
              "      <td>1</td>\n",
              "      <td>Potter</td>\n",
              "    </tr>\n",
              "    <tr>\n",
              "      <th>S40_whistle_2_Potter.wav</th>\n",
              "      <td>0.004164</td>\n",
              "      <td>393.561321</td>\n",
              "      <td>32.013405</td>\n",
              "      <td>0.651045</td>\n",
              "      <td>1</td>\n",
              "      <td>Potter</td>\n",
              "    </tr>\n",
              "    <tr>\n",
              "      <th>S103_whistle_2_Potter.wav</th>\n",
              "      <td>0.005779</td>\n",
              "      <td>385.549035</td>\n",
              "      <td>28.846161</td>\n",
              "      <td>0.567371</td>\n",
              "      <td>1</td>\n",
              "      <td>Potter</td>\n",
              "    </tr>\n",
              "    <tr>\n",
              "      <th>S17_hum_1_Potter.wav</th>\n",
              "      <td>0.027346</td>\n",
              "      <td>259.445836</td>\n",
              "      <td>68.451230</td>\n",
              "      <td>0.738304</td>\n",
              "      <td>1</td>\n",
              "      <td>Potter</td>\n",
              "    </tr>\n",
              "  </tbody>\n",
              "</table>\n",
              "</div>"
            ],
            "text/plain": [
              "                              Power  Pitch Mean  ...  Target    Song\n",
              "file_id                                          ...                \n",
              "S103_hum_2_Potter.wav      0.020224  164.102638  ...       1  Potter\n",
              "S40_hum_2_Potter.wav       0.017186  202.538778  ...       1  Potter\n",
              "S40_whistle_2_Potter.wav   0.004164  393.561321  ...       1  Potter\n",
              "S103_whistle_2_Potter.wav  0.005779  385.549035  ...       1  Potter\n",
              "S17_hum_1_Potter.wav       0.027346  259.445836  ...       1  Potter\n",
              "\n",
              "[5 rows x 6 columns]"
            ]
          },
          "metadata": {},
          "execution_count": 19
        }
      ],
      "source": [
        "# Converting X into pandas dataframe for visualisation\n",
        "dataset = pd.DataFrame({'Power': X[:, 0], \n",
        "                        'Pitch Mean': X[:, 1],\n",
        "                        'Pitch s.d': X[:, 2], \n",
        "                        'Fract.of voiced region': X[:, 3],\n",
        "                        'Target': y,\n",
        "                        'Song': final_df['song']})\n",
        "\n",
        "dataset.head()"
      ]
    },
    {
      "cell_type": "code",
      "execution_count": 20,
      "metadata": {
        "colab": {
          "base_uri": "https://localhost:8080/",
          "height": 1000
        },
        "id": "INzsjexHfbJ1",
        "outputId": "3921f6d5-fe95-477b-866f-4d4a96dd78fb"
      },
      "outputs": [
        {
          "output_type": "display_data",
          "data": {
            "image/png": "[encoded data removed]",
            "text/plain": [
              "<Figure size 432x288 with 1 Axes>"
            ]
          },
          "metadata": {
            "needs_background": "light"
          }
        },
        {
          "output_type": "display_data",
          "data": {
            "image/png": "[encoded data removed]",
            "text/plain": [
              "<Figure size 432x288 with 1 Axes>"
            ]
          },
          "metadata": {
            "needs_background": "light"
          }
        },
        {
          "output_type": "display_data",
          "data": {
            "image/png": "[encoded data removed]",
            "text/plain": [
              "<Figure size 432x288 with 1 Axes>"
            ]
          },
          "metadata": {
            "needs_background": "light"
          }
        },
        {
          "output_type": "display_data",
          "data": {
            "image/png": "[encoded data removed]",
            "text/plain": [
              "<Figure size 432x288 with 1 Axes>"
            ]
          },
          "metadata": {
            "needs_background": "light"
          }
        }
      ],
      "source": [
        "# Visualising extracted features\n",
        "# Boxplots\n",
        "import seaborn as sns\n",
        "import matplotlib.pyplot as plt\n",
        "\n",
        "sns.boxplot(x=dataset.Target, y=dataset.Power)\n",
        "plt.show()\n",
        "\n",
        "sns.boxplot(x=dataset.Target, y=dataset['Pitch Mean'])\n",
        "plt.show()\n",
        "\n",
        "sns.boxplot(x=dataset.Target, y=dataset['Pitch s.d'])\n",
        "plt.show()\n",
        "\n",
        "sns.boxplot(x=dataset.Target, y=dataset['Fract.of voiced region'])\n",
        "plt.show()"
      ]
    },
    {
      "cell_type": "code",
      "execution_count": 21,
      "metadata": {
        "colab": {
          "base_uri": "https://localhost:8080/",
          "height": 1000
        },
        "id": "pVB-JMw1sLYK",
        "outputId": "558974fe-6e03-4d92-90e5-a90809747e8b"
      },
      "outputs": [
        {
          "output_type": "display_data",
          "data": {
            "image/png": "[encoded data removed]",
            "text/plain": [
              "<Figure size 432x288 with 1 Axes>"
            ]
          },
          "metadata": {
            "needs_background": "light"
          }
        },
        {
          "output_type": "display_data",
          "data": {
            "image/png": "[encoded data removed]",
            "text/plain": [
              "<Figure size 432x288 with 1 Axes>"
            ]
          },
          "metadata": {
            "needs_background": "light"
          }
        },
        {
          "output_type": "display_data",
          "data": {
            "image/png": "[encoded data removed]",
            "text/plain": [
              "<Figure size 432x288 with 1 Axes>"
            ]
          },
          "metadata": {
            "needs_background": "light"
          }
        },
        {
          "output_type": "display_data",
          "data": {
            "image/png": "[encoded data removed]",
            "text/plain": [
              "<Figure size 432x288 with 1 Axes>"
            ]
          },
          "metadata": {
            "needs_background": "light"
          }
        }
      ],
      "source": [
        "# Histograms\n",
        "plt.hist(x=dataset.Power, edgecolor='black')\n",
        "plt.title(\"Power\")\n",
        "plt.show()\n",
        "\n",
        "plt.hist(x=dataset['Pitch Mean'])\n",
        "plt.title(\"Pitch Mean\")\n",
        "plt.show()\n",
        "\n",
        "plt.hist(x=dataset['Pitch s.d'])\n",
        "plt.title(\"Pitch Standard Deviation\")\n",
        "plt.show()\n",
        "\n",
        "plt.hist(x=dataset['Fract.of voiced region'])\n",
        "plt.title(\"Fraction of voiced region\")\n",
        "plt.show()\n",
        "\n"
      ]
    },
    {
      "cell_type": "markdown",
      "source": [
        "# **8 Results**\n",
        "\n",
        "# **Support Vector Machine**\n",
        "\n",
        "Let's build a support vector machine (SVM) model for the predictive task of identifying whether a recording is a Potter or Starwars song, using the dataset that we have just created. \n",
        "\n",
        "We will use the SVM method provided by scikit-learn and will split the dataset defined by X and y into a training set and a validation set. "
      ],
      "metadata": {
        "id": "dDtrd9oXcexS"
      }
    },
    {
      "cell_type": "code",
      "execution_count": 22,
      "metadata": {
        "id": "f3cxUa8RtdcL"
      },
      "outputs": [],
      "source": [
        "from sklearn.svm import SVC\n",
        "from sklearn.model_selection import train_test_split\n",
        "\n",
        "X_train, X_test, y_train, y_test = train_test_split(X, y, test_size=0.3)"
      ]
    },
    {
      "cell_type": "code",
      "execution_count": 23,
      "metadata": {
        "id": "aN-zHW3auX8t"
      },
      "outputs": [],
      "source": [
        "# Normalising data\n",
        "mean = X_train.mean(0)\n",
        "sd =  X_train.std(0)\n",
        "X_train = (X_train-mean)/sd\n",
        "X_test  = (X_test-mean)/sd"
      ]
    },
    {
      "cell_type": "code",
      "execution_count": 24,
      "metadata": {
        "colab": {
          "base_uri": "https://localhost:8080/",
          "height": 510
        },
        "id": "EIrDYSNIJivm",
        "outputId": "8475c26f-130a-4d35-96a2-9b63dc8cc307"
      },
      "outputs": [
        {
          "output_type": "display_data",
          "data": {
            "image/png": "[encoded data removed]",
            "text/plain": [
              "<Figure size 432x288 with 1 Axes>"
            ]
          },
          "metadata": {
            "needs_background": "light"
          }
        },
        {
          "output_type": "display_data",
          "data": {
            "image/png": "[encoded data removed]",
            "text/plain": [
              "<Figure size 432x288 with 1 Axes>"
            ]
          },
          "metadata": {
            "needs_background": "light"
          }
        }
      ],
      "source": [
        "from matplotlib.colors import ListedColormap\n",
        "plt.scatter(X_train[:,0], X_train[:,1], c=y_train, alpha=0.2)\n",
        "plt.show()\n",
        "\n",
        "plt.scatter(X_train[:,2], X_train[:, 3], c=y_train)\n",
        "plt.show()\n"
      ]
    },
    {
      "cell_type": "code",
      "execution_count": 25,
      "metadata": {
        "colab": {
          "base_uri": "https://localhost:8080/"
        },
        "id": "xPQ1H7gRuor6",
        "outputId": "da81ea89-921a-4e62-cb31-410c58ab46d2"
      },
      "outputs": [
        {
          "output_type": "stream",
          "name": "stdout",
          "text": [
            "Accuracy on training data is  0.6580756013745704\n",
            "Accuracy on testing data is  0.6\n"
          ]
        }
      ],
      "source": [
        "# Training the model and evaluation of its performance\n",
        "model = SVC()\n",
        "model.fit(X_train, y_train)\n",
        "print(\"Accuracy on training data is \", model.score(X_train, y_train))\n",
        "print(\"Accuracy on testing data is \", model.score(X_test, y_test))"
      ]
    },
    {
      "cell_type": "markdown",
      "metadata": {
        "id": "zsKGqtz_OEFD"
      },
      "source": [
        "About SVM's parameters: \n",
        "* **C** parameter adds a penalty for each misclassified data point. If C is small, the penalty for misclassified points is low so a decision boundary with a large margin is chosen at the expense of a greater number of misclassifications. \n",
        "\n",
        "* **Gamma** parameter controls the distance of influence of a single training point. Low values of gamme indicates a large similarity radius which results in more points being grouped together. For high values of gamma, the points need to be very close to each other in order to be considered in the same group (or class). Therefore, models with very large gamma values tend to overfit."
      ]
    },
    {
      "cell_type": "code",
      "source": [
        "# Tuning hyperparameters (C, kernel [and degree where applicable]) using GridSearchCV *\n",
        "from sklearn.model_selection import GridSearchCV\n",
        "\n",
        "param_grid={'C':[0.1, 0.5, 1, 2], \n",
        "            'kernel':['rbf', 'sigmoid', 'linear'], \n",
        "            'gamma': [1, 2]}\n",
        "\n",
        "grid=GridSearchCV(SVC(), param_grid)\n",
        "grid.fit(X_train, y_train)"
      ],
      "metadata": {
        "colab": {
          "base_uri": "https://localhost:8080/"
        },
        "id": "bvJ1M5MNj2w4",
        "outputId": "800b9fa4-9abd-4efe-ced4-cd4b6a53f736"
      },
      "execution_count": 27,
      "outputs": [
        {
          "output_type": "execute_result",
          "data": {
            "text/plain": [
              "GridSearchCV(estimator=SVC(),\n",
              "             param_grid={'C': [0.1, 0.5, 1, 2], 'gamma': [1, 2],\n",
              "                         'kernel': ['rbf', 'sigmoid', 'linear']})"
            ]
          },
          "metadata": {},
          "execution_count": 27
        }
      ]
    },
    {
      "cell_type": "code",
      "execution_count": 28,
      "metadata": {
        "id": "AgkXlaulxKI0",
        "colab": {
          "base_uri": "https://localhost:8080/"
        },
        "outputId": "70b16ede-9a42-494a-860b-a9895c6e05db"
      },
      "outputs": [
        {
          "output_type": "stream",
          "name": "stdout",
          "text": [
            "{'C': 1, 'gamma': 1, 'kernel': 'rbf'}\n",
            "The score on the training dataset is:  0.7250859106529209\n",
            "The score on the test dataset is:  0.648\n"
          ]
        }
      ],
      "source": [
        "print(grid.best_params_)\n",
        "print(\"The score on the training dataset is: \",grid.score(X_train, y_train))\n",
        "print(\"The score on the test dataset is: \",grid.score(X_test, y_test))"
      ]
    },
    {
      "cell_type": "markdown",
      "metadata": {
        "id": "nz9rJU-eEIgm"
      },
      "source": [
        "# **K-Nearest Neighbours**"
      ]
    },
    {
      "cell_type": "markdown",
      "metadata": {
        "id": "KPqRUTezRH0D"
      },
      "source": [
        "# **Training the kNN model**\n",
        "\n",
        "Instead of the usual train and test split which you may be used to seeing, it is better to use k-fold cross-validation on the training data to get our initial predictions. This works by shuffling the dataset randomly, then splitting it into k number of sections (folds). For this example, I have chosen k = 10. So, the k-folds algorithm isolates one fold, using it as a test set. The other nine folds constitute the training data. The kNN model is then fitted on the training set and evaluated on the test set, saving the evaluation score and discarding the model. This process is then repeated ten times, with a different fold used as the test set. This results in each fold being used in the training data nin (k-1) timesm and as the testing set once. "
      ]
    },
    {
      "cell_type": "code",
      "source": [
        "from sklearn import preprocessing\n",
        "from sklearn.neighbors import KNeighborsClassifier\n",
        "from sklearn.model_selection import cross_val_score\n",
        "\n",
        "\n",
        "# Scaling data\n",
        "X = preprocessing.StandardScaler().fit(X).transform(X.astype(float))\n",
        "\n",
        "# Split dataset into train and test data \n",
        "X_train, X_test, y_train, y_test = train_test_split(X, y, test_size=0.2, random_state=1, stratify=y)"
      ],
      "metadata": {
        "id": "FceKAyEIgztt"
      },
      "execution_count": 29,
      "outputs": []
    },
    {
      "cell_type": "code",
      "execution_count": 36,
      "metadata": {
        "id": "YRxplzaEcr0-",
        "colab": {
          "base_uri": "https://localhost:8080/"
        },
        "outputId": "2ee1d93c-ea1e-4345-8193-fece2f198533"
      },
      "outputs": [
        {
          "output_type": "stream",
          "name": "stdout",
          "text": [
            "The best performing n_neighbors value is:  {'n_neighbors': 17} with mean accuracy score of:  0.6165762098597919\n"
          ]
        }
      ],
      "source": [
        "from sklearn.model_selection import GridSearchCV\n",
        "# Tuning hyperparameter 'k_neighbors' by applying GridSearch\n",
        "# Create a new kNN model\n",
        "knn_grid = KNeighborsClassifier()\n",
        "\n",
        "# Create a dictionary of all values that we want to test for n_neighbors\n",
        "param_grid = {'n_neighbors': np.arange(1, 25)}\n",
        "\n",
        "# Use gridsearch to test all values for n_neighbours\n",
        "knn_gscv = GridSearchCV(knn_grid, param_grid, cv=10)\n",
        "\n",
        "# Fit model to training data\n",
        "knn_gscv.fit(X_train, y_train)\n",
        "\n",
        "# Check top performing n_neighbors value\n",
        "print(\"The best performing n_neighbors value is: \", knn_gscv.best_params_, \"with mean accuracy score of: \",\n",
        "      knn_gscv.best_score_)"
      ]
    },
    {
      "cell_type": "code",
      "execution_count": 38,
      "metadata": {
        "id": "VWVdKMG5Qtn_",
        "colab": {
          "base_uri": "https://localhost:8080/"
        },
        "outputId": "6fa77788-0888-49a5-8b95-8497fb4cbac4"
      },
      "outputs": [
        {
          "output_type": "stream",
          "name": "stdout",
          "text": [
            "The cross-validation results in terms of accuracy are:  [0.58208955 0.59701493 0.53731343 0.65671642 0.68656716 0.66666667\n",
            " 0.62121212 0.65151515 0.63636364 0.53030303] \n",
            "whilst the mean of these result is  0.617\n"
          ]
        }
      ],
      "source": [
        "# Create KNN classifier with the best performing n_neighbors(=16)\n",
        "knn_first = KNeighborsClassifier(n_neighbors = 17)\n",
        "\n",
        "# Cross validate\n",
        "cv_scores = cross_val_score(knn_first, X_train, y_train, cv=10)\n",
        "\n",
        "# Taking the mean value of cross-validation rounds\n",
        "cv_scores_mean = np.mean(cv_scores)\n",
        "print(\"The cross-validation results in terms of accuracy are: \", cv_scores ,\"\\n\" \n",
        "      \"whilst the mean of these result is \",\"{:.3f}\".format(cv_scores_mean))\n"
      ]
    },
    {
      "cell_type": "markdown",
      "metadata": {
        "id": "IKgSnVjTXh58"
      },
      "source": [
        "Taking an average of the cross-validation scores, the **accuracy** of our model on the training set is 63%. Not bad. \n",
        "\n",
        "Next, we are going to fit the kNN model to the test set. "
      ]
    },
    {
      "cell_type": "code",
      "execution_count": 39,
      "metadata": {
        "id": "pRfz3tVwQtgE",
        "colab": {
          "base_uri": "https://localhost:8080/"
        },
        "outputId": "3117246c-10bc-40fc-a5e2-09de7a19a95b"
      },
      "outputs": [
        {
          "output_type": "stream",
          "name": "stdout",
          "text": [
            "Accuracy score on the test data = 0.63\n"
          ]
        }
      ],
      "source": [
        "# Fit the model to the testing data \n",
        "knn_first.fit(X_test, y_test)\n",
        "predictions = knn_first.predict(X_test)\n",
        "\n",
        "# Check accuracy of the model on the test dataset\n",
        "accuracy_score = knn_first.score(X_test, y_test) \n",
        "print(\"Accuracy score on the test data = \"\"{:.2f}\".format(accuracy_score))"
      ]
    },
    {
      "cell_type": "code",
      "execution_count": 40,
      "metadata": {
        "id": "ATfiLsq2jpAo",
        "colab": {
          "base_uri": "https://localhost:8080/",
          "height": 418
        },
        "outputId": "f25623a3-3a39-4b29-9771-87a839bfdd40"
      },
      "outputs": [
        {
          "output_type": "stream",
          "name": "stdout",
          "text": [
            "Minimum error:- 0.31137724550898205 at K = 15\n"
          ]
        },
        {
          "output_type": "display_data",
          "data": {
            "image/png": "[encoded data removed]",
            "text/plain": [
              "<Figure size 720x432 with 1 Axes>"
            ]
          },
          "metadata": {
            "needs_background": "light"
          }
        }
      ],
      "source": [
        "# Visualising error rate of the model\n",
        "error_rate = []\n",
        "for i in range(1,25):\n",
        " knn = KNeighborsClassifier(n_neighbors=i)\n",
        " knn.fit(X_train,y_train)\n",
        " pred_i = knn.predict(X_test)\n",
        " error_rate.append(np.mean(pred_i != y_test))\n",
        "\n",
        "plt.figure(figsize=(10,6))\n",
        "plt.plot(range(1,25),error_rate,color='blue', linestyle='dashed', \n",
        "         marker='o',markerfacecolor='red', markersize=10)\n",
        "plt.title('Error Rate vs. K Value')\n",
        "plt.xlabel('K')\n",
        "plt.ylabel('Error Rate')\n",
        "print(\"Minimum error:-\",min(error_rate),\"at K =\",error_rate.index(min(error_rate)))"
      ]
    },
    {
      "cell_type": "code",
      "execution_count": 41,
      "metadata": {
        "id": "FXmZrAKflOzp",
        "colab": {
          "base_uri": "https://localhost:8080/",
          "height": 418
        },
        "outputId": "ac23f53f-cbca-486d-ab32-571a1c88cd3a"
      },
      "outputs": [
        {
          "output_type": "stream",
          "name": "stdout",
          "text": [
            "Maximum accuracy:- 0.688622754491018 at K = 15\n"
          ]
        },
        {
          "output_type": "display_data",
          "data": {
            "image/png": "[encoded data removed]",
            "text/plain": [
              "<Figure size 720x432 with 1 Axes>"
            ]
          },
          "metadata": {
            "needs_background": "light"
          }
        }
      ],
      "source": [
        "# Visualising accuracy of the model\n",
        "acc = []\n",
        "from sklearn import metrics\n",
        "for i in range(1,25):\n",
        "    neigh = KNeighborsClassifier(n_neighbors = i).fit(X_train,y_train)\n",
        "    yhat = neigh.predict(X_test)\n",
        "    acc.append(metrics.accuracy_score(y_test, yhat))\n",
        "    \n",
        "plt.figure(figsize=(10,6))\n",
        "plt.plot(range(1,25),acc,color = 'blue',linestyle='dashed', \n",
        "         marker='o',markerfacecolor='red', markersize=10)\n",
        "plt.title('accuracy vs. K Value')\n",
        "plt.xlabel('K')\n",
        "plt.ylabel('Accuracy')\n",
        "print(\"Maximum accuracy:-\",max(acc),\"at K =\",acc.index(max(acc)))"
      ]
    },
    {
      "cell_type": "markdown",
      "metadata": {
        "id": "j2FdCbMJYsy_"
      },
      "source": [
        "We can visualise the model's performance using a confusion matrix. \n",
        "\n",
        "The confusion matrix describes the performance of our kNN classification model. A true positive tells us when the algorithm predicted 1 and the actuall class was 1. A false positive tells us when the model predicts 1, and the actual class was 0. The reverse applies for true negatives and false negatives."
      ]
    },
    {
      "cell_type": "code",
      "execution_count": 42,
      "metadata": {
        "id": "cFFBlC08ZNYm",
        "colab": {
          "base_uri": "https://localhost:8080/"
        },
        "outputId": "0a5da07f-e67f-42a8-c938-d683e15c9a68"
      },
      "outputs": [
        {
          "output_type": "execute_result",
          "data": {
            "text/plain": [
              "array([[45, 40],\n",
              "       [21, 61]])"
            ]
          },
          "metadata": {},
          "execution_count": 42
        }
      ],
      "source": [
        "from sklearn.metrics import confusion_matrix\n",
        "\n",
        "confusion_matrix = confusion_matrix(y_test, predictions)\n",
        "confusion_matrix"
      ]
    },
    {
      "cell_type": "code",
      "execution_count": 43,
      "metadata": {
        "id": "ZW4LiTU4zLpx",
        "colab": {
          "base_uri": "https://localhost:8080/"
        },
        "outputId": "069299b8-4979-42a8-8c9b-c13ab8c285bf"
      },
      "outputs": [
        {
          "output_type": "stream",
          "name": "stdout",
          "text": [
            "Predicted   0   1\n",
            "Actual           \n",
            "0          45  40\n",
            "1          21  61\n",
            "\n",
            "The accuracy of the model is:  0.6347305389221557\n",
            "\n",
            "The precision of the model is:  0.6039603960396039\n",
            "\n",
            "The recall value of the model is:  0.7439024390243902\n"
          ]
        }
      ],
      "source": [
        "y_actual = pd.Series(y_test, name='Actual')\n",
        "y_predicted = pd.Series(predictions, name='Predicted')\n",
        "\n",
        "# Create confusion matrix\n",
        "print(pd.crosstab(y_actual, y_predicted))\n",
        "print()\n",
        "# Accuracy of model (percentage of correct predictions)\n",
        "print(\"The accuracy of the model is: \", metrics.accuracy_score(y_actual, y_predicted))\n",
        "print()\n",
        "# Precision of the model (correct positive predictions relative to total positive predictions)\n",
        "print(\"The precision of the model is: \", metrics.precision_score(y_actual, y_predicted))\n",
        "print()\n",
        "# Recall value of the model (correct positive predictions relative to total actual positives)\n",
        "print(\"The recall value of the model is: \", metrics.recall_score(y_actual, y_predicted))"
      ]
    },
    {
      "cell_type": "code",
      "execution_count": 44,
      "metadata": {
        "id": "j2eurIZ6o13g",
        "colab": {
          "base_uri": "https://localhost:8080/",
          "height": 280
        },
        "outputId": "ce37e8a5-799a-4019-d683-525fc1b7d6c4"
      },
      "outputs": [
        {
          "output_type": "execute_result",
          "data": {
            "text/plain": [
              "<matplotlib.axes._subplots.AxesSubplot at 0x7f2feef99a50>"
            ]
          },
          "metadata": {},
          "execution_count": 44
        },
        {
          "output_type": "display_data",
          "data": {
            "image/png": "[encoded data removed]",
            "text/plain": [
              "<Figure size 432x288 with 2 Axes>"
            ]
          },
          "metadata": {
            "needs_background": "light"
          }
        }
      ],
      "source": [
        "import seaborn as sns\n",
        "sns.heatmap(confusion_matrix, annot=True)"
      ]
    },
    {
      "cell_type": "code",
      "execution_count": 45,
      "metadata": {
        "id": "sZaXdbTHo7hk",
        "colab": {
          "base_uri": "https://localhost:8080/",
          "height": 280
        },
        "outputId": "3634e90c-ffec-4b81-a2ee-336f68a33d57"
      },
      "outputs": [
        {
          "output_type": "execute_result",
          "data": {
            "text/plain": [
              "<matplotlib.axes._subplots.AxesSubplot at 0x7f2fee3eb090>"
            ]
          },
          "metadata": {},
          "execution_count": 45
        },
        {
          "output_type": "display_data",
          "data": {
            "image/png": "[encoded data removed]",
            "text/plain": [
              "<Figure size 432x288 with 2 Axes>"
            ]
          },
          "metadata": {
            "needs_background": "light"
          }
        }
      ],
      "source": [
        "sns.heatmap(confusion_matrix/np.sum(confusion_matrix), annot=True,\n",
        "            fmt='.2%', cmap='Blues')"
      ]
    },
    {
      "cell_type": "code",
      "execution_count": 46,
      "metadata": {
        "id": "wRpPudFjpODa",
        "colab": {
          "base_uri": "https://localhost:8080/",
          "height": 280
        },
        "outputId": "78f7ef6a-e869-40fe-dcd1-1efaf16b9c71"
      },
      "outputs": [
        {
          "output_type": "execute_result",
          "data": {
            "text/plain": [
              "<matplotlib.axes._subplots.AxesSubplot at 0x7f2fe5b08a10>"
            ]
          },
          "metadata": {},
          "execution_count": 46
        },
        {
          "output_type": "display_data",
          "data": {
            "image/png": "[encoded data removed]",
            "text/plain": [
              "<Figure size 432x288 with 2 Axes>"
            ]
          },
          "metadata": {
            "needs_background": "light"
          }
        }
      ],
      "source": [
        "labels = [\"True Neg\",\"False Pos\",\"False Neg\",\"True Pos\"]\n",
        "labels = np.asarray(labels).reshape(2,2)\n",
        "sns.heatmap(confusion_matrix, annot=labels, fmt=\"\", cmap='Blues')"
      ]
    },
    {
      "cell_type": "markdown",
      "metadata": {
        "id": "QVzHWQNnsTVQ"
      },
      "source": [
        "# **9. Conclusions**"
      ]
    },
    {
      "cell_type": "code",
      "execution_count": null,
      "metadata": {
        "id": "USNsIelTsVL3"
      },
      "outputs": [],
      "source": [
        ""
      ]
    }
  ],
  "metadata": {
    "colab": {
      "collapsed_sections": [],
      "name": "Untitled7.ipynb",
      "provenance": [],
      "authorship_tag": "ABX9TyMVZ01d2ps2YVE04s9mHL2K",
      "include_colab_link": true
    },
    "kernelspec": {
      "display_name": "Python 3",
      "name": "python3"
    },
    "language_info": {
      "name": "python"
    }
  },
  "nbformat": 4,
  "nbformat_minor": 0
}