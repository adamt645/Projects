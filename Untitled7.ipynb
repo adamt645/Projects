{
  "nbformat": 4,
  "nbformat_minor": 0,
  "metadata": {
    "colab": {
      "name": "Untitled7.ipynb",
      "provenance": [],
      "collapsed_sections": [],
      "authorship_tag": "ABX9TyO/WTo3bWrwdTlYkiwFzRJg",
      "include_colab_link": true
    },
    "kernelspec": {
      "name": "python3",
      "display_name": "Python 3"
    },
    "language_info": {
      "name": "python"
    }
  },
  "cells": [
    {
      "cell_type": "markdown",
      "metadata": {
        "id": "view-in-github",
        "colab_type": "text"
      },
      "source": [
        "<a href=\"https://colab.research.google.com/github/adamt645/Projects/blob/main/Untitled7.ipynb\" target=\"_parent\"><img src=\"https://colab.research.google.com/assets/colab-badge.svg\" alt=\"Open In Colab\"/></a>"
      ]
    },
    {
      "cell_type": "markdown",
      "source": [
        "# **1. Author**\n",
        "\n",
        "**Student Name**:  Adam Toth <br>\n",
        "**Student ID**:  210505924\n",
        "\n",
        "# **2. Problem formulation**\n",
        "This assignment uses the MLEnd Hums and Whistles dataset and attempts to build a machine learning pipeline that takes as an input a Potter or a StarWars audio segment and predicts its song label (either Harry or StarWars). \n",
        "<br>\n",
        "<br>\n",
        "Listening to someone whistling or humming either the Harry Potter or StarWars theme song, and recognising which one is which, should be relatively easy for humans. Attempting to do the same with a computer is what this paper is about. \n",
        "<br>\n",
        "<br>\n",
        "The problem is interesting because (i) replicating human capabilities with computers is fun, (ii) similar methods could later be applied to identify human voices and match it with their 'owner' (and be applied to home security systems, phone lock releases, etc.), (iii) gives an overview of the necessary steps of a machine learning pipeline. \n",
        "\n",
        "# **3. Machine Learning pipeline**\n",
        "`Insert picture of all steps that are going to be implemented.`\n",
        "\n",
        "# **4. Transformation stage**\n",
        "`Describe any transformations, such as feature extraction. Identify input and output`.\n",
        "\n",
        "### **`1. Feature extraction --> dimensionality reduction`**\n",
        "  `Before the following steps are considered, let's define what goal is to be achieved. Some predictor features and a target feature are needed to be extracted from the created dataframe. In the first (basic) part of this paper, this four predictor features are going to be:`<br>\n",
        "* `Power`\n",
        "* `Pitch mean`\n",
        "* `Pitch standard deviation`\n",
        "* `Fraction of voiced region`,\n",
        "\n",
        "`whilst the target variable will be \"song\" (either Potter or StarWars).`\n",
        "\n",
        "By extracting four features from our audio signals, we are reducing the original data's dimensionality and establishing a subset of the original attributes (feature selection), on which we can perform various operations (feature extraction). Based on these predictor features a later defined models will decide whether the song is Potter or StarWars.` \n",
        "\n",
        "Two functions are defined at this stage that will extract the required features from our audio signals. \n",
        "\n",
        "**1.** 'getPitch': gets the pitch of an audio signal\n",
        "\n",
        "**2.** 'getXy': takes a number of files and creates a NumPy array containing the four audio features used as predictors (X) and a binary label (y), that indicates whether the song is Potter (y=1) or StarWars (y=0). The resulting shapes of X and y arrays are then:\n",
        "* The shape of X is:  (832, 4)\n",
        "* The shape of y is:  (832,)\n",
        "\n",
        "### **`2. Normalising the data`**\n",
        "Before implementing any machine learning model to our task, it is best if we **normalise** our data. From later drawn histograms of the predictor variables one can see that, e.g., 'Power' or 'Pitch Mean' values are scaled differently than the rest of the predictors; they are measured in different units (e.g., Hertz, Watt) therefore making them incommensurable. This could have a negative impact on the final models and the performance of the implemented algorithms.  <br>\n",
        "\n",
        "\n",
        "**Data normalisation** allows us to scale attributes so that their values belong to similar ranges. What sort of transformation the data is going through will be based on the characteristics of the ML models being implemented. \n",
        "\n",
        "- Min-max normalisation?\n",
        "- Standardisation?\n",
        "\n",
        "\n",
        "# **5. Methodology**\n",
        "`Describe the Machine Learning models that you will implement.`\n",
        "\n",
        "* __Support Vector Machine__<br>\n",
        "The Support Vector Machine (SVM) is a supervised, linear model for classification (and regression tasks). The SVM takes the predictor features as input, and creates a separating line (or hyperplane) as an output that separate the data into classes. Based on the finding of the SVM algorithm, one finds the points closes to the line from both the classes (where distances are called margins). These points are called support vectors.  The goal is to maximise the margins, resulting in a way where the separation between the two classes is as wide as possible. \n",
        "\n",
        "* __k-Nearest Neighbour algorithm__<br>\n",
        "K-nearest neighbours (kNN) is a supervised Machine Learning model (learning from data that is already labelled). It takes in input objects (in our case, the four audio features extracted from the given recordings) and output values (Potter or Star Wars). The model is then trained on data to learn how to map the inputs to the desired output. The goal is that the model will make correct predictions on unseen data. \n",
        "\n",
        "kNN is an extension of nearest neighbours that proceeds as follows. Given a new sample x:\n",
        "- We calculate the distance to all the training samples xi\n",
        "- Extract the K closest samples (neighbours)\n",
        "- Obtain the number of neighbours that belong to each class\n",
        "- Assign the label of the most popular class among the neighbours. \n",
        "\n",
        "Since the model will be applied to a binary classification problem, K should be set as an odd number to prevent potential situations where among the K neighbours both classes are equally present, making the algorithm unable to decide what label to give to the analysed sample. \n",
        "\n",
        "# **6. Methodology**\n",
        "At this point we have to talk about the machine learning model(s) we would like to implement to our given problem. I am going to implement a K-Nearest Neighbour, and a Support Vector Machine model. \n",
        "\n",
        "#### **Strategy to evaluate the performance** (designed before creating models)\n",
        "### **`Quality metric`** (quantifying the performance)<br>\n",
        "The only operation that we can perform with categorical variables is **comparison**, i.e., we can assess whether y_i = y_hat_i is either true or false. \n",
        "    \n",
        "By comparing predictions and true labels, we can identify in a dataset:\n",
        "* The correctly classified samples (**true predictions**) in each class\n",
        "* The incorrectly classified samples (**false predictions**) in each class\n",
        "\n",
        "Two common and equivalent notions of quality are the **accuracy (A)** and the **error** (or misclassification) **rate** E = 1-A, defined as:\n",
        "A = #correctly classified samples/#samples, E = #incorrectly classified samples/#samples. \n",
        "\n",
        "Using these notions of quality, the best classifier can be defined as the one with the higest accuracy (or the lowest misclassification rate). In non-lineary separable datasets, the accuracy of a lineary classifier is A < 1 (E>0). The best one will achieve the highest accuracy. \n",
        "\n",
        "Accuracy will be provided with regard to training and validation performance of the respective models (validation performance will be used to decide which ML model performed better; although, caution will have to be paid as these metrics are random quantities). \n",
        "\n",
        "      \n",
        "### **`How data will be used (training and validation of models)`**\n",
        "\n",
        "Machine learning uses datasets for different purposes, for instance to assess the deployment performance of a final model (test/validation dataset) or to tune a model (training dataset). \n",
        "\n",
        "Often, we need to explore different options before training a final model. \n",
        "\n",
        "#### **`1. Training`**\n",
        "`Used to find the best values for the parameters of a model, i.e., to tune a model.`\n",
        "We use a subset of data, known as the **training dataset**, to (implicitly or explicitly) **reconstruct** the error surface needed during optimisation. We will call this the **empirical error surface**. \n",
        "\n",
        "\n",
        "#### **`2. Validation`**\n",
        "`Necessary to compare different modelling options and select the best one, the one that will be trained.`\n",
        "**Validation methods** allow us to use data for **assessing and selecting** different families of models. The same data used for validation can then be used to train a final model. \n",
        "\n",
        "**Validation involves one or more training and performance estimation rounds per model family followed by performance averaging.**\n",
        "\n",
        "#### **`3. Test`**\n",
        "`This is the most important task. It allows us to estimate the deployment performance of the model.`\n",
        "\n",
        "If we could use all the data that models can be shown (population), we would be able to quantify their **true deployment performance**. Instead, we use a **subset of the data, a test dataset (extracted randomly)**, to compute the **test deployment performance** as an **estimation** of the true performance.\n",
        "\n",
        "\n",
        "Caution should be applied as the **test performance is itself random**, as different datasets generally produce different values --> some models might appear to be **superior by chance**. \n",
        "\n",
        "## **`k-Fold Cross-Validation`**\n",
        "Cross-validation is when the dataset is randomly split up into 'k' groups. One of the groups is used as the test set and the rest are used as the training set. The model is trained on the training set and scored on the test set. Then the process is repeated until each unique group has been used as the test set. \n",
        "\n",
        "For example, for 5-fold cross-validation, the dataset would be split into 5 groups, and the model would be trained and tested 5 separate times so each group would get a chance to be the test set. \n",
        "\n",
        "Cross-validation is better than using the holdout method (train_test_split) because the holdout method score is dependent on how the data is split into train and test sets. Cross-validation gives the model an opportunity to test on multiple splits so we can get a better idea on how the model will perform on unseen data (source: https://towardsdatascience.com/building-a-k-nearest-neighbors-k-nn-model-with-scikit-learn-51209555453a). \n",
        "\n",
        "# **7. Dataset**\n",
        "The paper uses 832 given recordings of either hummings and whistlings of the most notable parts of the theme songs of either Harry Potter and Star Wars movies. Recordings are divided into two-two seperate zipped folders with respect to both songs. \n",
        "<br>\n",
        "## **Step 1**<br>\n",
        "As a first step, files are downloaded from a given url and uploaded into my Google Drive. \n",
        "\n",
        "## **Step 2**<br>\n",
        "Next, files are downloaded locally to correct files names that do not follow the instructed naming conventions. Once the corrected files are uploaded back to the Google Drive, sample paths of the respective folders are set here in Google Colab. Files are then imported as lists (four of them). \n",
        "\n",
        "All four lists are then used to create Pandas Dataframes by extracting each instance's 'file_id', 'participant' (id of recorder), 'interpretation' (type as of either humming or whistling), 'interpretation number' (StarWars.wav/Potter.wav), and 'song' (Potter/StarWars). Once this is done, the dataframes are merged together."
      ],
      "metadata": {
        "id": "XduQVvsQNCb4"
      }
    },
    {
      "cell_type": "code",
      "execution_count": 1,
      "metadata": {
        "colab": {
          "base_uri": "https://localhost:8080/"
        },
        "id": "bvGEdVMKGsa_",
        "outputId": "0f80e5f7-9a59-46d7-dc30-9b90a038e435"
      },
      "outputs": [
        {
          "output_type": "stream",
          "name": "stdout",
          "text": [
            "Mounted at /content/drive\n"
          ]
        }
      ],
      "source": [
        "# Loading necessary libraries\n",
        "from google.colab import drive\n",
        "\n",
        "import numpy as np\n",
        "import pandas as pd\n",
        "import matplotlib.pyplot as plt\n",
        "\n",
        "import os, sys, re, pickle, glob\n",
        "import urllib.request\n",
        "import zipfile\n",
        "\n",
        "import IPython.display as ipd\n",
        "from tqdm import tqdm\n",
        "\n",
        "import librosa\n",
        "\n",
        "drive.mount('/content/drive')"
      ]
    },
    {
      "cell_type": "code",
      "source": [
        "path = '/content/drive/MyDrive/Public_Data/MLEndHW'\n",
        "os.listdir(path)"
      ],
      "metadata": {
        "colab": {
          "base_uri": "https://localhost:8080/"
        },
        "id": "qNXn6Zi4G0Wb",
        "outputId": "c1c437a2-ee61-4ad6-db3a-53f204ae1fef"
      },
      "execution_count": 2,
      "outputs": [
        {
          "output_type": "execute_result",
          "data": {
            "text/plain": [
              "['MLEndHW_Sample.zip',\n",
              " 'Potter_1.zip',\n",
              " 'Potter_2.zip',\n",
              " 'StarWars_1.zip',\n",
              " 'StarWars_2.zip',\n",
              " 'Potter_1',\n",
              " 'Potter_2',\n",
              " 'StarWars_1',\n",
              " 'StarWars_2']"
            ]
          },
          "metadata": {},
          "execution_count": 2
        }
      ]
    },
    {
      "cell_type": "code",
      "source": [
        "# Potter_1\n",
        "sample_path = '/content/drive/MyDrive/Public_Data/MLEndHW/Potter_1/*.wav'\n",
        "files1 = glob.glob(sample_path)\n",
        "print(len(files1))\n",
        "\n",
        "# Potter_2\n",
        "sample_path2 = '/content/drive/MyDrive/Public_Data/MLEndHW/Potter_2/*.wav'\n",
        "files2 = glob.glob(sample_path2)\n",
        "print(len(files2))\n",
        "\n",
        "# StarWars_1\n",
        "sample_path3 = '/content/drive/MyDrive/Public_Data/MLEndHW/StarWars_1/*.wav'\n",
        "files3 = glob.glob(sample_path3)\n",
        "print(len(files3))\n",
        "\n",
        "# StarWars_2\n",
        "sample_path4 = '/content/drive/MyDrive/Public_Data/MLEndHW/StarWars_2/*.wav'\n",
        "files4 = glob.glob(sample_path4)\n",
        "print(len(files4))\n",
        "print(type(files4))"
      ],
      "metadata": {
        "colab": {
          "base_uri": "https://localhost:8080/"
        },
        "id": "uJwA5oJvHE9C",
        "outputId": "4bdfc601-2bd6-4de1-fe7c-aa388c0e3eb7"
      },
      "execution_count": 3,
      "outputs": [
        {
          "output_type": "stream",
          "name": "stdout",
          "text": [
            "210\n",
            "205\n",
            "210\n",
            "207\n",
            "<class 'list'>\n"
          ]
        }
      ]
    },
    {
      "cell_type": "code",
      "source": [
        "# Potter_1\n",
        "MLENDHW_table = [] \n",
        "\n",
        "for file in files1:\n",
        "  file_name = file.split('/')[-1]\n",
        "  participant_ID = file.split('/')[-1].split('_')[0]\n",
        "  interpretation_type = file.split('/')[-1].split('_')[1]\n",
        "  interpretation_number = file.split('/')[-1].split('_')[-1]\n",
        "  song = file.split('/')[-1].split('_')[-1].split('.')[0]\n",
        "  MLENDHW_table.append([file_name,participant_ID,interpretation_type,interpretation_number, song])\n",
        "\n",
        "MLENDHW_df = pd.DataFrame(MLENDHW_table,columns=['file_id','participant','interpretation','number','song']).set_index('file_id') \n",
        "MLENDHW_df.head()"
      ],
      "metadata": {
        "colab": {
          "base_uri": "https://localhost:8080/",
          "height": 231
        },
        "id": "orBJHWuVG4aR",
        "outputId": "5b8008ee-d744-4455-d1b5-05a2badc5804"
      },
      "execution_count": 4,
      "outputs": [
        {
          "output_type": "execute_result",
          "data": {
            "text/html": [
              "<div>\n",
              "<style scoped>\n",
              "    .dataframe tbody tr th:only-of-type {\n",
              "        vertical-align: middle;\n",
              "    }\n",
              "\n",
              "    .dataframe tbody tr th {\n",
              "        vertical-align: top;\n",
              "    }\n",
              "\n",
              "    .dataframe thead th {\n",
              "        text-align: right;\n",
              "    }\n",
              "</style>\n",
              "<table border=\"1\" class=\"dataframe\">\n",
              "  <thead>\n",
              "    <tr style=\"text-align: right;\">\n",
              "      <th></th>\n",
              "      <th>participant</th>\n",
              "      <th>interpretation</th>\n",
              "      <th>number</th>\n",
              "      <th>song</th>\n",
              "    </tr>\n",
              "    <tr>\n",
              "      <th>file_id</th>\n",
              "      <th></th>\n",
              "      <th></th>\n",
              "      <th></th>\n",
              "      <th></th>\n",
              "    </tr>\n",
              "  </thead>\n",
              "  <tbody>\n",
              "    <tr>\n",
              "      <th>S103_hum_2_Potter.wav</th>\n",
              "      <td>S103</td>\n",
              "      <td>hum</td>\n",
              "      <td>Potter.wav</td>\n",
              "      <td>Potter</td>\n",
              "    </tr>\n",
              "    <tr>\n",
              "      <th>S40_hum_2_Potter.wav</th>\n",
              "      <td>S40</td>\n",
              "      <td>hum</td>\n",
              "      <td>Potter.wav</td>\n",
              "      <td>Potter</td>\n",
              "    </tr>\n",
              "    <tr>\n",
              "      <th>S40_whistle_2_Potter.wav</th>\n",
              "      <td>S40</td>\n",
              "      <td>whistle</td>\n",
              "      <td>Potter.wav</td>\n",
              "      <td>Potter</td>\n",
              "    </tr>\n",
              "    <tr>\n",
              "      <th>S103_whistle_2_Potter.wav</th>\n",
              "      <td>S103</td>\n",
              "      <td>whistle</td>\n",
              "      <td>Potter.wav</td>\n",
              "      <td>Potter</td>\n",
              "    </tr>\n",
              "    <tr>\n",
              "      <th>S17_hum_1_Potter.wav</th>\n",
              "      <td>S17</td>\n",
              "      <td>hum</td>\n",
              "      <td>Potter.wav</td>\n",
              "      <td>Potter</td>\n",
              "    </tr>\n",
              "  </tbody>\n",
              "</table>\n",
              "</div>"
            ],
            "text/plain": [
              "                          participant interpretation      number    song\n",
              "file_id                                                                 \n",
              "S103_hum_2_Potter.wav            S103            hum  Potter.wav  Potter\n",
              "S40_hum_2_Potter.wav              S40            hum  Potter.wav  Potter\n",
              "S40_whistle_2_Potter.wav          S40        whistle  Potter.wav  Potter\n",
              "S103_whistle_2_Potter.wav        S103        whistle  Potter.wav  Potter\n",
              "S17_hum_1_Potter.wav              S17            hum  Potter.wav  Potter"
            ]
          },
          "metadata": {},
          "execution_count": 4
        }
      ]
    },
    {
      "cell_type": "code",
      "source": [
        "# Potter_2\n",
        "MLENDHW_table2 = [] \n",
        "\n",
        "for file in files2:\n",
        "  file_name = file.split('/')[-1]\n",
        "  participant_ID = file.split('/')[-1].split('_')[0]\n",
        "  interpretation_type = file.split('/')[-1].split('_')[1]\n",
        "  interpretation_number = file.split('/')[-1].split('_')[-1]\n",
        "  song = file.split('/')[-1].split('_')[-1].split('.')[0]\n",
        "  MLENDHW_table2.append([file_name,participant_ID,interpretation_type,interpretation_number, song])\n",
        "\n",
        "MLENDHW_df2 = pd.DataFrame(MLENDHW_table2,columns=['file_id','participant','interpretation','number','song']).set_index('file_id') \n",
        "MLENDHW_df2.head()"
      ],
      "metadata": {
        "colab": {
          "base_uri": "https://localhost:8080/",
          "height": 231
        },
        "id": "sGCg4AxZHyGM",
        "outputId": "d258ff0e-920c-4343-da8d-b43aa2f3de04"
      },
      "execution_count": 5,
      "outputs": [
        {
          "output_type": "execute_result",
          "data": {
            "text/html": [
              "<div>\n",
              "<style scoped>\n",
              "    .dataframe tbody tr th:only-of-type {\n",
              "        vertical-align: middle;\n",
              "    }\n",
              "\n",
              "    .dataframe tbody tr th {\n",
              "        vertical-align: top;\n",
              "    }\n",
              "\n",
              "    .dataframe thead th {\n",
              "        text-align: right;\n",
              "    }\n",
              "</style>\n",
              "<table border=\"1\" class=\"dataframe\">\n",
              "  <thead>\n",
              "    <tr style=\"text-align: right;\">\n",
              "      <th></th>\n",
              "      <th>participant</th>\n",
              "      <th>interpretation</th>\n",
              "      <th>number</th>\n",
              "      <th>song</th>\n",
              "    </tr>\n",
              "    <tr>\n",
              "      <th>file_id</th>\n",
              "      <th></th>\n",
              "      <th></th>\n",
              "      <th></th>\n",
              "      <th></th>\n",
              "    </tr>\n",
              "  </thead>\n",
              "  <tbody>\n",
              "    <tr>\n",
              "      <th>S202_hum_2_Potter.wav</th>\n",
              "      <td>S202</td>\n",
              "      <td>hum</td>\n",
              "      <td>Potter.wav</td>\n",
              "      <td>Potter</td>\n",
              "    </tr>\n",
              "    <tr>\n",
              "      <th>S129_whistle_2_Potter.wav</th>\n",
              "      <td>S129</td>\n",
              "      <td>whistle</td>\n",
              "      <td>Potter.wav</td>\n",
              "      <td>Potter</td>\n",
              "    </tr>\n",
              "    <tr>\n",
              "      <th>S193_hum_2_Potter.wav</th>\n",
              "      <td>S193</td>\n",
              "      <td>hum</td>\n",
              "      <td>Potter.wav</td>\n",
              "      <td>Potter</td>\n",
              "    </tr>\n",
              "    <tr>\n",
              "      <th>S121_hum_1_Potter.wav</th>\n",
              "      <td>S121</td>\n",
              "      <td>hum</td>\n",
              "      <td>Potter.wav</td>\n",
              "      <td>Potter</td>\n",
              "    </tr>\n",
              "    <tr>\n",
              "      <th>S193_whistle_2_Potter.wav</th>\n",
              "      <td>S193</td>\n",
              "      <td>whistle</td>\n",
              "      <td>Potter.wav</td>\n",
              "      <td>Potter</td>\n",
              "    </tr>\n",
              "  </tbody>\n",
              "</table>\n",
              "</div>"
            ],
            "text/plain": [
              "                          participant interpretation      number    song\n",
              "file_id                                                                 \n",
              "S202_hum_2_Potter.wav            S202            hum  Potter.wav  Potter\n",
              "S129_whistle_2_Potter.wav        S129        whistle  Potter.wav  Potter\n",
              "S193_hum_2_Potter.wav            S193            hum  Potter.wav  Potter\n",
              "S121_hum_1_Potter.wav            S121            hum  Potter.wav  Potter\n",
              "S193_whistle_2_Potter.wav        S193        whistle  Potter.wav  Potter"
            ]
          },
          "metadata": {},
          "execution_count": 5
        }
      ]
    },
    {
      "cell_type": "code",
      "source": [
        "# StarWars_1\n",
        "MLENDHW_table3 = [] \n",
        "\n",
        "for file in files3:\n",
        "  file_name = file.split('/')[-1]\n",
        "  participant_ID = file.split('/')[-1].split('_')[0]\n",
        "  interpretation_type = file.split('/')[-1].split('_')[1]\n",
        "  interpretation_number = file.split('/')[-1].split('_')[-1]\n",
        "  song = file.split('/')[-1].split('_')[-1].split('.')[0]\n",
        "  MLENDHW_table3.append([file_name,participant_ID,interpretation_type,interpretation_number, song])\n",
        "\n",
        "MLENDHW_df3 = pd.DataFrame(MLENDHW_table3,columns=['file_id','participant','interpretation','number','song']).set_index('file_id') \n",
        "MLENDHW_df3.head()"
      ],
      "metadata": {
        "colab": {
          "base_uri": "https://localhost:8080/",
          "height": 231
        },
        "id": "WjH1FeoKH-j2",
        "outputId": "9f884aaa-2833-4d54-c19f-9be8c0917db5"
      },
      "execution_count": 6,
      "outputs": [
        {
          "output_type": "execute_result",
          "data": {
            "text/html": [
              "<div>\n",
              "<style scoped>\n",
              "    .dataframe tbody tr th:only-of-type {\n",
              "        vertical-align: middle;\n",
              "    }\n",
              "\n",
              "    .dataframe tbody tr th {\n",
              "        vertical-align: top;\n",
              "    }\n",
              "\n",
              "    .dataframe thead th {\n",
              "        text-align: right;\n",
              "    }\n",
              "</style>\n",
              "<table border=\"1\" class=\"dataframe\">\n",
              "  <thead>\n",
              "    <tr style=\"text-align: right;\">\n",
              "      <th></th>\n",
              "      <th>participant</th>\n",
              "      <th>interpretation</th>\n",
              "      <th>number</th>\n",
              "      <th>song</th>\n",
              "    </tr>\n",
              "    <tr>\n",
              "      <th>file_id</th>\n",
              "      <th></th>\n",
              "      <th></th>\n",
              "      <th></th>\n",
              "      <th></th>\n",
              "    </tr>\n",
              "  </thead>\n",
              "  <tbody>\n",
              "    <tr>\n",
              "      <th>S88_hum_2_StarWars.wav</th>\n",
              "      <td>S88</td>\n",
              "      <td>hum</td>\n",
              "      <td>StarWars.wav</td>\n",
              "      <td>StarWars</td>\n",
              "    </tr>\n",
              "    <tr>\n",
              "      <th>S88_hum_1_StarWars.wav</th>\n",
              "      <td>S88</td>\n",
              "      <td>hum</td>\n",
              "      <td>StarWars.wav</td>\n",
              "      <td>StarWars</td>\n",
              "    </tr>\n",
              "    <tr>\n",
              "      <th>S100_hum_4_StarWars.wav</th>\n",
              "      <td>S100</td>\n",
              "      <td>hum</td>\n",
              "      <td>StarWars.wav</td>\n",
              "      <td>StarWars</td>\n",
              "    </tr>\n",
              "    <tr>\n",
              "      <th>S100_hum_3_StarWars.wav</th>\n",
              "      <td>S100</td>\n",
              "      <td>hum</td>\n",
              "      <td>StarWars.wav</td>\n",
              "      <td>StarWars</td>\n",
              "    </tr>\n",
              "    <tr>\n",
              "      <th>S21_hum_4_StarWars.wav</th>\n",
              "      <td>S21</td>\n",
              "      <td>hum</td>\n",
              "      <td>StarWars.wav</td>\n",
              "      <td>StarWars</td>\n",
              "    </tr>\n",
              "  </tbody>\n",
              "</table>\n",
              "</div>"
            ],
            "text/plain": [
              "                        participant interpretation        number      song\n",
              "file_id                                                                   \n",
              "S88_hum_2_StarWars.wav          S88            hum  StarWars.wav  StarWars\n",
              "S88_hum_1_StarWars.wav          S88            hum  StarWars.wav  StarWars\n",
              "S100_hum_4_StarWars.wav        S100            hum  StarWars.wav  StarWars\n",
              "S100_hum_3_StarWars.wav        S100            hum  StarWars.wav  StarWars\n",
              "S21_hum_4_StarWars.wav          S21            hum  StarWars.wav  StarWars"
            ]
          },
          "metadata": {},
          "execution_count": 6
        }
      ]
    },
    {
      "cell_type": "code",
      "source": [
        "# StarWars_2\n",
        "MLENDHW_table4 = [] \n",
        "\n",
        "for file in files4:\n",
        "  file_name = file.split('/')[-1]\n",
        "  participant_ID = file.split('/')[-1].split('_')[0]\n",
        "  interpretation_type = file.split('/')[-1].split('_')[1]\n",
        "  interpretation_number = file.split('/')[-1].split('_')[-1]\n",
        "  song = file.split('/')[-1].split('_')[-1].split('.')[0]\n",
        "  MLENDHW_table4.append([file_name,participant_ID,interpretation_type,interpretation_number, song])\n",
        "\n",
        "MLENDHW_df4 = pd.DataFrame(MLENDHW_table4,columns=['file_id','participant','interpretation','number','song']).set_index('file_id') \n",
        "MLENDHW_df4.head()"
      ],
      "metadata": {
        "colab": {
          "base_uri": "https://localhost:8080/",
          "height": 231
        },
        "id": "5Do6mPM6IWyn",
        "outputId": "bebae90b-50ac-4007-e3ca-a1f110f20477"
      },
      "execution_count": 7,
      "outputs": [
        {
          "output_type": "execute_result",
          "data": {
            "text/html": [
              "<div>\n",
              "<style scoped>\n",
              "    .dataframe tbody tr th:only-of-type {\n",
              "        vertical-align: middle;\n",
              "    }\n",
              "\n",
              "    .dataframe tbody tr th {\n",
              "        vertical-align: top;\n",
              "    }\n",
              "\n",
              "    .dataframe thead th {\n",
              "        text-align: right;\n",
              "    }\n",
              "</style>\n",
              "<table border=\"1\" class=\"dataframe\">\n",
              "  <thead>\n",
              "    <tr style=\"text-align: right;\">\n",
              "      <th></th>\n",
              "      <th>participant</th>\n",
              "      <th>interpretation</th>\n",
              "      <th>number</th>\n",
              "      <th>song</th>\n",
              "    </tr>\n",
              "    <tr>\n",
              "      <th>file_id</th>\n",
              "      <th></th>\n",
              "      <th></th>\n",
              "      <th></th>\n",
              "      <th></th>\n",
              "    </tr>\n",
              "  </thead>\n",
              "  <tbody>\n",
              "    <tr>\n",
              "      <th>S198_hum_2_StarWars.wav</th>\n",
              "      <td>S198</td>\n",
              "      <td>hum</td>\n",
              "      <td>StarWars.wav</td>\n",
              "      <td>StarWars</td>\n",
              "    </tr>\n",
              "    <tr>\n",
              "      <th>S190_hum_2_StarWars.wav</th>\n",
              "      <td>S190</td>\n",
              "      <td>hum</td>\n",
              "      <td>StarWars.wav</td>\n",
              "      <td>StarWars</td>\n",
              "    </tr>\n",
              "    <tr>\n",
              "      <th>S198_whistle_2_StarWars.wav</th>\n",
              "      <td>S198</td>\n",
              "      <td>whistle</td>\n",
              "      <td>StarWars.wav</td>\n",
              "      <td>StarWars</td>\n",
              "    </tr>\n",
              "    <tr>\n",
              "      <th>S122_hum_2_StarWars.wav</th>\n",
              "      <td>S122</td>\n",
              "      <td>hum</td>\n",
              "      <td>StarWars.wav</td>\n",
              "      <td>StarWars</td>\n",
              "    </tr>\n",
              "    <tr>\n",
              "      <th>S190_whistle_2_StarWars.wav</th>\n",
              "      <td>S190</td>\n",
              "      <td>whistle</td>\n",
              "      <td>StarWars.wav</td>\n",
              "      <td>StarWars</td>\n",
              "    </tr>\n",
              "  </tbody>\n",
              "</table>\n",
              "</div>"
            ],
            "text/plain": [
              "                            participant interpretation        number      song\n",
              "file_id                                                                       \n",
              "S198_hum_2_StarWars.wav            S198            hum  StarWars.wav  StarWars\n",
              "S190_hum_2_StarWars.wav            S190            hum  StarWars.wav  StarWars\n",
              "S198_whistle_2_StarWars.wav        S198        whistle  StarWars.wav  StarWars\n",
              "S122_hum_2_StarWars.wav            S122            hum  StarWars.wav  StarWars\n",
              "S190_whistle_2_StarWars.wav        S190        whistle  StarWars.wav  StarWars"
            ]
          },
          "metadata": {},
          "execution_count": 7
        }
      ]
    },
    {
      "cell_type": "code",
      "source": [
        "# Merging data from different folders and dataframes\n",
        "files = files1 + files2 + files3 + files4\n",
        "\n",
        "dataframes = [MLENDHW_df, MLENDHW_df2, MLENDHW_df3, MLENDHW_df4]\n",
        "final_df = pd.concat(dataframes)\n",
        "final_df"
      ],
      "metadata": {
        "colab": {
          "base_uri": "https://localhost:8080/",
          "height": 442
        },
        "id": "8Xc4FbB3EtEp",
        "outputId": "5052d470-30b2-445f-87ab-8b7774dbf7f3"
      },
      "execution_count": 91,
      "outputs": [
        {
          "output_type": "execute_result",
          "data": {
            "text/html": [
              "<div>\n",
              "<style scoped>\n",
              "    .dataframe tbody tr th:only-of-type {\n",
              "        vertical-align: middle;\n",
              "    }\n",
              "\n",
              "    .dataframe tbody tr th {\n",
              "        vertical-align: top;\n",
              "    }\n",
              "\n",
              "    .dataframe thead th {\n",
              "        text-align: right;\n",
              "    }\n",
              "</style>\n",
              "<table border=\"1\" class=\"dataframe\">\n",
              "  <thead>\n",
              "    <tr style=\"text-align: right;\">\n",
              "      <th></th>\n",
              "      <th>participant</th>\n",
              "      <th>interpretation</th>\n",
              "      <th>number</th>\n",
              "      <th>song</th>\n",
              "    </tr>\n",
              "    <tr>\n",
              "      <th>file_id</th>\n",
              "      <th></th>\n",
              "      <th></th>\n",
              "      <th></th>\n",
              "      <th></th>\n",
              "    </tr>\n",
              "  </thead>\n",
              "  <tbody>\n",
              "    <tr>\n",
              "      <th>S103_hum_2_Potter.wav</th>\n",
              "      <td>S103</td>\n",
              "      <td>hum</td>\n",
              "      <td>Potter.wav</td>\n",
              "      <td>Potter</td>\n",
              "    </tr>\n",
              "    <tr>\n",
              "      <th>S40_hum_2_Potter.wav</th>\n",
              "      <td>S40</td>\n",
              "      <td>hum</td>\n",
              "      <td>Potter.wav</td>\n",
              "      <td>Potter</td>\n",
              "    </tr>\n",
              "    <tr>\n",
              "      <th>S40_whistle_2_Potter.wav</th>\n",
              "      <td>S40</td>\n",
              "      <td>whistle</td>\n",
              "      <td>Potter.wav</td>\n",
              "      <td>Potter</td>\n",
              "    </tr>\n",
              "    <tr>\n",
              "      <th>S103_whistle_2_Potter.wav</th>\n",
              "      <td>S103</td>\n",
              "      <td>whistle</td>\n",
              "      <td>Potter.wav</td>\n",
              "      <td>Potter</td>\n",
              "    </tr>\n",
              "    <tr>\n",
              "      <th>S17_hum_1_Potter.wav</th>\n",
              "      <td>S17</td>\n",
              "      <td>hum</td>\n",
              "      <td>Potter.wav</td>\n",
              "      <td>Potter</td>\n",
              "    </tr>\n",
              "    <tr>\n",
              "      <th>...</th>\n",
              "      <td>...</td>\n",
              "      <td>...</td>\n",
              "      <td>...</td>\n",
              "      <td>...</td>\n",
              "    </tr>\n",
              "    <tr>\n",
              "      <th>S138_hum_1_StarWars.wav</th>\n",
              "      <td>S138</td>\n",
              "      <td>hum</td>\n",
              "      <td>StarWars.wav</td>\n",
              "      <td>StarWars</td>\n",
              "    </tr>\n",
              "    <tr>\n",
              "      <th>S138_whistle_1_StarWars.wav</th>\n",
              "      <td>S138</td>\n",
              "      <td>whistle</td>\n",
              "      <td>StarWars.wav</td>\n",
              "      <td>StarWars</td>\n",
              "    </tr>\n",
              "    <tr>\n",
              "      <th>S208_whistle_2_StarWars.wav</th>\n",
              "      <td>S208</td>\n",
              "      <td>whistle</td>\n",
              "      <td>StarWars.wav</td>\n",
              "      <td>StarWars</td>\n",
              "    </tr>\n",
              "    <tr>\n",
              "      <th>S149_hum_4_StarWars.wav</th>\n",
              "      <td>S149</td>\n",
              "      <td>hum</td>\n",
              "      <td>StarWars.wav</td>\n",
              "      <td>StarWars</td>\n",
              "    </tr>\n",
              "    <tr>\n",
              "      <th>S208_hum_2_StarWars.wav</th>\n",
              "      <td>S208</td>\n",
              "      <td>hum</td>\n",
              "      <td>StarWars.wav</td>\n",
              "      <td>StarWars</td>\n",
              "    </tr>\n",
              "  </tbody>\n",
              "</table>\n",
              "<p>832 rows × 4 columns</p>\n",
              "</div>"
            ],
            "text/plain": [
              "                            participant interpretation        number      song\n",
              "file_id                                                                       \n",
              "S103_hum_2_Potter.wav              S103            hum    Potter.wav    Potter\n",
              "S40_hum_2_Potter.wav                S40            hum    Potter.wav    Potter\n",
              "S40_whistle_2_Potter.wav            S40        whistle    Potter.wav    Potter\n",
              "S103_whistle_2_Potter.wav          S103        whistle    Potter.wav    Potter\n",
              "S17_hum_1_Potter.wav                S17            hum    Potter.wav    Potter\n",
              "...                                 ...            ...           ...       ...\n",
              "S138_hum_1_StarWars.wav            S138            hum  StarWars.wav  StarWars\n",
              "S138_whistle_1_StarWars.wav        S138        whistle  StarWars.wav  StarWars\n",
              "S208_whistle_2_StarWars.wav        S208        whistle  StarWars.wav  StarWars\n",
              "S149_hum_4_StarWars.wav            S149            hum  StarWars.wav  StarWars\n",
              "S208_hum_2_StarWars.wav            S208            hum  StarWars.wav  StarWars\n",
              "\n",
              "[832 rows x 4 columns]"
            ]
          },
          "metadata": {},
          "execution_count": 91
        }
      ]
    },
    {
      "cell_type": "markdown",
      "source": [
        "## **Step 3**<br>\n",
        "At this point, a quick check is due to see whether each songs are represented roughly equally.<br>\n",
        "\n",
        "\n"
      ],
      "metadata": {
        "id": "0Z8gcPwbEQKu"
      }
    },
    {
      "cell_type": "code",
      "source": [
        "# Checking if dataset is balanced with respect to songs (Potter or StarWars)\n",
        "print(\"The number of Potter recordings are: \", np.count_nonzero(y))\n",
        "print(\"The number of StarWars recordings are \", y.size - np.count_nonzero(y))"
      ],
      "metadata": {
        "colab": {
          "base_uri": "https://localhost:8080/"
        },
        "id": "aBzFpj7gFFGg",
        "outputId": "f3995109-f1f6-4425-8fef-3571458311de"
      },
      "execution_count": 70,
      "outputs": [
        {
          "output_type": "stream",
          "name": "stdout",
          "text": [
            "The number of Potter recordings are:  409\n",
            "The number of StarWars recordings are  423\n"
          ]
        }
      ]
    },
    {
      "cell_type": "code",
      "source": [
        "# Function gets the pitch of an audio signal\n",
        "def getPitch(x,fs,winLen=0.02):\n",
        "  #winLen = 0.02 \n",
        "  p = winLen*fs\n",
        "  frame_length = int(2**int(p-1).bit_length())\n",
        "  hop_length = frame_length//2\n",
        "  f0, voiced_flag, voiced_probs = librosa.pyin(y=x, fmin=80, fmax=450, sr=fs,\n",
        "                                                 frame_length=frame_length,hop_length=hop_length)\n",
        "  return f0,voiced_flag\n"
      ],
      "metadata": {
        "id": "YEJ7B5mEJHnm"
      },
      "execution_count": 23,
      "outputs": []
    },
    {
      "cell_type": "code",
      "source": [
        "# Extracting four audio features as predictor variables (X) and a binary label (y)\n",
        "def getXy(files,labels_file, scale_audio=False, onlySingleDigit=False):\n",
        "  X,y =[],[]\n",
        "  for file in tqdm(files):\n",
        "    fileID = file.split('/')[-1]\n",
        "    file_name = file.split('/')[-1]\n",
        "    #print(file_name)\n",
        "    #print(labels_file.loc[fileID]['interpretation'])\n",
        "    #print(labels_file.loc[fileID]['interpretation']=='hum')\n",
        "    #yi = list(labels_file.loc[fileID]['interpretation'])[0]=='hum'\n",
        "    yi = labels_file.loc[fileID]['song']=='Potter'\n",
        "\n",
        "    fs = None # if None, fs would be 22050\n",
        "    x, fs = librosa.load(file,sr=fs)\n",
        "    if scale_audio: x = x/np.max(np.abs(x))\n",
        "    f0, voiced_flag = getPitch(x,fs,winLen=0.02)\n",
        "      \n",
        "    power = np.sum(x**2)/len(x)\n",
        "    pitch_mean = np.nanmean(f0) if np.mean(np.isnan(f0))<1 else 0\n",
        "    pitch_std  = np.nanstd(f0) if np.mean(np.isnan(f0))<1 else 0\n",
        "    voiced_fr = np.mean(voiced_flag)\n",
        "\n",
        "    xi = [power,pitch_mean,pitch_std,voiced_fr]\n",
        "    X.append(xi)\n",
        "    y.append(yi)\n",
        "\n",
        "  return np.array(X),np.array(y)"
      ],
      "metadata": {
        "id": "sqtkCrl7JJ0k"
      },
      "execution_count": 9,
      "outputs": []
    },
    {
      "cell_type": "code",
      "source": [
        "# Iterating through all instances in dataframe, deriving the 4 pre-specified predictor features (X)\n",
        "# and target variable y (either Potter or StarWars)\n",
        "X,y = getXy(files, labels_file=final_df, scale_audio=True, onlySingleDigit=True)"
      ],
      "metadata": {
        "colab": {
          "base_uri": "https://localhost:8080/"
        },
        "id": "SGvTUFM3KbPP",
        "outputId": "57a71eb3-3340-4b19-acd8-5a9eacc11f4c"
      },
      "execution_count": 11,
      "outputs": [
        {
          "output_type": "stream",
          "name": "stderr",
          "text": [
            "100%|██████████| 832/832 [44:57<00:00,  3.24s/it]\n"
          ]
        }
      ]
    },
    {
      "cell_type": "code",
      "source": [
        "X"
      ],
      "metadata": {
        "colab": {
          "base_uri": "https://localhost:8080/"
        },
        "id": "6-XZPt898he7",
        "outputId": "316b61ae-d892-486b-aead-14fb9d3840fe"
      },
      "execution_count": 31,
      "outputs": [
        {
          "output_type": "execute_result",
          "data": {
            "text/plain": [
              "array([[-0.42947588, -1.00454565, -0.93099053, -0.76315431],\n",
              "       [-0.49598912, -0.6257966 ,  0.4096068 , -0.58835967],\n",
              "       [-0.78114997,  1.25653614, -0.6528836 , -0.61659867],\n",
              "       ...,\n",
              "       [ 0.81646127,  1.31914095, -0.99281607, -0.22215892],\n",
              "       [-0.3044058 , -0.13017589, -0.26346267, -0.61781409],\n",
              "       [ 0.08730218, -0.370178  ,  1.41779424,  0.64486097]])"
            ]
          },
          "metadata": {},
          "execution_count": 31
        }
      ]
    },
    {
      "cell_type": "code",
      "source": [
        "# Visualising the distribution of Power, Pitch mean, Pitch standard deviation\n",
        "# and Fraction of voiced region\n",
        "\n",
        "power_vis = np.histogram(X[:,[0]])\n",
        "pitch_mean_vis = np.histogram(X[:,[1]])\n",
        "pitch_sd_vis = np.histogram(X[:,[2]])\n",
        "fraction_voiced_reg_vis = np.histogram(X[:,[3]])"
      ],
      "metadata": {
        "id": "4XfRhyWL8apD"
      },
      "execution_count": 77,
      "outputs": []
    },
    {
      "cell_type": "code",
      "source": [
        "_power = plt.hist(power_vis, bins=10)  \n",
        "plt.title('Histogram of Power values')\n",
        "plt.show()"
      ],
      "metadata": {
        "colab": {
          "base_uri": "https://localhost:8080/",
          "height": 332
        },
        "id": "Bw8m3UKO9DWQ",
        "outputId": "6ab45068-5ce8-4df4-a662-9a02fd47f154"
      },
      "execution_count": 82,
      "outputs": [
        {
          "output_type": "stream",
          "name": "stderr",
          "text": [
            "/usr/local/lib/python3.7/dist-packages/numpy/core/_asarray.py:83: VisibleDeprecationWarning: Creating an ndarray from ragged nested sequences (which is a list-or-tuple of lists-or-tuples-or ndarrays with different lengths or shapes) is deprecated. If you meant to do this, you must specify 'dtype=object' when creating the ndarray\n",
            "  return array(a, dtype, copy=False, order=order)\n"
          ]
        },
        {
          "output_type": "display_data",
          "data": {
            "image/png": "[encoded data removed]",
            "text/plain": [
              "<Figure size 432x288 with 1 Axes>"
            ]
          },
          "metadata": {
            "needs_background": "light"
          }
        }
      ]
    },
    {
      "cell_type": "code",
      "source": [
        "_pitchMean = plt.hist(pitch_mean_vis, bins=10) \n",
        "plt.title('Histogram of Pitch Mean')\n",
        "plt.show()"
      ],
      "metadata": {
        "colab": {
          "base_uri": "https://localhost:8080/",
          "height": 332
        },
        "id": "l9VQS1Gv9kuq",
        "outputId": "3f37cfb0-f123-4543-acad-3c828f0a338a"
      },
      "execution_count": 83,
      "outputs": [
        {
          "output_type": "stream",
          "name": "stderr",
          "text": [
            "/usr/local/lib/python3.7/dist-packages/numpy/core/_asarray.py:83: VisibleDeprecationWarning: Creating an ndarray from ragged nested sequences (which is a list-or-tuple of lists-or-tuples-or ndarrays with different lengths or shapes) is deprecated. If you meant to do this, you must specify 'dtype=object' when creating the ndarray\n",
            "  return array(a, dtype, copy=False, order=order)\n"
          ]
        },
        {
          "output_type": "display_data",
          "data": {
            "image/png": "[encoded data removed]",
            "text/plain": [
              "<Figure size 432x288 with 1 Axes>"
            ]
          },
          "metadata": {
            "needs_background": "light"
          }
        }
      ]
    },
    {
      "cell_type": "code",
      "source": [
        "pitch_sd = plt.hist(pitch_sd_vis, bins=10)\n",
        "plt.title('Histogram of Pitch Standard Deviation')\n",
        "plt.show()"
      ],
      "metadata": {
        "colab": {
          "base_uri": "https://localhost:8080/",
          "height": 332
        },
        "id": "u-PAW2bk9kbP",
        "outputId": "1881ac9f-015f-4314-8788-bd56eb442fee"
      },
      "execution_count": 84,
      "outputs": [
        {
          "output_type": "stream",
          "name": "stderr",
          "text": [
            "/usr/local/lib/python3.7/dist-packages/numpy/core/_asarray.py:83: VisibleDeprecationWarning: Creating an ndarray from ragged nested sequences (which is a list-or-tuple of lists-or-tuples-or ndarrays with different lengths or shapes) is deprecated. If you meant to do this, you must specify 'dtype=object' when creating the ndarray\n",
            "  return array(a, dtype, copy=False, order=order)\n"
          ]
        },
        {
          "output_type": "display_data",
          "data": {
            "image/png": "[encoded data removed]",
            "text/plain": [
              "<Figure size 432x288 with 1 Axes>"
            ]
          },
          "metadata": {
            "needs_background": "light"
          }
        }
      ]
    },
    {
      "cell_type": "code",
      "source": [
        "fraction_voiced = plt.hist(fraction_voiced_reg_vis, bins=10)\n",
        "plt.title('Histogram of Fraction of Voiced Region')\n",
        "plt.show()"
      ],
      "metadata": {
        "colab": {
          "base_uri": "https://localhost:8080/",
          "height": 332
        },
        "id": "nckEL0yj9kQv",
        "outputId": "9f48c1b5-7219-4f59-dc7a-81c545fae45a"
      },
      "execution_count": 85,
      "outputs": [
        {
          "output_type": "stream",
          "name": "stderr",
          "text": [
            "/usr/local/lib/python3.7/dist-packages/numpy/core/_asarray.py:83: VisibleDeprecationWarning: Creating an ndarray from ragged nested sequences (which is a list-or-tuple of lists-or-tuples-or ndarrays with different lengths or shapes) is deprecated. If you meant to do this, you must specify 'dtype=object' when creating the ndarray\n",
            "  return array(a, dtype, copy=False, order=order)\n"
          ]
        },
        {
          "output_type": "display_data",
          "data": {
            "image/png": "[encoded data removed]",
            "text/plain": [
              "<Figure size 432x288 with 1 Axes>"
            ]
          },
          "metadata": {
            "needs_background": "light"
          }
        }
      ]
    },
    {
      "cell_type": "markdown",
      "source": [
        ""
      ],
      "metadata": {
        "id": "bCWREXKdsBCL"
      }
    },
    {
      "cell_type": "markdown",
      "source": [
        ""
      ],
      "metadata": {
        "id": "b-BpLJKVsA9r"
      }
    },
    {
      "cell_type": "markdown",
      "source": [
        ""
      ],
      "metadata": {
        "id": "jEDxdBrMsA1S"
      }
    },
    {
      "cell_type": "markdown",
      "source": [
        ""
      ],
      "metadata": {
        "id": "plQBOQ4LsAvy"
      }
    },
    {
      "cell_type": "markdown",
      "source": [
        ""
      ],
      "metadata": {
        "id": "mdT-ohAMsApr"
      }
    },
    {
      "cell_type": "markdown",
      "source": [
        ""
      ],
      "metadata": {
        "id": "1_xfApuYsAll"
      }
    },
    {
      "cell_type": "markdown",
      "source": [
        ""
      ],
      "metadata": {
        "id": "2B7v8KJbsAhN"
      }
    },
    {
      "cell_type": "markdown",
      "source": [
        ""
      ],
      "metadata": {
        "id": "PuGyQ4UAsAc6"
      }
    },
    {
      "cell_type": "markdown",
      "source": [
        ""
      ],
      "metadata": {
        "id": "jUrvk1HfsAYm"
      }
    },
    {
      "cell_type": "markdown",
      "source": [
        ""
      ],
      "metadata": {
        "id": "MZLa5VDSsAPW"
      }
    },
    {
      "cell_type": "markdown",
      "source": [
        ""
      ],
      "metadata": {
        "id": "jM8QRTJ3sAEj"
      }
    },
    {
      "cell_type": "markdown",
      "source": [
        ""
      ],
      "metadata": {
        "id": "nmggSLnPr_3z"
      }
    },
    {
      "cell_type": "markdown",
      "source": [
        ""
      ],
      "metadata": {
        "id": "8v-ZMk4Br_qA"
      }
    },
    {
      "cell_type": "markdown",
      "source": [
        "# **8 Results**"
      ],
      "metadata": {
        "id": "KF40CoEAr5sv"
      }
    },
    {
      "cell_type": "markdown",
      "source": [
        "# **Support Vector Machine**\n",
        "\n",
        "Let's build a support vector machine (SVM) model for the predictive task of identifying whether a recording is a Potter or Starwars song, using the dataset that we have just created. \n",
        "\n",
        "We will use the SVM method provided by scikit-learn and will split the dataset defined by X and y into a training set and a validation set. \n"
      ],
      "metadata": {
        "id": "obwrQPiavFSv"
      }
    },
    {
      "cell_type": "code",
      "source": [
        "from sklearn import svm\n",
        "from sklearn.model_selection import train_test_split\n",
        "\n",
        "X_train, X_val, y_train, y_val = train_test_split(X,y,test_size=0.3)\n",
        "X_train.shape, X_val.shape, y_train.shape, y_val.shape"
      ],
      "metadata": {
        "colab": {
          "base_uri": "https://localhost:8080/"
        },
        "id": "axOF5J6LvYiM",
        "outputId": "f014e32d-9510-48be-cefa-baa526fb1db5"
      },
      "execution_count": 64,
      "outputs": [
        {
          "output_type": "execute_result",
          "data": {
            "text/plain": [
              "((582, 4), (250, 4), (582,), (250,))"
            ]
          },
          "metadata": {},
          "execution_count": 64
        }
      ]
    },
    {
      "cell_type": "markdown",
      "source": [
        "Let's now fit an SVM model and print both the training accuracy and validation accuracy. "
      ],
      "metadata": {
        "id": "JaaFt6Dovl_w"
      }
    },
    {
      "cell_type": "markdown",
      "source": [
        "Let's normalise the predictors, to see if the performance improves."
      ],
      "metadata": {
        "id": "f6Gjs1q_vwVl"
      }
    },
    {
      "cell_type": "code",
      "source": [
        "# Normalising data\n",
        "mean = X_train.mean(0)\n",
        "sd =  X_train.std(0)\n",
        "X_train = (X_train-mean)/sd\n",
        "X_val  = (X_val-mean)/sd"
      ],
      "metadata": {
        "id": "_Aa7pZENCCu9"
      },
      "execution_count": 65,
      "outputs": []
    },
    {
      "cell_type": "code",
      "source": [
        "# Fitting SVM to dataset\n",
        "model  = svm.SVC(C=1)\n",
        "model.fit(X_train,y_train)\n",
        "\n",
        "# Prediction scores\n",
        "yt_p = model.predict(X_train)\n",
        "yv_p = model.predict(X_val)\n",
        "\n",
        "# Training and Validation Accuracy metrics\n",
        "print('Training Accuracy', np.mean(yt_p==y_train))\n",
        "print('Validation  Accuracy', np.mean(yv_p==y_val))\n",
        "print('The support vectors are', model.support_vectors_.shape)"
      ],
      "metadata": {
        "colab": {
          "base_uri": "https://localhost:8080/"
        },
        "id": "3uH6O2fTvzbR",
        "outputId": "8a1928f5-703f-4ee1-bfad-6da2cee25ffa"
      },
      "execution_count": 67,
      "outputs": [
        {
          "output_type": "stream",
          "name": "stdout",
          "text": [
            "Training Accuracy 0.6890034364261168\n",
            "Validation  Accuracy 0.66\n",
            "The support vectors are (499, 4)\n"
          ]
        }
      ]
    },
    {
      "cell_type": "markdown",
      "source": [
        "# **K-Nearest Neighbours**"
      ],
      "metadata": {
        "id": "nz9rJU-eEIgm"
      }
    },
    {
      "cell_type": "markdown",
      "source": [
        "# **Training the kNN model**\n",
        "\n",
        "Instead of the usual train and test split which you may be used to seeing, it is better to use k-fold cross-validation on the training data to get our initial predictions. This works by shuffling the dataset randomly, then splitting it into k number of sections (folds). For this example, I have chosen k = 10. So, the k-folds algorithm isolates one fold, using it as a test set. The other nine folds constitute the training data. The kNN model is then fitted on the training set and evaluated on the test set, saving the evaluation score and discarding the model. This process is then repeated ten times, with a different fold used as the test set. This results in each fold being used in the training data nin (k-1) timesm and as the testing set once. "
      ],
      "metadata": {
        "id": "KPqRUTezRH0D"
      }
    },
    {
      "cell_type": "code",
      "source": [
        "from sklearn import preprocessing\n",
        "\n",
        "# Scaling data\n",
        "X = preprocessing.StandardScaler().fit(X).transform(X.astype(float))\n",
        "\n",
        "# Split dataset into train and test data \n",
        "X_train, X_test, y_train, y_test = train_test_split(X, y, test_size=0.2, random_state=1, stratify=y)\n"
      ],
      "metadata": {
        "id": "Hc32bjuSQtvI"
      },
      "execution_count": 164,
      "outputs": []
    },
    {
      "cell_type": "code",
      "source": [
        "from sklearn.model_selection import GridSearchCV\n",
        "# Tuning hyperparameter 'k_neighbors' by applying GridSearch\n",
        "# Create a new kNN model\n",
        "knn_grid = KNeighborsClassifier()\n",
        "\n",
        "# Create a dictionary of all values that we want to test for n_neighbors\n",
        "param_grid = {'n_neighbors': np.arange(1, 25)}\n",
        "\n",
        "# Use gridsearch to test all values for n_neighbours\n",
        "knn_gscv = GridSearchCV(knn_grid, param_grid, cv=5)\n",
        "\n",
        "# Fit model to training data\n",
        "knn_gscv.fit(X_train, y_train)\n",
        "\n",
        "# Check top performing n_neighbors value\n",
        "print(\"The best performing n_neighbors value is: \", knn_gscv.best_params_, \"with mean accuracy score of: \",\n",
        "      knn_gscv.best_score_)"
      ],
      "metadata": {
        "colab": {
          "base_uri": "https://localhost:8080/"
        },
        "id": "YRxplzaEcr0-",
        "outputId": "19d4b75b-1756-4fb2-f4a7-291aadb443cd"
      },
      "execution_count": 196,
      "outputs": [
        {
          "output_type": "stream",
          "name": "stdout",
          "text": [
            "The best performing n_neighbors value is:  {'n_neighbors': 16} with mean accuracy score of:  0.6345864661654135\n"
          ]
        }
      ]
    },
    {
      "cell_type": "code",
      "source": [
        "# Create KNN classifier with the best performing n_neighbors(=16)\n",
        "knn_first = KNeighborsClassifier(n_neighbors = 16)\n",
        "\n",
        "# Cross validate\n",
        "cv_scores = cross_val_score(knn_first, X_train, y_train, cv=5)\n",
        "\n",
        "# Taking the mean value of cross-validation rounds\n",
        "cv_scores_mean = np.mean(cv_scores)\n",
        "print(\"The cross-validation results in terms of accuracy are: \", cv_scores ,\"\\n\" \n",
        "      \"whilst the mean of these result is \",\"{:.3f}\".format(cv_scores_mean))\n"
      ],
      "metadata": {
        "colab": {
          "base_uri": "https://localhost:8080/"
        },
        "id": "VWVdKMG5Qtn_",
        "outputId": "7db18941-b648-4bde-dc2c-114baa567ff0"
      },
      "execution_count": 206,
      "outputs": [
        {
          "output_type": "stream",
          "name": "stdout",
          "text": [
            "The cross-validation results in terms of accuracy are:  [0.64661654 0.63909774 0.66165414 0.61654135 0.60902256] \n",
            "whilst the mean of these result is  0.635\n"
          ]
        }
      ]
    },
    {
      "cell_type": "markdown",
      "source": [
        "Taking an average of the cross-validation scores, the **accuracy** of our model on the training set is 63%. Not bad. \n",
        "\n",
        "Next, we are going to fit the kNN model to the test set. "
      ],
      "metadata": {
        "id": "IKgSnVjTXh58"
      }
    },
    {
      "cell_type": "code",
      "source": [
        "# Fit the model to the testing data\n",
        "knn_first.fit(X_test, y_test)\n",
        "predictions = knn_first.predict(X_test)\n",
        "\n",
        "# Check accuracy of the model on the test dataset\n",
        "accuracy_score = knn_first.score(X_test, y_test) \n",
        "print(\"Accuracy score = \"\"{:.2f}\".format(accuracy_score))"
      ],
      "metadata": {
        "colab": {
          "base_uri": "https://localhost:8080/"
        },
        "id": "pRfz3tVwQtgE",
        "outputId": "e1f2ac0b-19df-4655-c71b-dd66f322ed37"
      },
      "execution_count": 155,
      "outputs": [
        {
          "output_type": "stream",
          "name": "stdout",
          "text": [
            "Accuracy score = 0.68\n"
          ]
        }
      ]
    },
    {
      "cell_type": "code",
      "source": [
        "# Visualising error rate of the model\n",
        "error_rate = []\n",
        "for i in range(1,25):\n",
        " knn = KNeighborsClassifier(n_neighbors=i)\n",
        " knn.fit(X_train,y_train)\n",
        " pred_i = knn.predict(X_test)\n",
        " error_rate.append(np.mean(pred_i != y_test))\n",
        "\n",
        "plt.figure(figsize=(10,6))\n",
        "plt.plot(range(1,25),error_rate,color='blue', linestyle='dashed', \n",
        "         marker='o',markerfacecolor='red', markersize=10)\n",
        "plt.title('Error Rate vs. K Value')\n",
        "plt.xlabel('K')\n",
        "plt.ylabel('Error Rate')\n",
        "print(\"Minimum error:-\",min(error_rate),\"at K =\",error_rate.index(min(error_rate)))"
      ],
      "metadata": {
        "colab": {
          "base_uri": "https://localhost:8080/",
          "height": 418
        },
        "id": "ATfiLsq2jpAo",
        "outputId": "47560dec-a910-47a6-d581-68a1410108f5"
      },
      "execution_count": 207,
      "outputs": [
        {
          "output_type": "stream",
          "name": "stdout",
          "text": [
            "Minimum error:- 0.31736526946107785 at K = 15\n"
          ]
        },
        {
          "output_type": "display_data",
          "data": {
            "image/png": "[encoded data removed]",
            "text/plain": [
              "<Figure size 720x432 with 1 Axes>"
            ]
          },
          "metadata": {
            "needs_background": "light"
          }
        }
      ]
    },
    {
      "cell_type": "code",
      "source": [
        "# Visualising accuracy of the model\n",
        "acc = []\n",
        "from sklearn import metrics\n",
        "for i in range(1,25):\n",
        "    neigh = KNeighborsClassifier(n_neighbors = i).fit(X_train,y_train)\n",
        "    yhat = neigh.predict(X_test)\n",
        "    acc.append(metrics.accuracy_score(y_test, yhat))\n",
        "    \n",
        "plt.figure(figsize=(10,6))\n",
        "plt.plot(range(1,25),acc,color = 'blue',linestyle='dashed', \n",
        "         marker='o',markerfacecolor='red', markersize=10)\n",
        "plt.title('accuracy vs. K Value')\n",
        "plt.xlabel('K')\n",
        "plt.ylabel('Accuracy')\n",
        "print(\"Maximum accuracy:-\",max(acc),\"at K =\",acc.index(max(acc)))"
      ],
      "metadata": {
        "colab": {
          "base_uri": "https://localhost:8080/",
          "height": 418
        },
        "id": "FXmZrAKflOzp",
        "outputId": "cb85cbbb-935a-4743-ab34-4a89ea5824f3"
      },
      "execution_count": 208,
      "outputs": [
        {
          "output_type": "stream",
          "name": "stdout",
          "text": [
            "Maximum accuracy:- 0.6826347305389222 at K = 15\n"
          ]
        },
        {
          "output_type": "display_data",
          "data": {
            "image/png": "[encoded data removed]",
            "text/plain": [
              "<Figure size 720x432 with 1 Axes>"
            ]
          },
          "metadata": {
            "needs_background": "light"
          }
        }
      ]
    },
    {
      "cell_type": "markdown",
      "source": [
        "We can visualise the model's performance using a confusion matrix. \n",
        "\n",
        "The confusion matrix describes the performance of our kNN classification model. A true positive tells us when the algorithm predicted 1 and the actuall class was 1. A false positive tells us when the model predicts 1, and the actual class was 0. The reverse applies for true negatives and false negatives."
      ],
      "metadata": {
        "id": "j2FdCbMJYsy_"
      }
    },
    {
      "cell_type": "code",
      "source": [
        "from sklearn.metrics import confusion_matrix\n",
        "\n",
        "confusion_matrix = confusion_matrix(y_test, predictions)\n",
        "confusion_matrix"
      ],
      "metadata": {
        "colab": {
          "base_uri": "https://localhost:8080/"
        },
        "id": "cFFBlC08ZNYm",
        "outputId": "7f4afb38-3572-482f-b986-434d5a35f5b7"
      },
      "execution_count": 113,
      "outputs": [
        {
          "output_type": "execute_result",
          "data": {
            "text/plain": [
              "array([[52, 33],\n",
              "       [21, 61]])"
            ]
          },
          "metadata": {},
          "execution_count": 113
        }
      ]
    },
    {
      "cell_type": "code",
      "source": [
        "y_actual = pd.Series(y_test, name='Actual')\n",
        "y_predicted = pd.Series(predictions, name='Predicted')\n",
        "\n",
        "# Create confusion matrix\n",
        "print(pd.crosstab(y_actual, y_predicted))\n",
        "print()\n",
        "# Accuracy of model (percentage of correct predictions)\n",
        "print(\"The accuracy of the model is: \", metrics.accuracy_score(y_actual, y_predicted))\n",
        "print()\n",
        "# Precision of the model (correct positive predictions relative to total positive predictions)\n",
        "print(\"The precision of the model is: \", metrics.precision_score(y_actual, y_predicted))\n",
        "print()\n",
        "# Recall value of the model (correct positive predictions relative to total actual positives)\n",
        "print(\"The recall value of the model is: \", metrics.recall_score(y_actual, y_predicted))"
      ],
      "metadata": {
        "colab": {
          "base_uri": "https://localhost:8080/"
        },
        "id": "ZW4LiTU4zLpx",
        "outputId": "64fbef62-c95c-4e36-f556-e749a4f8d309"
      },
      "execution_count": 235,
      "outputs": [
        {
          "output_type": "stream",
          "name": "stdout",
          "text": [
            "Predicted  False  True \n",
            "Actual                 \n",
            "False         51     34\n",
            "True          20     62\n",
            "\n",
            "The accuracy of the model is:  0.6766467065868264\n",
            "\n",
            "The precision of the model is:  0.6458333333333334\n",
            "\n",
            "The recall value of the model is:  0.7560975609756098\n"
          ]
        }
      ]
    },
    {
      "cell_type": "code",
      "source": [
        "import seaborn as sns\n",
        "sns.heatmap(confusion_matrix, annot=True)"
      ],
      "metadata": {
        "colab": {
          "base_uri": "https://localhost:8080/",
          "height": 280
        },
        "id": "j2eurIZ6o13g",
        "outputId": "2b43e197-bee1-4654-a60e-44156c990e0b"
      },
      "execution_count": 213,
      "outputs": [
        {
          "output_type": "execute_result",
          "data": {
            "text/plain": [
              "<matplotlib.axes._subplots.AxesSubplot at 0x7f12bd5b2710>"
            ]
          },
          "metadata": {},
          "execution_count": 213
        },
        {
          "output_type": "display_data",
          "data": {
            "image/png": "[encoded data removed]",
            "text/plain": [
              "<Figure size 432x288 with 2 Axes>"
            ]
          },
          "metadata": {
            "needs_background": "light"
          }
        }
      ]
    },
    {
      "cell_type": "code",
      "source": [
        "sns.heatmap(confusion_matrix/np.sum(confusion_matrix), annot=True,\n",
        "            fmt='.2%', cmap='Blues')"
      ],
      "metadata": {
        "colab": {
          "base_uri": "https://localhost:8080/",
          "height": 280
        },
        "id": "sZaXdbTHo7hk",
        "outputId": "5720b008-955b-4702-ce23-33f14501c31c"
      },
      "execution_count": 184,
      "outputs": [
        {
          "output_type": "execute_result",
          "data": {
            "text/plain": [
              "<matplotlib.axes._subplots.AxesSubplot at 0x7f12c926ec10>"
            ]
          },
          "metadata": {},
          "execution_count": 184
        },
        {
          "output_type": "display_data",
          "data": {
            "image/png": "[encoded data removed]",
            "text/plain": [
              "<Figure size 432x288 with 2 Axes>"
            ]
          },
          "metadata": {
            "needs_background": "light"
          }
        }
      ]
    },
    {
      "cell_type": "code",
      "source": [
        "labels = [\"True Neg\",\"False Pos\",\"False Neg\",\"True Pos\"]\n",
        "labels = np.asarray(labels).reshape(2,2)\n",
        "sns.heatmap(confusion_matrix, annot=labels, fmt=\"\", cmap='Blues')"
      ],
      "metadata": {
        "colab": {
          "base_uri": "https://localhost:8080/",
          "height": 280
        },
        "id": "wRpPudFjpODa",
        "outputId": "4cb09a7e-f0f5-4e99-ffd0-ad9766d39326"
      },
      "execution_count": 219,
      "outputs": [
        {
          "output_type": "execute_result",
          "data": {
            "text/plain": [
              "<matplotlib.axes._subplots.AxesSubplot at 0x7f12c94215d0>"
            ]
          },
          "metadata": {},
          "execution_count": 219
        },
        {
          "output_type": "display_data",
          "data": {
            "image/png": "[encoded data removed]",
            "text/plain": [
              "<Figure size 432x288 with 2 Axes>"
            ]
          },
          "metadata": {
            "needs_background": "light"
          }
        }
      ]
    },
    {
      "cell_type": "markdown",
      "source": [
        "### **Finding the optimal value of k**\n",
        "* We collect all independent data features into the X dataframe and target field into a y dataframe. Then, we manipulate the data and normalise it. \n",
        "* After splitting the data, we take 0.8% data for training and the remaining for testing/validation purposes. "
      ],
      "metadata": {
        "id": "loj32iLdmYa_"
      }
    },
    {
      "cell_type": "code",
      "source": [
        "from sklearn import preprocessing\n",
        "X = preprocessing.StandardScaler().fit(X).transform(X.astype(float))\n",
        "\n",
        "from sklearn.model_selection import train_test_split\n",
        "X_train, X_test, y_train, y_test = train_test_split( X, y, test_size=0.2, random_state=4)\n",
        "\n",
        "from sklearn.neighbors import KNeighborsClassifier\n",
        "from sklearn import metrics\n",
        "#Train Model and Predict\n",
        "k = 4  \n",
        "neigh = KNeighborsClassifier(n_neighbors = k).fit(X_train,y_train)\n",
        "Pred_y = neigh.predict(X_test)\n",
        "print(\"Accuracy of model at K=4 is\",metrics.accuracy_score(y_test, Pred_y))"
      ],
      "metadata": {
        "colab": {
          "base_uri": "https://localhost:8080/"
        },
        "id": "DWVuIwO_fKeC",
        "outputId": "e9eecca1-a6f0-40f8-a7c3-1959654120e6"
      },
      "execution_count": 86,
      "outputs": [
        {
          "output_type": "stream",
          "name": "stdout",
          "text": [
            "Accuracy of model at K=4 is 0.5568862275449101\n"
          ]
        }
      ]
    },
    {
      "cell_type": "code",
      "source": [
        "error_rate = []\n",
        "for i in range(1,40):\n",
        " knn = KNeighborsClassifier(n_neighbors=i)\n",
        " knn.fit(X_train,y_train)\n",
        " pred_i = knn.predict(X_test)\n",
        " error_rate.append(np.mean(pred_i != y_test))\n",
        "\n",
        "plt.figure(figsize=(10,6))\n",
        "plt.plot(range(1,40),error_rate,color='blue', linestyle='dashed', \n",
        "         marker='o',markerfacecolor='red', markersize=10)\n",
        "plt.title('Error Rate vs. K Value')\n",
        "plt.xlabel('K')\n",
        "plt.ylabel('Error Rate')\n",
        "print(\"Minimum error:-\",min(error_rate),\"at K =\",error_rate.index(min(error_rate)))"
      ],
      "metadata": {
        "colab": {
          "base_uri": "https://localhost:8080/",
          "height": 418
        },
        "id": "u4Yt7jEYnPdj",
        "outputId": "cd88ab5b-affe-46f9-b98c-fbfbc1fd0320"
      },
      "execution_count": 87,
      "outputs": [
        {
          "output_type": "stream",
          "name": "stdout",
          "text": [
            "Minimum error:- 0.31137724550898205 at K = 12\n"
          ]
        },
        {
          "output_type": "display_data",
          "data": {
            "image/png": "[encoded data removed]",
            "text/plain": [
              "<Figure size 720x432 with 1 Axes>"
            ]
          },
          "metadata": {
            "needs_background": "light"
          }
        }
      ]
    },
    {
      "cell_type": "code",
      "source": [
        ""
      ],
      "metadata": {
        "colab": {
          "base_uri": "https://localhost:8080/",
          "height": 418
        },
        "id": "IED7jRJogrX4",
        "outputId": "2f904dca-15d5-4179-b8e1-2352d97cd933"
      },
      "execution_count": 88,
      "outputs": [
        {
          "output_type": "stream",
          "name": "stdout",
          "text": [
            "Maximum accuracy:- 0.688622754491018 at K = 12\n"
          ]
        },
        {
          "output_type": "display_data",
          "data": {
            "image/png": "[encoded data removed]",
            "text/plain": [
              "<Figure size 720x432 with 1 Axes>"
            ]
          },
          "metadata": {
            "needs_background": "light"
          }
        }
      ]
    },
    {
      "cell_type": "code",
      "source": [
        "k = 12  \n",
        "neigh = KNeighborsClassifier(n_neighbors = k).fit(X_val,y_val)\n",
        "Pred_y = neigh.predict(X_val)\n",
        "print(\"Accuracy of model at K=12 is\",metrics.accuracy_score(y_val, Pred_y))"
      ],
      "metadata": {
        "colab": {
          "base_uri": "https://localhost:8080/"
        },
        "id": "ZRGEBqTBXPC2",
        "outputId": "0b45101f-0c03-4ebd-f3ab-0f5edac1db92"
      },
      "execution_count": 90,
      "outputs": [
        {
          "output_type": "stream",
          "name": "stdout",
          "text": [
            "Accuracy of model at K=12 is 0.648\n"
          ]
        }
      ]
    },
    {
      "cell_type": "markdown",
      "source": [
        "# **9. Conclusions**"
      ],
      "metadata": {
        "id": "QVzHWQNnsTVQ"
      }
    },
    {
      "cell_type": "code",
      "source": [
        ""
      ],
      "metadata": {
        "id": "USNsIelTsVL3"
      },
      "execution_count": null,
      "outputs": []
    }
  ]
}