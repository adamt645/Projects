{
  "nbformat": 4,
  "nbformat_minor": 0,
  "metadata": {
    "colab": {
      "name": "Untitled7.ipynb",
      "provenance": [],
      "collapsed_sections": [],
      "authorship_tag": "ABX9TyP9+rc+Kl6aNdt2LYOfRz3a",
      "include_colab_link": true
    },
    "kernelspec": {
      "name": "python3",
      "display_name": "Python 3"
    },
    "language_info": {
      "name": "python"
    }
  },
  "cells": [
    {
      "cell_type": "markdown",
      "metadata": {
        "id": "view-in-github",
        "colab_type": "text"
      },
      "source": [
        "<a href=\"https://colab.research.google.com/github/adamt645/Projects/blob/main/Untitled7.ipynb\" target=\"_parent\"><img src=\"https://colab.research.google.com/assets/colab-badge.svg\" alt=\"Open In Colab\"/></a>"
      ]
    },
    {
      "cell_type": "markdown",
      "source": [
        "# 1 **Author**\n",
        "\n",
        "**Student Name**:  Adam Toth <br>\n",
        "**Student ID**:  210505924\n",
        "\n",
        "# 2 **Problem formulation**\n",
        "This assignment uses the MLEnd Hums and Whistles dataset and attempts to build a machine learning pipeline that takes as an input a Potter or a StarWars audio segment and predicts its song label (either Harry or StarWars). \n",
        "<br>\n",
        "<br>\n",
        "Listening to someone whistling or humming either the Harry Potter or StarWars theme song, and recognising which one is which, should be relatively easy for humans. Attempting to do the same with a computer is what this paper is about. \n",
        "<br>\n",
        "<br>\n",
        "The problem is interesting because (i) replicating human capabilities with computers is fun, (ii) similar methods could later be applied to identify human voices and match it with their 'owner' (and be applied to home security systems, phone lock releases, etc.), (iii) gives an overview of the necessary steps of a machine learning pipeline. \n",
        "\n",
        "\n",
        "# 3. **Machine Learning Pipeline**\n",
        "The paper uses 832 given recordings of either hummings and whistlings of the most notable parts of the theme songs of either Harry Potter and Star Wars movies. Recordings are divided into two-two seperate zipped folders with respect to both songs. \n",
        "<br>\n",
        "**Step 1**<br>\n",
        "As a first step, files are downloaded from a given url and uploaded into my Google Drive. \n",
        "\n",
        "**Step 2**<br>\n",
        "Next, files are downloaded locally to correct files names that do not follow the instructed naming conventions. Once the corrected files are uploaded back to the Google Drive, sample paths of the respective folders are set here in Google Colab. Files are then imported as lists (four of them). \n",
        "\n",
        "All four lists are then used to create Pandas Dataframes by extracting each instance's 'file_id', 'participant' (id of recorder), 'interpretation' (type as of either humming or whistling), 'interpretation number' (StarWars.wav/Potter.wav), and 'song' (Potter/StarWars). \n",
        "\n",
        "**Step 3**<br>\n",
        "At this point, a quick check is due to see whether each songs are represented roughly equally. \n",
        "\n",
        "**Step 4**<br>\n",
        "\n",
        "\n"
      ],
      "metadata": {
        "id": "XduQVvsQNCb4"
      }
    },
    {
      "cell_type": "code",
      "source": [
        ""
      ],
      "metadata": {
        "id": "iZhJ1VPcEgLo"
      },
      "execution_count": null,
      "outputs": []
    },
    {
      "cell_type": "code",
      "execution_count": 1,
      "metadata": {
        "colab": {
          "base_uri": "https://localhost:8080/"
        },
        "id": "bvGEdVMKGsa_",
        "outputId": "91763f7c-599c-4d77-9eeb-39d666fb5c0f"
      },
      "outputs": [
        {
          "output_type": "stream",
          "name": "stdout",
          "text": [
            "Mounted at /content/drive\n"
          ]
        }
      ],
      "source": [
        "from google.colab import drive\n",
        "\n",
        "import numpy as np\n",
        "import pandas as pd\n",
        "import matplotlib.pyplot as plt\n",
        "\n",
        "import os, sys, re, pickle, glob\n",
        "import urllib.request\n",
        "import zipfile\n",
        "\n",
        "import IPython.display as ipd\n",
        "from tqdm import tqdm\n",
        "\n",
        "import librosa\n",
        "\n",
        "drive.mount('/content/drive')"
      ]
    },
    {
      "cell_type": "code",
      "source": [
        "path = '/content/drive/MyDrive/Public_Data/MLEndHW'\n",
        "os.listdir(path)"
      ],
      "metadata": {
        "colab": {
          "base_uri": "https://localhost:8080/"
        },
        "id": "qNXn6Zi4G0Wb",
        "outputId": "8e15eb9f-16cc-4b11-8818-021abbc14680"
      },
      "execution_count": 2,
      "outputs": [
        {
          "output_type": "execute_result",
          "data": {
            "text/plain": [
              "['MLEndHW_Sample.zip',\n",
              " 'Potter_1.zip',\n",
              " 'Potter_2.zip',\n",
              " 'StarWars_1.zip',\n",
              " 'StarWars_2.zip',\n",
              " 'Potter_1',\n",
              " 'Potter_2',\n",
              " 'StarWars_1',\n",
              " 'StarWars_2']"
            ]
          },
          "metadata": {},
          "execution_count": 2
        }
      ]
    },
    {
      "cell_type": "code",
      "source": [
        "# Potter_1\n",
        "sample_path = '/content/drive/MyDrive/Public_Data/MLEndHW/Potter_1/*.wav'\n",
        "files1 = glob.glob(sample_path)\n",
        "print(len(files1))\n",
        "\n",
        "# Potter_2\n",
        "sample_path2 = '/content/drive/MyDrive/Public_Data/MLEndHW/Potter_2/*.wav'\n",
        "files2 = glob.glob(sample_path2)\n",
        "print(len(files2))\n",
        "\n",
        "# StarWars_1\n",
        "sample_path3 = '/content/drive/MyDrive/Public_Data/MLEndHW/StarWars_1/*.wav'\n",
        "files3 = glob.glob(sample_path3)\n",
        "print(len(files3))\n",
        "\n",
        "# StarWars_2\n",
        "sample_path4 = '/content/drive/MyDrive/Public_Data/MLEndHW/StarWars_2/*.wav'\n",
        "files4 = glob.glob(sample_path4)\n",
        "print(len(files4))\n",
        "print(type(files4))"
      ],
      "metadata": {
        "colab": {
          "base_uri": "https://localhost:8080/"
        },
        "id": "uJwA5oJvHE9C",
        "outputId": "69d0e8cd-623c-4be6-cc30-deeca87066ed"
      },
      "execution_count": 25,
      "outputs": [
        {
          "output_type": "stream",
          "name": "stdout",
          "text": [
            "210\n",
            "205\n",
            "210\n",
            "207\n",
            "<class 'list'>\n"
          ]
        }
      ]
    },
    {
      "cell_type": "code",
      "source": [
        "# Potter_1\n",
        "MLENDHW_table = [] \n",
        "\n",
        "for file in files1:\n",
        "  file_name = file.split('/')[-1]\n",
        "  participant_ID = file.split('/')[-1].split('_')[0]\n",
        "  interpretation_type = file.split('/')[-1].split('_')[1]\n",
        "  interpretation_number = file.split('/')[-1].split('_')[-1]\n",
        "  song = file.split('/')[-1].split('_')[-1].split('.')[0]\n",
        "  MLENDHW_table.append([file_name,participant_ID,interpretation_type,interpretation_number, song])\n",
        "\n",
        "MLENDHW_df = pd.DataFrame(MLENDHW_table,columns=['file_id','participant','interpretation','number','song']).set_index('file_id') \n",
        "MLENDHW_df.head()"
      ],
      "metadata": {
        "colab": {
          "base_uri": "https://localhost:8080/",
          "height": 231
        },
        "id": "orBJHWuVG4aR",
        "outputId": "87a4e343-6b76-4512-83c0-147e9cea80d0"
      },
      "execution_count": 4,
      "outputs": [
        {
          "output_type": "execute_result",
          "data": {
            "text/html": [
              "<div>\n",
              "<style scoped>\n",
              "    .dataframe tbody tr th:only-of-type {\n",
              "        vertical-align: middle;\n",
              "    }\n",
              "\n",
              "    .dataframe tbody tr th {\n",
              "        vertical-align: top;\n",
              "    }\n",
              "\n",
              "    .dataframe thead th {\n",
              "        text-align: right;\n",
              "    }\n",
              "</style>\n",
              "<table border=\"1\" class=\"dataframe\">\n",
              "  <thead>\n",
              "    <tr style=\"text-align: right;\">\n",
              "      <th></th>\n",
              "      <th>participant</th>\n",
              "      <th>interpretation</th>\n",
              "      <th>number</th>\n",
              "      <th>song</th>\n",
              "    </tr>\n",
              "    <tr>\n",
              "      <th>file_id</th>\n",
              "      <th></th>\n",
              "      <th></th>\n",
              "      <th></th>\n",
              "      <th></th>\n",
              "    </tr>\n",
              "  </thead>\n",
              "  <tbody>\n",
              "    <tr>\n",
              "      <th>S103_hum_2_Potter.wav</th>\n",
              "      <td>S103</td>\n",
              "      <td>hum</td>\n",
              "      <td>Potter.wav</td>\n",
              "      <td>Potter</td>\n",
              "    </tr>\n",
              "    <tr>\n",
              "      <th>S40_hum_2_Potter.wav</th>\n",
              "      <td>S40</td>\n",
              "      <td>hum</td>\n",
              "      <td>Potter.wav</td>\n",
              "      <td>Potter</td>\n",
              "    </tr>\n",
              "    <tr>\n",
              "      <th>S40_whistle_2_Potter.wav</th>\n",
              "      <td>S40</td>\n",
              "      <td>whistle</td>\n",
              "      <td>Potter.wav</td>\n",
              "      <td>Potter</td>\n",
              "    </tr>\n",
              "    <tr>\n",
              "      <th>S103_whistle_2_Potter.wav</th>\n",
              "      <td>S103</td>\n",
              "      <td>whistle</td>\n",
              "      <td>Potter.wav</td>\n",
              "      <td>Potter</td>\n",
              "    </tr>\n",
              "    <tr>\n",
              "      <th>S17_hum_1_Potter.wav</th>\n",
              "      <td>S17</td>\n",
              "      <td>hum</td>\n",
              "      <td>Potter.wav</td>\n",
              "      <td>Potter</td>\n",
              "    </tr>\n",
              "  </tbody>\n",
              "</table>\n",
              "</div>"
            ],
            "text/plain": [
              "                          participant interpretation      number    song\n",
              "file_id                                                                 \n",
              "S103_hum_2_Potter.wav            S103            hum  Potter.wav  Potter\n",
              "S40_hum_2_Potter.wav              S40            hum  Potter.wav  Potter\n",
              "S40_whistle_2_Potter.wav          S40        whistle  Potter.wav  Potter\n",
              "S103_whistle_2_Potter.wav        S103        whistle  Potter.wav  Potter\n",
              "S17_hum_1_Potter.wav              S17            hum  Potter.wav  Potter"
            ]
          },
          "metadata": {},
          "execution_count": 4
        }
      ]
    },
    {
      "cell_type": "code",
      "source": [
        "# Potter_2\n",
        "MLENDHW_table2 = [] \n",
        "\n",
        "for file in files2:\n",
        "  file_name = file.split('/')[-1]\n",
        "  participant_ID = file.split('/')[-1].split('_')[0]\n",
        "  interpretation_type = file.split('/')[-1].split('_')[1]\n",
        "  interpretation_number = file.split('/')[-1].split('_')[-1]\n",
        "  song = file.split('/')[-1].split('_')[-1].split('.')[0]\n",
        "  MLENDHW_table2.append([file_name,participant_ID,interpretation_type,interpretation_number, song])\n",
        "\n",
        "MLENDHW_df2 = pd.DataFrame(MLENDHW_table2,columns=['file_id','participant','interpretation','number','song']).set_index('file_id') \n",
        "MLENDHW_df2.head()"
      ],
      "metadata": {
        "colab": {
          "base_uri": "https://localhost:8080/",
          "height": 231
        },
        "id": "sGCg4AxZHyGM",
        "outputId": "a7d16738-265e-4018-ac37-268d57b89b9b"
      },
      "execution_count": 5,
      "outputs": [
        {
          "output_type": "execute_result",
          "data": {
            "text/html": [
              "<div>\n",
              "<style scoped>\n",
              "    .dataframe tbody tr th:only-of-type {\n",
              "        vertical-align: middle;\n",
              "    }\n",
              "\n",
              "    .dataframe tbody tr th {\n",
              "        vertical-align: top;\n",
              "    }\n",
              "\n",
              "    .dataframe thead th {\n",
              "        text-align: right;\n",
              "    }\n",
              "</style>\n",
              "<table border=\"1\" class=\"dataframe\">\n",
              "  <thead>\n",
              "    <tr style=\"text-align: right;\">\n",
              "      <th></th>\n",
              "      <th>participant</th>\n",
              "      <th>interpretation</th>\n",
              "      <th>number</th>\n",
              "      <th>song</th>\n",
              "    </tr>\n",
              "    <tr>\n",
              "      <th>file_id</th>\n",
              "      <th></th>\n",
              "      <th></th>\n",
              "      <th></th>\n",
              "      <th></th>\n",
              "    </tr>\n",
              "  </thead>\n",
              "  <tbody>\n",
              "    <tr>\n",
              "      <th>S202_hum_2_Potter.wav</th>\n",
              "      <td>S202</td>\n",
              "      <td>hum</td>\n",
              "      <td>Potter.wav</td>\n",
              "      <td>Potter</td>\n",
              "    </tr>\n",
              "    <tr>\n",
              "      <th>S129_whistle_2_Potter.wav</th>\n",
              "      <td>S129</td>\n",
              "      <td>whistle</td>\n",
              "      <td>Potter.wav</td>\n",
              "      <td>Potter</td>\n",
              "    </tr>\n",
              "    <tr>\n",
              "      <th>S193_hum_2_Potter.wav</th>\n",
              "      <td>S193</td>\n",
              "      <td>hum</td>\n",
              "      <td>Potter.wav</td>\n",
              "      <td>Potter</td>\n",
              "    </tr>\n",
              "    <tr>\n",
              "      <th>S121_hum_1_Potter.wav</th>\n",
              "      <td>S121</td>\n",
              "      <td>hum</td>\n",
              "      <td>Potter.wav</td>\n",
              "      <td>Potter</td>\n",
              "    </tr>\n",
              "    <tr>\n",
              "      <th>S193_whistle_2_Potter.wav</th>\n",
              "      <td>S193</td>\n",
              "      <td>whistle</td>\n",
              "      <td>Potter.wav</td>\n",
              "      <td>Potter</td>\n",
              "    </tr>\n",
              "  </tbody>\n",
              "</table>\n",
              "</div>"
            ],
            "text/plain": [
              "                          participant interpretation      number    song\n",
              "file_id                                                                 \n",
              "S202_hum_2_Potter.wav            S202            hum  Potter.wav  Potter\n",
              "S129_whistle_2_Potter.wav        S129        whistle  Potter.wav  Potter\n",
              "S193_hum_2_Potter.wav            S193            hum  Potter.wav  Potter\n",
              "S121_hum_1_Potter.wav            S121            hum  Potter.wav  Potter\n",
              "S193_whistle_2_Potter.wav        S193        whistle  Potter.wav  Potter"
            ]
          },
          "metadata": {},
          "execution_count": 5
        }
      ]
    },
    {
      "cell_type": "code",
      "source": [
        "# StarWars_1\n",
        "MLENDHW_table3 = [] \n",
        "\n",
        "for file in files3:\n",
        "  file_name = file.split('/')[-1]\n",
        "  participant_ID = file.split('/')[-1].split('_')[0]\n",
        "  interpretation_type = file.split('/')[-1].split('_')[1]\n",
        "  interpretation_number = file.split('/')[-1].split('_')[-1]\n",
        "  song = file.split('/')[-1].split('_')[-1].split('.')[0]\n",
        "  MLENDHW_table3.append([file_name,participant_ID,interpretation_type,interpretation_number, song])\n",
        "\n",
        "MLENDHW_df3 = pd.DataFrame(MLENDHW_table3,columns=['file_id','participant','interpretation','number','song']).set_index('file_id') \n",
        "MLENDHW_df3.head()"
      ],
      "metadata": {
        "colab": {
          "base_uri": "https://localhost:8080/",
          "height": 231
        },
        "id": "WjH1FeoKH-j2",
        "outputId": "d1c39ae4-3c93-402f-a7d1-a47d5ead7801"
      },
      "execution_count": 6,
      "outputs": [
        {
          "output_type": "execute_result",
          "data": {
            "text/html": [
              "<div>\n",
              "<style scoped>\n",
              "    .dataframe tbody tr th:only-of-type {\n",
              "        vertical-align: middle;\n",
              "    }\n",
              "\n",
              "    .dataframe tbody tr th {\n",
              "        vertical-align: top;\n",
              "    }\n",
              "\n",
              "    .dataframe thead th {\n",
              "        text-align: right;\n",
              "    }\n",
              "</style>\n",
              "<table border=\"1\" class=\"dataframe\">\n",
              "  <thead>\n",
              "    <tr style=\"text-align: right;\">\n",
              "      <th></th>\n",
              "      <th>participant</th>\n",
              "      <th>interpretation</th>\n",
              "      <th>number</th>\n",
              "      <th>song</th>\n",
              "    </tr>\n",
              "    <tr>\n",
              "      <th>file_id</th>\n",
              "      <th></th>\n",
              "      <th></th>\n",
              "      <th></th>\n",
              "      <th></th>\n",
              "    </tr>\n",
              "  </thead>\n",
              "  <tbody>\n",
              "    <tr>\n",
              "      <th>S88_hum_2_StarWars.wav</th>\n",
              "      <td>S88</td>\n",
              "      <td>hum</td>\n",
              "      <td>StarWars.wav</td>\n",
              "      <td>StarWars</td>\n",
              "    </tr>\n",
              "    <tr>\n",
              "      <th>S88_hum_1_StarWars.wav</th>\n",
              "      <td>S88</td>\n",
              "      <td>hum</td>\n",
              "      <td>StarWars.wav</td>\n",
              "      <td>StarWars</td>\n",
              "    </tr>\n",
              "    <tr>\n",
              "      <th>S100_hum_4_StarWars.wav</th>\n",
              "      <td>S100</td>\n",
              "      <td>hum</td>\n",
              "      <td>StarWars.wav</td>\n",
              "      <td>StarWars</td>\n",
              "    </tr>\n",
              "    <tr>\n",
              "      <th>S100_hum_3_StarWars.wav</th>\n",
              "      <td>S100</td>\n",
              "      <td>hum</td>\n",
              "      <td>StarWars.wav</td>\n",
              "      <td>StarWars</td>\n",
              "    </tr>\n",
              "    <tr>\n",
              "      <th>S21_hum_4_StarWars.wav</th>\n",
              "      <td>S21</td>\n",
              "      <td>hum</td>\n",
              "      <td>StarWars.wav</td>\n",
              "      <td>StarWars</td>\n",
              "    </tr>\n",
              "  </tbody>\n",
              "</table>\n",
              "</div>"
            ],
            "text/plain": [
              "                        participant interpretation        number      song\n",
              "file_id                                                                   \n",
              "S88_hum_2_StarWars.wav          S88            hum  StarWars.wav  StarWars\n",
              "S88_hum_1_StarWars.wav          S88            hum  StarWars.wav  StarWars\n",
              "S100_hum_4_StarWars.wav        S100            hum  StarWars.wav  StarWars\n",
              "S100_hum_3_StarWars.wav        S100            hum  StarWars.wav  StarWars\n",
              "S21_hum_4_StarWars.wav          S21            hum  StarWars.wav  StarWars"
            ]
          },
          "metadata": {},
          "execution_count": 6
        }
      ]
    },
    {
      "cell_type": "code",
      "source": [
        "# StarWars_2\n",
        "MLENDHW_table4 = [] \n",
        "\n",
        "for file in files4:\n",
        "  file_name = file.split('/')[-1]\n",
        "  participant_ID = file.split('/')[-1].split('_')[0]\n",
        "  interpretation_type = file.split('/')[-1].split('_')[1]\n",
        "  interpretation_number = file.split('/')[-1].split('_')[-1]\n",
        "  song = file.split('/')[-1].split('_')[-1].split('.')[0]\n",
        "  MLENDHW_table4.append([file_name,participant_ID,interpretation_type,interpretation_number, song])\n",
        "\n",
        "MLENDHW_df4 = pd.DataFrame(MLENDHW_table4,columns=['file_id','participant','interpretation','number','song']).set_index('file_id') \n",
        "MLENDHW_df4.head()"
      ],
      "metadata": {
        "colab": {
          "base_uri": "https://localhost:8080/",
          "height": 231
        },
        "id": "5Do6mPM6IWyn",
        "outputId": "7431aec9-0a96-4011-908e-43c5e052c1a6"
      },
      "execution_count": 7,
      "outputs": [
        {
          "output_type": "execute_result",
          "data": {
            "text/html": [
              "<div>\n",
              "<style scoped>\n",
              "    .dataframe tbody tr th:only-of-type {\n",
              "        vertical-align: middle;\n",
              "    }\n",
              "\n",
              "    .dataframe tbody tr th {\n",
              "        vertical-align: top;\n",
              "    }\n",
              "\n",
              "    .dataframe thead th {\n",
              "        text-align: right;\n",
              "    }\n",
              "</style>\n",
              "<table border=\"1\" class=\"dataframe\">\n",
              "  <thead>\n",
              "    <tr style=\"text-align: right;\">\n",
              "      <th></th>\n",
              "      <th>participant</th>\n",
              "      <th>interpretation</th>\n",
              "      <th>number</th>\n",
              "      <th>song</th>\n",
              "    </tr>\n",
              "    <tr>\n",
              "      <th>file_id</th>\n",
              "      <th></th>\n",
              "      <th></th>\n",
              "      <th></th>\n",
              "      <th></th>\n",
              "    </tr>\n",
              "  </thead>\n",
              "  <tbody>\n",
              "    <tr>\n",
              "      <th>S198_hum_2_StarWars.wav</th>\n",
              "      <td>S198</td>\n",
              "      <td>hum</td>\n",
              "      <td>StarWars.wav</td>\n",
              "      <td>StarWars</td>\n",
              "    </tr>\n",
              "    <tr>\n",
              "      <th>S190_hum_2_StarWars.wav</th>\n",
              "      <td>S190</td>\n",
              "      <td>hum</td>\n",
              "      <td>StarWars.wav</td>\n",
              "      <td>StarWars</td>\n",
              "    </tr>\n",
              "    <tr>\n",
              "      <th>S198_whistle_2_StarWars.wav</th>\n",
              "      <td>S198</td>\n",
              "      <td>whistle</td>\n",
              "      <td>StarWars.wav</td>\n",
              "      <td>StarWars</td>\n",
              "    </tr>\n",
              "    <tr>\n",
              "      <th>S122_hum_2_StarWars.wav</th>\n",
              "      <td>S122</td>\n",
              "      <td>hum</td>\n",
              "      <td>StarWars.wav</td>\n",
              "      <td>StarWars</td>\n",
              "    </tr>\n",
              "    <tr>\n",
              "      <th>S190_whistle_2_StarWars.wav</th>\n",
              "      <td>S190</td>\n",
              "      <td>whistle</td>\n",
              "      <td>StarWars.wav</td>\n",
              "      <td>StarWars</td>\n",
              "    </tr>\n",
              "  </tbody>\n",
              "</table>\n",
              "</div>"
            ],
            "text/plain": [
              "                            participant interpretation        number      song\n",
              "file_id                                                                       \n",
              "S198_hum_2_StarWars.wav            S198            hum  StarWars.wav  StarWars\n",
              "S190_hum_2_StarWars.wav            S190            hum  StarWars.wav  StarWars\n",
              "S198_whistle_2_StarWars.wav        S198        whistle  StarWars.wav  StarWars\n",
              "S122_hum_2_StarWars.wav            S122            hum  StarWars.wav  StarWars\n",
              "S190_whistle_2_StarWars.wav        S190        whistle  StarWars.wav  StarWars"
            ]
          },
          "metadata": {},
          "execution_count": 7
        }
      ]
    },
    {
      "cell_type": "markdown",
      "source": [
        "One approach to deal with large number of dimensionality is to extract a few features from our signals and use these features as predictors instead. In this assignment we will use four audio features, namely:\n",
        "\n",
        "1. Power \n",
        "2. Pitch mean\n",
        "3. Pitch standard deviation\n",
        "4. Fraction of voiced region\n",
        "\n",
        "The next cell introduces a new function that gets the pitch of an audio signal:"
      ],
      "metadata": {
        "id": "YVfgdbE-Iz8I"
      }
    },
    {
      "cell_type": "code",
      "source": [
        "def getPitch(x,fs,winLen=0.02):\n",
        "  #winLen = 0.02 \n",
        "  p = winLen*fs\n",
        "  frame_length = int(2**int(p-1).bit_length())\n",
        "  hop_length = frame_length//2\n",
        "  f0, voiced_flag, voiced_probs = librosa.pyin(y=x, fmin=80, fmax=450, sr=fs,\n",
        "                                                 frame_length=frame_length,hop_length=hop_length)\n",
        "  return f0,voiced_flag"
      ],
      "metadata": {
        "id": "YEJ7B5mEJHnm"
      },
      "execution_count": 8,
      "outputs": []
    },
    {
      "cell_type": "markdown",
      "source": [
        "Let's consider the problem of identifying the type of interpretation of one of the audio recordings. Then next cell defines a function that takes a number of files and creates a NumPy array containing the 4 audio features used as predictors (`X`) and a binary label (`y`), that indicates whether the type of interpretation is a hum (`y=1`) or whistle (`y=0`)."
      ],
      "metadata": {
        "id": "Nd447HYzJNiR"
      }
    },
    {
      "cell_type": "code",
      "source": [
        "def getXy(files,labels_file, scale_audio=False, onlySingleDigit=False):\n",
        "  X,y =[],[]\n",
        "  for file in tqdm(files):\n",
        "    fileID = file.split('/')[-1]\n",
        "    file_name = file.split('/')[-1]\n",
        "    #print(file_name)\n",
        "    #print(labels_file.loc[fileID]['interpretation'])\n",
        "    #print(labels_file.loc[fileID]['interpretation']=='hum')\n",
        "    #yi = list(labels_file.loc[fileID]['interpretation'])[0]=='hum'\n",
        "    yi = labels_file.loc[fileID]['song']=='Potter'\n",
        "\n",
        "    fs = None # if None, fs would be 22050\n",
        "    x, fs = librosa.load(file,sr=fs)\n",
        "    if scale_audio: x = x/np.max(np.abs(x))\n",
        "    f0, voiced_flag = getPitch(x,fs,winLen=0.02)\n",
        "      \n",
        "    power = np.sum(x**2)/len(x)\n",
        "    pitch_mean = np.nanmean(f0) if np.mean(np.isnan(f0))<1 else 0\n",
        "    pitch_std  = np.nanstd(f0) if np.mean(np.isnan(f0))<1 else 0\n",
        "    voiced_fr = np.mean(voiced_flag)\n",
        "\n",
        "    xi = [power,pitch_mean,pitch_std,voiced_fr]\n",
        "    X.append(xi)\n",
        "    y.append(yi)\n",
        "\n",
        "  return np.array(X),np.array(y)"
      ],
      "metadata": {
        "id": "sqtkCrl7JJ0k"
      },
      "execution_count": 9,
      "outputs": []
    },
    {
      "cell_type": "code",
      "source": [
        "# Merging data from different folders and dataframes\n",
        "files = files1 + files2 + files3 + files4\n",
        "\n",
        "dataframes = [MLENDHW_df, MLENDHW_df2, MLENDHW_df3, MLENDHW_df4]\n",
        "final_df = pd.concat(dataframes)"
      ],
      "metadata": {
        "id": "g9MD_PIWJROT"
      },
      "execution_count": 10,
      "outputs": []
    },
    {
      "cell_type": "code",
      "source": [
        "X,y = getXy(files, labels_file=final_df, scale_audio=True, onlySingleDigit=True)"
      ],
      "metadata": {
        "colab": {
          "base_uri": "https://localhost:8080/"
        },
        "id": "SGvTUFM3KbPP",
        "outputId": "354222d6-ca33-4c60-fd2e-8a184f9d5b1c"
      },
      "execution_count": 11,
      "outputs": [
        {
          "output_type": "stream",
          "name": "stderr",
          "text": [
            "100%|██████████| 832/832 [42:58<00:00,  3.10s/it]\n"
          ]
        }
      ]
    },
    {
      "cell_type": "code",
      "source": [
        "print(\"The shape of X is: \", X.shape)\n",
        "print(\"The shape of y is: \", y.shape)"
      ],
      "metadata": {
        "colab": {
          "base_uri": "https://localhost:8080/"
        },
        "id": "tGaY2DlQalcI",
        "outputId": "5dd2a09c-c9ac-4253-e7b9-471ce2f5aadb"
      },
      "execution_count": 12,
      "outputs": [
        {
          "output_type": "stream",
          "name": "stdout",
          "text": [
            "The shape of X is:  (832, 4)\n",
            "The shape of y is:  (832,)\n"
          ]
        }
      ]
    },
    {
      "cell_type": "markdown",
      "source": [
        "Is our dataset balanced? Let's have a look:"
      ],
      "metadata": {
        "id": "3lUZjr34bAkW"
      }
    },
    {
      "cell_type": "code",
      "source": [
        "print(\"The number of Potter recordings are: \", np.count_nonzero(y))\n",
        "print(\"The number of StarWars recordings are \", y.size - np.count_nonzero(y))"
      ],
      "metadata": {
        "colab": {
          "base_uri": "https://localhost:8080/"
        },
        "id": "8EFLWOe0au0w",
        "outputId": "c9ab88c8-268b-4bfb-e37b-3b781da20a77"
      },
      "execution_count": 13,
      "outputs": [
        {
          "output_type": "stream",
          "name": "stdout",
          "text": [
            "The number of Potter recordings are:  409\n",
            "The number of StarWars recordings are  423\n"
          ]
        }
      ]
    },
    {
      "cell_type": "markdown",
      "source": [
        "The above cell suggests that the recordings are relatively well-balanced. \n"
      ],
      "metadata": {
        "id": "rS-J4KURbnQn"
      }
    },
    {
      "cell_type": "markdown",
      "source": [
        "# **Support Vector Machine**\n",
        "\n",
        "Let's build a support vector machine (SVM) model for the predictive task of identifying whether a recording is a Potter or Starwars song, using the dataset that we have just created. \n",
        "\n",
        "We will use the SVM method provided by scikit-learn and will split the dataset defined by X and y into a training set and a validation set. \n"
      ],
      "metadata": {
        "id": "obwrQPiavFSv"
      }
    },
    {
      "cell_type": "code",
      "source": [
        "from sklearn import svm\n",
        "from sklearn.model_selection import train_test_split\n",
        "\n",
        "X_train, X_val, y_train, y_val = train_test_split(X,y,test_size=0.3)\n",
        "X_train.shape, X_val.shape, y_train.shape, y_val.shape"
      ],
      "metadata": {
        "colab": {
          "base_uri": "https://localhost:8080/"
        },
        "id": "axOF5J6LvYiM",
        "outputId": "d0b30368-f00d-4f75-b9db-bcfa813c221f"
      },
      "execution_count": 14,
      "outputs": [
        {
          "output_type": "execute_result",
          "data": {
            "text/plain": [
              "((582, 4), (250, 4), (582,), (250,))"
            ]
          },
          "metadata": {},
          "execution_count": 14
        }
      ]
    },
    {
      "cell_type": "markdown",
      "source": [
        "Let's now fit an SVM model and print both the training accuracy and validation accuracy. "
      ],
      "metadata": {
        "id": "JaaFt6Dovl_w"
      }
    },
    {
      "cell_type": "code",
      "source": [
        "model  = svm.SVC(C=1)\n",
        "model.fit(X_train,y_train)\n",
        "\n",
        "yt_p = model.predict(X_train)\n",
        "yv_p = model.predict(X_val)\n",
        "\n",
        "print('Training Accuracy', np.mean(yt_p==y_train))\n",
        "print('Validation  Accuracy', np.mean(yv_p==y_val))\n",
        "print('The support vectors are', model.support_vectors_.shape)"
      ],
      "metadata": {
        "colab": {
          "base_uri": "https://localhost:8080/"
        },
        "id": "XejFcwbivpqA",
        "outputId": "6c50a5a3-83f0-4dc8-91cf-a95213ce6166"
      },
      "execution_count": 15,
      "outputs": [
        {
          "output_type": "stream",
          "name": "stdout",
          "text": [
            "Training Accuracy 0.5103092783505154\n",
            "Validation  Accuracy 0.504\n",
            "The support vectors are (570, 4)\n"
          ]
        }
      ]
    },
    {
      "cell_type": "markdown",
      "source": [
        "Let's normalise the predictors, to see if the performance improves."
      ],
      "metadata": {
        "id": "f6Gjs1q_vwVl"
      }
    },
    {
      "cell_type": "code",
      "source": [
        "mean = X_train.mean(0)\n",
        "sd =  X_train.std(0)\n",
        "\n",
        "X_train = (X_train-mean)/sd\n",
        "X_val  = (X_val-mean)/sd\n",
        "\n",
        "model  = svm.SVC(C=1,gamma=2)\n",
        "model.fit(X_train,y_train)\n",
        "\n",
        "yt_p = model.predict(X_train)\n",
        "yv_p = model.predict(X_val)\n",
        "\n",
        "print('Training Accuracy', np.mean(yt_p==y_train))\n",
        "print('Validation  Accuracy', np.mean(yv_p==y_val))\n",
        "print('The support vectors are', model.support_vectors_.shape)"
      ],
      "metadata": {
        "colab": {
          "base_uri": "https://localhost:8080/"
        },
        "id": "3uH6O2fTvzbR",
        "outputId": "5eba0402-c81f-4564-c0c5-91e7a857461c"
      },
      "execution_count": 16,
      "outputs": [
        {
          "output_type": "stream",
          "name": "stdout",
          "text": [
            "Training Accuracy 0.802405498281787\n",
            "Validation  Accuracy 0.672\n",
            "The support vectors are (483, 4)\n"
          ]
        }
      ]
    },
    {
      "cell_type": "markdown",
      "source": [
        "# **K-Nearest Neighbours**"
      ],
      "metadata": {
        "id": "nz9rJU-eEIgm"
      }
    },
    {
      "cell_type": "code",
      "source": [
        "from sklearn.neighbors import KNeighborsClassifier\n",
        "from sklearn.model_selection import cross_val_score\n",
        "\n",
        "knn = KNeighborsClassifier(n_neighbors=5)\n",
        "knn.fit(X_train, y_train)\n",
        "\n",
        "# cross validate\n",
        "cv_scores = cross_val_score(knn, X_train, y_train, cv=10)\n",
        "\n",
        "cv_scores_mean = np.mean(cv_scores)\n",
        "print(cv_scores , \"\\n\\n\"\"mean =\" ,\"{:.2f}\".format(cv_scores_mean))\n"
      ],
      "metadata": {
        "colab": {
          "base_uri": "https://localhost:8080/"
        },
        "id": "Xtf2g6m8v1k6",
        "outputId": "0dac8983-ddc4-4fb7-aa4e-039937dae374"
      },
      "execution_count": 17,
      "outputs": [
        {
          "output_type": "stream",
          "name": "stdout",
          "text": [
            "[0.55932203 0.6779661  0.56896552 0.70689655 0.74137931 0.60344828\n",
            " 0.5        0.5862069  0.5        0.62068966] \n",
            "\n",
            "mean = 0.61\n"
          ]
        }
      ]
    },
    {
      "cell_type": "code",
      "source": [
        "predictions = knn.predict(X_val)\n",
        "\n",
        "\n",
        "accuracy_score = knn.score(X_val, y_val) \n",
        "print(\"Accuracy score = \"\"{:.2f}\".format(accuracy_score))"
      ],
      "metadata": {
        "colab": {
          "base_uri": "https://localhost:8080/"
        },
        "id": "zS1TStYSvrje",
        "outputId": "62144d18-fbd9-4898-b446-cefdceb19355"
      },
      "execution_count": 18,
      "outputs": [
        {
          "output_type": "stream",
          "name": "stdout",
          "text": [
            "Accuracy score = 0.65\n"
          ]
        }
      ]
    },
    {
      "cell_type": "code",
      "source": [
        "from sklearn.metrics import confusion_matrix\n",
        "\n",
        "confusion_matrix = confusion_matrix(y_val, predictions)\n",
        "confusion_matrix"
      ],
      "metadata": {
        "colab": {
          "base_uri": "https://localhost:8080/"
        },
        "id": "y0r6XbafrGMI",
        "outputId": "27300e0a-c40e-4336-db77-1c9407ab75be"
      },
      "execution_count": 19,
      "outputs": [
        {
          "output_type": "execute_result",
          "data": {
            "text/plain": [
              "array([[84, 41],\n",
              "       [46, 79]])"
            ]
          },
          "metadata": {},
          "execution_count": 19
        }
      ]
    },
    {
      "cell_type": "markdown",
      "source": [
        "### **Finding the optimal value of k**\n",
        "* We collect all independent data features into the X dataframe and target field into a y dataframe. Then, we manipulate the data and normalise it. \n",
        "* After splitting the data, we take 0.8% data for training and the remaining for testing/validation purposes. "
      ],
      "metadata": {
        "id": "loj32iLdmYa_"
      }
    },
    {
      "cell_type": "code",
      "source": [
        "from sklearn import preprocessing\n",
        "X = preprocessing.StandardScaler().fit(X).transform(X.astype(float))\n",
        "\n",
        "from sklearn.model_selection import train_test_split\n",
        "X_train, X_test, y_train, y_test = train_test_split( X, y, test_size=0.2, random_state=4)\n",
        "\n",
        "from sklearn.neighbors import KNeighborsClassifier\n",
        "from sklearn import metrics\n",
        "#Train Model and Predict\n",
        "k = 4  \n",
        "neigh = KNeighborsClassifier(n_neighbors = k).fit(X_train,y_train)\n",
        "Pred_y = neigh.predict(X_test)\n",
        "print(\"Accuracy of model at K=4 is\",metrics.accuracy_score(y_test, Pred_y))"
      ],
      "metadata": {
        "colab": {
          "base_uri": "https://localhost:8080/"
        },
        "id": "DWVuIwO_fKeC",
        "outputId": "ca55c89d-e981-4c2a-d3fe-310638e2548c"
      },
      "execution_count": 20,
      "outputs": [
        {
          "output_type": "stream",
          "name": "stdout",
          "text": [
            "Accuracy of model at K=4 is 0.5568862275449101\n"
          ]
        }
      ]
    },
    {
      "cell_type": "code",
      "source": [
        "error_rate = []\n",
        "for i in range(1,40):\n",
        " knn = KNeighborsClassifier(n_neighbors=i)\n",
        " knn.fit(X_train,y_train)\n",
        " pred_i = knn.predict(X_test)\n",
        " error_rate.append(np.mean(pred_i != y_test))\n",
        "\n",
        "plt.figure(figsize=(10,6))\n",
        "plt.plot(range(1,40),error_rate,color='blue', linestyle='dashed', \n",
        "         marker='o',markerfacecolor='red', markersize=10)\n",
        "plt.title('Error Rate vs. K Value')\n",
        "plt.xlabel('K')\n",
        "plt.ylabel('Error Rate')\n",
        "print(\"Minimum error:-\",min(error_rate),\"at K =\",error_rate.index(min(error_rate)))"
      ],
      "metadata": {
        "colab": {
          "base_uri": "https://localhost:8080/",
          "height": 418
        },
        "id": "u4Yt7jEYnPdj",
        "outputId": "ddaec16c-d608-4929-c100-95f202ef39b4"
      },
      "execution_count": 23,
      "outputs": [
        {
          "output_type": "stream",
          "name": "stdout",
          "text": [
            "Minimum error:- 0.31137724550898205 at K = 12\n"
          ]
        },
        {
          "output_type": "display_data",
          "data": {
            "image/png": "[encoded data removed]",
            "text/plain": [
              "<Figure size 720x432 with 1 Axes>"
            ]
          },
          "metadata": {
            "needs_background": "light"
          }
        }
      ]
    },
    {
      "cell_type": "code",
      "source": [
        "acc = []\n",
        "# Will take some time\n",
        "from sklearn import metrics\n",
        "for i in range(1,40):\n",
        "    neigh = KNeighborsClassifier(n_neighbors = i).fit(X_train,y_train)\n",
        "    yhat = neigh.predict(X_test)\n",
        "    acc.append(metrics.accuracy_score(y_test, yhat))\n",
        "    \n",
        "plt.figure(figsize=(10,6))\n",
        "plt.plot(range(1,40),acc,color = 'blue',linestyle='dashed', \n",
        "         marker='o',markerfacecolor='red', markersize=10)\n",
        "plt.title('accuracy vs. K Value')\n",
        "plt.xlabel('K')\n",
        "plt.ylabel('Accuracy')\n",
        "print(\"Maximum accuracy:-\",max(acc),\"at K =\",acc.index(max(acc)))"
      ],
      "metadata": {
        "colab": {
          "base_uri": "https://localhost:8080/",
          "height": 418
        },
        "id": "IED7jRJogrX4",
        "outputId": "6166e784-27ac-4fbe-c890-3b60967ee19a"
      },
      "execution_count": 24,
      "outputs": [
        {
          "output_type": "stream",
          "name": "stdout",
          "text": [
            "Maximum accuracy:- 0.688622754491018 at K = 12\n"
          ]
        },
        {
          "output_type": "display_data",
          "data": {
            "image/png": "[encoded data removed]",
            "text/plain": [
              "<Figure size 720x432 with 1 Axes>"
            ]
          },
          "metadata": {
            "needs_background": "light"
          }
        }
      ]
    },
    {
      "cell_type": "code",
      "source": [
        ""
      ],
      "metadata": {
        "id": "ZRGEBqTBXPC2"
      },
      "execution_count": 22,
      "outputs": []
    }
  ]
}